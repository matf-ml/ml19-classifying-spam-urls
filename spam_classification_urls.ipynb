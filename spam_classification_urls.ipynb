{
  "nbformat": 4,
  "nbformat_minor": 0,
  "metadata": {
    "colab": {
      "name": "spam_classification_urls.ipynb",
      "version": "0.3.2",
      "provenance": [],
      "collapsed_sections": []
    },
    "kernelspec": {
      "name": "python3",
      "display_name": "Python 3"
    }
  },
  "cells": [
    {
      "cell_type": "code",
      "metadata": {
        "id": "yyBRX8DTRDx7",
        "colab_type": "code",
        "colab": {}
      },
      "source": [
        "import numpy as np\n",
        "import pandas as pd\n",
        "from matplotlib import pyplot as plt\n",
        "from sklearn import linear_model\n",
        "from sklearn import model_selection\n",
        "from sklearn import metrics\n",
        "from sklearn import svm\n",
        "from urllib.parse import urlparse\n",
        "from sklearn.model_selection import train_test_split\n",
        "from sklearn.ensemble import RandomForestClassifier\n",
        "from sklearn.model_selection import cross_val_predict, cross_val_score\n",
        "from sklearn.metrics import confusion_matrix,classification_report,accuracy_score"
      ],
      "execution_count": 0,
      "outputs": []
    },
    {
      "cell_type": "code",
      "metadata": {
        "id": "j0stBOXs0MnX",
        "colab_type": "code",
        "outputId": "53e1feff-0307-48dd-ccfa-96f442a9ff70",
        "colab": {
          "base_uri": "https://localhost:8080/",
          "height": 127
        }
      },
      "source": [
        "#dataset sa benignim url-ovima\n",
        "ds_benign= pd.read_csv('https://raw.githubusercontent.com/matf-ml/ml19-classifying-spam-urls/master/Benign_list_big_final.csv', header = None)\n",
        "ds_benign.info()"
      ],
      "execution_count": 2,
      "outputs": [
        {
          "output_type": "stream",
          "text": [
            "<class 'pandas.core.frame.DataFrame'>\n",
            "RangeIndex: 35378 entries, 0 to 35377\n",
            "Data columns (total 1 columns):\n",
            "0    35378 non-null object\n",
            "dtypes: object(1)\n",
            "memory usage: 276.5+ KB\n"
          ],
          "name": "stdout"
        }
      ]
    },
    {
      "cell_type": "code",
      "metadata": {
        "id": "5-CMTkZi6Zk9",
        "colab_type": "code",
        "outputId": "91851a21-e1f1-4757-8782-59c9d3c2ff4b",
        "colab": {
          "base_uri": "https://localhost:8080/",
          "height": 206
        }
      },
      "source": [
        "ds_benign.columns = ['url']\n",
        "ds_benign['label'] = 0\n",
        "ds_benign.head()"
      ],
      "execution_count": 3,
      "outputs": [
        {
          "output_type": "execute_result",
          "data": {
            "text/html": [
              "<div>\n",
              "<style scoped>\n",
              "    .dataframe tbody tr th:only-of-type {\n",
              "        vertical-align: middle;\n",
              "    }\n",
              "\n",
              "    .dataframe tbody tr th {\n",
              "        vertical-align: top;\n",
              "    }\n",
              "\n",
              "    .dataframe thead th {\n",
              "        text-align: right;\n",
              "    }\n",
              "</style>\n",
              "<table border=\"1\" class=\"dataframe\">\n",
              "  <thead>\n",
              "    <tr style=\"text-align: right;\">\n",
              "      <th></th>\n",
              "      <th>url</th>\n",
              "      <th>label</th>\n",
              "    </tr>\n",
              "  </thead>\n",
              "  <tbody>\n",
              "    <tr>\n",
              "      <th>0</th>\n",
              "      <td>http://1337x.to/torrent/1048648/American-Snipe...</td>\n",
              "      <td>0</td>\n",
              "    </tr>\n",
              "    <tr>\n",
              "      <th>1</th>\n",
              "      <td>http://1337x.to/torrent/1110018/Blackhat-2015-...</td>\n",
              "      <td>0</td>\n",
              "    </tr>\n",
              "    <tr>\n",
              "      <th>2</th>\n",
              "      <td>http://1337x.to/torrent/1122940/Blackhat-2015-...</td>\n",
              "      <td>0</td>\n",
              "    </tr>\n",
              "    <tr>\n",
              "      <th>3</th>\n",
              "      <td>http://1337x.to/torrent/1124395/Fast-and-Furio...</td>\n",
              "      <td>0</td>\n",
              "    </tr>\n",
              "    <tr>\n",
              "      <th>4</th>\n",
              "      <td>http://1337x.to/torrent/1145504/Avengers-Age-o...</td>\n",
              "      <td>0</td>\n",
              "    </tr>\n",
              "  </tbody>\n",
              "</table>\n",
              "</div>"
            ],
            "text/plain": [
              "                                                 url  label\n",
              "0  http://1337x.to/torrent/1048648/American-Snipe...      0\n",
              "1  http://1337x.to/torrent/1110018/Blackhat-2015-...      0\n",
              "2  http://1337x.to/torrent/1122940/Blackhat-2015-...      0\n",
              "3  http://1337x.to/torrent/1124395/Fast-and-Furio...      0\n",
              "4  http://1337x.to/torrent/1145504/Avengers-Age-o...      0"
            ]
          },
          "metadata": {
            "tags": []
          },
          "execution_count": 3
        }
      ]
    },
    {
      "cell_type": "code",
      "metadata": {
        "id": "sBmv4eYQ9JmY",
        "colab_type": "code",
        "outputId": "868273cc-eb15-4beb-d816-08eb93597522",
        "colab": {
          "base_uri": "https://localhost:8080/",
          "height": 127
        }
      },
      "source": [
        "#dataset sa spam url-ovima\n",
        "ds_spam = pd.read_csv('https://raw.githubusercontent.com/matf-ml/ml19-classifying-spam-urls/master/spam_dataset.csv', header = None)\n",
        "ds_spam.info()"
      ],
      "execution_count": 4,
      "outputs": [
        {
          "output_type": "stream",
          "text": [
            "<class 'pandas.core.frame.DataFrame'>\n",
            "RangeIndex: 12000 entries, 0 to 11999\n",
            "Data columns (total 1 columns):\n",
            "0    12000 non-null object\n",
            "dtypes: object(1)\n",
            "memory usage: 93.8+ KB\n"
          ],
          "name": "stdout"
        }
      ]
    },
    {
      "cell_type": "code",
      "metadata": {
        "id": "9Yo2cswe9g-1",
        "colab_type": "code",
        "outputId": "53767275-81e3-4ae8-9324-d0461aa2588a",
        "colab": {
          "base_uri": "https://localhost:8080/",
          "height": 206
        }
      },
      "source": [
        "ds_spam.columns = ['url']\n",
        "ds_spam['label'] = 1\n",
        "ds_spam.head()"
      ],
      "execution_count": 5,
      "outputs": [
        {
          "output_type": "execute_result",
          "data": {
            "text/html": [
              "<div>\n",
              "<style scoped>\n",
              "    .dataframe tbody tr th:only-of-type {\n",
              "        vertical-align: middle;\n",
              "    }\n",
              "\n",
              "    .dataframe tbody tr th {\n",
              "        vertical-align: top;\n",
              "    }\n",
              "\n",
              "    .dataframe thead th {\n",
              "        text-align: right;\n",
              "    }\n",
              "</style>\n",
              "<table border=\"1\" class=\"dataframe\">\n",
              "  <thead>\n",
              "    <tr style=\"text-align: right;\">\n",
              "      <th></th>\n",
              "      <th>url</th>\n",
              "      <th>label</th>\n",
              "    </tr>\n",
              "  </thead>\n",
              "  <tbody>\n",
              "    <tr>\n",
              "      <th>0</th>\n",
              "      <td>http://astore.amazon.co.uk/allezvinsfrenchr/de...</td>\n",
              "      <td>1</td>\n",
              "    </tr>\n",
              "    <tr>\n",
              "      <th>1</th>\n",
              "      <td>http://archive.salisburyjournal.co.uk/2007/3/6...</td>\n",
              "      <td>1</td>\n",
              "    </tr>\n",
              "    <tr>\n",
              "      <th>2</th>\n",
              "      <td>http://appbasic.jettons.co.uk/links/index.html</td>\n",
              "      <td>1</td>\n",
              "    </tr>\n",
              "    <tr>\n",
              "      <th>3</th>\n",
              "      <td>http://archive.yorkpress.co.uk/2003/11/6/25684...</td>\n",
              "      <td>1</td>\n",
              "    </tr>\n",
              "    <tr>\n",
              "      <th>4</th>\n",
              "      <td>http://acard4u.co.uk/product_reviews.php?cPath...</td>\n",
              "      <td>1</td>\n",
              "    </tr>\n",
              "  </tbody>\n",
              "</table>\n",
              "</div>"
            ],
            "text/plain": [
              "                                                 url  label\n",
              "0  http://astore.amazon.co.uk/allezvinsfrenchr/de...      1\n",
              "1  http://archive.salisburyjournal.co.uk/2007/3/6...      1\n",
              "2     http://appbasic.jettons.co.uk/links/index.html      1\n",
              "3  http://archive.yorkpress.co.uk/2003/11/6/25684...      1\n",
              "4  http://acard4u.co.uk/product_reviews.php?cPath...      1"
            ]
          },
          "metadata": {
            "tags": []
          },
          "execution_count": 5
        }
      ]
    },
    {
      "cell_type": "code",
      "metadata": {
        "id": "a-b7xkWYVmc4",
        "colab_type": "code",
        "outputId": "28c25778-2db3-4a71-937b-a7b7c3fc354e",
        "colab": {
          "base_uri": "https://localhost:8080/",
          "height": 127
        }
      },
      "source": [
        "#dataset sa malware url-ovima\n",
        "ds_malware = pd.read_csv('https://raw.githubusercontent.com/matf-ml/ml19-classifying-spam-urls/master/Malware_dataset.csv', header = None)\n",
        "ds_malware.info()"
      ],
      "execution_count": 6,
      "outputs": [
        {
          "output_type": "stream",
          "text": [
            "<class 'pandas.core.frame.DataFrame'>\n",
            "RangeIndex: 11566 entries, 0 to 11565\n",
            "Data columns (total 1 columns):\n",
            "0    11566 non-null object\n",
            "dtypes: object(1)\n",
            "memory usage: 90.4+ KB\n"
          ],
          "name": "stdout"
        }
      ]
    },
    {
      "cell_type": "code",
      "metadata": {
        "id": "fCAVsXKPdNOa",
        "colab_type": "code",
        "outputId": "c03a1a70-2e26-4e53-b4df-31b3b8aebccc",
        "colab": {
          "base_uri": "https://localhost:8080/",
          "height": 206
        }
      },
      "source": [
        "ds_malware.columns = ['url']\n",
        "ds_malware['label'] = 1\n",
        "ds_malware.head()"
      ],
      "execution_count": 7,
      "outputs": [
        {
          "output_type": "execute_result",
          "data": {
            "text/html": [
              "<div>\n",
              "<style scoped>\n",
              "    .dataframe tbody tr th:only-of-type {\n",
              "        vertical-align: middle;\n",
              "    }\n",
              "\n",
              "    .dataframe tbody tr th {\n",
              "        vertical-align: top;\n",
              "    }\n",
              "\n",
              "    .dataframe thead th {\n",
              "        text-align: right;\n",
              "    }\n",
              "</style>\n",
              "<table border=\"1\" class=\"dataframe\">\n",
              "  <thead>\n",
              "    <tr style=\"text-align: right;\">\n",
              "      <th></th>\n",
              "      <th>url</th>\n",
              "      <th>label</th>\n",
              "    </tr>\n",
              "  </thead>\n",
              "  <tbody>\n",
              "    <tr>\n",
              "      <th>0</th>\n",
              "      <td>http://gzzax.livechatvalue.com/chat/chatClient...</td>\n",
              "      <td>1</td>\n",
              "    </tr>\n",
              "    <tr>\n",
              "      <th>1</th>\n",
              "      <td>http://gzzax.livechatvalue.com/chat/chatClient...</td>\n",
              "      <td>1</td>\n",
              "    </tr>\n",
              "    <tr>\n",
              "      <th>2</th>\n",
              "      <td>http://gzzax.livechatvalue.com/chat/chatClient...</td>\n",
              "      <td>1</td>\n",
              "    </tr>\n",
              "    <tr>\n",
              "      <th>3</th>\n",
              "      <td>http://gzzax.livechatvalue.com/chat/chatClient...</td>\n",
              "      <td>1</td>\n",
              "    </tr>\n",
              "    <tr>\n",
              "      <th>4</th>\n",
              "      <td>http://mtsx.com.cn/UploadFiles/2011-08/admin/%...</td>\n",
              "      <td>1</td>\n",
              "    </tr>\n",
              "  </tbody>\n",
              "</table>\n",
              "</div>"
            ],
            "text/plain": [
              "                                                 url  label\n",
              "0  http://gzzax.livechatvalue.com/chat/chatClient...      1\n",
              "1  http://gzzax.livechatvalue.com/chat/chatClient...      1\n",
              "2  http://gzzax.livechatvalue.com/chat/chatClient...      1\n",
              "3  http://gzzax.livechatvalue.com/chat/chatClient...      1\n",
              "4  http://mtsx.com.cn/UploadFiles/2011-08/admin/%...      1"
            ]
          },
          "metadata": {
            "tags": []
          },
          "execution_count": 7
        }
      ]
    },
    {
      "cell_type": "code",
      "metadata": {
        "id": "pk8HrBMXeNPg",
        "colab_type": "code",
        "outputId": "86daeaf5-25aa-4842-91eb-8a5e303babd8",
        "colab": {
          "base_uri": "https://localhost:8080/",
          "height": 127
        }
      },
      "source": [
        "#dataset sa phishing url-ovima\n",
        "ds_phishing = pd.read_csv('https://raw.githubusercontent.com/matf-ml/ml19-classifying-spam-urls/master/phishing_dataset.csv', header = None)\n",
        "ds_phishing.info()"
      ],
      "execution_count": 8,
      "outputs": [
        {
          "output_type": "stream",
          "text": [
            "<class 'pandas.core.frame.DataFrame'>\n",
            "RangeIndex: 9965 entries, 0 to 9964\n",
            "Data columns (total 1 columns):\n",
            "0    9965 non-null object\n",
            "dtypes: object(1)\n",
            "memory usage: 77.9+ KB\n"
          ],
          "name": "stdout"
        }
      ]
    },
    {
      "cell_type": "code",
      "metadata": {
        "id": "iwMwMgwWex4K",
        "colab_type": "code",
        "outputId": "a78029a1-fc86-4774-a831-ebd1e6294486",
        "colab": {
          "base_uri": "https://localhost:8080/",
          "height": 206
        }
      },
      "source": [
        "ds_phishing.columns = ['url']\n",
        "ds_phishing['label'] = 1\n",
        "ds_phishing.head()"
      ],
      "execution_count": 9,
      "outputs": [
        {
          "output_type": "execute_result",
          "data": {
            "text/html": [
              "<div>\n",
              "<style scoped>\n",
              "    .dataframe tbody tr th:only-of-type {\n",
              "        vertical-align: middle;\n",
              "    }\n",
              "\n",
              "    .dataframe tbody tr th {\n",
              "        vertical-align: top;\n",
              "    }\n",
              "\n",
              "    .dataframe thead th {\n",
              "        text-align: right;\n",
              "    }\n",
              "</style>\n",
              "<table border=\"1\" class=\"dataframe\">\n",
              "  <thead>\n",
              "    <tr style=\"text-align: right;\">\n",
              "      <th></th>\n",
              "      <th>url</th>\n",
              "      <th>label</th>\n",
              "    </tr>\n",
              "  </thead>\n",
              "  <tbody>\n",
              "    <tr>\n",
              "      <th>0</th>\n",
              "      <td>http://v2.email-marketing.adminsimple.com/trac...</td>\n",
              "      <td>1</td>\n",
              "    </tr>\n",
              "    <tr>\n",
              "      <th>1</th>\n",
              "      <td>http://bid.openx.net/json?amp;amp;amp;amp;cid;...</td>\n",
              "      <td>1</td>\n",
              "    </tr>\n",
              "    <tr>\n",
              "      <th>2</th>\n",
              "      <td>http://webmail2.centurytel.net/hwebmail/servic...</td>\n",
              "      <td>1</td>\n",
              "    </tr>\n",
              "    <tr>\n",
              "      <th>3</th>\n",
              "      <td>http://www.google.com.ng/imgres?imgurl=http://...</td>\n",
              "      <td>1</td>\n",
              "    </tr>\n",
              "    <tr>\n",
              "      <th>4</th>\n",
              "      <td>http://webmail2.centurytel.net/hwebmail/servic...</td>\n",
              "      <td>1</td>\n",
              "    </tr>\n",
              "  </tbody>\n",
              "</table>\n",
              "</div>"
            ],
            "text/plain": [
              "                                                 url  label\n",
              "0  http://v2.email-marketing.adminsimple.com/trac...      1\n",
              "1  http://bid.openx.net/json?amp;amp;amp;amp;cid;...      1\n",
              "2  http://webmail2.centurytel.net/hwebmail/servic...      1\n",
              "3  http://www.google.com.ng/imgres?imgurl=http://...      1\n",
              "4  http://webmail2.centurytel.net/hwebmail/servic...      1"
            ]
          },
          "metadata": {
            "tags": []
          },
          "execution_count": 9
        }
      ]
    },
    {
      "cell_type": "code",
      "metadata": {
        "id": "uqfIGKy8_utz",
        "colab_type": "code",
        "outputId": "e755aff9-e5fa-46ee-8f8c-6c3d2efe0b4a",
        "colab": {
          "base_uri": "https://localhost:8080/",
          "height": 127
        }
      },
      "source": [
        "#dataset sa defacement url-ovima\n",
        "ds_defacement = pd.read_csv('https://raw.githubusercontent.com/matf-ml/ml19-classifying-spam-urls/master/DefacementSitesURLFiltered.csv', header = None)\n",
        "ds_defacement.info()"
      ],
      "execution_count": 10,
      "outputs": [
        {
          "output_type": "stream",
          "text": [
            "<class 'pandas.core.frame.DataFrame'>\n",
            "RangeIndex: 96457 entries, 0 to 96456\n",
            "Data columns (total 1 columns):\n",
            "0    96457 non-null object\n",
            "dtypes: object(1)\n",
            "memory usage: 753.6+ KB\n"
          ],
          "name": "stdout"
        }
      ]
    },
    {
      "cell_type": "code",
      "metadata": {
        "id": "fNOL2W0GAK3d",
        "colab_type": "code",
        "outputId": "6825f44f-3f58-4b76-8db7-7c5c970bb226",
        "colab": {
          "base_uri": "https://localhost:8080/",
          "height": 206
        }
      },
      "source": [
        "ds_defacement.columns = ['url']\n",
        "ds_defacement['label'] = 1\n",
        "#shuffle dataseta da bi dobili raznovrsnije podatke, jer cemo posle uzeti samo 10k od oko 90k redova iz njega\n",
        "ds_defacement = ds_defacement.sample(frac=1).reset_index(drop=True)\n",
        "ds_defacement.head()"
      ],
      "execution_count": 11,
      "outputs": [
        {
          "output_type": "execute_result",
          "data": {
            "text/html": [
              "<div>\n",
              "<style scoped>\n",
              "    .dataframe tbody tr th:only-of-type {\n",
              "        vertical-align: middle;\n",
              "    }\n",
              "\n",
              "    .dataframe tbody tr th {\n",
              "        vertical-align: top;\n",
              "    }\n",
              "\n",
              "    .dataframe thead th {\n",
              "        text-align: right;\n",
              "    }\n",
              "</style>\n",
              "<table border=\"1\" class=\"dataframe\">\n",
              "  <thead>\n",
              "    <tr style=\"text-align: right;\">\n",
              "      <th></th>\n",
              "      <th>url</th>\n",
              "      <th>label</th>\n",
              "    </tr>\n",
              "  </thead>\n",
              "  <tbody>\n",
              "    <tr>\n",
              "      <th>0</th>\n",
              "      <td>http://www.muzikantaimaks.lt/index.php/compone...</td>\n",
              "      <td>1</td>\n",
              "    </tr>\n",
              "    <tr>\n",
              "      <th>1</th>\n",
              "      <td>http://www.maryahprincess.it/index.php?option=...</td>\n",
              "      <td>1</td>\n",
              "    </tr>\n",
              "    <tr>\n",
              "      <th>2</th>\n",
              "      <td>http://www.winnerhydraulicsusa.com/webstore/st...</td>\n",
              "      <td>1</td>\n",
              "    </tr>\n",
              "    <tr>\n",
              "      <th>3</th>\n",
              "      <td>http://www.thewrightway.me.uk/events.html</td>\n",
              "      <td>1</td>\n",
              "    </tr>\n",
              "    <tr>\n",
              "      <th>4</th>\n",
              "      <td>http://www.hauskrankenpflege-duckstein.de/inde...</td>\n",
              "      <td>1</td>\n",
              "    </tr>\n",
              "  </tbody>\n",
              "</table>\n",
              "</div>"
            ],
            "text/plain": [
              "                                                 url  label\n",
              "0  http://www.muzikantaimaks.lt/index.php/compone...      1\n",
              "1  http://www.maryahprincess.it/index.php?option=...      1\n",
              "2  http://www.winnerhydraulicsusa.com/webstore/st...      1\n",
              "3          http://www.thewrightway.me.uk/events.html      1\n",
              "4  http://www.hauskrankenpflege-duckstein.de/inde...      1"
            ]
          },
          "metadata": {
            "tags": []
          },
          "execution_count": 11
        }
      ]
    },
    {
      "cell_type": "code",
      "metadata": {
        "id": "gAcbzaBdBVTC",
        "colab_type": "code",
        "outputId": "6d894042-b0f9-432f-897d-759350f66bef",
        "colab": {
          "base_uri": "https://localhost:8080/",
          "height": 146
        }
      },
      "source": [
        "ds_comb = ds_benign.append(ds_spam)\n",
        "ds_comb = ds_comb.append(ds_malware)\n",
        "ds_comb = ds_comb.append(ds_phishing)\n",
        "#uzimamo 10k redova iz defacement dataset-a jer je preveliki, a hocemo da sacuvamo odnos losih i dobrih url-ova priblizno 50-50\n",
        "ds_defacement = ds_defacement[:10000]\n",
        "ds_comb = ds_comb.append(ds_defacement)\n",
        "ds_comb.info()"
      ],
      "execution_count": 12,
      "outputs": [
        {
          "output_type": "stream",
          "text": [
            "<class 'pandas.core.frame.DataFrame'>\n",
            "Int64Index: 78909 entries, 0 to 9999\n",
            "Data columns (total 2 columns):\n",
            "url      78909 non-null object\n",
            "label    78909 non-null int64\n",
            "dtypes: int64(1), object(1)\n",
            "memory usage: 1.8+ MB\n"
          ],
          "name": "stdout"
        }
      ]
    },
    {
      "cell_type": "code",
      "metadata": {
        "id": "MxwJH2acCq7y",
        "colab_type": "code",
        "outputId": "b3159107-c797-4fab-c3ad-279a79986d42",
        "colab": {
          "base_uri": "https://localhost:8080/",
          "height": 206
        }
      },
      "source": [
        "#shuffle dataseta da bi videli raznovrsnije podatke\n",
        "ds_comb = ds_comb.sample(frac=1).reset_index(drop=True)\n",
        "ds_comb.head()"
      ],
      "execution_count": 13,
      "outputs": [
        {
          "output_type": "execute_result",
          "data": {
            "text/html": [
              "<div>\n",
              "<style scoped>\n",
              "    .dataframe tbody tr th:only-of-type {\n",
              "        vertical-align: middle;\n",
              "    }\n",
              "\n",
              "    .dataframe tbody tr th {\n",
              "        vertical-align: top;\n",
              "    }\n",
              "\n",
              "    .dataframe thead th {\n",
              "        text-align: right;\n",
              "    }\n",
              "</style>\n",
              "<table border=\"1\" class=\"dataframe\">\n",
              "  <thead>\n",
              "    <tr style=\"text-align: right;\">\n",
              "      <th></th>\n",
              "      <th>url</th>\n",
              "      <th>label</th>\n",
              "    </tr>\n",
              "  </thead>\n",
              "  <tbody>\n",
              "    <tr>\n",
              "      <th>0</th>\n",
              "      <td>http://aolshop.memberoffers.co.uk/csp/smp/aol/...</td>\n",
              "      <td>1</td>\n",
              "    </tr>\n",
              "    <tr>\n",
              "      <th>1</th>\n",
              "      <td>http://torcache.net/torrent/304E789D6E0E877BFD...</td>\n",
              "      <td>0</td>\n",
              "    </tr>\n",
              "    <tr>\n",
              "      <th>2</th>\n",
              "      <td>http://amber.ch.ic.ac.uk/archive/all/21291.html</td>\n",
              "      <td>1</td>\n",
              "    </tr>\n",
              "    <tr>\n",
              "      <th>3</th>\n",
              "      <td>http://www.gxyzx.com/js/?http://us.battle.net/...</td>\n",
              "      <td>1</td>\n",
              "    </tr>\n",
              "    <tr>\n",
              "      <th>4</th>\n",
              "      <td>http://online.citicard.com.rpzmvfcek2.agencja-...</td>\n",
              "      <td>1</td>\n",
              "    </tr>\n",
              "  </tbody>\n",
              "</table>\n",
              "</div>"
            ],
            "text/plain": [
              "                                                 url  label\n",
              "0  http://aolshop.memberoffers.co.uk/csp/smp/aol/...      1\n",
              "1  http://torcache.net/torrent/304E789D6E0E877BFD...      0\n",
              "2    http://amber.ch.ic.ac.uk/archive/all/21291.html      1\n",
              "3  http://www.gxyzx.com/js/?http://us.battle.net/...      1\n",
              "4  http://online.citicard.com.rpzmvfcek2.agencja-...      1"
            ]
          },
          "metadata": {
            "tags": []
          },
          "execution_count": 13
        }
      ]
    },
    {
      "cell_type": "code",
      "metadata": {
        "id": "djQmqNFjSt6-",
        "colab_type": "code",
        "colab": {}
      },
      "source": [
        "import tldextract"
      ],
      "execution_count": 0,
      "outputs": []
    },
    {
      "cell_type": "code",
      "metadata": {
        "id": "rHC4BWeABhcf",
        "colab_type": "code",
        "outputId": "1f9d0f27-fc77-4bc5-f20a-6df6a47ce57d",
        "colab": {
          "base_uri": "https://localhost:8080/",
          "height": 206
        }
      },
      "source": [
        "def get_deep_url_from_url(url):\n",
        "  path = urlparse(url)\n",
        "  if path.query:\n",
        "    return str(path.path) + str('?') + str(path.query)\n",
        "  else:\n",
        "    return str(path.path)\n",
        "\n",
        "ds_comb['deep url'] = ds_comb['url'].apply(lambda x : get_deep_url_from_url(x))\n",
        "ds_comb['len deep url'] = ds_comb['deep url'].apply(lambda x : len(x))\n",
        "ds_comb.head()"
      ],
      "execution_count": 15,
      "outputs": [
        {
          "output_type": "execute_result",
          "data": {
            "text/html": [
              "<div>\n",
              "<style scoped>\n",
              "    .dataframe tbody tr th:only-of-type {\n",
              "        vertical-align: middle;\n",
              "    }\n",
              "\n",
              "    .dataframe tbody tr th {\n",
              "        vertical-align: top;\n",
              "    }\n",
              "\n",
              "    .dataframe thead th {\n",
              "        text-align: right;\n",
              "    }\n",
              "</style>\n",
              "<table border=\"1\" class=\"dataframe\">\n",
              "  <thead>\n",
              "    <tr style=\"text-align: right;\">\n",
              "      <th></th>\n",
              "      <th>url</th>\n",
              "      <th>label</th>\n",
              "      <th>deep url</th>\n",
              "      <th>len deep url</th>\n",
              "    </tr>\n",
              "  </thead>\n",
              "  <tbody>\n",
              "    <tr>\n",
              "      <th>0</th>\n",
              "      <td>http://aolshop.memberoffers.co.uk/csp/smp/aol/...</td>\n",
              "      <td>1</td>\n",
              "      <td>/csp/smp/aol/itementry3.csp?FS=E179&amp;cat=AK&amp;hea...</td>\n",
              "      <td>150</td>\n",
              "    </tr>\n",
              "    <tr>\n",
              "      <th>1</th>\n",
              "      <td>http://torcache.net/torrent/304E789D6E0E877BFD...</td>\n",
              "      <td>0</td>\n",
              "      <td>/torrent/304E789D6E0E877BFD6070B73082DE6B1FF46...</td>\n",
              "      <td>138</td>\n",
              "    </tr>\n",
              "    <tr>\n",
              "      <th>2</th>\n",
              "      <td>http://amber.ch.ic.ac.uk/archive/all/21291.html</td>\n",
              "      <td>1</td>\n",
              "      <td>/archive/all/21291.html</td>\n",
              "      <td>23</td>\n",
              "    </tr>\n",
              "    <tr>\n",
              "      <th>3</th>\n",
              "      <td>http://www.gxyzx.com/js/?http://us.battle.net/...</td>\n",
              "      <td>1</td>\n",
              "      <td>/js/?http://us.battle.net/login/en/?ref=http%3...</td>\n",
              "      <td>106</td>\n",
              "    </tr>\n",
              "    <tr>\n",
              "      <th>4</th>\n",
              "      <td>http://online.citicard.com.rpzmvfcek2.agencja-...</td>\n",
              "      <td>1</td>\n",
              "      <td>/doctorsincanton.com/wp-css/online.php</td>\n",
              "      <td>38</td>\n",
              "    </tr>\n",
              "  </tbody>\n",
              "</table>\n",
              "</div>"
            ],
            "text/plain": [
              "                                                 url  ...  len deep url\n",
              "0  http://aolshop.memberoffers.co.uk/csp/smp/aol/...  ...           150\n",
              "1  http://torcache.net/torrent/304E789D6E0E877BFD...  ...           138\n",
              "2    http://amber.ch.ic.ac.uk/archive/all/21291.html  ...            23\n",
              "3  http://www.gxyzx.com/js/?http://us.battle.net/...  ...           106\n",
              "4  http://online.citicard.com.rpzmvfcek2.agencja-...  ...            38\n",
              "\n",
              "[5 rows x 4 columns]"
            ]
          },
          "metadata": {
            "tags": []
          },
          "execution_count": 15
        }
      ]
    },
    {
      "cell_type": "code",
      "metadata": {
        "id": "jKCqiCMsy1Ku",
        "colab_type": "code",
        "colab": {}
      },
      "source": [
        "#radimo split deep url-a na reci da bi koristili to kao feature za MultinomialNB\n",
        "import re\n",
        "def split_deep_url(url):\n",
        "    word_list = re.compile(r'[\\:/?=\\-&$~<>;%_\\.\\\\]+',re.UNICODE).split(url)\n",
        "    #cuvaju se samo reci duze od 2 karaktera u deep url\n",
        "    word_list1 = [elem for elem in word_list if len(elem) > 2] \n",
        "    words_string = ' '.join(word_list1)\n",
        "    return str(words_string)"
      ],
      "execution_count": 0,
      "outputs": []
    },
    {
      "cell_type": "code",
      "metadata": {
        "id": "9SVbAHSnEJmH",
        "colab_type": "code",
        "outputId": "82d3c79c-c1b0-4ea8-c41d-15190bd40dec",
        "colab": {
          "base_uri": "https://localhost:8080/",
          "height": 206
        }
      },
      "source": [
        "ds_comb['deep url'] = ds_comb['deep url'].apply(lambda x : split_deep_url(x))\n",
        "ds_comb.head()"
      ],
      "execution_count": 17,
      "outputs": [
        {
          "output_type": "execute_result",
          "data": {
            "text/html": [
              "<div>\n",
              "<style scoped>\n",
              "    .dataframe tbody tr th:only-of-type {\n",
              "        vertical-align: middle;\n",
              "    }\n",
              "\n",
              "    .dataframe tbody tr th {\n",
              "        vertical-align: top;\n",
              "    }\n",
              "\n",
              "    .dataframe thead th {\n",
              "        text-align: right;\n",
              "    }\n",
              "</style>\n",
              "<table border=\"1\" class=\"dataframe\">\n",
              "  <thead>\n",
              "    <tr style=\"text-align: right;\">\n",
              "      <th></th>\n",
              "      <th>url</th>\n",
              "      <th>label</th>\n",
              "      <th>deep url</th>\n",
              "      <th>len deep url</th>\n",
              "    </tr>\n",
              "  </thead>\n",
              "  <tbody>\n",
              "    <tr>\n",
              "      <th>0</th>\n",
              "      <td>http://aolshop.memberoffers.co.uk/csp/smp/aol/...</td>\n",
              "      <td>1</td>\n",
              "      <td>csp smp aol itementry3 csp E179 cat header Kit...</td>\n",
              "      <td>150</td>\n",
              "    </tr>\n",
              "    <tr>\n",
              "      <th>1</th>\n",
              "      <td>http://torcache.net/torrent/304E789D6E0E877BFD...</td>\n",
              "      <td>0</td>\n",
              "      <td>torrent 304E789D6E0E877BFD6070B73082DE6B1FF462...</td>\n",
              "      <td>138</td>\n",
              "    </tr>\n",
              "    <tr>\n",
              "      <th>2</th>\n",
              "      <td>http://amber.ch.ic.ac.uk/archive/all/21291.html</td>\n",
              "      <td>1</td>\n",
              "      <td>archive all 21291 html</td>\n",
              "      <td>23</td>\n",
              "    </tr>\n",
              "    <tr>\n",
              "      <th>3</th>\n",
              "      <td>http://www.gxyzx.com/js/?http://us.battle.net/...</td>\n",
              "      <td>1</td>\n",
              "      <td>http battle net login ref http 2Feqrwpzwus bat...</td>\n",
              "      <td>106</td>\n",
              "    </tr>\n",
              "    <tr>\n",
              "      <th>4</th>\n",
              "      <td>http://online.citicard.com.rpzmvfcek2.agencja-...</td>\n",
              "      <td>1</td>\n",
              "      <td>doctorsincanton com css online php</td>\n",
              "      <td>38</td>\n",
              "    </tr>\n",
              "  </tbody>\n",
              "</table>\n",
              "</div>"
            ],
            "text/plain": [
              "                                                 url  ...  len deep url\n",
              "0  http://aolshop.memberoffers.co.uk/csp/smp/aol/...  ...           150\n",
              "1  http://torcache.net/torrent/304E789D6E0E877BFD...  ...           138\n",
              "2    http://amber.ch.ic.ac.uk/archive/all/21291.html  ...            23\n",
              "3  http://www.gxyzx.com/js/?http://us.battle.net/...  ...           106\n",
              "4  http://online.citicard.com.rpzmvfcek2.agencja-...  ...            38\n",
              "\n",
              "[5 rows x 4 columns]"
            ]
          },
          "metadata": {
            "tags": []
          },
          "execution_count": 17
        }
      ]
    },
    {
      "cell_type": "code",
      "metadata": {
        "id": "KjK_FuWNEobg",
        "colab_type": "code",
        "colab": {}
      },
      "source": [
        "#primenjujemo CountVectorizer da bismo imali ulaz za MultinomialDB\n",
        "x = ds_comb['deep url']\n",
        "y = ds_comb['label']"
      ],
      "execution_count": 0,
      "outputs": []
    },
    {
      "cell_type": "code",
      "metadata": {
        "id": "NlpQpVx_Ynb-",
        "colab_type": "code",
        "outputId": "e27b1095-ff53-44f7-976b-0f069e52bde4",
        "colab": {
          "base_uri": "https://localhost:8080/",
          "height": 90
        }
      },
      "source": [
        "x_train, x_test, y_train, y_test = model_selection.train_test_split(x, y, test_size=0.33, random_state=7, stratify=y)\n",
        "print(x_train.shape)\n",
        "print(x_test.shape)\n",
        "print(y_train.shape)\n",
        "print(y_test.shape)"
      ],
      "execution_count": 19,
      "outputs": [
        {
          "output_type": "stream",
          "text": [
            "(52869,)\n",
            "(26040,)\n",
            "(52869,)\n",
            "(26040,)\n"
          ],
          "name": "stdout"
        }
      ]
    },
    {
      "cell_type": "code",
      "metadata": {
        "id": "fr9u1Io2si10",
        "colab_type": "code",
        "outputId": "9d951cf2-b160-4703-ce20-3f6c07556804",
        "colab": {
          "base_uri": "https://localhost:8080/",
          "height": 1000
        }
      },
      "source": [
        "from sklearn import feature_extraction\n",
        "vectorized = feature_extraction.text.CountVectorizer()\n",
        "x_train_t = vectorized.fit_transform(x_train)\n",
        "vectorized.vocabulary_"
      ],
      "execution_count": 20,
      "outputs": [
        {
          "output_type": "execute_result",
          "data": {
            "text/plain": [
              "{'pin': 51081,\n",
              " 'create': 31159,\n",
              " 'button': 28166,\n",
              " 'url': 61914,\n",
              " 'http': 39904,\n",
              " 'www': 64304,\n",
              " 'greeteasy': 38475,\n",
              " 'com': 30318,\n",
              " 'warm': 63477,\n",
              " 'wishes': 64038,\n",
              " 'for': 36738,\n",
              " 'new': 47620,\n",
              " 'year': 64608,\n",
              " 'media': 45700,\n",
              " 'zumvu': 65188,\n",
              " '2014': 6961,\n",
              " 'blog': 27160,\n",
              " 'photos': 50956,\n",
              " '20140121': 6965,\n",
              " '1390316369': 4195,\n",
              " '161': 4883,\n",
              " '1390316327': 4194,\n",
              " 'png': 51367,\n",
              " 'ip14m3xd2sehsdi0d3mx2imz': 41386,\n",
              " 'detail': 32526,\n",
              " '416413': 14788,\n",
              " 'society': 57503,\n",
              " 'events': 35267,\n",
              " 'mbb': 45599,\n",
              " 'info': 40942,\n",
              " 'm2u': 44883,\n",
              " 'public': 52748,\n",
              " 'personaldetail04': 50761,\n",
              " 'channelid': 29415,\n",
              " 'crd': 31143,\n",
              " 'cards': 28823,\n",
              " 'cnttypeid': 30138,\n",
              " 'cntkey': 30137,\n",
              " 'crd01': 31144,\n",
              " 'programid': 52447,\n",
              " 'ccfeatures': 29107,\n",
              " 'chcatid': 29508,\n",
              " 'personal': 50754,\n",
              " 'recipe': 53662,\n",
              " 'marinated': 45309,\n",
              " 'pork': 51658,\n",
              " 'tenderloin': 59898,\n",
              " 'aspx': 24275,\n",
              " 'soid': 57550,\n",
              " 'recs': 53718,\n",
              " 'index': 40841,\n",
              " 'php': 50961,\n",
              " 'manufacturers': 45235,\n",
              " 'basicgrey': 25774,\n",
              " 'list': 44306,\n",
              " 'sort': 57683,\n",
              " 'action': 22283,\n",
              " 'buy': 28172,\n",
              " 'now': 48172,\n",
              " 'products': 52391,\n",
              " '1021': 1770,\n",
              " 'post': 51746,\n",
              " 'related': 53972,\n",
              " '5552578b4a0c4b4b53d5da69': 17499,\n",
              " 'skip': 57147,\n",
              " 'limit': 44220,\n",
              " 'back': 25433,\n",
              " 'thuong': 60293,\n",
              " 'quoc': 53112,\n",
              " 'hoi': 39612,\n",
              " 'ung': 61676,\n",
              " 'quyen': 53137,\n",
              " 'xac': 64363,\n",
              " 'dinh': 32838,\n",
              " 'lai': 43577,\n",
              " 'gioi': 37932,\n",
              " 'tinh': 60393,\n",
              " 'html': 39893,\n",
              " '2015': 7130,\n",
              " 'news': 47651,\n",
              " 'supergirl': 58950,\n",
              " 'cbs': 29078,\n",
              " 'trailer': 60789,\n",
              " 'video': 62722,\n",
              " 'shows': 56771,\n",
              " '1201494641': 3486,\n",
              " 'replytocom': 54154,\n",
              " '1297743': 3844,\n",
              " 'mediasetextra': 45709,\n",
              " 'articoli': 24162,\n",
              " 'pasion': 50311,\n",
              " 'morena': 46653,\n",
              " 'trame': 60811,\n",
              " 'dal': 31753,\n",
              " 'marzo': 45397,\n",
              " '11722': 3064,\n",
              " 'shtml': 56796,\n",
              " 'newscodejs': 47659,\n",
              " 'asp': 24264,\n",
              " 'lm2': 44406,\n",
              " '199': 6367,\n",
              " 'icon': 40169,\n",
              " 'font': 36708,\n",
              " 'hot': 39793,\n",
              " 'line': 44242,\n",
              " 'lmname': 44412,\n",
              " 'open': 49332,\n",
              " 'more': 46652,\n",
              " 'week': 63693,\n",
              " 'zzly': 65240,\n",
              " 'hit': 39520,\n",
              " 'pls': 51333,\n",
              " 'dot': 33442,\n",
              " 'tcolor': 59711,\n",
              " 'cccccc': 29098,\n",
              " 'archive': 24000,\n",
              " '200605': 6695,\n",
              " '0075': 772,\n",
              " 'listing': 44322,\n",
              " 'bmatch': 27230,\n",
              " 'seng': 56238,\n",
              " 'v10': 62074,\n",
              " 'pers': 50740,\n",
              " 'isqm': 41529,\n",
              " 'chl': 29680,\n",
              " 'moda': 46448,\n",
              " '0414': 1088,\n",
              " 'order': 49458,\n",
              " 'string': 58613,\n",
              " '7bstring': 19609,\n",
              " 'torrent': 60632,\n",
              " '9458fab6bda3b578e3bf020010f563d68a7dccd2': 21180,\n",
              " 'title': 60424,\n",
              " 'kickass': 42783,\n",
              " 'to': 60473,\n",
              " 'jupiter': 42304,\n",
              " 'ascending': 24212,\n",
              " 'cam': 28599,\n",
              " 'audio': 24509,\n",
              " 'xvid': 64485,\n",
              " 'fanta': 35821,\n",
              " 'newdetails': 47629,\n",
              " '411565': 14720,\n",
              " 'questions': 53072,\n",
              " '274089': 10116,\n",
              " 'how': 39839,\n",
              " 'often': 49083,\n",
              " 'windows': 63979,\n",
              " 'servers': 56342,\n",
              " 'need': 47464,\n",
              " 'restarted': 54303,\n",
              " 'view': 62764,\n",
              " 'bdfs43ybr': 26097,\n",
              " 'pinterests': 51105,\n",
              " 'head': 39170,\n",
              " 'partnerships': 50291,\n",
              " 'hints': 39479,\n",
              " 'companys': 30428,\n",
              " 'aggressive': 22689,\n",
              " 'roadmap': 54649,\n",
              " 'upload': 61855,\n",
              " '2011': 6789,\n",
              " '123': 3612,\n",
              " '8026001522822': 19715,\n",
              " 'jpg': 42176,\n",
              " 'bbwqp89k9': 25971,\n",
              " 'displaycorner': 33011,\n",
              " 'freemarket': 37005,\n",
              " 'method': 45967,\n",
              " 'itemcatelist': 41650,\n",
              " 'free1': 36988,\n",
              " 'free2': 36989,\n",
              " '007001008012': 713,\n",
              " 'free3': 36990,\n",
              " 'item': 41644,\n",
              " 'disp': 32993,\n",
              " 'category': 28999,\n",
              " 'lgrpcategory': 44080,\n",
              " 'jsp': 42204,\n",
              " 'code': 30183,\n",
              " '1499900000': 4533,\n",
              " 'ftooth': 37141,\n",
              " 'area': 24021,\n",
              " 'tooth': 60565,\n",
              " 'cid': 29795,\n",
              " 't14': 59387,\n",
              " 'oid': 49111,\n",
              " 'l14999': 43474,\n",
              " 'mdiv': 45661,\n",
              " '1000100000': 1634,\n",
              " '157': 4762,\n",
              " 'ctype': 31353,\n",
              " 'product': 52380,\n",
              " 'reviews': 54418,\n",
              " 'cpath': 31074,\n",
              " '147': 4469,\n",
              " '776': 19472,\n",
              " 'baajlhx6x': 25397,\n",
              " 'scr': 55887,\n",
              " 'clk': 30042,\n",
              " 'o03ct0jdn4pdowpnol6pfr3qqh7sbcjgb8zhb8zhttttb8jhhl6rhzsrb8jhzzm9okkthlyc6d6tilyc6l6umzcsqrkpod6qxv6tbcjhm5csqvmpoloc4jmpijsrllycs0noohdrb9nialoc4bzdv03esazcb8zdm5csxrm9pgkpatncmokcotcu1lbgrdk9ogqqmltlg95iez4l69rju8nmctms4djlex6jy9zkl1jco56lmbsdkz6qgdpdilrpflapaftqf5m9roqkn5ql1fsq45kexhbq2z4q11dh2barn9agjjsrl1nmt0tr5ldlmltdpbj9ro4cfh4hstjot8ng6hkk51noponuuhqg75ak8nskp9lcssmq4x6q79m9roqjifqobxzogldu8r4tkxzrosqiwlyc4jarbkzhoxdk85kebkzhp5jcj53m496eb5djrwnte1rg4h7mn8kdwrk9ogalkdzpy97eq4kgcf4qbkzhtcksin6dht3mavkucnap5tke1bj9roag59aighrhjt5rcpl9roken8zmoopob83hzlnoshdloomiu4lkxbrpkf4mgtnhv5mmlxcgxljqfllcfx6lmy4dbxckez4lzr6db1bgq9dum9mjb83he9qtomkp6fapommlnkbjixamjtklgjatelldnnsslfcigfrkb83hdblejb4haf6lo0tko8zpdfcjchdrb83humspcl7dcn6er83j1lycnkycnkycscnpx9toeb4pbc3hbx7sl97tbkzho4pdngzdns3ercj9rokcns3eowzcv83cmopcbkzho0jdpozcno3dsoooe9trz4z9olcpbrz9f1noarjcrazbngjek4pcpuycpkz9plsspr3rbfdokrmdrw6qvf7tiljdy97tatdto5z9l9cqbrpk8z4kgbaj7poryb6pzcz9mxcsxr3qlltsbd78czcswcnoil68fv68p1nofv601': 48625,\n",
              " 'joomla': 42120,\n",
              " 'googledocss': 38221,\n",
              " 'sss': 58169,\n",
              " 'images': 40609,\n",
              " 'stories': 58502,\n",
              " 'signin': 56891,\n",
              " 'ebay': 34122,\n",
              " 'ebayisapi': 34124,\n",
              " 'dll32signinusingssl1puseridpartnerid2siteid3ruhttp32a2f2fmy': 33126,\n",
              " 'uk2fws2febayisapi3dll3fmyeb3ay22hd73d3xuk5j69j82fe1rdfsa3': 61517,\n",
              " 'gallery': 37373,\n",
              " 'aris': 24057,\n",
              " 'chair2': 29375,\n",
              " 'augmented': 24533,\n",
              " 'the': 60105,\n",
              " 'mang': 45182,\n",
              " 'kham': 42725,\n",
              " 'pha': 50861,\n",
              " 'nhung': 47808,\n",
              " 'phan': 50868,\n",
              " 'mem': 45808,\n",
              " 'moi': 46517,\n",
              " 'hay': 39119,\n",
              " 'nhat': 47780,\n",
              " 'ngay': 47727,\n",
              " '1352015': 4023,\n",
              " '188194': 6003,\n",
              " '2102000000': 8093,\n",
              " '1000900000': 1642,\n",
              " '023': 945,\n",
              " 'visual': 62927,\n",
              " 'page': 50002,\n",
              " 'htm': 39891,\n",
              " 'pageid': 50017,\n",
              " '73': 19237,\n",
              " '124821903': 3662,\n",
              " 'amp': 23460,\n",
              " 'dad': 31716,\n",
              " 'portal': 51672,\n",
              " 'schema': 55753,\n",
              " 'admin': 22417,\n",
              " 'updating': 61840,\n",
              " 'cgi': 29351,\n",
              " 'update': 61826,\n",
              " '0c74e29012ab02e68fa11181c2ad4993': 1458,\n",
              " 'article': 24156,\n",
              " 'catid': 29014,\n",
              " 'productos': 52388,\n",
              " 'bano': 25679,\n",
              " 'vapor': 62358,\n",
              " 'tmpl': 60462,\n",
              " 'component': 30473,\n",
              " 'print': 52227,\n",
              " 'layout': 43795,\n",
              " 'default': 32176,\n",
              " 'option': 49429,\n",
              " 'content': 30761,\n",
              " 'itemid': 41654,\n",
              " '104': 1905,\n",
              " 'tin': 60387,\n",
              " 'tuc': 61169,\n",
              " 'chum': 29766,\n",
              " 'anh': 23602,\n",
              " 'truong': 61087,\n",
              " 'hoc': 39593,\n",
              " 'gan': 37410,\n",
              " 'rao': 53361,\n",
              " 'sat': 55601,\n",
              " 'ngan': 47723,\n",
              " 'trong': 61043,\n",
              " 'thi': 60175,\n",
              " '486485': 16023,\n",
              " 'dich': 32747,\n",
              " 'mat': 45476,\n",
              " 'phong': 50928,\n",
              " 'thuy': 60297,\n",
              " 'giup': 37973,\n",
              " 'van': 62336,\n",
              " 'tai': 59477,\n",
              " 'loc': 44443,\n",
              " 'duyen': 33843,\n",
              " '187416': 5920,\n",
              " 'ictguides': 40182,\n",
              " 'methods': 45970,\n",
              " 'methodid': 45969,\n",
              " 'hookers': 39724,\n",
              " 'using': 61987,\n",
              " 'airbnb': 22979,\n",
              " 'use': 61953,\n",
              " 'apartments': 23802,\n",
              " 'sex': 56427,\n",
              " 'sessions': 56382,\n",
              " 'reportsandinterviews': 54171,\n",
              " 'ard': 24017,\n",
              " '060731f': 1225,\n",
              " 'asb': 24208,\n",
              " 'redir': 53766,\n",
              " 'iopksd': 41380,\n",
              " 'b000f9sniw': 24998,\n",
              " 'ref': 53813,\n",
              " 'amb': 23381,\n",
              " 'link': 44262,\n",
              " '41228665': 14731,\n",
              " '202': 7398,\n",
              " '2513040': 9400,\n",
              " '1206232': 3509,\n",
              " 'a3p5rokl5a1ole': 21793,\n",
              " 'asin': 24245,\n",
              " 'coop': 30866,\n",
              " '0q8smtszfpx9bft86xtn': 1561,\n",
              " '101': 1693,\n",
              " '138422291': 4150,\n",
              " '560798': 17570,\n",
              " 'piccodejs': 50999,\n",
              " '000': 1,\n",
              " '189': 6146,\n",
              " 'mischa': 46281,\n",
              " 'brooks': 27868,\n",
              " 'and': 23527,\n",
              " 'savannah': 55634,\n",
              " 'fox': 36895,\n",
              " 'display': 33010,\n",
              " 'their': 60122,\n",
              " 'big': 26876,\n",
              " 'asses': 24297,\n",
              " 'suck': 58811,\n",
              " 'dick': 32749,\n",
              " 'v77810': 62141,\n",
              " 'hollywood': 39641,\n",
              " 'prospectus': 52585,\n",
              " 'giving': 37980,\n",
              " 'devil': 32597,\n",
              " 'his': 39496,\n",
              " 'rag': 53261,\n",
              " 'why': 63883,\n",
              " 'netflixs': 47568,\n",
              " 'daredevil': 31841,\n",
              " 'least': 43852,\n",
              " 'marvel': 45388,\n",
              " 'property': 52555,\n",
              " 'yet': 64644,\n",
              " 'nelson': 47508,\n",
              " 'peltzs': 50575,\n",
              " 'hire': 39488,\n",
              " 'may': 45573,\n",
              " 'duponts': 33810,\n",
              " 'ceo': 29282,\n",
              " 'after': 22636,\n",
              " 'all': 23205,\n",
              " '264': 9956,\n",
              " 'kaden': 42367,\n",
              " 'mini': 46193,\n",
              " 'system': 59244,\n",
              " 'ranking': 53354,\n",
              " '2070': 7512,\n",
              " 'pricedown': 52162,\n",
              " 'div': 33063,\n",
              " 'gpt': 38346,\n",
              " 'header': 39175,\n",
              " 'text': 60045,\n",
              " 'congrats': 30629,\n",
              " 'friends': 37058,\n",
              " 'aol': 23774,\n",
              " 'hope': 39733,\n",
              " 'merger': 45900,\n",
              " 'with': 64052,\n",
              " 'verizon': 62583,\n",
              " 'will': 63948,\n",
              " 'ensure': 34835,\n",
              " 'brighter': 27789,\n",
              " 'future': 37259,\n",
              " 'mobile': 46420,\n",
              " 'etc': 35167,\n",
              " 'company': 30424,\n",
              " 'that': 60098,\n",
              " 'first': 36445,\n",
              " 'got': 38296,\n",
              " 'america': 23415,\n",
              " 'online': 49274,\n",
              " 'skifahren2003': 57134,\n",
              " 'zauchensee': 64946,\n",
              " 'album': 23109,\n",
              " '1998': 6382,\n",
              " 'quizzes': 53110,\n",
              " 'quiz': 53107,\n",
              " 'which': 63845,\n",
              " 'jurassic': 42305,\n",
              " 'world': 64183,\n",
              " 'dinosaur': 32847,\n",
              " 'are': 24020,\n",
              " 'you': 64717,\n",
              " '2835001': 10312,\n",
              " 'joomleague': 42126,\n",
              " 'func': 37191,\n",
              " 'showplan': 56764,\n",
              " 'mode': 46451,\n",
              " 'shop': 56686,\n",
              " 'beams': 26182,\n",
              " 'price': 52160,\n",
              " 'proper': 52551,\n",
              " 'ssy': 58173,\n",
              " 'ssm': 58165,\n",
              " 'ssd': 58154,\n",
              " 'sey': 56451,\n",
              " 'sem': 56204,\n",
              " 'sed': 56091,\n",
              " 'dstk': 33710,\n",
              " 'things': 60194,\n",
              " 'cause': 29032,\n",
              " 'website': 63660,\n",
              " 'development': 32583,\n",
              " 'cost': 30980,\n",
              " 'too': 60557,\n",
              " 'much': 46861,\n",
              " 'buildme': 28021,\n",
              " 'construction': 30710,\n",
              " 'architectural': 23995,\n",
              " 'theme': 60127,\n",
              " 'full': 37177,\n",
              " 'screen': 55899,\n",
              " 'preview': 52138,\n",
              " '11242771': 2514,\n",
              " 'viral': 62884,\n",
              " 'pets': 50831,\n",
              " 'exception': 35339,\n",
              " 'responsive': 54293,\n",
              " 'business': 28135,\n",
              " 'template': 59879,\n",
              " '8825658': 20319,\n",
              " 'tecnologia': 59781,\n",
              " 'actualidad': 22318,\n",
              " 'google': 38210,\n",
              " 'lanzo': 43674,\n",
              " 'globos': 38052,\n",
              " 'proveer': 52640,\n",
              " 'internet': 41254,\n",
              " 'desde': 32445,\n",
              " 'estratosfera': 35148,\n",
              " 'noticia': 48108,\n",
              " '1590950': 4812,\n",
              " 'flujo': 36628,\n",
              " 'bajada': 25524,\n",
              " 'ba8x76cqa': 25393,\n",
              " 'myord': 47073,\n",
              " 'uptime': 61887,\n",
              " 'myshownums': 47082,\n",
              " 'showtj': 56779,\n",
              " 'showdate': 56738,\n",
              " 'author': 24589,\n",
              " 'key': 42694,\n",
              " 'uploadfile': 61861,\n",
              " '2012': 6819,\n",
              " '2012116132826380': 6847,\n",
              " '5550fd6b4a0c4b8d4b84eae5': 17479,\n",
              " '2d54d618045ad29d78bb389475c70cd81f092b09': 10945,\n",
              " 'desktop': 32484,\n",
              " 'wallpapers': 63436,\n",
              " 'miscellaneous': 46280,\n",
              " '1680x1050': 5088,\n",
              " '2560x1600': 9816,\n",
              " '118': 3239,\n",
              " 'cdsb': 29173,\n",
              " 'board': 27270,\n",
              " 'qaetc': 52956,\n",
              " '7296': 19228,\n",
              " 'auth': 24577,\n",
              " 'search': 55984,\n",
              " 'keyword': 42705,\n",
              " 'recom': 53679,\n",
              " 'cybereason': 31501,\n",
              " 'raises': 53288,\n",
              " '25m': 9891,\n",
              " 'because': 26235,\n",
              " 'corporate': 30932,\n",
              " 'security': 56087,\n",
              " 'broken': 27849,\n",
              " 'ovechkin': 49781,\n",
              " 'defends': 32191,\n",
              " 'guarantee': 38642,\n",
              " 'but': 28150,\n",
              " 'can': 28681,\n",
              " 'score': 55868,\n",
              " 'home': 39655,\n",
              " 'status': 58325,\n",
              " '91': 20917,\n",
              " '2fero': 11461,\n",
              " 'net': 47561,\n",
              " '2ft': 11882,\n",
              " '2fdrkvru89fa9zv4yq': 11440,\n",
              " 'be': 26144,\n",
              " '23ero': 9110,\n",
              " '23douga': 9108,\n",
              " '23agesage': 9105,\n",
              " 'gallery2': 37374,\n",
              " 'main': 45050,\n",
              " 'rss': 54955,\n",
              " 'simplerender': 56966,\n",
              " '252': 9418,\n",
              " 'gallerysid': 37379,\n",
              " '6a23e5d6fff980bb6eef125a5c4d6c94': 18954,\n",
              " 'diet': 32779,\n",
              " 'tax': 59676,\n",
              " 'corner': 30921,\n",
              " 'atencioncliente': 24389,\n",
              " '102': 1760,\n",
              " 'politicaprivacidad': 51519,\n",
              " 'gaj': 37345,\n",
              " 'show': 56727,\n",
              " '111': 2346,\n",
              " 'classid': 29944,\n",
              " 'once': 49242,\n",
              " 'upon': 61870,\n",
              " 'time': 60366,\n",
              " 'episode': 34922,\n",
              " 'guide': 38684,\n",
              " 'season': 56008,\n",
              " 'finale': 36345,\n",
              " 'operation': 49361,\n",
              " 'mongoose': 46584,\n",
              " 'part': 50259,\n",
              " '9c4a78f19a23ad47b02d38a5b14ad53bae604511': 21599,\n",
              " 'girls': 37954,\n",
              " '4186x2727': 14808,\n",
              " '100pcs': 1689,\n",
              " 'verification': 62558,\n",
              " '370653': 13910,\n",
              " 'suicide': 58862,\n",
              " 'terrorism': 59987,\n",
              " 'what': 63820,\n",
              " 'should': 56721,\n",
              " 'call': 28573,\n",
              " 'germanwings': 37758,\n",
              " 'crash': 31125,\n",
              " 'auto': 24600,\n",
              " 'masini': 45420,\n",
              " 'moto': 46731,\n",
              " 'ambarcatiuni': 23384,\n",
              " 'autoturisme': 24647,\n",
              " 'ford': 36748,\n",
              " 'frontpage': 37101,\n",
              " 'logs': 44544,\n",
              " 'large': 43693,\n",
              " 'decorative': 32135,\n",
              " 'wall': 63428,\n",
              " 'clocks': 30046,\n",
              " 'sale': 55444,\n",
              " 'design': 32467,\n",
              " 'interior': 41239,\n",
              " 'download': 33486,\n",
              " '4188733': 14825,\n",
              " 'va': 62241,\n",
              " 'ibiza': 40130,\n",
              " 'dance': 31785,\n",
              " 'hits': 39532,\n",
              " '5b2015': 18183,\n",
              " '5d': 18293,\n",
              " '5bmp3': 18244,\n",
              " '320kbps': 13084,\n",
              " '5bh4ckus': 18229,\n",
              " '5bglodls': 18228,\n",
              " 'press': 52093,\n",
              " 'release': 53988,\n",
              " '2013': 6856,\n",
              " 'appoints': 23889,\n",
              " 'director': 32886,\n",
              " 'europe': 35227,\n",
              " 'middle': 46059,\n",
              " 'east': 34092,\n",
              " 'africa': 22627,\n",
              " 'asia': 24234,\n",
              " 'docsupply': 33203,\n",
              " 'aid': 22952,\n",
              " '7662': 19433,\n",
              " 'c335d': 28303,\n",
              " 'cartasi': 28903,\n",
              " 'url2': 61915,\n",
              " 'keywords': 42708,\n",
              " '20insurance': 7771,\n",
              " 'paid': 50041,\n",
              " 'destination': 32510,\n",
              " 'lowinsuranceonline': 44666,\n",
              " 'value': 62321,\n",
              " 'rc6': 53494,\n",
              " 'overture': 49813,\n",
              " 'xargs': 64372,\n",
              " '15kpjg15rshpxyl': 4845,\n",
              " '255frunlbxu6tfhubqy9rtrigrtcantiabri40d7vhpfzf3p5nh70lvvkbhlhmo': 9791,\n",
              " '255fpdo0flqn2crgopqfofsu722ivgy4s8nquht4rkglikx': 9772,\n",
              " '252dif64bop3kaz2': 9539,\n",
              " '252dyfstootr8bkwhfhnk': 9585,\n",
              " '255f4wbxbmb': 9720,\n",
              " '252dplvynnuyjvtgbpaqyd': 9555,\n",
              " '252d': 9508,\n",
              " '252d1tqv58b7am': 9509,\n",
              " '255f2mhdeao5ylnufdya5serezs13yz4mpv': 9716,\n",
              " '255fmyeak1ii7g4jvaanjzl5qkbbiyjb5ug4jngvjmlthklsw2vm': 9766,\n",
              " '252dfvj9hiiwhydyihrid2piauznq1rfe': 9533,\n",
              " '252dmxmiyk16x': 9552,\n",
              " '252dac0j2ecrmg62htgpslsdmyeajlsfmwx6dskhbaxfb0': 9522,\n",
              " '255fg63r9xlcn': 9742,\n",
              " '255f': 9714,\n",
              " '255f9ykfmie': 9727,\n",
              " '252e': 9588,\n",
              " 'yargs': 64565,\n",
              " 'pos': 51710,\n",
              " 'film': 36312,\n",
              " 'its': 41676,\n",
              " 'wonderful': 64125,\n",
              " 'life': 44163,\n",
              " 'sequel': 56286,\n",
              " 'works': 64175,\n",
              " 'exclusive': 35358,\n",
              " '1200850705': 3392,\n",
              " 'identify': 40404,\n",
              " 'customer': 31455,\n",
              " 'bgflcuxha6lxlmvvvzxtkg9anaym19kri5fjepkx0bi9ga0sbbckgnyxk7co5cfzk4gtjej6zrwyecrv4wma7ocvwzrmwkbfjslf': 26802,\n",
              " 'itemarealist': 41649,\n",
              " 'area1': 24022,\n",
              " 'area2': 24023,\n",
              " '666305': 18778,\n",
              " 'samba': 55481,\n",
              " 'dlc': 33119,\n",
              " 'clients': 30013,\n",
              " 'random': 53337,\n",
              " 'drop': 33625,\n",
              " 'connection': 30646,\n",
              " 'kerberos': 42670,\n",
              " 'paypal': 50451,\n",
              " 'd7fd5d9f0ad28eb9c961b287f43c9377': 31655,\n",
              " 'wbsccr': 63567,\n",
              " 'dispatchx85d80a13c0db1fb6947b0aeae66fdbfb2119927117e3a6f876e0fd34af43659973b4d4689abc776cf920310cb27c159973b4d4689abc776cf920310cb27c15cmd': 33005,\n",
              " 'processing': 52348,\n",
              " '4190077': 15026,\n",
              " 'temple': 59883,\n",
              " 'run': 55042,\n",
              " '28unlimited': 10513,\n",
              " 'gold': 38152,\n",
              " 'coins': 30226,\n",
              " 'gems': 37645,\n",
              " '29': 10521,\n",
              " 'usain': 61940,\n",
              " 'bolt': 27371,\n",
              " 'unlocked': 61748,\n",
              " 'by': 28206,\n",
              " '7bteam': 19611,\n",
              " 'warriors': 63492,\n",
              " '7d': 19635,\n",
              " 'mann': 45203,\n",
              " 'kt': 43367,\n",
              " 'simple': 56960,\n",
              " 'click': 30003,\n",
              " '43917250545': 15464,\n",
              " '2ftemidnya': 11894,\n",
              " '2fblog': 11360,\n",
              " '2f43917250545': 11142,\n",
              " '2flnr': 11637,\n",
              " 'kiev': 42806,\n",
              " 'vvodit': 63291,\n",
              " '22fizicheskuyu': 8732,\n",
              " 'blokadu': 27176,\n",
              " 'donbassa': 33348,\n",
              " '4189641': 14941,\n",
              " 'mysistershotfriend': 47083,\n",
              " 'courtney': 31041,\n",
              " 'james': 41797,\n",
              " '5bjun': 18238,\n",
              " '2c2007': 10907,\n",
              " '2805': 10235,\n",
              " 'explore': 35463,\n",
              " '360': 13821,\n",
              " 'degrees': 32224,\n",
              " 'this': 60206,\n",
              " 'animated': 23613,\n",
              " 'squarepusher': 58090,\n",
              " 'music': 46983,\n",
              " 'diensten': 32773,\n",
              " 'feesten': 36065,\n",
              " 'brabant': 27626,\n",
              " 'kraamfeest': 43269,\n",
              " 'organiseren': 49489,\n",
              " 'cars': 28894,\n",
              " 'bmw': 27244,\n",
              " '6er': 19026,\n",
              " '5bstate': 18271,\n",
              " '5bperiod': 18254,\n",
              " '5bcustom': 18209,\n",
              " '5bsection': 18269,\n",
              " '5bmark': 18241,\n",
              " '5b0': 18178,\n",
              " 'folder': 36673,\n",
              " '395': 14137,\n",
              " '2846': 10333,\n",
              " '30226121': 12206,\n",
              " 'textwrangler': 60063,\n",
              " 'replace': 54144,\n",
              " 'every': 35278,\n",
              " 'second': 56036,\n",
              " 'break': 27704,\n",
              " 'comma': 30373,\n",
              " 'add': 22365,\n",
              " '1305': 3888,\n",
              " 'return': 54373,\n",
              " 'dancing': 31790,\n",
              " 'img': 40626,\n",
              " '0579': 1190,\n",
              " 'c42cf9c57b7604b5261421e46d775dff': 28319,\n",
              " 'returnname': 54376,\n",
              " 'photo': 50929,\n",
              " '554cddca4a0c4bb0174f8859': 17447,\n",
              " '554cf6394a0c4bad174f885f': 17454,\n",
              " 'shareables': 56540,\n",
              " 'watch': 63519,\n",
              " 'gifs': 37896,\n",
              " 'entire': 34858,\n",
              " 'movies': 46785,\n",
              " 'thanks': 60092,\n",
              " 'subreddit': 58760,\n",
              " 'gtm': 38630,\n",
              " 'jeux': 41976,\n",
              " 'strategie': 58565,\n",
              " 'stormfall': 58505,\n",
              " 'age': 22659,\n",
              " 'war': 63467,\n",
              " 'actualites': 22319,\n",
              " 'oeil': 49013,\n",
              " 'pour': 51813,\n",
              " 'hipsters': 39487,\n",
              " 'beware': 26588,\n",
              " 'apple': 23864,\n",
              " 'doesnt': 33237,\n",
              " 'work': 64158,\n",
              " 'tattooed': 59660,\n",
              " 'wrists': 64252,\n",
              " 'para': 50175,\n",
              " 'sua': 58719,\n",
              " 'empresa': 34675,\n",
              " 'marketing': 45332,\n",
              " 'direto': 32899,\n",
              " 'cases': 28940,\n",
              " 'construir': 30714,\n",
              " 'marca': 45274,\n",
              " 'imagens': 40605,\n",
              " 'caseopus': 28938,\n",
              " '315': 12883,\n",
              " 'googledrive': 38226,\n",
              " 'contactform': 30736,\n",
              " 'wie': 63903,\n",
              " 'zijn': 65069,\n",
              " 'wij': 63926,\n",
              " 'bestuur': 26543,\n",
              " 'examples': 35333,\n",
              " 'websocket': 63663,\n",
              " 'deprecated': 32388,\n",
              " 'snake': 57394,\n",
              " 'module': 46494,\n",
              " 'livetop': 44373,\n",
              " 'args': 24043,\n",
              " 'livehall': 44362,\n",
              " 'tet': 60034,\n",
              " 'viet': 62756,\n",
              " 'duoc': 33802,\n",
              " 'thieu': 60186,\n",
              " 'tren': 60939,\n",
              " 'dai': 31739,\n",
              " 'truyen': 61098,\n",
              " 'hinh': 39476,\n",
              " 'hungary': 39989,\n",
              " '1035495': 1890,\n",
              " '4190976': 15140,\n",
              " 'blues': 27209,\n",
              " 'giants': 37876,\n",
              " 'live': 44352,\n",
              " '21': 8077,\n",
              " 'vol': 63058,\n",
              " '286cd': 10382,\n",
              " 'box': 27560,\n",
              " '2007': 6707,\n",
              " '5bflac': 18227,\n",
              " 'government': 38316,\n",
              " 'organisations': 49488,\n",
              " 'civil': 29892,\n",
              " 'service': 56344,\n",
              " 'planning': 51221,\n",
              " 'inspectors': 41111,\n",
              " 'hampshire': 38928,\n",
              " 'bedford': 26252,\n",
              " 'did': 32760,\n",
              " 'rand': 53334,\n",
              " 'paul': 50408,\n",
              " 'staffer': 58203,\n",
              " 'really': 53571,\n",
              " 'lick': 44136,\n",
              " 'political': 51518,\n",
              " 'trackers': 60753,\n",
              " 'camera': 28629,\n",
              " 'anunturi': 23751,\n",
              " 'agricole': 22716,\n",
              " 'animale': 23609,\n",
              " 'domestice': 33305,\n",
              " 'pasari': 50305,\n",
              " 'alte': 23312,\n",
              " 'feature': 36021,\n",
              " '40785365': 14578,\n",
              " 'utf8': 62014,\n",
              " 'docid': 33190,\n",
              " '1000062513': 1627,\n",
              " 'center': 29255,\n",
              " '0zwggvvt2r8nnaafqkwt': 1592,\n",
              " '137234691': 4084,\n",
              " '11052591': 2300,\n",
              " 'gastronomia': 37500,\n",
              " 'bares': 25716,\n",
              " 'copas': 30885,\n",
              " 'aprende': 23911,\n",
              " 'preparar': 52050,\n",
              " 'bellini': 26371,\n",
              " '1810996': 5632,\n",
              " 'portada': 51671,\n",
              " 'megamenu': 45762,\n",
              " 'foto': 36848,\n",
              " 'noscript': 48078,\n",
              " 'general': 37656,\n",
              " 'practice': 51899,\n",
              " 'publications': 52754,\n",
              " '1999': 6384,\n",
              " 'hti': 39890,\n",
              " '69517403': 18933,\n",
              " 'stock': 58453,\n",
              " 'doctor': 33205,\n",
              " 'explaining': 35451,\n",
              " 'prescription': 52062,\n",
              " 'elderly': 34497,\n",
              " 'niedobaa': 47848,\n",
              " '163': 4935,\n",
              " 'allezvinsfrenchr': 23234,\n",
              " 'b000bhz1h4': 24974,\n",
              " '026': 961,\n",
              " '8324244': 19883,\n",
              " '9330038': 21042,\n",
              " 'entrepreneur': 34868,\n",
              " 'israeli': 41532,\n",
              " 'startups': 58298,\n",
              " 'picture': 51022,\n",
              " 'others': 49637,\n",
              " 'islamic': 41485,\n",
              " 'state': 58304,\n",
              " 'militants': 46132,\n",
              " 'gun': 38714,\n",
              " 'down': 33480,\n",
              " 'shia': 56617,\n",
              " 'ismaili': 41498,\n",
              " 'muslims': 47001,\n",
              " 'karachi': 42473,\n",
              " 'yiyuanxiangguan': 64668,\n",
              " 'gongyishiye': 38187,\n",
              " '20141029': 7075,\n",
              " '295': 10659,\n",
              " 'star': 58264,\n",
              " 'ngoc': 47750,\n",
              " 'khoe': 42759,\n",
              " 'tuoi': 61213,\n",
              " 'tan': 59552,\n",
              " 'dan': 31780,\n",
              " 'sao': 55576,\n",
              " 'remix': 54056,\n",
              " 'cuc': 31364,\n",
              " 'nhi': 47784,\n",
              " 'nho': 47795,\n",
              " 'truoc': 61086,\n",
              " 'gio': 37929,\n",
              " '20150307041613579': 7191,\n",
              " 'chn': 29687,\n",
              " 'tuyen': 61269,\n",
              " 'tap': 59598,\n",
              " 'nghiem': 47738,\n",
              " 'day': 31943,\n",
              " 'thuat': 60274,\n",
              " 'voi': 63035,\n",
              " '2015010708375590': 7142,\n",
              " '4189855': 15006,\n",
              " 'marvels': 45389,\n",
              " 'agents': 22676,\n",
              " 'of': 49024,\n",
              " 's02e21': 55170,\n",
              " 'e22': 33977,\n",
              " 'hdtv': 39166,\n",
              " 'fum': 37188,\n",
              " '5bettv': 18222,\n",
              " 'houses': 39827,\n",
              " 'castlecrag': 28968,\n",
              " 'house': 39821,\n",
              " 'b3z8cp28h': 25218,\n",
              " 'check': 29522,\n",
              " 'your': 64731,\n",
              " 'account': 22187,\n",
              " 'valid': 62300,\n",
              " 'credit': 31184,\n",
              " 'card': 28810,\n",
              " 'login': 44501,\n",
              " '2001': 6614,\n",
              " '297484': 10736,\n",
              " 'rugs': 55005,\n",
              " '222': 8466,\n",
              " 'oscsid': 49569,\n",
              " '15a6848b9976441f73230911ec8eac09': 4831,\n",
              " 'frumusete': 37120,\n",
              " 'haine': 38863,\n",
              " 'barbati': 25696,\n",
              " 'blugi': 27215,\n",
              " 'pantaloni': 50141,\n",
              " 'atp': 24437,\n",
              " 'shirt': 56650,\n",
              " 'sport': 57994,\n",
              " 'men': 45836,\n",
              " 'utm': 62029,\n",
              " 'campaign': 28648,\n",
              " 'medium': 45733,\n",
              " 'oembed': 49016,\n",
              " 'source': 57739,\n",
              " 'wordpress': 64155,\n",
              " 'oferta': 49032,\n",
              " 'yamaha': 64536,\n",
              " 'road': 54648,\n",
              " '1600': 4861,\n",
              " '1700': 5174,\n",
              " 'silverado': 56941,\n",
              " 'maxx': 45572,\n",
              " 'ubrany': 61412,\n",
              " 'id3hjire': 40239,\n",
              " 'bin': 26942,\n",
              " 'jobs': 42050,\n",
              " 'apply': 23883,\n",
              " 'enviar': 34887,\n",
              " 'eeeoo': 34341,\n",
              " '307': 12578,\n",
              " 'webcam': 63606,\n",
              " 'cam07': 28604,\n",
              " '1f426e4838b6e2886c5bfc7d0740c27d': 6501,\n",
              " '2000': 6597,\n",
              " '318992': 13048,\n",
              " 'app': 23838,\n",
              " 'member': 45810,\n",
              " 'sportoption': 58006,\n",
              " 'uid': 61496,\n",
              " 'guest': 38674,\n",
              " 'langx': 43662,\n",
              " 'total': 60652,\n",
              " 'domination': 33318,\n",
              " 'nouvelles': 48133,\n",
              " 'mise': 46283,\n",
              " 'jour': 42152,\n",
              " 'hebdomadaire': 39227,\n",
              " '105': 1932,\n",
              " 'dystonie': 33915,\n",
              " 'zentrum': 65013,\n",
              " 'allgemein': 23235,\n",
              " 'kantor': 42456,\n",
              " 'industri': 40899,\n",
              " 'perlengkapan': 50720,\n",
              " 'usaha': 61939,\n",
              " 'health': 39191,\n",
              " 'medic': 45715,\n",
              " '11148052': 2386,\n",
              " 'confirmation': 30605,\n",
              " 'c85652703f710065c1255aa03a9aefae': 28403,\n",
              " 'cbbca54fcbc1a3636065adc71373b0c2': 29069,\n",
              " '6499': 18696,\n",
              " '20141021': 7067,\n",
              " '292': 10564,\n",
              " 'tours': 60691,\n",
              " 'culaochamtours': 31374,\n",
              " 'items': 41658,\n",
              " 'fbtrack': 35956,\n",
              " 'camelotcraftingdaoc': 28624,\n",
              " 'phpbb2': 50962,\n",
              " 'billh': 26923,\n",
              " 'cielo3': 29806,\n",
              " '2002': 6629,\n",
              " '138349': 4147,\n",
              " 'erreur': 35003,\n",
              " 'non': 48027,\n",
              " 'trouves': 61060,\n",
              " '313221': 12824,\n",
              " '402302': 14500,\n",
              " 'dragon': 33533,\n",
              " 'slayed': 57232,\n",
              " 'american': 23416,\n",
              " 'idol': 40426,\n",
              " 'end': 34723,\n",
              " 'next': 47703,\n",
              " 'nga': 47719,\n",
              " 'tang': 59561,\n",
              " 'cuong': 31414,\n",
              " 'hop': 39732,\n",
              " 'tac': 59443,\n",
              " 'trung': 61084,\n",
              " 'dung': 33790,\n",
              " 'xuyen': 64481,\n",
              " 'gian': 37868,\n",
              " ...}"
            ]
          },
          "metadata": {
            "tags": []
          },
          "execution_count": 20
        }
      ]
    },
    {
      "cell_type": "code",
      "metadata": {
        "id": "LeplIgDPvyrx",
        "colab_type": "code",
        "outputId": "266088ca-cc6d-4656-8364-04739e938f16",
        "colab": {
          "base_uri": "https://localhost:8080/",
          "height": 35
        }
      },
      "source": [
        "from sklearn.naive_bayes import MultinomialNB\n",
        "nb = MultinomialNB()\n",
        "nb.fit(x_train_t, y_train)"
      ],
      "execution_count": 21,
      "outputs": [
        {
          "output_type": "execute_result",
          "data": {
            "text/plain": [
              "MultinomialNB(alpha=1.0, class_prior=None, fit_prior=True)"
            ]
          },
          "metadata": {
            "tags": []
          },
          "execution_count": 21
        }
      ]
    },
    {
      "cell_type": "code",
      "metadata": {
        "id": "N1Ri0W7cwLEG",
        "colab_type": "code",
        "outputId": "2056f9f7-5114-49e9-914e-8fbcc1579fd3",
        "colab": {
          "base_uri": "https://localhost:8080/",
          "height": 54
        }
      },
      "source": [
        "x_test_t = vectorized.transform(x_test)\n",
        "x_test_t"
      ],
      "execution_count": 22,
      "outputs": [
        {
          "output_type": "execute_result",
          "data": {
            "text/plain": [
              "<26040x65253 sparse matrix of type '<class 'numpy.int64'>'\n",
              "\twith 183037 stored elements in Compressed Sparse Row format>"
            ]
          },
          "metadata": {
            "tags": []
          },
          "execution_count": 22
        }
      ]
    },
    {
      "cell_type": "code",
      "metadata": {
        "id": "NWkp3gAqwrOu",
        "colab_type": "code",
        "colab": {}
      },
      "source": [
        "y_pred = nb.predict(x_test_t)"
      ],
      "execution_count": 0,
      "outputs": []
    },
    {
      "cell_type": "code",
      "metadata": {
        "id": "PvcM88wiwwRy",
        "colab_type": "code",
        "outputId": "798189ed-78e5-4352-ddb0-1bbf01ce844b",
        "colab": {
          "base_uri": "https://localhost:8080/",
          "height": 35
        }
      },
      "source": [
        "from sklearn import metrics\n",
        "metrics.accuracy_score(y_test, y_pred)"
      ],
      "execution_count": 24,
      "outputs": [
        {
          "output_type": "execute_result",
          "data": {
            "text/plain": [
              "0.9608294930875576"
            ]
          },
          "metadata": {
            "tags": []
          },
          "execution_count": 24
        }
      ]
    },
    {
      "cell_type": "code",
      "metadata": {
        "id": "PsQ0VigBxq_w",
        "colab_type": "code",
        "outputId": "78aa9206-0a76-4303-d7af-267bd849a0ca",
        "colab": {
          "base_uri": "https://localhost:8080/",
          "height": 54
        }
      },
      "source": [
        "metrics.confusion_matrix(y_test, y_pred)"
      ],
      "execution_count": 25,
      "outputs": [
        {
          "output_type": "execute_result",
          "data": {
            "text/plain": [
              "array([[11120,   555],\n",
              "       [  465, 13900]])"
            ]
          },
          "metadata": {
            "tags": []
          },
          "execution_count": 25
        }
      ]
    },
    {
      "cell_type": "code",
      "metadata": {
        "id": "X5rISo0l9OhA",
        "colab_type": "code",
        "outputId": "d537742b-427e-4d76-a281-31a49850f1c2",
        "colab": {
          "base_uri": "https://localhost:8080/",
          "height": 146
        }
      },
      "source": [
        "#dobijamo predvidjene verovatnoce za pripadnost klasi 0 i 1, respektivno\n",
        "#klasa 0 znaci label = 0 \n",
        "y_pred_proba = nb.predict_proba(x_test_t)\n",
        "y_pred_proba"
      ],
      "execution_count": 26,
      "outputs": [
        {
          "output_type": "execute_result",
          "data": {
            "text/plain": [
              "array([[8.52039767e-05, 9.99914796e-01],\n",
              "       [5.37201225e-03, 9.94627988e-01],\n",
              "       [9.84468315e-04, 9.99015532e-01],\n",
              "       ...,\n",
              "       [2.47673629e-09, 9.99999998e-01],\n",
              "       [6.85275223e-02, 9.31472478e-01],\n",
              "       [2.48997358e-03, 9.97510026e-01]])"
            ]
          },
          "metadata": {
            "tags": []
          },
          "execution_count": 26
        }
      ]
    },
    {
      "cell_type": "code",
      "metadata": {
        "id": "M-yQAGBGAU2K",
        "colab_type": "code",
        "outputId": "e051d2ef-d30b-4ad3-bcd5-f51939519296",
        "colab": {
          "base_uri": "https://localhost:8080/",
          "height": 35
        }
      },
      "source": [
        "#tacnost predvidjanja za klasu 1\n",
        "metrics.roc_auc_score(y_test, y_pred_proba[:, 1])"
      ],
      "execution_count": 27,
      "outputs": [
        {
          "output_type": "execute_result",
          "data": {
            "text/plain": [
              "0.9897542310412757"
            ]
          },
          "metadata": {
            "tags": []
          },
          "execution_count": 27
        }
      ]
    },
    {
      "cell_type": "code",
      "metadata": {
        "id": "aC036C-wDKMW",
        "colab_type": "code",
        "colab": {}
      },
      "source": [
        "y_pred_proba_0 = y_pred_proba[:, 0]\n",
        "y_pred_proba_1 = y_pred_proba[:, 1]"
      ],
      "execution_count": 0,
      "outputs": []
    },
    {
      "cell_type": "code",
      "metadata": {
        "id": "crhQyDxXL45G",
        "colab_type": "code",
        "outputId": "5df6486d-895e-4dc3-9a69-2debf80aa4b4",
        "colab": {
          "base_uri": "https://localhost:8080/",
          "height": 206
        }
      },
      "source": [
        "#pravimo dataframe od x_test jer hocemo dobijene verovatnoce da koristimo kao feature za SVM i RF\n",
        "df_test = x_test.to_frame()\n",
        "df_test.head()"
      ],
      "execution_count": 29,
      "outputs": [
        {
          "output_type": "execute_result",
          "data": {
            "text/html": [
              "<div>\n",
              "<style scoped>\n",
              "    .dataframe tbody tr th:only-of-type {\n",
              "        vertical-align: middle;\n",
              "    }\n",
              "\n",
              "    .dataframe tbody tr th {\n",
              "        vertical-align: top;\n",
              "    }\n",
              "\n",
              "    .dataframe thead th {\n",
              "        text-align: right;\n",
              "    }\n",
              "</style>\n",
              "<table border=\"1\" class=\"dataframe\">\n",
              "  <thead>\n",
              "    <tr style=\"text-align: right;\">\n",
              "      <th></th>\n",
              "      <th>deep url</th>\n",
              "    </tr>\n",
              "  </thead>\n",
              "  <tbody>\n",
              "    <tr>\n",
              "      <th>15450</th>\n",
              "      <td>configurazione supporto apple store contatta A...</td>\n",
              "    </tr>\n",
              "    <tr>\n",
              "      <th>66594</th>\n",
              "      <td>login login html</td>\n",
              "    </tr>\n",
              "    <tr>\n",
              "      <th>43205</th>\n",
              "      <td>modules mod feed dropbox</td>\n",
              "    </tr>\n",
              "    <tr>\n",
              "      <th>6638</th>\n",
              "      <td>index php option com content view article Itemid</td>\n",
              "    </tr>\n",
              "    <tr>\n",
              "      <th>36827</th>\n",
              "      <td>robots txt</td>\n",
              "    </tr>\n",
              "  </tbody>\n",
              "</table>\n",
              "</div>"
            ],
            "text/plain": [
              "                                                deep url\n",
              "15450  configurazione supporto apple store contatta A...\n",
              "66594                                   login login html\n",
              "43205                           modules mod feed dropbox\n",
              "6638    index php option com content view article Itemid\n",
              "36827                                         robots txt"
            ]
          },
          "metadata": {
            "tags": []
          },
          "execution_count": 29
        }
      ]
    },
    {
      "cell_type": "code",
      "metadata": {
        "id": "WoLI9s4VNnU4",
        "colab_type": "code",
        "outputId": "9fd3d08a-4032-43b2-a034-c78a854f61d2",
        "colab": {
          "base_uri": "https://localhost:8080/",
          "height": 206
        }
      },
      "source": [
        "df_test['label_proba_0'] = y_pred_proba_0\n",
        "df_test['label_proba_1'] = y_pred_proba_1\n",
        "df_test.head()"
      ],
      "execution_count": 30,
      "outputs": [
        {
          "output_type": "execute_result",
          "data": {
            "text/html": [
              "<div>\n",
              "<style scoped>\n",
              "    .dataframe tbody tr th:only-of-type {\n",
              "        vertical-align: middle;\n",
              "    }\n",
              "\n",
              "    .dataframe tbody tr th {\n",
              "        vertical-align: top;\n",
              "    }\n",
              "\n",
              "    .dataframe thead th {\n",
              "        text-align: right;\n",
              "    }\n",
              "</style>\n",
              "<table border=\"1\" class=\"dataframe\">\n",
              "  <thead>\n",
              "    <tr style=\"text-align: right;\">\n",
              "      <th></th>\n",
              "      <th>deep url</th>\n",
              "      <th>label_proba_0</th>\n",
              "      <th>label_proba_1</th>\n",
              "    </tr>\n",
              "  </thead>\n",
              "  <tbody>\n",
              "    <tr>\n",
              "      <th>15450</th>\n",
              "      <td>configurazione supporto apple store contatta A...</td>\n",
              "      <td>8.520398e-05</td>\n",
              "      <td>0.999915</td>\n",
              "    </tr>\n",
              "    <tr>\n",
              "      <th>66594</th>\n",
              "      <td>login login html</td>\n",
              "      <td>5.372012e-03</td>\n",
              "      <td>0.994628</td>\n",
              "    </tr>\n",
              "    <tr>\n",
              "      <th>43205</th>\n",
              "      <td>modules mod feed dropbox</td>\n",
              "      <td>9.844683e-04</td>\n",
              "      <td>0.999016</td>\n",
              "    </tr>\n",
              "    <tr>\n",
              "      <th>6638</th>\n",
              "      <td>index php option com content view article Itemid</td>\n",
              "      <td>1.407942e-12</td>\n",
              "      <td>1.000000</td>\n",
              "    </tr>\n",
              "    <tr>\n",
              "      <th>36827</th>\n",
              "      <td>robots txt</td>\n",
              "      <td>8.082654e-03</td>\n",
              "      <td>0.991917</td>\n",
              "    </tr>\n",
              "  </tbody>\n",
              "</table>\n",
              "</div>"
            ],
            "text/plain": [
              "                                                deep url  ...  label_proba_1\n",
              "15450  configurazione supporto apple store contatta A...  ...       0.999915\n",
              "66594                                   login login html  ...       0.994628\n",
              "43205                           modules mod feed dropbox  ...       0.999016\n",
              "6638    index php option com content view article Itemid  ...       1.000000\n",
              "36827                                         robots txt  ...       0.991917\n",
              "\n",
              "[5 rows x 3 columns]"
            ]
          },
          "metadata": {
            "tags": []
          },
          "execution_count": 30
        }
      ]
    },
    {
      "cell_type": "code",
      "metadata": {
        "id": "zGsyuKAtRd5w",
        "colab_type": "code",
        "outputId": "e2198bf1-b680-49ea-eed5-6d182bffe41d",
        "colab": {
          "base_uri": "https://localhost:8080/",
          "height": 206
        }
      },
      "source": [
        "#radicemo join sa originalnim datasetom pa nam ne treba deep url kolona\n",
        "df_test = df_test.drop('deep url', axis = 1)\n",
        "df_test.head()"
      ],
      "execution_count": 31,
      "outputs": [
        {
          "output_type": "execute_result",
          "data": {
            "text/html": [
              "<div>\n",
              "<style scoped>\n",
              "    .dataframe tbody tr th:only-of-type {\n",
              "        vertical-align: middle;\n",
              "    }\n",
              "\n",
              "    .dataframe tbody tr th {\n",
              "        vertical-align: top;\n",
              "    }\n",
              "\n",
              "    .dataframe thead th {\n",
              "        text-align: right;\n",
              "    }\n",
              "</style>\n",
              "<table border=\"1\" class=\"dataframe\">\n",
              "  <thead>\n",
              "    <tr style=\"text-align: right;\">\n",
              "      <th></th>\n",
              "      <th>label_proba_0</th>\n",
              "      <th>label_proba_1</th>\n",
              "    </tr>\n",
              "  </thead>\n",
              "  <tbody>\n",
              "    <tr>\n",
              "      <th>15450</th>\n",
              "      <td>8.520398e-05</td>\n",
              "      <td>0.999915</td>\n",
              "    </tr>\n",
              "    <tr>\n",
              "      <th>66594</th>\n",
              "      <td>5.372012e-03</td>\n",
              "      <td>0.994628</td>\n",
              "    </tr>\n",
              "    <tr>\n",
              "      <th>43205</th>\n",
              "      <td>9.844683e-04</td>\n",
              "      <td>0.999016</td>\n",
              "    </tr>\n",
              "    <tr>\n",
              "      <th>6638</th>\n",
              "      <td>1.407942e-12</td>\n",
              "      <td>1.000000</td>\n",
              "    </tr>\n",
              "    <tr>\n",
              "      <th>36827</th>\n",
              "      <td>8.082654e-03</td>\n",
              "      <td>0.991917</td>\n",
              "    </tr>\n",
              "  </tbody>\n",
              "</table>\n",
              "</div>"
            ],
            "text/plain": [
              "       label_proba_0  label_proba_1\n",
              "15450   8.520398e-05       0.999915\n",
              "66594   5.372012e-03       0.994628\n",
              "43205   9.844683e-04       0.999016\n",
              "6638    1.407942e-12       1.000000\n",
              "36827   8.082654e-03       0.991917"
            ]
          },
          "metadata": {
            "tags": []
          },
          "execution_count": 31
        }
      ]
    },
    {
      "cell_type": "code",
      "metadata": {
        "id": "gH3UxVnwRKYp",
        "colab_type": "code",
        "outputId": "52ad5d2f-1c69-4fb7-bf02-f6a44e3ab0a7",
        "colab": {
          "base_uri": "https://localhost:8080/",
          "height": 276
        }
      },
      "source": [
        "#join sa originalnim datasetom - radi join po indeksu, a dodeljuje nan vrednosti u redovima koji nisu u x_test\n",
        "final_ds = ds_comb.join(df_test)\n",
        "final_ds.head()"
      ],
      "execution_count": 32,
      "outputs": [
        {
          "output_type": "execute_result",
          "data": {
            "text/html": [
              "<div>\n",
              "<style scoped>\n",
              "    .dataframe tbody tr th:only-of-type {\n",
              "        vertical-align: middle;\n",
              "    }\n",
              "\n",
              "    .dataframe tbody tr th {\n",
              "        vertical-align: top;\n",
              "    }\n",
              "\n",
              "    .dataframe thead th {\n",
              "        text-align: right;\n",
              "    }\n",
              "</style>\n",
              "<table border=\"1\" class=\"dataframe\">\n",
              "  <thead>\n",
              "    <tr style=\"text-align: right;\">\n",
              "      <th></th>\n",
              "      <th>url</th>\n",
              "      <th>label</th>\n",
              "      <th>deep url</th>\n",
              "      <th>len deep url</th>\n",
              "      <th>label_proba_0</th>\n",
              "      <th>label_proba_1</th>\n",
              "    </tr>\n",
              "  </thead>\n",
              "  <tbody>\n",
              "    <tr>\n",
              "      <th>0</th>\n",
              "      <td>http://aolshop.memberoffers.co.uk/csp/smp/aol/...</td>\n",
              "      <td>1</td>\n",
              "      <td>csp smp aol itementry3 csp E179 cat header Kit...</td>\n",
              "      <td>150</td>\n",
              "      <td>1.991278e-33</td>\n",
              "      <td>1.000000e+00</td>\n",
              "    </tr>\n",
              "    <tr>\n",
              "      <th>1</th>\n",
              "      <td>http://torcache.net/torrent/304E789D6E0E877BFD...</td>\n",
              "      <td>0</td>\n",
              "      <td>torrent 304E789D6E0E877BFD6070B73082DE6B1FF462...</td>\n",
              "      <td>138</td>\n",
              "      <td>1.000000e+00</td>\n",
              "      <td>4.366361e-16</td>\n",
              "    </tr>\n",
              "    <tr>\n",
              "      <th>2</th>\n",
              "      <td>http://amber.ch.ic.ac.uk/archive/all/21291.html</td>\n",
              "      <td>1</td>\n",
              "      <td>archive all 21291 html</td>\n",
              "      <td>23</td>\n",
              "      <td>NaN</td>\n",
              "      <td>NaN</td>\n",
              "    </tr>\n",
              "    <tr>\n",
              "      <th>3</th>\n",
              "      <td>http://www.gxyzx.com/js/?http://us.battle.net/...</td>\n",
              "      <td>1</td>\n",
              "      <td>http battle net login ref http 2Feqrwpzwus bat...</td>\n",
              "      <td>106</td>\n",
              "      <td>NaN</td>\n",
              "      <td>NaN</td>\n",
              "    </tr>\n",
              "    <tr>\n",
              "      <th>4</th>\n",
              "      <td>http://online.citicard.com.rpzmvfcek2.agencja-...</td>\n",
              "      <td>1</td>\n",
              "      <td>doctorsincanton com css online php</td>\n",
              "      <td>38</td>\n",
              "      <td>2.475952e-05</td>\n",
              "      <td>9.999752e-01</td>\n",
              "    </tr>\n",
              "  </tbody>\n",
              "</table>\n",
              "</div>"
            ],
            "text/plain": [
              "                                                 url  ...  label_proba_1\n",
              "0  http://aolshop.memberoffers.co.uk/csp/smp/aol/...  ...   1.000000e+00\n",
              "1  http://torcache.net/torrent/304E789D6E0E877BFD...  ...   4.366361e-16\n",
              "2    http://amber.ch.ic.ac.uk/archive/all/21291.html  ...            NaN\n",
              "3  http://www.gxyzx.com/js/?http://us.battle.net/...  ...            NaN\n",
              "4  http://online.citicard.com.rpzmvfcek2.agencja-...  ...   9.999752e-01\n",
              "\n",
              "[5 rows x 6 columns]"
            ]
          },
          "metadata": {
            "tags": []
          },
          "execution_count": 32
        }
      ]
    },
    {
      "cell_type": "code",
      "metadata": {
        "id": "JN3XuHP_SHQ8",
        "colab_type": "code",
        "outputId": "e4373e5c-bddc-4188-b12c-3aad85434ee6",
        "colab": {
          "base_uri": "https://localhost:8080/",
          "height": 219
        }
      },
      "source": [
        "#izbacujemo redove sa nan vrednostima i resetujemo index da bi sad radili sa novim datasetom predikciju za SVM i RF\n",
        "final_ds = final_ds.dropna()\n",
        "final_ds = final_ds.reset_index(drop=True)\n",
        "final_ds.info()"
      ],
      "execution_count": 33,
      "outputs": [
        {
          "output_type": "stream",
          "text": [
            "<class 'pandas.core.frame.DataFrame'>\n",
            "RangeIndex: 26040 entries, 0 to 26039\n",
            "Data columns (total 6 columns):\n",
            "url              26040 non-null object\n",
            "label            26040 non-null int64\n",
            "deep url         26040 non-null object\n",
            "len deep url     26040 non-null int64\n",
            "label_proba_0    26040 non-null float64\n",
            "label_proba_1    26040 non-null float64\n",
            "dtypes: float64(2), int64(2), object(2)\n",
            "memory usage: 1.2+ MB\n"
          ],
          "name": "stdout"
        }
      ]
    },
    {
      "cell_type": "code",
      "metadata": {
        "id": "19-O-vqcFxGs",
        "colab_type": "code",
        "colab": {}
      },
      "source": [
        "#dodajemo kolone za duzinu domain-a i suffix\n",
        "\n",
        "def get_len_of_domain_url(url):\n",
        "  ext = tldextract.extract(url)\n",
        "  return len(ext.domain)\n",
        "    \n",
        "def get_suffix_url(url):\n",
        "  ext = tldextract.extract(url)\n",
        "  return str(ext.suffix)\n",
        "\n",
        "final_ds['len of domain'] = final_ds['url'].apply(lambda x : get_len_of_domain_url(x))\n",
        "final_ds['suffix'] = final_ds['url'].apply(lambda x : get_suffix_url(x))"
      ],
      "execution_count": 0,
      "outputs": []
    },
    {
      "cell_type": "code",
      "metadata": {
        "id": "4D4bxXloH1l4",
        "colab_type": "code",
        "colab": {}
      },
      "source": [
        "#suffix kolona (top level domain-tld u radu) ima previse razlicitih vrednosti i radi se cutoff za frekvenciju < 50  \n",
        "minFreq = 50 \n",
        "suffix_values = final_ds['suffix'].value_counts() # Specific column \n",
        "to_remove = suffix_values[suffix_values <= minFreq].index\n",
        "final_ds['suffix'].replace(to_remove, np.nan, inplace=True)"
      ],
      "execution_count": 0,
      "outputs": []
    },
    {
      "cell_type": "code",
      "metadata": {
        "id": "JKQUO0q5Ir-i",
        "colab_type": "code",
        "outputId": "dcd3dcb8-3e2f-4bb8-d67c-9f40309487cc",
        "colab": {
          "base_uri": "https://localhost:8080/",
          "height": 752
        }
      },
      "source": [
        "#sada imamo nedostajuce vrednosti(nan) u koloni suffix, pa izbacujemo takve redove i resetujrmo index\n",
        "final_ds = final_ds.dropna()\n",
        "final_ds = final_ds.reset_index(drop=True)\n",
        "final_ds['suffix'].value_counts()"
      ],
      "execution_count": 36,
      "outputs": [
        {
          "output_type": "execute_result",
          "data": {
            "text/plain": [
              "com       11062\n",
              "co.uk      3256\n",
              "net        2124\n",
              "info       1363\n",
              "ac.uk       788\n",
              "org         540\n",
              "de          525\n",
              "ru          465\n",
              "vn          444\n",
              "com.br      415\n",
              "pl          397\n",
              "cc          310\n",
              "jp          259\n",
              "nl          246\n",
              "it          207\n",
              "ro          197\n",
              "net.ua      158\n",
              "com.vn      151\n",
              "org.uk      140\n",
              "ua          137\n",
              "cn          124\n",
              "to          123\n",
              "gov.uk      121\n",
              "co.id       120\n",
              "com.au      120\n",
              "in          111\n",
              "asia        107\n",
              "gr           93\n",
              "tv           88\n",
              "net.vn       86\n",
              "fr           84\n",
              "ir           81\n",
              "eu           79\n",
              "com.cn       76\n",
              "com.my       69\n",
              "gov.br       64\n",
              "             60\n",
              "es           58\n",
              "cl           57\n",
              "Name: suffix, dtype: int64"
            ]
          },
          "metadata": {
            "tags": []
          },
          "execution_count": 36
        }
      ]
    },
    {
      "cell_type": "code",
      "metadata": {
        "id": "tpFHxh58SNiI",
        "colab_type": "code",
        "outputId": "c5a0953a-67b9-4547-c464-d920aeaf0827",
        "colab": {
          "base_uri": "https://localhost:8080/",
          "height": 261
        }
      },
      "source": [
        "#izbacujemo nepotrebne kolone (url, deep url) i enkodiramo kategoricku promenljivu suffix, kao u radu\n",
        "final_ds = final_ds.drop(['url', 'deep url'], axis = 1)\n",
        "final_ds = pd.get_dummies(final_ds, prefix = ['suffix'], columns = ['suffix'])\n",
        "final_ds.head()"
      ],
      "execution_count": 37,
      "outputs": [
        {
          "output_type": "execute_result",
          "data": {
            "text/html": [
              "<div>\n",
              "<style scoped>\n",
              "    .dataframe tbody tr th:only-of-type {\n",
              "        vertical-align: middle;\n",
              "    }\n",
              "\n",
              "    .dataframe tbody tr th {\n",
              "        vertical-align: top;\n",
              "    }\n",
              "\n",
              "    .dataframe thead th {\n",
              "        text-align: right;\n",
              "    }\n",
              "</style>\n",
              "<table border=\"1\" class=\"dataframe\">\n",
              "  <thead>\n",
              "    <tr style=\"text-align: right;\">\n",
              "      <th></th>\n",
              "      <th>label</th>\n",
              "      <th>len deep url</th>\n",
              "      <th>label_proba_0</th>\n",
              "      <th>label_proba_1</th>\n",
              "      <th>len of domain</th>\n",
              "      <th>suffix_</th>\n",
              "      <th>suffix_ac.uk</th>\n",
              "      <th>suffix_asia</th>\n",
              "      <th>suffix_cc</th>\n",
              "      <th>suffix_cl</th>\n",
              "      <th>suffix_cn</th>\n",
              "      <th>suffix_co.id</th>\n",
              "      <th>suffix_co.uk</th>\n",
              "      <th>suffix_com</th>\n",
              "      <th>suffix_com.au</th>\n",
              "      <th>suffix_com.br</th>\n",
              "      <th>suffix_com.cn</th>\n",
              "      <th>suffix_com.my</th>\n",
              "      <th>suffix_com.vn</th>\n",
              "      <th>suffix_de</th>\n",
              "      <th>suffix_es</th>\n",
              "      <th>suffix_eu</th>\n",
              "      <th>suffix_fr</th>\n",
              "      <th>suffix_gov.br</th>\n",
              "      <th>suffix_gov.uk</th>\n",
              "      <th>suffix_gr</th>\n",
              "      <th>suffix_in</th>\n",
              "      <th>suffix_info</th>\n",
              "      <th>suffix_ir</th>\n",
              "      <th>suffix_it</th>\n",
              "      <th>suffix_jp</th>\n",
              "      <th>suffix_net</th>\n",
              "      <th>suffix_net.ua</th>\n",
              "      <th>suffix_net.vn</th>\n",
              "      <th>suffix_nl</th>\n",
              "      <th>suffix_org</th>\n",
              "      <th>suffix_org.uk</th>\n",
              "      <th>suffix_pl</th>\n",
              "      <th>suffix_ro</th>\n",
              "      <th>suffix_ru</th>\n",
              "      <th>suffix_to</th>\n",
              "      <th>suffix_tv</th>\n",
              "      <th>suffix_ua</th>\n",
              "      <th>suffix_vn</th>\n",
              "    </tr>\n",
              "  </thead>\n",
              "  <tbody>\n",
              "    <tr>\n",
              "      <th>0</th>\n",
              "      <td>1</td>\n",
              "      <td>150</td>\n",
              "      <td>1.991278e-33</td>\n",
              "      <td>1.000000e+00</td>\n",
              "      <td>12</td>\n",
              "      <td>0</td>\n",
              "      <td>0</td>\n",
              "      <td>0</td>\n",
              "      <td>0</td>\n",
              "      <td>0</td>\n",
              "      <td>0</td>\n",
              "      <td>0</td>\n",
              "      <td>1</td>\n",
              "      <td>0</td>\n",
              "      <td>0</td>\n",
              "      <td>0</td>\n",
              "      <td>0</td>\n",
              "      <td>0</td>\n",
              "      <td>0</td>\n",
              "      <td>0</td>\n",
              "      <td>0</td>\n",
              "      <td>0</td>\n",
              "      <td>0</td>\n",
              "      <td>0</td>\n",
              "      <td>0</td>\n",
              "      <td>0</td>\n",
              "      <td>0</td>\n",
              "      <td>0</td>\n",
              "      <td>0</td>\n",
              "      <td>0</td>\n",
              "      <td>0</td>\n",
              "      <td>0</td>\n",
              "      <td>0</td>\n",
              "      <td>0</td>\n",
              "      <td>0</td>\n",
              "      <td>0</td>\n",
              "      <td>0</td>\n",
              "      <td>0</td>\n",
              "      <td>0</td>\n",
              "      <td>0</td>\n",
              "      <td>0</td>\n",
              "      <td>0</td>\n",
              "      <td>0</td>\n",
              "      <td>0</td>\n",
              "    </tr>\n",
              "    <tr>\n",
              "      <th>1</th>\n",
              "      <td>0</td>\n",
              "      <td>138</td>\n",
              "      <td>1.000000e+00</td>\n",
              "      <td>4.366361e-16</td>\n",
              "      <td>8</td>\n",
              "      <td>0</td>\n",
              "      <td>0</td>\n",
              "      <td>0</td>\n",
              "      <td>0</td>\n",
              "      <td>0</td>\n",
              "      <td>0</td>\n",
              "      <td>0</td>\n",
              "      <td>0</td>\n",
              "      <td>0</td>\n",
              "      <td>0</td>\n",
              "      <td>0</td>\n",
              "      <td>0</td>\n",
              "      <td>0</td>\n",
              "      <td>0</td>\n",
              "      <td>0</td>\n",
              "      <td>0</td>\n",
              "      <td>0</td>\n",
              "      <td>0</td>\n",
              "      <td>0</td>\n",
              "      <td>0</td>\n",
              "      <td>0</td>\n",
              "      <td>0</td>\n",
              "      <td>0</td>\n",
              "      <td>0</td>\n",
              "      <td>0</td>\n",
              "      <td>0</td>\n",
              "      <td>1</td>\n",
              "      <td>0</td>\n",
              "      <td>0</td>\n",
              "      <td>0</td>\n",
              "      <td>0</td>\n",
              "      <td>0</td>\n",
              "      <td>0</td>\n",
              "      <td>0</td>\n",
              "      <td>0</td>\n",
              "      <td>0</td>\n",
              "      <td>0</td>\n",
              "      <td>0</td>\n",
              "      <td>0</td>\n",
              "    </tr>\n",
              "    <tr>\n",
              "      <th>2</th>\n",
              "      <td>1</td>\n",
              "      <td>38</td>\n",
              "      <td>2.475952e-05</td>\n",
              "      <td>9.999752e-01</td>\n",
              "      <td>10</td>\n",
              "      <td>0</td>\n",
              "      <td>0</td>\n",
              "      <td>0</td>\n",
              "      <td>0</td>\n",
              "      <td>0</td>\n",
              "      <td>0</td>\n",
              "      <td>0</td>\n",
              "      <td>0</td>\n",
              "      <td>0</td>\n",
              "      <td>0</td>\n",
              "      <td>0</td>\n",
              "      <td>0</td>\n",
              "      <td>0</td>\n",
              "      <td>0</td>\n",
              "      <td>0</td>\n",
              "      <td>0</td>\n",
              "      <td>0</td>\n",
              "      <td>0</td>\n",
              "      <td>0</td>\n",
              "      <td>0</td>\n",
              "      <td>0</td>\n",
              "      <td>0</td>\n",
              "      <td>0</td>\n",
              "      <td>0</td>\n",
              "      <td>0</td>\n",
              "      <td>0</td>\n",
              "      <td>0</td>\n",
              "      <td>0</td>\n",
              "      <td>0</td>\n",
              "      <td>0</td>\n",
              "      <td>0</td>\n",
              "      <td>0</td>\n",
              "      <td>1</td>\n",
              "      <td>0</td>\n",
              "      <td>0</td>\n",
              "      <td>0</td>\n",
              "      <td>0</td>\n",
              "      <td>0</td>\n",
              "      <td>0</td>\n",
              "    </tr>\n",
              "    <tr>\n",
              "      <th>3</th>\n",
              "      <td>1</td>\n",
              "      <td>53</td>\n",
              "      <td>2.815308e-02</td>\n",
              "      <td>9.718469e-01</td>\n",
              "      <td>4</td>\n",
              "      <td>0</td>\n",
              "      <td>0</td>\n",
              "      <td>0</td>\n",
              "      <td>0</td>\n",
              "      <td>0</td>\n",
              "      <td>0</td>\n",
              "      <td>0</td>\n",
              "      <td>0</td>\n",
              "      <td>0</td>\n",
              "      <td>0</td>\n",
              "      <td>0</td>\n",
              "      <td>0</td>\n",
              "      <td>0</td>\n",
              "      <td>0</td>\n",
              "      <td>0</td>\n",
              "      <td>0</td>\n",
              "      <td>0</td>\n",
              "      <td>0</td>\n",
              "      <td>0</td>\n",
              "      <td>0</td>\n",
              "      <td>0</td>\n",
              "      <td>0</td>\n",
              "      <td>1</td>\n",
              "      <td>0</td>\n",
              "      <td>0</td>\n",
              "      <td>0</td>\n",
              "      <td>0</td>\n",
              "      <td>0</td>\n",
              "      <td>0</td>\n",
              "      <td>0</td>\n",
              "      <td>0</td>\n",
              "      <td>0</td>\n",
              "      <td>0</td>\n",
              "      <td>0</td>\n",
              "      <td>0</td>\n",
              "      <td>0</td>\n",
              "      <td>0</td>\n",
              "      <td>0</td>\n",
              "      <td>0</td>\n",
              "    </tr>\n",
              "    <tr>\n",
              "      <th>4</th>\n",
              "      <td>1</td>\n",
              "      <td>22</td>\n",
              "      <td>1.373080e-02</td>\n",
              "      <td>9.862692e-01</td>\n",
              "      <td>14</td>\n",
              "      <td>0</td>\n",
              "      <td>0</td>\n",
              "      <td>0</td>\n",
              "      <td>0</td>\n",
              "      <td>0</td>\n",
              "      <td>0</td>\n",
              "      <td>0</td>\n",
              "      <td>1</td>\n",
              "      <td>0</td>\n",
              "      <td>0</td>\n",
              "      <td>0</td>\n",
              "      <td>0</td>\n",
              "      <td>0</td>\n",
              "      <td>0</td>\n",
              "      <td>0</td>\n",
              "      <td>0</td>\n",
              "      <td>0</td>\n",
              "      <td>0</td>\n",
              "      <td>0</td>\n",
              "      <td>0</td>\n",
              "      <td>0</td>\n",
              "      <td>0</td>\n",
              "      <td>0</td>\n",
              "      <td>0</td>\n",
              "      <td>0</td>\n",
              "      <td>0</td>\n",
              "      <td>0</td>\n",
              "      <td>0</td>\n",
              "      <td>0</td>\n",
              "      <td>0</td>\n",
              "      <td>0</td>\n",
              "      <td>0</td>\n",
              "      <td>0</td>\n",
              "      <td>0</td>\n",
              "      <td>0</td>\n",
              "      <td>0</td>\n",
              "      <td>0</td>\n",
              "      <td>0</td>\n",
              "      <td>0</td>\n",
              "    </tr>\n",
              "  </tbody>\n",
              "</table>\n",
              "</div>"
            ],
            "text/plain": [
              "   label  len deep url  label_proba_0  ...  suffix_tv  suffix_ua  suffix_vn\n",
              "0      1           150   1.991278e-33  ...          0          0          0\n",
              "1      0           138   1.000000e+00  ...          0          0          0\n",
              "2      1            38   2.475952e-05  ...          0          0          0\n",
              "3      1            53   2.815308e-02  ...          0          0          0\n",
              "4      1            22   1.373080e-02  ...          0          0          0\n",
              "\n",
              "[5 rows x 44 columns]"
            ]
          },
          "metadata": {
            "tags": []
          },
          "execution_count": 37
        }
      ]
    },
    {
      "cell_type": "code",
      "metadata": {
        "id": "IBh4YRh6SuYE",
        "colab_type": "code",
        "outputId": "65e354c4-3a59-465a-c46c-c31c49645b3b",
        "colab": {
          "base_uri": "https://localhost:8080/",
          "height": 917
        }
      },
      "source": [
        "#prebacujemo kolone u numericke\n",
        "final_ds['len of domain'] = pd.to_numeric(final_ds['len of domain'])\n",
        "final_ds['len deep url'] = pd.to_numeric(final_ds['len deep url'])\n",
        "final_ds.info()"
      ],
      "execution_count": 38,
      "outputs": [
        {
          "output_type": "stream",
          "text": [
            "<class 'pandas.core.frame.DataFrame'>\n",
            "RangeIndex: 24905 entries, 0 to 24904\n",
            "Data columns (total 44 columns):\n",
            "label            24905 non-null int64\n",
            "len deep url     24905 non-null int64\n",
            "label_proba_0    24905 non-null float64\n",
            "label_proba_1    24905 non-null float64\n",
            "len of domain    24905 non-null int64\n",
            "suffix_          24905 non-null uint8\n",
            "suffix_ac.uk     24905 non-null uint8\n",
            "suffix_asia      24905 non-null uint8\n",
            "suffix_cc        24905 non-null uint8\n",
            "suffix_cl        24905 non-null uint8\n",
            "suffix_cn        24905 non-null uint8\n",
            "suffix_co.id     24905 non-null uint8\n",
            "suffix_co.uk     24905 non-null uint8\n",
            "suffix_com       24905 non-null uint8\n",
            "suffix_com.au    24905 non-null uint8\n",
            "suffix_com.br    24905 non-null uint8\n",
            "suffix_com.cn    24905 non-null uint8\n",
            "suffix_com.my    24905 non-null uint8\n",
            "suffix_com.vn    24905 non-null uint8\n",
            "suffix_de        24905 non-null uint8\n",
            "suffix_es        24905 non-null uint8\n",
            "suffix_eu        24905 non-null uint8\n",
            "suffix_fr        24905 non-null uint8\n",
            "suffix_gov.br    24905 non-null uint8\n",
            "suffix_gov.uk    24905 non-null uint8\n",
            "suffix_gr        24905 non-null uint8\n",
            "suffix_in        24905 non-null uint8\n",
            "suffix_info      24905 non-null uint8\n",
            "suffix_ir        24905 non-null uint8\n",
            "suffix_it        24905 non-null uint8\n",
            "suffix_jp        24905 non-null uint8\n",
            "suffix_net       24905 non-null uint8\n",
            "suffix_net.ua    24905 non-null uint8\n",
            "suffix_net.vn    24905 non-null uint8\n",
            "suffix_nl        24905 non-null uint8\n",
            "suffix_org       24905 non-null uint8\n",
            "suffix_org.uk    24905 non-null uint8\n",
            "suffix_pl        24905 non-null uint8\n",
            "suffix_ro        24905 non-null uint8\n",
            "suffix_ru        24905 non-null uint8\n",
            "suffix_to        24905 non-null uint8\n",
            "suffix_tv        24905 non-null uint8\n",
            "suffix_ua        24905 non-null uint8\n",
            "suffix_vn        24905 non-null uint8\n",
            "dtypes: float64(2), int64(3), uint8(39)\n",
            "memory usage: 1.9 MB\n"
          ],
          "name": "stdout"
        }
      ]
    },
    {
      "cell_type": "code",
      "metadata": {
        "id": "PxHpSzSfX_2E",
        "colab_type": "code",
        "colab": {}
      },
      "source": [
        "#uzimamo X i y za RandomForest\n",
        "X_rf = final_ds.drop(['label'],axis=1) \n",
        "y_rf = final_ds['label']"
      ],
      "execution_count": 0,
      "outputs": []
    },
    {
      "cell_type": "code",
      "metadata": {
        "id": "mhIJaj_sY4cn",
        "colab_type": "code",
        "outputId": "94845c4f-fe0b-493e-9bd2-ecdc451a89b0",
        "colab": {
          "base_uri": "https://localhost:8080/",
          "height": 35
        }
      },
      "source": [
        "#train test split\n",
        "X_train_rf, X_test_rf, y_train_rf, y_test_rf = train_test_split(X_rf, y_rf, test_size=0.3, random_state=42)\n",
        "\n",
        "# koristimo gini loss kao u radu\n",
        "rf = RandomForestClassifier(n_estimators=100, n_jobs=-1, max_depth=30, criterion = 'gini')\n",
        "rf.fit(X_train_rf, y_train_rf)\n",
        "\n",
        "#trening set skor\n",
        "rf.score(X_train_rf, y_train_rf)"
      ],
      "execution_count": 40,
      "outputs": [
        {
          "output_type": "execute_result",
          "data": {
            "text/plain": [
              "0.9997705501061206"
            ]
          },
          "metadata": {
            "tags": []
          },
          "execution_count": 40
        }
      ]
    },
    {
      "cell_type": "code",
      "metadata": {
        "id": "TsBIItCuZURe",
        "colab_type": "code",
        "outputId": "54ffcc14-4fec-4a6f-eba7-ace106fc43b4",
        "colab": {
          "base_uri": "https://localhost:8080/",
          "height": 35
        }
      },
      "source": [
        "y_pred_rf = rf.predict(X_test_rf)\n",
        "#test set skor\n",
        "accuracy_score(y_test_rf,rf.predict(X_test_rf))"
      ],
      "execution_count": 41,
      "outputs": [
        {
          "output_type": "execute_result",
          "data": {
            "text/plain": [
              "0.9921038543897216"
            ]
          },
          "metadata": {
            "tags": []
          },
          "execution_count": 41
        }
      ]
    },
    {
      "cell_type": "code",
      "metadata": {
        "id": "FIA91kfnW5G2",
        "colab_type": "code",
        "outputId": "6f3e9684-8e12-4d56-88e6-25540725a969",
        "colab": {
          "base_uri": "https://localhost:8080/",
          "height": 55
        }
      },
      "source": [
        "classification_report(y_test_rf,rf.predict(X_test_rf))"
      ],
      "execution_count": 42,
      "outputs": [
        {
          "output_type": "execute_result",
          "data": {
            "text/plain": [
              "'              precision    recall  f1-score   support\\n\\n           0       0.99      0.99      0.99      3409\\n           1       0.99      0.99      0.99      4063\\n\\n    accuracy                           0.99      7472\\n   macro avg       0.99      0.99      0.99      7472\\nweighted avg       0.99      0.99      0.99      7472\\n'"
            ]
          },
          "metadata": {
            "tags": []
          },
          "execution_count": 42
        }
      ]
    },
    {
      "cell_type": "code",
      "metadata": {
        "id": "PBTQWorQbE7r",
        "colab_type": "code",
        "outputId": "39ac52a6-e294-46e0-eea5-7b9810e0f138",
        "colab": {
          "base_uri": "https://localhost:8080/",
          "height": 54
        }
      },
      "source": [
        "confusion_matrix(y_test_rf,rf.predict(X_test_rf))"
      ],
      "execution_count": 43,
      "outputs": [
        {
          "output_type": "execute_result",
          "data": {
            "text/plain": [
              "array([[3382,   27],\n",
              "       [  32, 4031]])"
            ]
          },
          "metadata": {
            "tags": []
          },
          "execution_count": 43
        }
      ]
    },
    {
      "cell_type": "code",
      "metadata": {
        "id": "8s7iAWIOJ-Wl",
        "colab_type": "code",
        "outputId": "76433012-7a6f-4c5d-b763-c34d55e32091",
        "colab": {
          "base_uri": "https://localhost:8080/",
          "height": 807
        }
      },
      "source": [
        "#najbitniji atributi opadajuce\n",
        "feature_importances = zip(list(X_rf), rf.feature_importances_)\n",
        "feature_importances_sort = sorted(feature_importances, key=lambda x: x[1], reverse=True)\n",
        "\n",
        "for feature in feature_importances_sort:\n",
        "    print(feature)"
      ],
      "execution_count": 44,
      "outputs": [
        {
          "output_type": "stream",
          "text": [
            "('label_proba_0', 0.4222550932514802)\n",
            "('label_proba_1', 0.3306371376897271)\n",
            "('len deep url', 0.1377263589696134)\n",
            "('len of domain', 0.03289329416455677)\n",
            "('suffix_co.uk', 0.02123272662346501)\n",
            "('suffix_info', 0.012657560209120688)\n",
            "('suffix_com', 0.008009207455381369)\n",
            "('suffix_net', 0.0068876253162152914)\n",
            "('suffix_jp', 0.006205205492036044)\n",
            "('suffix_ac.uk', 0.004735325924596362)\n",
            "('suffix_tv', 0.0028700789306347362)\n",
            "('suffix_vn', 0.0027928001247870117)\n",
            "('suffix_ua', 0.00209053687232648)\n",
            "('suffix_net.ua', 0.001031911105136378)\n",
            "('suffix_nl', 0.0009796650193679365)\n",
            "('suffix_cc', 0.0008868411195214441)\n",
            "('suffix_com.au', 0.0006701907177895299)\n",
            "('suffix_ir', 0.0006603408793445356)\n",
            "('suffix_org.uk', 0.0006467735239897538)\n",
            "('suffix_org', 0.0005262313566440535)\n",
            "('suffix_pl', 0.0004321221458500497)\n",
            "('suffix_ru', 0.00043150034081490145)\n",
            "('suffix_de', 0.0004100138911869128)\n",
            "('suffix_cn', 0.0002677575983821512)\n",
            "('suffix_to', 0.00024296341859491016)\n",
            "('suffix_com.br', 0.00022966038162217385)\n",
            "('suffix_ro', 0.0002067921208561138)\n",
            "('suffix_it', 0.0001773655399501237)\n",
            "('suffix_gov.uk', 0.00016387051558342411)\n",
            "('suffix_fr', 0.0001225436468309039)\n",
            "('suffix_co.id', 0.00011902043140787636)\n",
            "('suffix_gr', 0.00011011998029832199)\n",
            "('suffix_eu', 0.00010253322441761449)\n",
            "('suffix_asia', 9.874915317807283e-05)\n",
            "('suffix_gov.br', 9.012374677046668e-05)\n",
            "('suffix_com.cn', 8.624325443845694e-05)\n",
            "('suffix_com.vn', 7.786803648591983e-05)\n",
            "('suffix_es', 6.785278830090238e-05)\n",
            "('suffix_in', 6.404561208136579e-05)\n",
            "('suffix_cl', 4.8745637132444366e-05)\n",
            "('suffix_', 4.703995307712958e-05)\n",
            "('suffix_net.vn', 8.044373562151872e-06)\n",
            "('suffix_com.my', 1.1946344354113778e-07)\n"
          ],
          "name": "stdout"
        }
      ]
    },
    {
      "cell_type": "code",
      "metadata": {
        "id": "iNcalS68XgqX",
        "colab_type": "code",
        "colab": {}
      },
      "source": [
        "#ne moramo opet raditi train test split, a za svm nam treba standardizacija\n",
        "X_train_svm = X_train_rf\n",
        "y_train_svm = y_train_rf\n",
        "X_test_svm = X_test_rf\n",
        "y_test_svm = y_test_rf"
      ],
      "execution_count": 0,
      "outputs": []
    },
    {
      "cell_type": "code",
      "metadata": {
        "id": "sr7CoiTjb3yM",
        "colab_type": "code",
        "outputId": "b3b4534b-37af-4efd-f72c-1726a1b16444",
        "colab": {
          "base_uri": "https://localhost:8080/",
          "height": 256
        }
      },
      "source": [
        "from sklearn.preprocessing import StandardScaler \n",
        "scaler = StandardScaler()\n",
        "scaler.fit(X_train_svm)\n",
        "scaler.transform(X_train_svm)\n",
        "scaler.transform(X_test_svm)"
      ],
      "execution_count": 46,
      "outputs": [
        {
          "output_type": "execute_result",
          "data": {
            "text/plain": [
              "array([[ 0.14945578,  1.08494047, -1.08494047, ..., -0.05727466,\n",
              "        -0.07480169, -0.13232561],\n",
              "       [-0.18659285, -1.06311355,  1.06311355, ..., -0.05727466,\n",
              "        -0.07480169, -0.13232561],\n",
              "       [-0.74236558,  0.3234284 , -0.3234284 , ..., -0.05727466,\n",
              "        -0.07480169, -0.13232561],\n",
              "       ...,\n",
              "       [-0.10904317, -0.10006669,  0.10006669, ..., -0.05727466,\n",
              "        -0.07480169, -0.13232561],\n",
              "       [ 0.18823062,  1.08490375, -1.08490375, ..., -0.05727466,\n",
              "        -0.07480169, -0.13232561],\n",
              "       [-0.08319327, -1.06270623,  1.06270623, ..., -0.05727466,\n",
              "        -0.07480169, -0.13232561]])"
            ]
          },
          "metadata": {
            "tags": []
          },
          "execution_count": 46
        }
      ]
    },
    {
      "cell_type": "code",
      "metadata": {
        "id": "o3EWgw7lb7Cl",
        "colab_type": "code",
        "outputId": "786f66c8-8bc9-47a1-99df-f29755775072",
        "colab": {
          "base_uri": "https://localhost:8080/",
          "height": 92
        }
      },
      "source": [
        "#linear SVM\n",
        "linear_svm = svm.LinearSVC(loss='hinge', C=1.0)\n",
        "linear_svm.fit(X_train_svm, y_train_svm)\n",
        "linear_acc = metrics.accuracy_score(y_test_svm, linear_svm.predict(X_test_svm))\n",
        "#accuracy score\n",
        "linear_acc"
      ],
      "execution_count": 47,
      "outputs": [
        {
          "output_type": "stream",
          "text": [
            "/usr/local/lib/python3.6/dist-packages/sklearn/svm/base.py:929: ConvergenceWarning: Liblinear failed to converge, increase the number of iterations.\n",
            "  \"the number of iterations.\", ConvergenceWarning)\n"
          ],
          "name": "stderr"
        },
        {
          "output_type": "execute_result",
          "data": {
            "text/plain": [
              "0.9670770877944326"
            ]
          },
          "metadata": {
            "tags": []
          },
          "execution_count": 47
        }
      ]
    },
    {
      "cell_type": "code",
      "metadata": {
        "id": "vVUgNWBiR51C",
        "colab_type": "code",
        "outputId": "4ccdba44-577c-4a20-d833-792f4e7697dd",
        "colab": {
          "base_uri": "https://localhost:8080/",
          "height": 55
        }
      },
      "source": [
        "classification_report(y_test_svm,linear_svm.predict(X_test_svm))"
      ],
      "execution_count": 48,
      "outputs": [
        {
          "output_type": "execute_result",
          "data": {
            "text/plain": [
              "'              precision    recall  f1-score   support\\n\\n           0       0.95      0.98      0.96      3409\\n           1       0.98      0.96      0.97      4063\\n\\n    accuracy                           0.97      7472\\n   macro avg       0.97      0.97      0.97      7472\\nweighted avg       0.97      0.97      0.97      7472\\n'"
            ]
          },
          "metadata": {
            "tags": []
          },
          "execution_count": 48
        }
      ]
    },
    {
      "cell_type": "code",
      "metadata": {
        "id": "KJbBRRpHcvK3",
        "colab_type": "code",
        "outputId": "ed115f85-48ff-4968-ff3e-94d590c7aa24",
        "colab": {
          "base_uri": "https://localhost:8080/",
          "height": 54
        }
      },
      "source": [
        "confusion_matrix(y_test_svm,linear_svm.predict(X_test_svm))"
      ],
      "execution_count": 49,
      "outputs": [
        {
          "output_type": "execute_result",
          "data": {
            "text/plain": [
              "array([[3343,   66],\n",
              "       [ 180, 3883]])"
            ]
          },
          "metadata": {
            "tags": []
          },
          "execution_count": 49
        }
      ]
    },
    {
      "cell_type": "code",
      "metadata": {
        "id": "_E8UBQ1afSUc",
        "colab_type": "code",
        "outputId": "3e1b67e4-af5b-4677-ba60-c5a9d9763c0f",
        "colab": {
          "base_uri": "https://localhost:8080/",
          "height": 35
        }
      },
      "source": [
        "#SVM sa rbf kernelom\n",
        "rbf_svm = svm.SVC(kernel='rbf', random_state=0, gamma=0.01, C=1)\n",
        "rbf_svm.fit(X_train_svm, y_train_svm)\n",
        "rbf_acc = metrics.accuracy_score(y_test_svm, rbf_svm.predict(X_test_svm))\n",
        "#accuracy score\n",
        "rbf_acc"
      ],
      "execution_count": 50,
      "outputs": [
        {
          "output_type": "execute_result",
          "data": {
            "text/plain": [
              "0.9785867237687366"
            ]
          },
          "metadata": {
            "tags": []
          },
          "execution_count": 50
        }
      ]
    },
    {
      "cell_type": "code",
      "metadata": {
        "id": "23-qw-P6SH55",
        "colab_type": "code",
        "outputId": "ab7160cb-6358-4c78-9bdc-0ee1e0b23643",
        "colab": {
          "base_uri": "https://localhost:8080/",
          "height": 55
        }
      },
      "source": [
        "classification_report(y_test_svm,rbf_svm.predict(X_test_svm))"
      ],
      "execution_count": 51,
      "outputs": [
        {
          "output_type": "execute_result",
          "data": {
            "text/plain": [
              "'              precision    recall  f1-score   support\\n\\n           0       0.98      0.97      0.98      3409\\n           1       0.98      0.98      0.98      4063\\n\\n    accuracy                           0.98      7472\\n   macro avg       0.98      0.98      0.98      7472\\nweighted avg       0.98      0.98      0.98      7472\\n'"
            ]
          },
          "metadata": {
            "tags": []
          },
          "execution_count": 51
        }
      ]
    },
    {
      "cell_type": "code",
      "metadata": {
        "id": "iQ6OLt4fc3Du",
        "colab_type": "code",
        "outputId": "712d9f3d-5c3f-4ae6-e2d1-defb88abc947",
        "colab": {
          "base_uri": "https://localhost:8080/",
          "height": 54
        }
      },
      "source": [
        "confusion_matrix(y_test_svm,rbf_svm.predict(X_test_svm))"
      ],
      "execution_count": 52,
      "outputs": [
        {
          "output_type": "execute_result",
          "data": {
            "text/plain": [
              "array([[3315,   94],\n",
              "       [  66, 3997]])"
            ]
          },
          "metadata": {
            "tags": []
          },
          "execution_count": 52
        }
      ]
    },
    {
      "cell_type": "code",
      "metadata": {
        "id": "CIuylOpQfTlr",
        "colab_type": "code",
        "colab": {}
      },
      "source": [
        "#prikazane su samo SVM i RF sa parametrima koji daju najvecu tacnost, isprobane su razlicite vrednosti"
      ],
      "execution_count": 0,
      "outputs": []
    }
  ]
}