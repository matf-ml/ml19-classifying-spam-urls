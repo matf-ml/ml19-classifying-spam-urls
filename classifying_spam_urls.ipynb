{
  "nbformat": 4,
  "nbformat_minor": 0,
  "metadata": {
    "colab": {
      "name": "classifying_spam_urls.ipynb",
      "version": "0.3.2",
      "provenance": [],
      "collapsed_sections": []
    },
    "kernelspec": {
      "name": "python3",
      "display_name": "Python 3"
    }
  },
  "cells": [
    {
      "cell_type": "code",
      "metadata": {
        "id": "yyBRX8DTRDx7",
        "colab_type": "code",
        "colab": {}
      },
      "source": [
        "import numpy as np\n",
        "import pandas as pd\n",
        "from matplotlib import pyplot as plt\n",
        "from sklearn import linear_model\n",
        "from sklearn import model_selection\n",
        "from sklearn import metrics\n",
        "from sklearn import svm\n",
        "from urllib.parse import urlparse\n",
        "from sklearn.model_selection import train_test_split\n",
        "from sklearn.ensemble import RandomForestClassifier\n",
        "from sklearn.model_selection import cross_val_predict, cross_val_score\n",
        "from sklearn.metrics import confusion_matrix, classification_report, accuracy_score, roc_curve\n",
        "import seaborn as sns\n",
        "from google.colab import files"
      ],
      "execution_count": 0,
      "outputs": []
    },
    {
      "cell_type": "code",
      "metadata": {
        "id": "djQmqNFjSt6-",
        "colab_type": "code",
        "colab": {}
      },
      "source": [
        "import tldextract"
      ],
      "execution_count": 0,
      "outputs": []
    },
    {
      "cell_type": "code",
      "metadata": {
        "id": "j0stBOXs0MnX",
        "colab_type": "code",
        "outputId": "40ae8a4b-341b-4e4b-8106-aac949d3363e",
        "colab": {
          "base_uri": "https://localhost:8080/",
          "height": 127
        }
      },
      "source": [
        "#dataset sa benignim url-ovima\n",
        "ds_benign= pd.read_csv('https://raw.githubusercontent.com/matf-ml/ml19-classifying-spam-urls/master/Benign_list_big_final.csv', header = None)\n",
        "ds_benign.info()"
      ],
      "execution_count": 0,
      "outputs": [
        {
          "output_type": "stream",
          "text": [
            "<class 'pandas.core.frame.DataFrame'>\n",
            "RangeIndex: 35378 entries, 0 to 35377\n",
            "Data columns (total 1 columns):\n",
            "0    35378 non-null object\n",
            "dtypes: object(1)\n",
            "memory usage: 276.5+ KB\n"
          ],
          "name": "stdout"
        }
      ]
    },
    {
      "cell_type": "code",
      "metadata": {
        "id": "5-CMTkZi6Zk9",
        "colab_type": "code",
        "outputId": "e8918ef5-4e31-4f95-eeae-305bdd49f3e9",
        "colab": {
          "base_uri": "https://localhost:8080/",
          "height": 206
        }
      },
      "source": [
        "ds_benign.columns = ['url']\n",
        "ds_benign['label'] = 0\n",
        "ds_benign.head()"
      ],
      "execution_count": 0,
      "outputs": [
        {
          "output_type": "execute_result",
          "data": {
            "text/html": [
              "<div>\n",
              "<style scoped>\n",
              "    .dataframe tbody tr th:only-of-type {\n",
              "        vertical-align: middle;\n",
              "    }\n",
              "\n",
              "    .dataframe tbody tr th {\n",
              "        vertical-align: top;\n",
              "    }\n",
              "\n",
              "    .dataframe thead th {\n",
              "        text-align: right;\n",
              "    }\n",
              "</style>\n",
              "<table border=\"1\" class=\"dataframe\">\n",
              "  <thead>\n",
              "    <tr style=\"text-align: right;\">\n",
              "      <th></th>\n",
              "      <th>url</th>\n",
              "      <th>label</th>\n",
              "    </tr>\n",
              "  </thead>\n",
              "  <tbody>\n",
              "    <tr>\n",
              "      <th>0</th>\n",
              "      <td>http://1337x.to/torrent/1048648/American-Snipe...</td>\n",
              "      <td>0</td>\n",
              "    </tr>\n",
              "    <tr>\n",
              "      <th>1</th>\n",
              "      <td>http://1337x.to/torrent/1110018/Blackhat-2015-...</td>\n",
              "      <td>0</td>\n",
              "    </tr>\n",
              "    <tr>\n",
              "      <th>2</th>\n",
              "      <td>http://1337x.to/torrent/1122940/Blackhat-2015-...</td>\n",
              "      <td>0</td>\n",
              "    </tr>\n",
              "    <tr>\n",
              "      <th>3</th>\n",
              "      <td>http://1337x.to/torrent/1124395/Fast-and-Furio...</td>\n",
              "      <td>0</td>\n",
              "    </tr>\n",
              "    <tr>\n",
              "      <th>4</th>\n",
              "      <td>http://1337x.to/torrent/1145504/Avengers-Age-o...</td>\n",
              "      <td>0</td>\n",
              "    </tr>\n",
              "  </tbody>\n",
              "</table>\n",
              "</div>"
            ],
            "text/plain": [
              "                                                 url  label\n",
              "0  http://1337x.to/torrent/1048648/American-Snipe...      0\n",
              "1  http://1337x.to/torrent/1110018/Blackhat-2015-...      0\n",
              "2  http://1337x.to/torrent/1122940/Blackhat-2015-...      0\n",
              "3  http://1337x.to/torrent/1124395/Fast-and-Furio...      0\n",
              "4  http://1337x.to/torrent/1145504/Avengers-Age-o...      0"
            ]
          },
          "metadata": {
            "tags": []
          },
          "execution_count": 124
        }
      ]
    },
    {
      "cell_type": "code",
      "metadata": {
        "id": "sBmv4eYQ9JmY",
        "colab_type": "code",
        "outputId": "44acae84-f13a-4b68-908b-9222abf6d288",
        "colab": {
          "base_uri": "https://localhost:8080/",
          "height": 127
        }
      },
      "source": [
        "#dataset sa spam url-ovima\n",
        "ds_spam = pd.read_csv('https://raw.githubusercontent.com/matf-ml/ml19-classifying-spam-urls/master/spam_dataset.csv', header = None)\n",
        "ds_spam.info()"
      ],
      "execution_count": 0,
      "outputs": [
        {
          "output_type": "stream",
          "text": [
            "<class 'pandas.core.frame.DataFrame'>\n",
            "RangeIndex: 12000 entries, 0 to 11999\n",
            "Data columns (total 1 columns):\n",
            "0    12000 non-null object\n",
            "dtypes: object(1)\n",
            "memory usage: 93.8+ KB\n"
          ],
          "name": "stdout"
        }
      ]
    },
    {
      "cell_type": "code",
      "metadata": {
        "id": "9Yo2cswe9g-1",
        "colab_type": "code",
        "outputId": "521fcfd8-66bf-4dc3-9f22-f89fe5a2ebf0",
        "colab": {
          "base_uri": "https://localhost:8080/",
          "height": 206
        }
      },
      "source": [
        "ds_spam.columns = ['url']\n",
        "ds_spam['label'] = 1\n",
        "ds_spam.head()"
      ],
      "execution_count": 0,
      "outputs": [
        {
          "output_type": "execute_result",
          "data": {
            "text/html": [
              "<div>\n",
              "<style scoped>\n",
              "    .dataframe tbody tr th:only-of-type {\n",
              "        vertical-align: middle;\n",
              "    }\n",
              "\n",
              "    .dataframe tbody tr th {\n",
              "        vertical-align: top;\n",
              "    }\n",
              "\n",
              "    .dataframe thead th {\n",
              "        text-align: right;\n",
              "    }\n",
              "</style>\n",
              "<table border=\"1\" class=\"dataframe\">\n",
              "  <thead>\n",
              "    <tr style=\"text-align: right;\">\n",
              "      <th></th>\n",
              "      <th>url</th>\n",
              "      <th>label</th>\n",
              "    </tr>\n",
              "  </thead>\n",
              "  <tbody>\n",
              "    <tr>\n",
              "      <th>0</th>\n",
              "      <td>http://astore.amazon.co.uk/allezvinsfrenchr/de...</td>\n",
              "      <td>1</td>\n",
              "    </tr>\n",
              "    <tr>\n",
              "      <th>1</th>\n",
              "      <td>http://archive.salisburyjournal.co.uk/2007/3/6...</td>\n",
              "      <td>1</td>\n",
              "    </tr>\n",
              "    <tr>\n",
              "      <th>2</th>\n",
              "      <td>http://appbasic.jettons.co.uk/links/index.html</td>\n",
              "      <td>1</td>\n",
              "    </tr>\n",
              "    <tr>\n",
              "      <th>3</th>\n",
              "      <td>http://archive.yorkpress.co.uk/2003/11/6/25684...</td>\n",
              "      <td>1</td>\n",
              "    </tr>\n",
              "    <tr>\n",
              "      <th>4</th>\n",
              "      <td>http://acard4u.co.uk/product_reviews.php?cPath...</td>\n",
              "      <td>1</td>\n",
              "    </tr>\n",
              "  </tbody>\n",
              "</table>\n",
              "</div>"
            ],
            "text/plain": [
              "                                                 url  label\n",
              "0  http://astore.amazon.co.uk/allezvinsfrenchr/de...      1\n",
              "1  http://archive.salisburyjournal.co.uk/2007/3/6...      1\n",
              "2     http://appbasic.jettons.co.uk/links/index.html      1\n",
              "3  http://archive.yorkpress.co.uk/2003/11/6/25684...      1\n",
              "4  http://acard4u.co.uk/product_reviews.php?cPath...      1"
            ]
          },
          "metadata": {
            "tags": []
          },
          "execution_count": 126
        }
      ]
    },
    {
      "cell_type": "code",
      "metadata": {
        "id": "a-b7xkWYVmc4",
        "colab_type": "code",
        "outputId": "f351ea69-dbfb-48d4-f7f0-0e7c69d24510",
        "colab": {
          "base_uri": "https://localhost:8080/",
          "height": 127
        }
      },
      "source": [
        "#dataset sa malware url-ovima\n",
        "ds_malware = pd.read_csv('https://raw.githubusercontent.com/matf-ml/ml19-classifying-spam-urls/master/Malware_dataset.csv', header = None)\n",
        "ds_malware.info()"
      ],
      "execution_count": 0,
      "outputs": [
        {
          "output_type": "stream",
          "text": [
            "<class 'pandas.core.frame.DataFrame'>\n",
            "RangeIndex: 11566 entries, 0 to 11565\n",
            "Data columns (total 1 columns):\n",
            "0    11566 non-null object\n",
            "dtypes: object(1)\n",
            "memory usage: 90.4+ KB\n"
          ],
          "name": "stdout"
        }
      ]
    },
    {
      "cell_type": "code",
      "metadata": {
        "id": "fCAVsXKPdNOa",
        "colab_type": "code",
        "outputId": "db453814-8df3-4eb8-a9a2-323701500bf7",
        "colab": {
          "base_uri": "https://localhost:8080/",
          "height": 206
        }
      },
      "source": [
        "ds_malware.columns = ['url']\n",
        "ds_malware['label'] = 1\n",
        "ds_malware.head()"
      ],
      "execution_count": 0,
      "outputs": [
        {
          "output_type": "execute_result",
          "data": {
            "text/html": [
              "<div>\n",
              "<style scoped>\n",
              "    .dataframe tbody tr th:only-of-type {\n",
              "        vertical-align: middle;\n",
              "    }\n",
              "\n",
              "    .dataframe tbody tr th {\n",
              "        vertical-align: top;\n",
              "    }\n",
              "\n",
              "    .dataframe thead th {\n",
              "        text-align: right;\n",
              "    }\n",
              "</style>\n",
              "<table border=\"1\" class=\"dataframe\">\n",
              "  <thead>\n",
              "    <tr style=\"text-align: right;\">\n",
              "      <th></th>\n",
              "      <th>url</th>\n",
              "      <th>label</th>\n",
              "    </tr>\n",
              "  </thead>\n",
              "  <tbody>\n",
              "    <tr>\n",
              "      <th>0</th>\n",
              "      <td>http://gzzax.livechatvalue.com/chat/chatClient...</td>\n",
              "      <td>1</td>\n",
              "    </tr>\n",
              "    <tr>\n",
              "      <th>1</th>\n",
              "      <td>http://gzzax.livechatvalue.com/chat/chatClient...</td>\n",
              "      <td>1</td>\n",
              "    </tr>\n",
              "    <tr>\n",
              "      <th>2</th>\n",
              "      <td>http://gzzax.livechatvalue.com/chat/chatClient...</td>\n",
              "      <td>1</td>\n",
              "    </tr>\n",
              "    <tr>\n",
              "      <th>3</th>\n",
              "      <td>http://gzzax.livechatvalue.com/chat/chatClient...</td>\n",
              "      <td>1</td>\n",
              "    </tr>\n",
              "    <tr>\n",
              "      <th>4</th>\n",
              "      <td>http://mtsx.com.cn/UploadFiles/2011-08/admin/%...</td>\n",
              "      <td>1</td>\n",
              "    </tr>\n",
              "  </tbody>\n",
              "</table>\n",
              "</div>"
            ],
            "text/plain": [
              "                                                 url  label\n",
              "0  http://gzzax.livechatvalue.com/chat/chatClient...      1\n",
              "1  http://gzzax.livechatvalue.com/chat/chatClient...      1\n",
              "2  http://gzzax.livechatvalue.com/chat/chatClient...      1\n",
              "3  http://gzzax.livechatvalue.com/chat/chatClient...      1\n",
              "4  http://mtsx.com.cn/UploadFiles/2011-08/admin/%...      1"
            ]
          },
          "metadata": {
            "tags": []
          },
          "execution_count": 128
        }
      ]
    },
    {
      "cell_type": "code",
      "metadata": {
        "id": "pk8HrBMXeNPg",
        "colab_type": "code",
        "outputId": "4451c2b7-6733-4610-ded1-f77d231a47e4",
        "colab": {
          "base_uri": "https://localhost:8080/",
          "height": 127
        }
      },
      "source": [
        "#dataset sa phishing url-ovima\n",
        "ds_phishing = pd.read_csv('https://raw.githubusercontent.com/matf-ml/ml19-classifying-spam-urls/master/phishing_dataset.csv', header = None)\n",
        "ds_phishing.info()"
      ],
      "execution_count": 0,
      "outputs": [
        {
          "output_type": "stream",
          "text": [
            "<class 'pandas.core.frame.DataFrame'>\n",
            "RangeIndex: 9965 entries, 0 to 9964\n",
            "Data columns (total 1 columns):\n",
            "0    9965 non-null object\n",
            "dtypes: object(1)\n",
            "memory usage: 77.9+ KB\n"
          ],
          "name": "stdout"
        }
      ]
    },
    {
      "cell_type": "code",
      "metadata": {
        "id": "iwMwMgwWex4K",
        "colab_type": "code",
        "outputId": "704eaa16-992f-4806-e8f1-7bb0d8860872",
        "colab": {
          "base_uri": "https://localhost:8080/",
          "height": 206
        }
      },
      "source": [
        "ds_phishing.columns = ['url']\n",
        "ds_phishing['label'] = 1\n",
        "ds_phishing.head()"
      ],
      "execution_count": 0,
      "outputs": [
        {
          "output_type": "execute_result",
          "data": {
            "text/html": [
              "<div>\n",
              "<style scoped>\n",
              "    .dataframe tbody tr th:only-of-type {\n",
              "        vertical-align: middle;\n",
              "    }\n",
              "\n",
              "    .dataframe tbody tr th {\n",
              "        vertical-align: top;\n",
              "    }\n",
              "\n",
              "    .dataframe thead th {\n",
              "        text-align: right;\n",
              "    }\n",
              "</style>\n",
              "<table border=\"1\" class=\"dataframe\">\n",
              "  <thead>\n",
              "    <tr style=\"text-align: right;\">\n",
              "      <th></th>\n",
              "      <th>url</th>\n",
              "      <th>label</th>\n",
              "    </tr>\n",
              "  </thead>\n",
              "  <tbody>\n",
              "    <tr>\n",
              "      <th>0</th>\n",
              "      <td>http://v2.email-marketing.adminsimple.com/trac...</td>\n",
              "      <td>1</td>\n",
              "    </tr>\n",
              "    <tr>\n",
              "      <th>1</th>\n",
              "      <td>http://bid.openx.net/json?amp;amp;amp;amp;cid;...</td>\n",
              "      <td>1</td>\n",
              "    </tr>\n",
              "    <tr>\n",
              "      <th>2</th>\n",
              "      <td>http://webmail2.centurytel.net/hwebmail/servic...</td>\n",
              "      <td>1</td>\n",
              "    </tr>\n",
              "    <tr>\n",
              "      <th>3</th>\n",
              "      <td>http://www.google.com.ng/imgres?imgurl=http://...</td>\n",
              "      <td>1</td>\n",
              "    </tr>\n",
              "    <tr>\n",
              "      <th>4</th>\n",
              "      <td>http://webmail2.centurytel.net/hwebmail/servic...</td>\n",
              "      <td>1</td>\n",
              "    </tr>\n",
              "  </tbody>\n",
              "</table>\n",
              "</div>"
            ],
            "text/plain": [
              "                                                 url  label\n",
              "0  http://v2.email-marketing.adminsimple.com/trac...      1\n",
              "1  http://bid.openx.net/json?amp;amp;amp;amp;cid;...      1\n",
              "2  http://webmail2.centurytel.net/hwebmail/servic...      1\n",
              "3  http://www.google.com.ng/imgres?imgurl=http://...      1\n",
              "4  http://webmail2.centurytel.net/hwebmail/servic...      1"
            ]
          },
          "metadata": {
            "tags": []
          },
          "execution_count": 130
        }
      ]
    },
    {
      "cell_type": "code",
      "metadata": {
        "id": "uqfIGKy8_utz",
        "colab_type": "code",
        "outputId": "e71932fb-3927-41f0-b585-9238e6920a45",
        "colab": {
          "base_uri": "https://localhost:8080/",
          "height": 127
        }
      },
      "source": [
        "#dataset sa defacement url-ovima\n",
        "ds_defacement = pd.read_csv('https://raw.githubusercontent.com/matf-ml/ml19-classifying-spam-urls/master/DefacementSitesURLFiltered.csv', header = None)\n",
        "ds_defacement.info()"
      ],
      "execution_count": 0,
      "outputs": [
        {
          "output_type": "stream",
          "text": [
            "<class 'pandas.core.frame.DataFrame'>\n",
            "RangeIndex: 96457 entries, 0 to 96456\n",
            "Data columns (total 1 columns):\n",
            "0    96457 non-null object\n",
            "dtypes: object(1)\n",
            "memory usage: 753.6+ KB\n"
          ],
          "name": "stdout"
        }
      ]
    },
    {
      "cell_type": "code",
      "metadata": {
        "id": "fNOL2W0GAK3d",
        "colab_type": "code",
        "outputId": "f3fdfdc9-e654-4576-ffd7-e0339e81052b",
        "colab": {
          "base_uri": "https://localhost:8080/",
          "height": 206
        }
      },
      "source": [
        "ds_defacement.columns = ['url']\n",
        "ds_defacement['label'] = 1\n",
        "#shuffle dataseta da bi dobili raznovrsnije podatke, jer cemo posle uzeti samo 10k od oko 90k redova iz njega\n",
        "ds_defacement = ds_defacement.sample(frac=1).reset_index(drop=True)\n",
        "ds_defacement.head()"
      ],
      "execution_count": 0,
      "outputs": [
        {
          "output_type": "execute_result",
          "data": {
            "text/html": [
              "<div>\n",
              "<style scoped>\n",
              "    .dataframe tbody tr th:only-of-type {\n",
              "        vertical-align: middle;\n",
              "    }\n",
              "\n",
              "    .dataframe tbody tr th {\n",
              "        vertical-align: top;\n",
              "    }\n",
              "\n",
              "    .dataframe thead th {\n",
              "        text-align: right;\n",
              "    }\n",
              "</style>\n",
              "<table border=\"1\" class=\"dataframe\">\n",
              "  <thead>\n",
              "    <tr style=\"text-align: right;\">\n",
              "      <th></th>\n",
              "      <th>url</th>\n",
              "      <th>label</th>\n",
              "    </tr>\n",
              "  </thead>\n",
              "  <tbody>\n",
              "    <tr>\n",
              "      <th>0</th>\n",
              "      <td>http://www.acranes.com/index.php?option=com_so...</td>\n",
              "      <td>1</td>\n",
              "    </tr>\n",
              "    <tr>\n",
              "      <th>1</th>\n",
              "      <td>http://www.arjanland-kerstbomen.nl/component/m...</td>\n",
              "      <td>1</td>\n",
              "    </tr>\n",
              "    <tr>\n",
              "      <th>2</th>\n",
              "      <td>http://www.lontechshop.co.uk/index.html</td>\n",
              "      <td>1</td>\n",
              "    </tr>\n",
              "    <tr>\n",
              "      <th>3</th>\n",
              "      <td>http://www.bckeepfit.nl/index.php/component/ma...</td>\n",
              "      <td>1</td>\n",
              "    </tr>\n",
              "    <tr>\n",
              "      <th>4</th>\n",
              "      <td>http://danielfabri.com.ar/438/index.html</td>\n",
              "      <td>1</td>\n",
              "    </tr>\n",
              "  </tbody>\n",
              "</table>\n",
              "</div>"
            ],
            "text/plain": [
              "                                                 url  label\n",
              "0  http://www.acranes.com/index.php?option=com_so...      1\n",
              "1  http://www.arjanland-kerstbomen.nl/component/m...      1\n",
              "2            http://www.lontechshop.co.uk/index.html      1\n",
              "3  http://www.bckeepfit.nl/index.php/component/ma...      1\n",
              "4           http://danielfabri.com.ar/438/index.html      1"
            ]
          },
          "metadata": {
            "tags": []
          },
          "execution_count": 132
        }
      ]
    },
    {
      "cell_type": "code",
      "metadata": {
        "id": "gAcbzaBdBVTC",
        "colab_type": "code",
        "outputId": "f3415faf-b075-4c04-d41d-1899ed4e0578",
        "colab": {
          "base_uri": "https://localhost:8080/",
          "height": 146
        }
      },
      "source": [
        "ds_comb = ds_benign.append(ds_spam)\n",
        "ds_comb = ds_comb.append(ds_malware)\n",
        "ds_comb = ds_comb.append(ds_phishing)\n",
        "#uzimamo 20k redova iz defacement dataset-a jer je preveliki, a hocemo da sacuvamo odnos losih i dobrih url-ova priblizno 60-40\n",
        "ds_defacement = ds_defacement[:20000]\n",
        "ds_comb = ds_comb.append(ds_defacement)\n",
        "ds_comb.info()"
      ],
      "execution_count": 0,
      "outputs": [
        {
          "output_type": "stream",
          "text": [
            "<class 'pandas.core.frame.DataFrame'>\n",
            "Int64Index: 88909 entries, 0 to 19999\n",
            "Data columns (total 2 columns):\n",
            "url      88909 non-null object\n",
            "label    88909 non-null int64\n",
            "dtypes: int64(1), object(1)\n",
            "memory usage: 2.0+ MB\n"
          ],
          "name": "stdout"
        }
      ]
    },
    {
      "cell_type": "code",
      "metadata": {
        "id": "KxUG3HLrObqv",
        "colab_type": "code",
        "outputId": "b61af1a8-042c-4cc9-e0f6-5b981490fe8f",
        "colab": {
          "base_uri": "https://localhost:8080/",
          "height": 72
        }
      },
      "source": [
        "ds_comb['label'].value_counts()"
      ],
      "execution_count": 0,
      "outputs": [
        {
          "output_type": "execute_result",
          "data": {
            "text/plain": [
              "1    53531\n",
              "0    35378\n",
              "Name: label, dtype: int64"
            ]
          },
          "metadata": {
            "tags": []
          },
          "execution_count": 134
        }
      ]
    },
    {
      "cell_type": "code",
      "metadata": {
        "id": "MxwJH2acCq7y",
        "colab_type": "code",
        "outputId": "d4ef9dca-0e16-4e83-b843-d37b23d20755",
        "colab": {
          "base_uri": "https://localhost:8080/",
          "height": 206
        }
      },
      "source": [
        "#shuffle dataseta da bi videli raznovrsnije podatke\n",
        "ds_comb = ds_comb.sample(frac=1).reset_index(drop=True)\n",
        "ds_comb.head()"
      ],
      "execution_count": 0,
      "outputs": [
        {
          "output_type": "execute_result",
          "data": {
            "text/html": [
              "<div>\n",
              "<style scoped>\n",
              "    .dataframe tbody tr th:only-of-type {\n",
              "        vertical-align: middle;\n",
              "    }\n",
              "\n",
              "    .dataframe tbody tr th {\n",
              "        vertical-align: top;\n",
              "    }\n",
              "\n",
              "    .dataframe thead th {\n",
              "        text-align: right;\n",
              "    }\n",
              "</style>\n",
              "<table border=\"1\" class=\"dataframe\">\n",
              "  <thead>\n",
              "    <tr style=\"text-align: right;\">\n",
              "      <th></th>\n",
              "      <th>url</th>\n",
              "      <th>label</th>\n",
              "    </tr>\n",
              "  </thead>\n",
              "  <tbody>\n",
              "    <tr>\n",
              "      <th>0</th>\n",
              "      <td>http://censor.net.ua/video_news/335031/miting_...</td>\n",
              "      <td>0</td>\n",
              "    </tr>\n",
              "    <tr>\n",
              "      <th>1</th>\n",
              "      <td>http://digg.com/video/four-realistic-predictio...</td>\n",
              "      <td>0</td>\n",
              "    </tr>\n",
              "    <tr>\n",
              "      <th>2</th>\n",
              "      <td>http://9779.info/%E5%B9%BC%E5%84%BF%E5%9B%AD%E...</td>\n",
              "      <td>1</td>\n",
              "    </tr>\n",
              "    <tr>\n",
              "      <th>3</th>\n",
              "      <td>http://www.centerimoveis.com.br/fale-conosco/t...</td>\n",
              "      <td>1</td>\n",
              "    </tr>\n",
              "    <tr>\n",
              "      <th>4</th>\n",
              "      <td>http://archive.salisburyjournal.co.uk/2000/10/...</td>\n",
              "      <td>1</td>\n",
              "    </tr>\n",
              "  </tbody>\n",
              "</table>\n",
              "</div>"
            ],
            "text/plain": [
              "                                                 url  label\n",
              "0  http://censor.net.ua/video_news/335031/miting_...      0\n",
              "1  http://digg.com/video/four-realistic-predictio...      0\n",
              "2  http://9779.info/%E5%B9%BC%E5%84%BF%E5%9B%AD%E...      1\n",
              "3  http://www.centerimoveis.com.br/fale-conosco/t...      1\n",
              "4  http://archive.salisburyjournal.co.uk/2000/10/...      1"
            ]
          },
          "metadata": {
            "tags": []
          },
          "execution_count": 135
        }
      ]
    },
    {
      "cell_type": "code",
      "metadata": {
        "id": "rHC4BWeABhcf",
        "colab_type": "code",
        "outputId": "325a76a1-e24f-4655-df30-63ac4851581d",
        "colab": {
          "base_uri": "https://localhost:8080/",
          "height": 206
        }
      },
      "source": [
        "#fja za dobijanje deep url-a iz url-a jer samo deep url koristimo za MultinomialNB\n",
        "def get_deep_url_from_url(url):\n",
        "  path = urlparse(url)\n",
        "  if path.query:\n",
        "    return str(path.path) + str('?') + str(path.query)\n",
        "  else:\n",
        "    return str(path.path)\n",
        "\n",
        "ds_comb['deep url'] = ds_comb['url'].apply(lambda x : get_deep_url_from_url(x))\n",
        "ds_comb['len deep url'] = ds_comb['deep url'].apply(lambda x : len(x))\n",
        "ds_comb.head()"
      ],
      "execution_count": 0,
      "outputs": [
        {
          "output_type": "execute_result",
          "data": {
            "text/html": [
              "<div>\n",
              "<style scoped>\n",
              "    .dataframe tbody tr th:only-of-type {\n",
              "        vertical-align: middle;\n",
              "    }\n",
              "\n",
              "    .dataframe tbody tr th {\n",
              "        vertical-align: top;\n",
              "    }\n",
              "\n",
              "    .dataframe thead th {\n",
              "        text-align: right;\n",
              "    }\n",
              "</style>\n",
              "<table border=\"1\" class=\"dataframe\">\n",
              "  <thead>\n",
              "    <tr style=\"text-align: right;\">\n",
              "      <th></th>\n",
              "      <th>url</th>\n",
              "      <th>label</th>\n",
              "      <th>deep url</th>\n",
              "      <th>len deep url</th>\n",
              "    </tr>\n",
              "  </thead>\n",
              "  <tbody>\n",
              "    <tr>\n",
              "      <th>0</th>\n",
              "      <td>http://censor.net.ua/video_news/335031/miting_...</td>\n",
              "      <td>0</td>\n",
              "      <td>/video_news/335031/miting_protiv_demilitarizat...</td>\n",
              "      <td>85</td>\n",
              "    </tr>\n",
              "    <tr>\n",
              "      <th>1</th>\n",
              "      <td>http://digg.com/video/four-realistic-predictio...</td>\n",
              "      <td>0</td>\n",
              "      <td>/video/four-realistic-predictions-about-where-...</td>\n",
              "      <td>74</td>\n",
              "    </tr>\n",
              "    <tr>\n",
              "      <th>2</th>\n",
              "      <td>http://9779.info/%E5%B9%BC%E5%84%BF%E5%9B%AD%E...</td>\n",
              "      <td>1</td>\n",
              "      <td>/%E5%B9%BC%E5%84%BF%E5%9B%AD%E6%B5%B7%E6%A3%89...</td>\n",
              "      <td>83</td>\n",
              "    </tr>\n",
              "    <tr>\n",
              "      <th>3</th>\n",
              "      <td>http://www.centerimoveis.com.br/fale-conosco/t...</td>\n",
              "      <td>1</td>\n",
              "      <td>/fale-conosco/trabalhe.html</td>\n",
              "      <td>27</td>\n",
              "    </tr>\n",
              "    <tr>\n",
              "      <th>4</th>\n",
              "      <td>http://archive.salisburyjournal.co.uk/2000/10/...</td>\n",
              "      <td>1</td>\n",
              "      <td>/2000/10/13/233583.html</td>\n",
              "      <td>23</td>\n",
              "    </tr>\n",
              "  </tbody>\n",
              "</table>\n",
              "</div>"
            ],
            "text/plain": [
              "                                                 url  ...  len deep url\n",
              "0  http://censor.net.ua/video_news/335031/miting_...  ...            85\n",
              "1  http://digg.com/video/four-realistic-predictio...  ...            74\n",
              "2  http://9779.info/%E5%B9%BC%E5%84%BF%E5%9B%AD%E...  ...            83\n",
              "3  http://www.centerimoveis.com.br/fale-conosco/t...  ...            27\n",
              "4  http://archive.salisburyjournal.co.uk/2000/10/...  ...            23\n",
              "\n",
              "[5 rows x 4 columns]"
            ]
          },
          "metadata": {
            "tags": []
          },
          "execution_count": 136
        }
      ]
    },
    {
      "cell_type": "code",
      "metadata": {
        "id": "jKCqiCMsy1Ku",
        "colab_type": "code",
        "colab": {}
      },
      "source": [
        "#radimo split deep url-a na reci da bi koristili to kao feature za MultinomialNB\n",
        "import re\n",
        "def split_deep_url(url):\n",
        "    word_list = re.compile(r'[\\:/?=\\-&$~<>;%_\\.\\+\\\\]+',re.UNICODE).split(url)\n",
        "    #cuvaju se samo reci duze od 2 karaktera u deep url\n",
        "    word_list1 = [elem for elem in word_list if len(elem) > 2] \n",
        "    words_string = ' '.join(word_list1)\n",
        "    return str(words_string)"
      ],
      "execution_count": 0,
      "outputs": []
    },
    {
      "cell_type": "code",
      "metadata": {
        "id": "9SVbAHSnEJmH",
        "colab_type": "code",
        "outputId": "2e0fe892-3366-4f00-a7c9-a717c4cdc9f1",
        "colab": {
          "base_uri": "https://localhost:8080/",
          "height": 206
        }
      },
      "source": [
        "ds_comb['deep url'] = ds_comb['deep url'].apply(lambda x : split_deep_url(x))\n",
        "ds_comb.head()"
      ],
      "execution_count": 0,
      "outputs": [
        {
          "output_type": "execute_result",
          "data": {
            "text/html": [
              "<div>\n",
              "<style scoped>\n",
              "    .dataframe tbody tr th:only-of-type {\n",
              "        vertical-align: middle;\n",
              "    }\n",
              "\n",
              "    .dataframe tbody tr th {\n",
              "        vertical-align: top;\n",
              "    }\n",
              "\n",
              "    .dataframe thead th {\n",
              "        text-align: right;\n",
              "    }\n",
              "</style>\n",
              "<table border=\"1\" class=\"dataframe\">\n",
              "  <thead>\n",
              "    <tr style=\"text-align: right;\">\n",
              "      <th></th>\n",
              "      <th>url</th>\n",
              "      <th>label</th>\n",
              "      <th>deep url</th>\n",
              "      <th>len deep url</th>\n",
              "    </tr>\n",
              "  </thead>\n",
              "  <tbody>\n",
              "    <tr>\n",
              "      <th>0</th>\n",
              "      <td>http://censor.net.ua/video_news/335031/miting_...</td>\n",
              "      <td>0</td>\n",
              "      <td>video news 335031 miting protiv demilitarizats...</td>\n",
              "      <td>85</td>\n",
              "    </tr>\n",
              "    <tr>\n",
              "      <th>1</th>\n",
              "      <td>http://digg.com/video/four-realistic-predictio...</td>\n",
              "      <td>0</td>\n",
              "      <td>video four realistic predictions about where t...</td>\n",
              "      <td>74</td>\n",
              "    </tr>\n",
              "    <tr>\n",
              "      <th>2</th>\n",
              "      <td>http://9779.info/%E5%B9%BC%E5%84%BF%E5%9B%AD%E...</td>\n",
              "      <td>1</td>\n",
              "      <td></td>\n",
              "      <td>83</td>\n",
              "    </tr>\n",
              "    <tr>\n",
              "      <th>3</th>\n",
              "      <td>http://www.centerimoveis.com.br/fale-conosco/t...</td>\n",
              "      <td>1</td>\n",
              "      <td>fale conosco trabalhe html</td>\n",
              "      <td>27</td>\n",
              "    </tr>\n",
              "    <tr>\n",
              "      <th>4</th>\n",
              "      <td>http://archive.salisburyjournal.co.uk/2000/10/...</td>\n",
              "      <td>1</td>\n",
              "      <td>2000 233583 html</td>\n",
              "      <td>23</td>\n",
              "    </tr>\n",
              "  </tbody>\n",
              "</table>\n",
              "</div>"
            ],
            "text/plain": [
              "                                                 url  ...  len deep url\n",
              "0  http://censor.net.ua/video_news/335031/miting_...  ...            85\n",
              "1  http://digg.com/video/four-realistic-predictio...  ...            74\n",
              "2  http://9779.info/%E5%B9%BC%E5%84%BF%E5%9B%AD%E...  ...            83\n",
              "3  http://www.centerimoveis.com.br/fale-conosco/t...  ...            27\n",
              "4  http://archive.salisburyjournal.co.uk/2000/10/...  ...            23\n",
              "\n",
              "[5 rows x 4 columns]"
            ]
          },
          "metadata": {
            "tags": []
          },
          "execution_count": 138
        }
      ]
    },
    {
      "cell_type": "code",
      "metadata": {
        "id": "KjK_FuWNEobg",
        "colab_type": "code",
        "colab": {}
      },
      "source": [
        "#primenjujemo CountVectorizer da bismo imali ulaz za MultinomialDB\n",
        "x = ds_comb['deep url']\n",
        "y = ds_comb['label']"
      ],
      "execution_count": 0,
      "outputs": []
    },
    {
      "cell_type": "code",
      "metadata": {
        "id": "NlpQpVx_Ynb-",
        "colab_type": "code",
        "outputId": "4c7f51bf-a79a-466f-df30-d634a51a32de",
        "colab": {
          "base_uri": "https://localhost:8080/",
          "height": 90
        }
      },
      "source": [
        "x_train, x_test, y_train, y_test = model_selection.train_test_split(x, y, test_size=0.33, random_state=7, stratify=y)\n",
        "print(x_train.shape)\n",
        "print(x_test.shape)\n",
        "print(y_train.shape)\n",
        "print(y_test.shape)"
      ],
      "execution_count": 0,
      "outputs": [
        {
          "output_type": "stream",
          "text": [
            "(59569,)\n",
            "(29340,)\n",
            "(59569,)\n",
            "(29340,)\n"
          ],
          "name": "stdout"
        }
      ]
    },
    {
      "cell_type": "code",
      "metadata": {
        "id": "fr9u1Io2si10",
        "colab_type": "code",
        "outputId": "7bf7667c-cca5-4ea1-e361-e99164873e9c",
        "colab": {
          "base_uri": "https://localhost:8080/",
          "height": 1000
        }
      },
      "source": [
        "from sklearn import feature_extraction\n",
        "vectorized = feature_extraction.text.CountVectorizer()\n",
        "x_train_t = vectorized.fit_transform(x_train)\n",
        "vectorized.vocabulary_"
      ],
      "execution_count": 0,
      "outputs": [
        {
          "output_type": "execute_result",
          "data": {
            "text/plain": [
              "{'thisisessex': 63594,\n",
              " 'index': 42580,\n",
              " 'cfm': 30295,\n",
              " '27849': 10406,\n",
              " 'return': 57327,\n",
              " 'cat': 29897,\n",
              " 'action': 22766,\n",
              " 'pricelist': 54923,\n",
              " 'torrent': 64052,\n",
              " '4189452': 15097,\n",
              " 'edwards': 35656,\n",
              " 'nicole': 50213,\n",
              " 'brendon': 28592,\n",
              " 'epub': 36321,\n",
              " 'zeke23': 68678,\n",
              " 'html': 41584,\n",
              " 'independent': 42577,\n",
              " 'international': 43020,\n",
              " '31946': 13271,\n",
              " 'content': 31859,\n",
              " 'plugins': 54002,\n",
              " 'meks': 48037,\n",
              " 'flexible': 38019,\n",
              " 'shortcodes': 59828,\n",
              " 'css': 32494,\n",
              " 'font': 38202,\n",
              " 'awesome': 25543,\n",
              " 'min': 48444,\n",
              " 'ver': 66044,\n",
              " '4189635': 15144,\n",
              " 'jav': 43652,\n",
              " 'censored': 30193,\n",
              " 'venu': 66042,\n",
              " '504': 16678,\n",
              " 'all': 23883,\n",
              " 'takes': 62842,\n",
              " 'little': 46444,\n",
              " 'encouragement': 36093,\n",
              " 'get': 39389,\n",
              " 'dick': 33983,\n",
              " 'hard': 40657,\n",
              " 'instantly': 42913,\n",
              " '21my': 8565,\n",
              " 'stepm': 61655,\n",
              " 'editors': 35608,\n",
              " 'updates': 65332,\n",
              " 'lazy': 45834,\n",
              " 'hazy': 40798,\n",
              " 'summer': 62197,\n",
              " 'art': 24882,\n",
              " 'stroll': 61919,\n",
              " 'burnham': 28997,\n",
              " 'market': 47529,\n",
              " 'sport': 61230,\n",
              " 'not': 50488,\n",
              " 'tram': 64244,\n",
              " 'cua': 32512,\n",
              " 'u23': 64850,\n",
              " 'viet': 66326,\n",
              " 'nam': 49559,\n",
              " 'sao': 58598,\n",
              " 'nhac': 50147,\n",
              " 'truong': 64536,\n",
              " 'tuan': 64609,\n",
              " 'anh': 24328,\n",
              " 'mat': 47683,\n",
              " 'tich': 63712,\n",
              " '20150405074922699': 7425,\n",
              " 'chn': 30672,\n",
              " 'identify': 42104,\n",
              " 'customer': 32624,\n",
              " 'kywblev70hlscfqcf5srxuawwdld6ob4xtj2xqhycnax9kimlqpgj96lzjzyeox4qh3uiidrifk21jvroszadhkzxytg29himf78': 45464,\n",
              " 'themes': 63520,\n",
              " 'twentytwelve': 64773,\n",
              " 'ddd': 33197,\n",
              " '7d6fcb7e22ed5415c22b15406696ce17': 20011,\n",
              " 'poll': 54222,\n",
              " 'percent': 53225,\n",
              " 'voters': 66776,\n",
              " 'worried': 67849,\n",
              " 'obamas': 51215,\n",
              " 'army': 24833,\n",
              " 'about': 22520,\n",
              " '1703995384': 5404,\n",
              " 'ref': 56737,\n",
              " '202': 7607,\n",
              " '2513040': 9620,\n",
              " '1206232': 3611,\n",
              " 'utf8': 65523,\n",
              " '520920': 17129,\n",
              " '2015': 7328,\n",
              " 'julianne': 44090,\n",
              " 'hough': 41503,\n",
              " 'red': 56652,\n",
              " 'lips': 46378,\n",
              " 'dwts': 35199,\n",
              " 'semifinals': 59285,\n",
              " 'makeup': 47246,\n",
              " 'news': 50025,\n",
              " 'newdetails': 50002,\n",
              " '411463': 14886,\n",
              " 'jokes': 43918,\n",
              " 'page': 52522,\n",
              " 'hero': 41003,\n",
              " 'category': 29926,\n",
              " '419': 15228,\n",
              " 'interval': 43050,\n",
              " 'author': 25369,\n",
              " 'sortby': 60898,\n",
              " 'date': 33068,\n",
              " 'information': 42710,\n",
              " 'technology': 63122,\n",
              " 'theres': 63541,\n",
              " 'going': 39766,\n",
              " 'whole': 67516,\n",
              " 'bunch': 28943,\n",
              " 'windows': 67627,\n",
              " 'versions': 66170,\n",
              " 'comments': 31423,\n",
              " '7e35d3466feb481bf93a93a22cf594ba836a8060': 20020,\n",
              " 'title': 63834,\n",
              " 'kickass': 44684,\n",
              " 'to': 63884,\n",
              " 'leopard': 46036,\n",
              " 'raws': 56351,\n",
              " 'yamada': 68206,\n",
              " 'kun': 45375,\n",
              " 'nin': 50288,\n",
              " 'majo': 47230,\n",
              " 'raw': 56348,\n",
              " 'tva': 64734,\n",
              " '1280x720': 3857,\n",
              " 'x264': 68009,\n",
              " 'aac': 22403,\n",
              " 'mp4': 49119,\n",
              " 'contact': 31812,\n",
              " 'php': 53569,\n",
              " 'option': 51880,\n",
              " 'com': 31355,\n",
              " 'view': 66334,\n",
              " 'article': 24896,\n",
              " 'itemid': 43430,\n",
              " '136': 4154,\n",
              " 'archive': 24741,\n",
              " '19875': 6524,\n",
              " 'sejeal': 59222,\n",
              " 'jpg': 43995,\n",
              " 'watford': 67175,\n",
              " '2850193': 10564,\n",
              " '39044': 14307,\n",
              " 'order': 51917,\n",
              " 'fan': 37264,\n",
              " 'video': 66284,\n",
              " 'that': 63474,\n",
              " 'celebrates': 30153,\n",
              " 'marvels': 47589,\n",
              " 'quieter': 55976,\n",
              " 'moments': 48838,\n",
              " '1627790029': 5037,\n",
              " 'module': 48779,\n",
              " 'directory': 34145,\n",
              " 'business': 29022,\n",
              " 'enterprise': 36232,\n",
              " 'add': 22849,\n",
              " 'facet': 37160,\n",
              " 'filter': 37795,\n",
              " 'license': 46184,\n",
              " 'constraint': 31774,\n",
              " 'osi': 52057,\n",
              " 'approved': 24636,\n",
              " 'open': 51775,\n",
              " 'source': 60959,\n",
              " 'gnu': 39714,\n",
              " 'general': 39240,\n",
              " 'public': 55586,\n",
              " 'version': 66169,\n",
              " '28gplv2': 10684,\n",
              " 'the': 63482,\n",
              " 'promo': 55321,\n",
              " 'for': 38231,\n",
              " 'samantha': 58483,\n",
              " 'bees': 27092,\n",
              " 'new': 49992,\n",
              " 'tbs': 63050,\n",
              " 'show': 59846,\n",
              " 'declares': 33308,\n",
              " 'female': 37550,\n",
              " 'fck': 37437,\n",
              " 'hub': 41609,\n",
              " 'how': 41524,\n",
              " 'work': 67812,\n",
              " 'double': 34757,\n",
              " 'and': 24239,\n",
              " 'half': 40531,\n",
              " 'crochet': 32406,\n",
              " 'stitches': 61723,\n",
              " 'beginners': 27115,\n",
              " 'bbs': 26781,\n",
              " 'data': 33055,\n",
              " 'attachment': 25203,\n",
              " 'forum': 38339,\n",
              " '201412': 7290,\n",
              " '091835fk6nncpfzeeeeoqj': 1424,\n",
              " '2003': 6819,\n",
              " '122019': 3677,\n",
              " 'doc': 34464,\n",
              " 'docsss': 34488,\n",
              " 'contactform': 31822,\n",
              " 'few': 37636,\n",
              " 'suggestions': 62148,\n",
              " 'next': 50077,\n",
              " 'phase': 53481,\n",
              " 'ballsack': 26393,\n",
              " 'evolut': 36732,\n",
              " '721845725': 19533,\n",
              " 'layer': 45816,\n",
              " 'images': 42318,\n",
              " 'http': 41593,\n",
              " 'battle': 26659,\n",
              " 'net': 49935,\n",
              " 'login': 46610,\n",
              " '2fus': 12176,\n",
              " '2fd3': 11648,\n",
              " '2fen': 11692,\n",
              " '2findex': 11808,\n",
              " 'amp': 24155,\n",
              " 'app': 24574,\n",
              " 'verification': 66107,\n",
              " 'paypai': 53015,\n",
              " 'update': 65322,\n",
              " 'pogoda': 54131,\n",
              " 'polska': 54244,\n",
              " 'krakow': 45227,\n",
              " 'wroclaw': 67924,\n",
              " 'miasto': 48297,\n",
              " 'component': 31526,\n",
              " '108': 2178,\n",
              " 'thread': 63634,\n",
              " 'fully': 38732,\n",
              " 'adsense': 22962,\n",
              " 'account': 22661,\n",
              " 'newpost': 50023,\n",
              " 'static': 61567,\n",
              " 'ssl': 61407,\n",
              " 'lib': 46153,\n",
              " 'prototype': 55443,\n",
              " 'effects': 35697,\n",
              " 'compress': 31542,\n",
              " '1428372075': 4439,\n",
              " 'rosetta': 57808,\n",
              " 'csp': 32489,\n",
              " 'smp': 60558,\n",
              " 'aol': 24512,\n",
              " 'itementry3': 43428,\n",
              " 'd832': 32845,\n",
              " 'header': 40840,\n",
              " 'kitchenware': 44819,\n",
              " 'cspchd': 32490,\n",
              " '000000010002315u5rqp001910836003': 328,\n",
              " 'viu': 66553,\n",
              " 'estar': 36534,\n",
              " 'bien': 27681,\n",
              " 'paso': 52872,\n",
              " 'crear': 32302,\n",
              " 'maquillaje': 47450,\n",
              " 'romantico': 57757,\n",
              " 'noticia': 50511,\n",
              " '1810946': 5758,\n",
              " 'portada': 54367,\n",
              " 'home': 41332,\n",
              " 'destacada': 33733,\n",
              " 'gallery2': 38928,\n",
              " 'main': 47197,\n",
              " 'rss': 57941,\n",
              " 'feedlist': 37519,\n",
              " 'gallerysid': 38933,\n",
              " '1be74558fc7ba86eb88604c5bc3803f9': 6601,\n",
              " 'trung': 64531,\n",
              " 'quoc': 55994,\n",
              " 'kien': 44701,\n",
              " 'dinh': 34096,\n",
              " 'dung': 35099,\n",
              " 'pho': 53517,\n",
              " 'thong': 63615,\n",
              " 'dau': 33091,\n",
              " 'phieu': 53496,\n",
              " 'tai': 62817,\n",
              " 'hong': 41381,\n",
              " 'kong': 45098,\n",
              " 'videos': 66304,\n",
              " '96655': 21734,\n",
              " 'beautiful': 27019,\n",
              " 'sunburnt': 62210,\n",
              " 'brunette': 28769,\n",
              " 'blows': 28030,\n",
              " 'massive': 47647,\n",
              " 'pov': 54541,\n",
              " 'global': 39647,\n",
              " 'combo': 31372,\n",
              " 'type': 64821,\n",
              " 'path': 52934,\n",
              " 'ecnavi': 35514,\n",
              " '7cglobal': 20002,\n",
              " '2fjs': 11838,\n",
              " '2fjquery': 11836,\n",
              " '2cecnavi': 11147,\n",
              " '2fglobal': 11758,\n",
              " '7ccard': 19997,\n",
              " 'plus': 54014,\n",
              " '2fcard': 11620,\n",
              " 'bxslider': 29098,\n",
              " '20150513152136': 7547,\n",
              " 'task': 62985,\n",
              " '290': 10724,\n",
              " 'thecut': 63494,\n",
              " '2014': 7167,\n",
              " 'normcore': 50452,\n",
              " 'fashion': 37328,\n",
              " 'trend': 64382,\n",
              " 'slideshow': 60433,\n",
              " 'quale': 55893,\n",
              " 'tuo': 64663,\n",
              " 'colore': 31334,\n",
              " 'preferito': 54734,\n",
              " 'rugs': 57997,\n",
              " 'product': 55157,\n",
              " 'reviews': 57374,\n",
              " 'products': 55172,\n",
              " '1156': 2938,\n",
              " 'oscsid': 52052,\n",
              " '0a530e17ea959c39afe6ce5fbae147ec': 1453,\n",
              " 'mbb': 47816,\n",
              " 'info': 42683,\n",
              " 'm2u': 47013,\n",
              " 'personaldetail04': 53354,\n",
              " 'cnttypeid': 31148,\n",
              " 'cntkey': 31146,\n",
              " 'hl15': 41233,\n",
              " '29b': 11068,\n",
              " 'programid': 55240,\n",
              " 'highlights': 41101,\n",
              " 'newscatid': 50032,\n",
              " 'chcatid': 30473,\n",
              " 'bbsme': 26783,\n",
              " 'form2': 38274,\n",
              " 'forms': 38310,\n",
              " 'form1': 38273,\n",
              " 'piccodejs': 53615,\n",
              " '000': 1,\n",
              " 'asp': 25012,\n",
              " 'lm2': 46507,\n",
              " '188': 6106,\n",
              " '118': 3337,\n",
              " '155': 4807,\n",
              " 'jevents': 43787,\n",
              " 'modlatest': 48773,\n",
              " 'format': 38283,\n",
              " 'feed': 37510,\n",
              " 'modid': 48764,\n",
              " 'communications': 31448,\n",
              " 'affero': 23093,\n",
              " '200511': 6866,\n",
              " '0218': 970,\n",
              " 'good': 39811,\n",
              " 'watch': 67153,\n",
              " 'choose': 30693,\n",
              " 'gives': 39582,\n",
              " 'doorway': 34702,\n",
              " 'beauty': 27021,\n",
              " 'agents': 23174,\n",
              " 'shield': 59739,\n",
              " 'marvel': 47588,\n",
              " 'spinoff': 61181,\n",
              " 'abc': 22465,\n",
              " '1201493296': 3592,\n",
              " 'superhero': 62258,\n",
              " 'comic': 31400,\n",
              " 'poh95coyiaasbielmqng61qggjzfnyeuws5ec0cblct2ikgjpa95szgovi9nlvyhag2mqe9wy2rncvwm9l8hdvxgl2grqypppsga': 54134,\n",
              " '332': 13494,\n",
              " 'e6ca5aba5f54f482ace60461a46c9f59': 35344,\n",
              " 'cpath': 32217,\n",
              " 'kaden': 44203,\n",
              " 'washing': 67140,\n",
              " 'machine': 47049,\n",
              " 'ranking': 56252,\n",
              " '2110': 8325,\n",
              " 'div': 34327,\n",
              " 'gpt': 39961,\n",
              " '728x90': 19585,\n",
              " '2000': 6777,\n",
              " '315347': 13097,\n",
              " 'sample': 58507,\n",
              " '2fdefault': 11655,\n",
              " 'purple': 55700,\n",
              " '2007': 6889,\n",
              " '309129': 12867,\n",
              " 'osobowe': 52071,\n",
              " 'jeep': 43707,\n",
              " 'grand': 40011,\n",
              " 'cherokee': 30542,\n",
              " 'iii': 42241,\n",
              " '2005': 6854,\n",
              " '2010': 6945,\n",
              " 'search': 59042,\n",
              " '5bfilter': 18519,\n",
              " 'enum': 36271,\n",
              " 'gearbox': 39167,\n",
              " '5b0': 18468,\n",
              " 'automatic': 25401,\n",
              " 'community': 31450,\n",
              " 'register': 56822,\n",
              " 'member': 48065,\n",
              " 'sportoption': 61243,\n",
              " 'uid': 64976,\n",
              " 'guest': 40312,\n",
              " 'langx': 45675,\n",
              " 'shows': 59894,\n",
              " 'bachelorette': 26233,\n",
              " 'kaitlyn': 44235,\n",
              " 'bristowe': 28666,\n",
              " 'season': 59071,\n",
              " 'bachelor': 26232,\n",
              " 'vdka0': 65943,\n",
              " 'wyphgcs3': 67985,\n",
              " 'story': 61786,\n",
              " '6999': 19297,\n",
              " '899972': 20970,\n",
              " '2020': 7608,\n",
              " 'listing': 46417,\n",
              " '050115': 1177,\n",
              " 'love': 46766,\n",
              " 'war': 67102,\n",
              " 'renewal': 57043,\n",
              " 'taya': 63030,\n",
              " 'kyle': 45453,\n",
              " 'britains': 28669,\n",
              " 'got': 39907,\n",
              " 'talent': 62854,\n",
              " 'orala': 51899,\n",
              " 'kak': 44240,\n",
              " 'yeti': 68301,\n",
              " 'sudi': 62125,\n",
              " 'uzhas': 65580,\n",
              " 'uzhasnyiy': 65582,\n",
              " '3333334': 13519,\n",
              " 'bcrt': 26879,\n",
              " 'dilinin': 34069,\n",
              " 'etimolojik': 36612,\n",
              " 'b6zl': 26097,\n",
              " '2351269611': 9194,\n",
              " 'banners': 26499,\n",
              " 'click': 31021,\n",
              " 'blog': 27992,\n",
              " 'breaking': 28568,\n",
              " 'thourgh': 63627,\n",
              " 'clutter': 31112,\n",
              " 'paytm': 53031,\n",
              " 'delhi': 33452,\n",
              " 'metro': 48247,\n",
              " 'route': 57881,\n",
              " 'reach': 56419,\n",
              " 'potential': 54508,\n",
              " 'customers': 32628,\n",
              " 'nissans': 50308,\n",
              " 'speedster': 61119,\n",
              " 'zooms': 68858,\n",
              " 'from': 38616,\n",
              " 'zero': 68714,\n",
              " 'seconds': 59105,\n",
              " 'dancing': 32970,\n",
              " 'with': 67696,\n",
              " 'stars': 61533,\n",
              " 'results': 57278,\n",
              " 'eliminations': 35927,\n",
              " 'spring': 61293,\n",
              " 'week': 67326,\n",
              " '05122015': 1197,\n",
              " 'multimedia': 49236,\n",
              " 'zolotaya': 68833,\n",
              " 'nintendo': 50294,\n",
              " 'wii': 67572,\n",
              " 'supreme': 62300,\n",
              " '411305': 14858,\n",
              " 'honest': 41374,\n",
              " 'trailer': 64223,\n",
              " 'sprawling': 61279,\n",
              " 'mess': 48187,\n",
              " 'twisted': 64790,\n",
              " 'metal': 48214,\n",
              " 'franchise': 38453,\n",
              " 'vti': 66887,\n",
              " 'cnf': 31139,\n",
              " 'product2': 55158,\n",
              " 'htm': 41582,\n",
              " 'detail': 33761,\n",
              " 'mysite': 49412,\n",
              " 'siteconfig': 60210,\n",
              " 'pro': 55077,\n",
              " 'control': 31913,\n",
              " 'spreadsheet': 61285,\n",
              " 'viewform': 66347,\n",
              " 'formkey': 38305,\n",
              " 'dfjfmurpedfxxzrwltf2n0trcxhwdwc6ma': 33890,\n",
              " 'dolans': 34567,\n",
              " 'bid': 27676,\n",
              " 'could': 32136,\n",
              " 'latest': 45752,\n",
              " 'shot': 59834,\n",
              " 'long': 46685,\n",
              " 'running': 58037,\n",
              " 'fued': 38702,\n",
              " 'designspree': 33696,\n",
              " 'catalog': 29901,\n",
              " 'int': 42951,\n",
              " 'amazon': 24072,\n",
              " 'f57095e8d9857143c62151f60e5010bd': 37071,\n",
              " 'mailto': 47195,\n",
              " 'tmpl': 63873,\n",
              " 'link': 46337,\n",
              " 'c3c7697e92ffb8c3057017eddead970a7d2ba5e6': 29213,\n",
              " '2001': 6792,\n",
              " '296193': 10903,\n",
              " 'events': 36696,\n",
              " 'january': 43618,\n",
              " '2011': 6968,\n",
              " 'post': 54451,\n",
              " 'related': 56914,\n",
              " '5418399c4a0c4bf4048b75f2': 17384,\n",
              " 'skip': 60309,\n",
              " 'limit': 46285,\n",
              " 'back': 26236,\n",
              " 'zhizn': 68751,\n",
              " 'zdorove': 68657,\n",
              " '1887072': 6232,\n",
              " 'proverennyie': 55457,\n",
              " 'metodyi': 48240,\n",
              " 'borbyi': 28323,\n",
              " 'rubtsami': 57973,\n",
              " 'feature': 37478,\n",
              " 'multiple': 49241,\n",
              " 'recharges': 56563,\n",
              " 'ios': 43158,\n",
              " 'android': 24271,\n",
              " 'web': 67225,\n",
              " 'c587': 29254,\n",
              " 'subcats2': 62021,\n",
              " 'health': 40860,\n",
              " '20and': 7789,\n",
              " '20beauty': 7815,\n",
              " '000000010001316z5wty000803692968': 139,\n",
              " 'templatenew1': 63248,\n",
              " 'notcias': 50495,\n",
              " 'menuprincipal': 48128,\n",
              " '5764': 18033,\n",
              " 'aposentadorias': 24570,\n",
              " 'pensoes': 53197,\n",
              " 'acima': 22727,\n",
              " 'salario': 58436,\n",
              " 'minimo': 48483,\n",
              " 'terao': 63311,\n",
              " '615': 18809,\n",
              " 'reajuste': 56453,\n",
              " '2013': 7050,\n",
              " 'questions': 55950,\n",
              " '590935': 18286,\n",
              " 'read': 56433,\n",
              " 'rip': 57543,\n",
              " 'audio': 25269,\n",
              " 'tracks': 64181,\n",
              " 'malformed': 47278,\n",
              " 'garyvee': 39048,\n",
              " 'smart': 60495,\n",
              " 'tech': 63102,\n",
              " 'will': 67595,\n",
              " 'eat': 35440,\n",
              " 'world': 67839,\n",
              " '7cb09bc43e89': 19994,\n",
              " 'dating': 33087,\n",
              " 'loss': 46737,\n",
              " 'disaster': 34177,\n",
              " 'knowing': 44956,\n",
              " 'hes': 41031,\n",
              " 'call': 29466,\n",
              " '967468': 21739,\n",
              " 'aspx': 25024,\n",
              " 'dbid': 33157,\n",
              " '19663': 6486,\n",
              " 'napa': 49592,\n",
              " '20ac': 7779,\n",
              " '202014': 7612,\n",
              " '20s': 8133,\n",
              " 'style': 61986,\n",
              " 'five': 37946,\n",
              " 'convenient': 31930,\n",
              " 'locations': 46569,\n",
              " 'ngorwve4xi7ai3twbqqmiqowag0we7ss6tp30kzxpplckux5vs7jj1vx65mu2z5rywkfj3tyc6wllli6arybyq0bsu6xnf0wp466': 50128,\n",
              " 'para': 52711,\n",
              " 'governo': 39935,\n",
              " 'estadual': 36531,\n",
              " 'documentos': 34510,\n",
              " 'correspondencias': 32080,\n",
              " 'familia': 37249,\n",
              " 'sedex': 59153,\n",
              " 'internacional': 43015,\n",
              " 'operacoes': 51804,\n",
              " 'cambio': 29508,\n",
              " 'especie': 36488,\n",
              " 'agencias': 23164,\n",
              " 'paginas': 52555,\n",
              " 'default': 33369,\n",
              " '440': 15684,\n",
              " 'discussions': 34217,\n",
              " '620713633843267544': 18842,\n",
              " '22http': 8940,\n",
              " 'steamcommunity': 61609,\n",
              " 'wishlist': 67686,\n",
              " 'presentacion': 54811,\n",
              " 'foeehn': 38145,\n",
              " 'menus': 48129,\n",
              " 'espectaculo': 36489,\n",
              " 'nlist': 50339,\n",
              " 'acaidx': 22594,\n",
              " 'sflag': 59581,\n",
              " 'mflag': 48279,\n",
              " 'where': 67491,\n",
              " 'sub': 62007,\n",
              " 'keyword': 44607,\n",
              " '336025': 13739,\n",
              " 'vizit': 66567,\n",
              " 'kerri': 44571,\n",
              " 'uluchshil': 65055,\n",
              " 'otnosheniya': 52155,\n",
              " 'rossieyi': 57813,\n",
              " 'gosdep': 39891,\n",
              " 'ssha': 61404,\n",
              " 'virtuemart': 66483,\n",
              " 'shop': 59808,\n",
              " 'browse': 28745,\n",
              " 'ultimas': 65041,\n",
              " 'noticias': 50512,\n",
              " 'agencia': 23163,\n",
              " 'estado': 36528,\n",
              " 'morador': 48945,\n",
              " 'recebe': 56530,\n",
              " 'agua': 23218,\n",
              " 'contaminada': 31839,\n",
              " 'zona': 68840,\n",
              " 'norte': 50457,\n",
              " 'sfondo': 59582,\n",
              " 'nero': 49917,\n",
              " 'bianco': 27663,\n",
              " 'catid': 29943,\n",
              " 'volkswagen': 66692,\n",
              " 'polo': 54233,\n",
              " '2009': 6924,\n",
              " 'hatchback': 40735,\n",
              " 'jock7gzdoyrcit2176ilzhcz8uopogct6y1ax8fntpf': 43869,\n",
              " 'brianclouser': 28613,\n",
              " 'nba': 49772,\n",
              " 'analyst': 24212,\n",
              " 'responds': 57228,\n",
              " 'phil': 53497,\n",
              " 'jackson': 43536,\n",
              " 'd38e6807c498': 32759,\n",
              " 'groenten': 40169,\n",
              " 'sperziebonen': 61140,\n",
              " 'politica': 54205,\n",
              " 'doleira': 34572,\n",
              " 'lava': 45793,\n",
              " 'jato': 43648,\n",
              " 'nega': 49844,\n",
              " 'que': 55930,\n",
              " 'tenha': 63276,\n",
              " 'sido': 59992,\n",
              " 'presa': 54803,\n",
              " 'dinheiro': 34097,\n",
              " 'calcinha': 29439,\n",
              " 'cms': 31126,\n",
              " 'faculty': 37184,\n",
              " 'print': 54989,\n",
              " 'layout': 45824,\n",
              " '3173116': 13150,\n",
              " 'chevron': 30564,\n",
              " 'exxon': 36974,\n",
              " 'mobil': 48701,\n",
              " 'setting': 59515,\n",
              " 'dividend': 34354,\n",
              " 'growth': 40209,\n",
              " 'record': 56614,\n",
              " 'straight': 61811,\n",
              " 'nuke': 50664,\n",
              " 'modules': 48782,\n",
              " 'modload': 48774,\n",
              " 'name': 49565,\n",
              " '4nalbum': 16612,\n",
              " 'file': 37746,\n",
              " 'showpic': 59883,\n",
              " 'gid': 39490,\n",
              " 'pid': 53647,\n",
              " '198': 6506,\n",
              " 'orderby': 51918,\n",
              " 'titlea': 63835,\n",
              " 'angelsbook': 24305,\n",
              " 'language': 45670,\n",
              " 'notify': 50517,\n",
              " '13c81f7270152f3d5b9b1445503954a8': 4358,\n",
              " '7321': 19629,\n",
              " '901073': 21190,\n",
              " 'touring': 64103,\n",
              " 'idunware': 42132,\n",
              " 'beer': 27091,\n",
              " 'ren': 57022,\n",
              " 'johnson': 43901,\n",
              " 'form': 38272,\n",
              " 'cln9rubqugfhbrmuwfmqr7rwjh5ck0xo0zujjenco04gz5l1gca53t8w9m13hgyn3yunnlooyrgorjtp7twkcl6grohmqxtpxfg5': 31057,\n",
              " 'index2': 42583,\n",
              " 'pdf': 53061,\n",
              " 'output': 52267,\n",
              " 'showpage': 59877,\n",
              " 'pop': 54312,\n",
              " 'bdg708ty2': 26919,\n",
              " 'brazzersexxtra': 28555,\n",
              " 'lela': 45993,\n",
              " 'star': 61517,\n",
              " 'kim': 44735,\n",
              " 'fucks': 38696,\n",
              " 'paparazzi': 52694,\n",
              " 'hot': 41480,\n",
              " 'may': 47781,\n",
              " 't10634940': 62676,\n",
              " 'download': 34783,\n",
              " '4189342': 15076,\n",
              " 'david': 33109,\n",
              " 'duchovny': 35053,\n",
              " 'hell': 40937,\n",
              " 'highwater': 41110,\n",
              " '5b2015': 18477,\n",
              " '5bmp3': 18538,\n",
              " '320kbps': 13302,\n",
              " '5bh4ckus': 18523,\n",
              " '5bglodls': 18521,\n",
              " 'includes': 42537,\n",
              " 'simplepie': 60111,\n",
              " 'decode': 33313,\n",
              " 'dumpd': 35091,\n",
              " 'c554eac2aef93a6af56f9b3f6d1ed70e': 29240,\n",
              " 'printbutton': 54993,\n",
              " 'png': 54033,\n",
              " '4189078': 15058,\n",
              " 'creativemarket': 32318,\n",
              " 'old': 51591,\n",
              " 'photo': 53538,\n",
              " 'effect': 35693,\n",
              " '263248': 10186,\n",
              " 'radio': 56122,\n",
              " 'c100000133': 29157,\n",
              " '15480783': 4801,\n",
              " 'pub': 55581,\n",
              " '1542925551861702': 4794,\n",
              " 'tuneinsearch': 64653,\n",
              " 'mod': 48733,\n",
              " 'scr': 58948,\n",
              " 'clk': 31056,\n",
              " 'o03ct0jdn4zds4pnol6pfr3qqh7sbcjgb8zhb8zhttttb8jhhl6rhzsrb8jhzzm9okkthlyc6d6tilyc6l6umzcsqrkpod6qxv6tbcjhm5csqvmpoloc4jmpijsrllycs0noohdrb9nialoc4bzdv03esazcb8zdm5csxrm9pgkpaxdjg1jeox6h155uybpikxsdab7lb83hgpkrh1bsi9bdbpnk4n4h5f5puorrabkrn4bqrwzoyl6idzcp815ite7qnlmgbxprq8kof9asf1bh4d7dnssh1h6tmwdmz9jmbhlhancqr07u9pmiv0npo17p4fktcp4khpksnosjqk6qex4dsenj7r4rssbkk54rqpjixpcqnwaho5shmljj39nmd9jtbkzhhpnmq5tczhmj95rqrw3ub83hqtj9ogacwpsskvmo9bmegtjpb83h29zjbjchhxndznqiokyc4x7i6hdm35pqwp5m797enx4p7plllpbhipblc1pkdb3q894qg9qc7pbr1vmdue7eb83hfrco9p3t5ljqsymhvzackhmsqzqtpsdqsabdhvckyvmetvcrivksbkzhiljjfx3lnk3eu5jd4v6qdpmqppmdlh3lif6jdlzgoh4sfpme3v4culjrbkzhqhqhofn9oopsb5cszxmialoc4l6umzcsqlid69jct43ds4pduojcbkzhn4pdu8pcm8zcok3epkid6lpcogjdskpcmoooe9trz4z9olcpbrz9f1noarjcrazbngjek4pcpuycpkz9plsspr3ukrcodr6dr47tm5mcrvmojfsqdbduoxc9l9cqbrpk8z4kgbaj7poryb6pz4z9mxcsxrjpj17rlbnrbv6twkcrdbcrblcsfvspwesry1002': 51132,\n",
              " 'viral': 66464,\n",
              " 'perierga': 53292,\n",
              " 'antarctica': 24435,\n",
              " 'r100292': 56036,\n",
              " 'meteo': 48225,\n",
              " 'careers': 29737,\n",
              " 'employers': 36046,\n",
              " '6106': 18786,\n",
              " 'section': 59118,\n",
              " 'sec': 59093,\n",
              " 'dintelmarkt': 34109,\n",
              " 'vernieuwd': 66141,\n",
              " 'liesbethbeckers': 46218,\n",
              " 'usato2': 65443,\n",
              " 'doispremiospordiaviver': 34551,\n",
              " '7o8egzwqeffguowgfhurx6vgsfp1ntxfspfomvjszx4grk9mviy0e7m9b0lummernlx4ubknkimhebcvlzgm5xe5w38z6livykgb': 20058,\n",
              " 'development': 33818,\n",
              " 'eclipse': 35512,\n",
              " 'bin': 27756,\n",
              " 'shtml': 59925,\n",
              " 'dll': 34399,\n",
              " 'talk': 62865,\n",
              " '00003d95': 535,\n",
              " 'nav': 49729,\n",
              " 'galleries': 38925,\n",
              " 'vespaclubarezzo': 66198,\n",
              " '5e60ngambyooql8gphtd1tjdpxnfhsnimsgiv4xqp5fd3ig': 18616,\n",
              " 'tag': 62799,\n",
              " 'raduno': 56144,\n",
              " 'mens': 48102,\n",
              " 'college': 31307,\n",
              " 'basketball': 26618,\n",
              " '12881331': 3931,\n",
              " 'clemson': 31014,\n",
              " 'tigers': 63753,\n",
              " 'adds': 22868,\n",
              " 'robert': 57636,\n",
              " 'morris': 48970,\n",
              " 'colonials': 31325,\n",
              " 'transfer': 64261,\n",
              " 'marcquise': 47479,\n",
              " 'reed': 56725,\n",
              " 'ictguides': 41877,\n",
              " 'methods': 48236,\n",
              " 'method': 48232,\n",
              " 'jsp': 44024,\n",
              " 'methodid': 48235,\n",
              " '200308': 6827,\n",
              " '0161': 894,\n",
              " 'pages': 52544,\n",
              " 'novice': 50560,\n",
              " '316418': 13127,\n",
              " 'ahr0cdovl3d3dy5pzmstbw90aw9ulmrrl2luzgv4lnbocd9vchrpb249y29tx2nvbnrlbnqmdmlldz1hcnrpy2xljmlkptu5omluzm8tdglslwvuagvkzxitbwvklxzhzxjuzxbsawd0awdljmnhdglkptq3omlmay1icnv0ywwty3jvc3mmsxrlbwlkptcw': 23469,\n",
              " 'insider': 42852,\n",
              " 'mass': 47632,\n",
              " 'collection': 31299,\n",
              " 'cards': 29733,\n",
              " 'gtm': 40270,\n",
              " 'books': 28285,\n",
              " '187': 6024,\n",
              " '99ba29c918e7c64eb5135ca9abb9b4aa9a850636': 21986,\n",
              " 'game': 38954,\n",
              " 'thrones': 63655,\n",
              " 's05e05': 58204,\n",
              " '720p': 19531,\n",
              " 'hdtv': 40830,\n",
              " '0sec': 1606,\n",
              " 'mkv': 48657,\n",
              " '20stuff': 8174,\n",
              " 'google1': 39827,\n",
              " 'google': 39826,\n",
              " 'entrepreneur': 36258,\n",
              " 'famous': 37262,\n",
              " 'effective': 35694,\n",
              " 'hacks': 40474,\n",
              " 'time': 63772,\n",
              " 'start': 61535,\n",
              " 'magazine': 47125,\n",
              " 'digital': 34043,\n",
              " 'michael': 48301,\n",
              " 'sonntag': 60857,\n",
              " 'kindle': 44761,\n",
              " 'ebooks': 35477,\n",
              " 'legal': 45936,\n",
              " 'faehigen': 37190,\n",
              " 'ereadern': 36351,\n",
              " '19226456': 6366,\n",
              " 'cgi': 30306,\n",
              " 'wpa': 67875,\n",
              " 'key': 44597,\n",
              " 'xzkzoda2mjgzmf8xnzk2ntnfndawmdg1mjgwmf8': 68168,\n",
              " 'bg2gtr7cw': 27586,\n",
              " '4278561': 15499,\n",
              " 'sam': 58479,\n",
              " 'altman': 24015,\n",
              " 'lecture': 45910,\n",
              " 'startup': 61549,\n",
              " 'way': 67188,\n",
              " 'stay': 61591,\n",
              " 'strangers': 61830,\n",
              " 'couches': 32132,\n",
              " 'drv': 34975,\n",
              " 'cadastrodacielo': 29392,\n",
              " 'cadastro': 29385,\n",
              " 'or8o6t0gdhrne8b1sszjexs8pe7a56pswxh3rqi69asmh5nawmubkmj01pj5u0xr8etz6c5emx152neya90uut5viozdxw66by5ga0ux7v28jf7tnfoi0tdshd6f0akk0p2kywh5ricayi5myt58miz5v6j5f4ppsraq': 51894,\n",
              " 'status': 61583,\n",
              " '2fero': 11698,\n",
              " '2ft': 12117,\n",
              " '2f7zq02vlaguxiqh7v': 11447,\n",
              " '23ero': 9336,\n",
              " '23douga': 9335,\n",
              " '23agesage': 9332,\n",
              " 'skins': 60308,\n",
              " 'prettyphoto': 54881,\n",
              " 'www': 67964,\n",
              " 'espns': 36502,\n",
              " 'chad': 30322,\n",
              " 'ford': 38240,\n",
              " 'has': 40713,\n",
              " 'been': 27089,\n",
              " 'retroactively': 57317,\n",
              " 'editing': 35599,\n",
              " 'draft': 34816,\n",
              " '1681631642': 5217,\n",
              " '1681658049': 5218,\n",
              " 'bubbaprog': 28816,\n",
              " 'cao': 29655,\n",
              " 'tuoi': 64665,\n",
              " 'nhat': 50155,\n",
              " 'gioi': 39539,\n",
              " 'gui': 40317,\n",
              " 'mau': 47753,\n",
              " 'toc': 63895,\n",
              " 'giam': 39465,\n",
              " 'params': 52733,\n",
              " 'richmedia': 57470,\n",
              " 'yes': 68297,\n",
              " 'location': 46567,\n",
              " 'middle': 48327,\n",
              " 'spacedesc': 61017,\n",
              " 'site': 60207,\n",
              " 'politics': 54210,\n",
              " 'navsection': 49749,\n",
              " '3367': 13767,\n",
              " '110272': 2347,\n",
              " 'country': 32156,\n",
              " 'ita': 43396,\n",
              " 'rand': 56226,\n",
              " '5211123': 17131,\n",
              " 'weblinks': 67263,\n",
              " 'oceanografia': 51352,\n",
              " 'lang': 45663,\n",
              " 'tennis': 63284,\n",
              " '1887410': 6236,\n",
              " 'endi': 36109,\n",
              " 'marrey': 47563,\n",
              " 'mnogie': 48689,\n",
              " 'dumali': 35081,\n",
              " 'chto': 30750,\n",
              " 'eto': 36622,\n",
              " 'shutka': 59939,\n",
              " 'ameli': 24101,\n",
              " 'moresmo': 48959,\n",
              " '5671': 17909,\n",
              " 'non': 50414,\n",
              " 'classe': 30951,\n",
              " 'raisons': 56189,\n",
              " 'pour': 54531,\n",
              " 'lesquelles': 46056,\n",
              " 'les': 46045,\n",
              " 'hommes': 41366,\n",
              " 'sont': 60865,\n",
              " 'fascines': 37325,\n",
              " 'par': 52710,\n",
              " 'seins': 59209,\n",
              " 'href': 41548,\n",
              " 'inner': 42796,\n",
              " 'website': 67291,\n",
              " 'jcalpro': 43686,\n",
              " 'extmode': 36948,\n",
              " 'day': 33124,\n",
              " 'presentation': 54814,\n",
              " 'templates': 63250,\n",
              " 'powerpoint': 54561,\n",
              " 'contactus': 31829,\n",
              " 'dich': 33981,\n",
              " 'cach': 29363,\n",
              " 'mang': 47352,\n",
              " 'lai': 45591,\n",
              " 'man': 47323,\n",
              " 'cho': 30673,\n",
              " 'con': 31572,\n",
              " 'giap': 39480,\n",
              " 'trong': 64490,\n",
              " '186649': 6004,\n",
              " 'geographically': 39298,\n",
              " 'redundant': 56720,\n",
              " 'servers': 59444,\n",
              " 'engines': 36166,\n",
              " 'recovery': 56626,\n",
              " 'solution': 60807,\n",
              " 'vzorvannoi': 66973,\n",
              " 'shahty': 59615,\n",
              " 'donecke': 34656,\n",
              " 'pytautsia': 55779,\n",
              " 'spasti': 61064,\n",
              " 'shahterov': 59613,\n",
              " 'word': 67807,\n",
              " 'term': 63320,\n",
              " '1359': 4151,\n",
              " 'veicoli': 65983,\n",
              " 'commerciali': 31430,\n",
              " 'tin': 63793,\n",
              " 'tuc': 64619,\n",
              " 'tuyen': 64730,\n",
              " 'sinh': 60165,\n",
              " 'chen': 30527,\n",
              " 'lan': 45632,\n",
              " 'ngop': 50127,\n",
              " 'tho': 63603,\n",
              " 'mua': 49171,\n",
              " 'lop': 46712,\n",
              " 'luong': 46911,\n",
              " 'vinh': 66423,\n",
              " '486867': 16284,\n",
              " 'revslider': 57393,\n",
              " 'plugin': 54001,\n",
              " 'jquery': 44001,\n",
              " 'themepunch': 63519,\n",
              " 'tools': 63976,\n",
              " 'rev': 57347,\n",
              " 'apps': 24638,\n",
              " '2012': 7005,\n",
              " 'buysellads': 29065,\n",
              " 'launches': 45775,\n",
              " 'consolidating': 31765,\n",
              " ...}"
            ]
          },
          "metadata": {
            "tags": []
          },
          "execution_count": 141
        }
      ]
    },
    {
      "cell_type": "code",
      "metadata": {
        "id": "LeplIgDPvyrx",
        "colab_type": "code",
        "outputId": "5627041b-eb7e-4374-d092-879f576bd68d",
        "colab": {
          "base_uri": "https://localhost:8080/",
          "height": 35
        }
      },
      "source": [
        "from sklearn.naive_bayes import MultinomialNB\n",
        "nb = MultinomialNB()\n",
        "nb.fit(x_train_t, y_train)"
      ],
      "execution_count": 0,
      "outputs": [
        {
          "output_type": "execute_result",
          "data": {
            "text/plain": [
              "MultinomialNB(alpha=1.0, class_prior=None, fit_prior=True)"
            ]
          },
          "metadata": {
            "tags": []
          },
          "execution_count": 142
        }
      ]
    },
    {
      "cell_type": "code",
      "metadata": {
        "id": "N1Ri0W7cwLEG",
        "colab_type": "code",
        "outputId": "3174f7bb-61d3-4879-a8e4-6294fe4b5808",
        "colab": {
          "base_uri": "https://localhost:8080/",
          "height": 54
        }
      },
      "source": [
        "x_test_t = vectorized.transform(x_test)\n",
        "x_test_t"
      ],
      "execution_count": 0,
      "outputs": [
        {
          "output_type": "execute_result",
          "data": {
            "text/plain": [
              "<29340x68979 sparse matrix of type '<class 'numpy.int64'>'\n",
              "\twith 203871 stored elements in Compressed Sparse Row format>"
            ]
          },
          "metadata": {
            "tags": []
          },
          "execution_count": 143
        }
      ]
    },
    {
      "cell_type": "code",
      "metadata": {
        "id": "NWkp3gAqwrOu",
        "colab_type": "code",
        "colab": {}
      },
      "source": [
        "y_pred = nb.predict(x_test_t)"
      ],
      "execution_count": 0,
      "outputs": []
    },
    {
      "cell_type": "code",
      "metadata": {
        "id": "PvcM88wiwwRy",
        "colab_type": "code",
        "outputId": "e7d8f9e4-832f-4f9b-b5fa-c5fe75569997",
        "colab": {
          "base_uri": "https://localhost:8080/",
          "height": 35
        }
      },
      "source": [
        "metrics.accuracy_score(y_test, y_pred)"
      ],
      "execution_count": 0,
      "outputs": [
        {
          "output_type": "execute_result",
          "data": {
            "text/plain": [
              "0.9585207907293797"
            ]
          },
          "metadata": {
            "tags": []
          },
          "execution_count": 145
        }
      ]
    },
    {
      "cell_type": "code",
      "metadata": {
        "id": "PsQ0VigBxq_w",
        "colab_type": "code",
        "outputId": "d8ca8b0b-e9bf-4a2a-863d-8289449e05b4",
        "colab": {
          "base_uri": "https://localhost:8080/",
          "height": 54
        }
      },
      "source": [
        "metrics.confusion_matrix(y_test, y_pred)"
      ],
      "execution_count": 0,
      "outputs": [
        {
          "output_type": "execute_result",
          "data": {
            "text/plain": [
              "array([[11111,   564],\n",
              "       [  653, 17012]])"
            ]
          },
          "metadata": {
            "tags": []
          },
          "execution_count": 146
        }
      ]
    },
    {
      "cell_type": "code",
      "metadata": {
        "id": "X5rISo0l9OhA",
        "colab_type": "code",
        "outputId": "0f6485f0-e09d-4b76-d0a3-d9f4f4c43c88",
        "colab": {
          "base_uri": "https://localhost:8080/",
          "height": 146
        }
      },
      "source": [
        "#dobijamo predvidjene verovatnoce za pripadnost klasi 0 i 1, respektivno\n",
        "#klasa 0 znaci label = 0 \n",
        "y_pred_proba = nb.predict_proba(x_test_t)\n",
        "y_pred_proba"
      ],
      "execution_count": 0,
      "outputs": [
        {
          "output_type": "execute_result",
          "data": {
            "text/plain": [
              "array([[2.80778981e-02, 9.71922102e-01],\n",
              "       [6.26072623e-01, 3.73927377e-01],\n",
              "       [3.75271844e-13, 1.00000000e+00],\n",
              "       ...,\n",
              "       [5.78716015e-01, 4.21283985e-01],\n",
              "       [3.97285583e-02, 9.60271442e-01],\n",
              "       [4.58491019e-02, 9.54150898e-01]])"
            ]
          },
          "metadata": {
            "tags": []
          },
          "execution_count": 147
        }
      ]
    },
    {
      "cell_type": "code",
      "metadata": {
        "id": "aC036C-wDKMW",
        "colab_type": "code",
        "colab": {}
      },
      "source": [
        "y_pred_proba_0 = y_pred_proba[:, 0]\n",
        "y_pred_proba_1 = y_pred_proba[:, 1]"
      ],
      "execution_count": 0,
      "outputs": []
    },
    {
      "cell_type": "code",
      "metadata": {
        "id": "crhQyDxXL45G",
        "colab_type": "code",
        "outputId": "e332a0d3-3c23-41e6-e56a-59741724da8d",
        "colab": {
          "base_uri": "https://localhost:8080/",
          "height": 206
        }
      },
      "source": [
        "#pravimo dataframe od x_test jer hocemo dobijene verovatnoce da koristimo kao feature za SVM i RF\n",
        "df_test = x_test.to_frame()\n",
        "df_test.head()"
      ],
      "execution_count": 0,
      "outputs": [
        {
          "output_type": "execute_result",
          "data": {
            "text/html": [
              "<div>\n",
              "<style scoped>\n",
              "    .dataframe tbody tr th:only-of-type {\n",
              "        vertical-align: middle;\n",
              "    }\n",
              "\n",
              "    .dataframe tbody tr th {\n",
              "        vertical-align: top;\n",
              "    }\n",
              "\n",
              "    .dataframe thead th {\n",
              "        text-align: right;\n",
              "    }\n",
              "</style>\n",
              "<table border=\"1\" class=\"dataframe\">\n",
              "  <thead>\n",
              "    <tr style=\"text-align: right;\">\n",
              "      <th></th>\n",
              "      <th>deep url</th>\n",
              "    </tr>\n",
              "  </thead>\n",
              "  <tbody>\n",
              "    <tr>\n",
              "      <th>41395</th>\n",
              "      <td>2007 296092 html</td>\n",
              "    </tr>\n",
              "    <tr>\n",
              "      <th>27232</th>\n",
              "      <td>news VideoDisplay 411547 html</td>\n",
              "    </tr>\n",
              "    <tr>\n",
              "      <th>67972</th>\n",
              "      <td>rugs product reviews php products 919 osCsid 0...</td>\n",
              "    </tr>\n",
              "    <tr>\n",
              "      <th>12404</th>\n",
              "      <td>lactation support lactation consultation</td>\n",
              "    </tr>\n",
              "    <tr>\n",
              "      <th>67870</th>\n",
              "      <td>bbs php table torrent song 46799 page</td>\n",
              "    </tr>\n",
              "  </tbody>\n",
              "</table>\n",
              "</div>"
            ],
            "text/plain": [
              "                                                deep url\n",
              "41395                                   2007 296092 html\n",
              "27232                      news VideoDisplay 411547 html\n",
              "67972  rugs product reviews php products 919 osCsid 0...\n",
              "12404           lactation support lactation consultation\n",
              "67870              bbs php table torrent song 46799 page"
            ]
          },
          "metadata": {
            "tags": []
          },
          "execution_count": 149
        }
      ]
    },
    {
      "cell_type": "code",
      "metadata": {
        "id": "WoLI9s4VNnU4",
        "colab_type": "code",
        "outputId": "31a38b0f-e287-4a36-f271-baf31e332e8b",
        "colab": {
          "base_uri": "https://localhost:8080/",
          "height": 206
        }
      },
      "source": [
        "df_test['label_proba_0'] = y_pred_proba_0\n",
        "df_test['label_proba_1'] = y_pred_proba_1\n",
        "df_test.head()"
      ],
      "execution_count": 0,
      "outputs": [
        {
          "output_type": "execute_result",
          "data": {
            "text/html": [
              "<div>\n",
              "<style scoped>\n",
              "    .dataframe tbody tr th:only-of-type {\n",
              "        vertical-align: middle;\n",
              "    }\n",
              "\n",
              "    .dataframe tbody tr th {\n",
              "        vertical-align: top;\n",
              "    }\n",
              "\n",
              "    .dataframe thead th {\n",
              "        text-align: right;\n",
              "    }\n",
              "</style>\n",
              "<table border=\"1\" class=\"dataframe\">\n",
              "  <thead>\n",
              "    <tr style=\"text-align: right;\">\n",
              "      <th></th>\n",
              "      <th>deep url</th>\n",
              "      <th>label_proba_0</th>\n",
              "      <th>label_proba_1</th>\n",
              "    </tr>\n",
              "  </thead>\n",
              "  <tbody>\n",
              "    <tr>\n",
              "      <th>41395</th>\n",
              "      <td>2007 296092 html</td>\n",
              "      <td>2.807790e-02</td>\n",
              "      <td>0.971922</td>\n",
              "    </tr>\n",
              "    <tr>\n",
              "      <th>27232</th>\n",
              "      <td>news VideoDisplay 411547 html</td>\n",
              "      <td>6.260726e-01</td>\n",
              "      <td>0.373927</td>\n",
              "    </tr>\n",
              "    <tr>\n",
              "      <th>67972</th>\n",
              "      <td>rugs product reviews php products 919 osCsid 0...</td>\n",
              "      <td>3.752718e-13</td>\n",
              "      <td>1.000000</td>\n",
              "    </tr>\n",
              "    <tr>\n",
              "      <th>12404</th>\n",
              "      <td>lactation support lactation consultation</td>\n",
              "      <td>6.845361e-02</td>\n",
              "      <td>0.931546</td>\n",
              "    </tr>\n",
              "    <tr>\n",
              "      <th>67870</th>\n",
              "      <td>bbs php table torrent song 46799 page</td>\n",
              "      <td>9.999475e-01</td>\n",
              "      <td>0.000052</td>\n",
              "    </tr>\n",
              "  </tbody>\n",
              "</table>\n",
              "</div>"
            ],
            "text/plain": [
              "                                                deep url  ...  label_proba_1\n",
              "41395                                   2007 296092 html  ...       0.971922\n",
              "27232                      news VideoDisplay 411547 html  ...       0.373927\n",
              "67972  rugs product reviews php products 919 osCsid 0...  ...       1.000000\n",
              "12404           lactation support lactation consultation  ...       0.931546\n",
              "67870              bbs php table torrent song 46799 page  ...       0.000052\n",
              "\n",
              "[5 rows x 3 columns]"
            ]
          },
          "metadata": {
            "tags": []
          },
          "execution_count": 150
        }
      ]
    },
    {
      "cell_type": "code",
      "metadata": {
        "id": "zGsyuKAtRd5w",
        "colab_type": "code",
        "outputId": "79d38f86-e83a-40be-af4c-a007562082b0",
        "colab": {
          "base_uri": "https://localhost:8080/",
          "height": 206
        }
      },
      "source": [
        "#radicemo join sa originalnim datasetom pa nam ne treba deep url kolona\n",
        "df_test = df_test.drop('deep url', axis = 1)\n",
        "df_test.head()"
      ],
      "execution_count": 0,
      "outputs": [
        {
          "output_type": "execute_result",
          "data": {
            "text/html": [
              "<div>\n",
              "<style scoped>\n",
              "    .dataframe tbody tr th:only-of-type {\n",
              "        vertical-align: middle;\n",
              "    }\n",
              "\n",
              "    .dataframe tbody tr th {\n",
              "        vertical-align: top;\n",
              "    }\n",
              "\n",
              "    .dataframe thead th {\n",
              "        text-align: right;\n",
              "    }\n",
              "</style>\n",
              "<table border=\"1\" class=\"dataframe\">\n",
              "  <thead>\n",
              "    <tr style=\"text-align: right;\">\n",
              "      <th></th>\n",
              "      <th>label_proba_0</th>\n",
              "      <th>label_proba_1</th>\n",
              "    </tr>\n",
              "  </thead>\n",
              "  <tbody>\n",
              "    <tr>\n",
              "      <th>41395</th>\n",
              "      <td>2.807790e-02</td>\n",
              "      <td>0.971922</td>\n",
              "    </tr>\n",
              "    <tr>\n",
              "      <th>27232</th>\n",
              "      <td>6.260726e-01</td>\n",
              "      <td>0.373927</td>\n",
              "    </tr>\n",
              "    <tr>\n",
              "      <th>67972</th>\n",
              "      <td>3.752718e-13</td>\n",
              "      <td>1.000000</td>\n",
              "    </tr>\n",
              "    <tr>\n",
              "      <th>12404</th>\n",
              "      <td>6.845361e-02</td>\n",
              "      <td>0.931546</td>\n",
              "    </tr>\n",
              "    <tr>\n",
              "      <th>67870</th>\n",
              "      <td>9.999475e-01</td>\n",
              "      <td>0.000052</td>\n",
              "    </tr>\n",
              "  </tbody>\n",
              "</table>\n",
              "</div>"
            ],
            "text/plain": [
              "       label_proba_0  label_proba_1\n",
              "41395   2.807790e-02       0.971922\n",
              "27232   6.260726e-01       0.373927\n",
              "67972   3.752718e-13       1.000000\n",
              "12404   6.845361e-02       0.931546\n",
              "67870   9.999475e-01       0.000052"
            ]
          },
          "metadata": {
            "tags": []
          },
          "execution_count": 151
        }
      ]
    },
    {
      "cell_type": "code",
      "metadata": {
        "id": "gH3UxVnwRKYp",
        "colab_type": "code",
        "outputId": "1d3519a3-408d-4073-8de1-e2bd0b4be6a5",
        "colab": {
          "base_uri": "https://localhost:8080/",
          "height": 276
        }
      },
      "source": [
        "#join sa originalnim datasetom - radi join po indeksu, a dodeljuje nan vrednosti u redovima koji nisu u x_test\n",
        "final_ds = ds_comb.join(df_test)\n",
        "final_ds.head()"
      ],
      "execution_count": 0,
      "outputs": [
        {
          "output_type": "execute_result",
          "data": {
            "text/html": [
              "<div>\n",
              "<style scoped>\n",
              "    .dataframe tbody tr th:only-of-type {\n",
              "        vertical-align: middle;\n",
              "    }\n",
              "\n",
              "    .dataframe tbody tr th {\n",
              "        vertical-align: top;\n",
              "    }\n",
              "\n",
              "    .dataframe thead th {\n",
              "        text-align: right;\n",
              "    }\n",
              "</style>\n",
              "<table border=\"1\" class=\"dataframe\">\n",
              "  <thead>\n",
              "    <tr style=\"text-align: right;\">\n",
              "      <th></th>\n",
              "      <th>url</th>\n",
              "      <th>label</th>\n",
              "      <th>deep url</th>\n",
              "      <th>len deep url</th>\n",
              "      <th>label_proba_0</th>\n",
              "      <th>label_proba_1</th>\n",
              "    </tr>\n",
              "  </thead>\n",
              "  <tbody>\n",
              "    <tr>\n",
              "      <th>0</th>\n",
              "      <td>http://censor.net.ua/video_news/335031/miting_...</td>\n",
              "      <td>0</td>\n",
              "      <td>video news 335031 miting protiv demilitarizats...</td>\n",
              "      <td>85</td>\n",
              "      <td>0.999985</td>\n",
              "      <td>0.000015</td>\n",
              "    </tr>\n",
              "    <tr>\n",
              "      <th>1</th>\n",
              "      <td>http://digg.com/video/four-realistic-predictio...</td>\n",
              "      <td>0</td>\n",
              "      <td>video four realistic predictions about where t...</td>\n",
              "      <td>74</td>\n",
              "      <td>NaN</td>\n",
              "      <td>NaN</td>\n",
              "    </tr>\n",
              "    <tr>\n",
              "      <th>2</th>\n",
              "      <td>http://9779.info/%E5%B9%BC%E5%84%BF%E5%9B%AD%E...</td>\n",
              "      <td>1</td>\n",
              "      <td></td>\n",
              "      <td>83</td>\n",
              "      <td>0.397908</td>\n",
              "      <td>0.602092</td>\n",
              "    </tr>\n",
              "    <tr>\n",
              "      <th>3</th>\n",
              "      <td>http://www.centerimoveis.com.br/fale-conosco/t...</td>\n",
              "      <td>1</td>\n",
              "      <td>fale conosco trabalhe html</td>\n",
              "      <td>27</td>\n",
              "      <td>NaN</td>\n",
              "      <td>NaN</td>\n",
              "    </tr>\n",
              "    <tr>\n",
              "      <th>4</th>\n",
              "      <td>http://archive.salisburyjournal.co.uk/2000/10/...</td>\n",
              "      <td>1</td>\n",
              "      <td>2000 233583 html</td>\n",
              "      <td>23</td>\n",
              "      <td>NaN</td>\n",
              "      <td>NaN</td>\n",
              "    </tr>\n",
              "  </tbody>\n",
              "</table>\n",
              "</div>"
            ],
            "text/plain": [
              "                                                 url  ...  label_proba_1\n",
              "0  http://censor.net.ua/video_news/335031/miting_...  ...       0.000015\n",
              "1  http://digg.com/video/four-realistic-predictio...  ...            NaN\n",
              "2  http://9779.info/%E5%B9%BC%E5%84%BF%E5%9B%AD%E...  ...       0.602092\n",
              "3  http://www.centerimoveis.com.br/fale-conosco/t...  ...            NaN\n",
              "4  http://archive.salisburyjournal.co.uk/2000/10/...  ...            NaN\n",
              "\n",
              "[5 rows x 6 columns]"
            ]
          },
          "metadata": {
            "tags": []
          },
          "execution_count": 152
        }
      ]
    },
    {
      "cell_type": "code",
      "metadata": {
        "id": "JN3XuHP_SHQ8",
        "colab_type": "code",
        "outputId": "35110a67-2326-4cfc-a72b-d121b835e054",
        "colab": {
          "base_uri": "https://localhost:8080/",
          "height": 219
        }
      },
      "source": [
        "#izbacujemo redove sa nan vrednostima i resetujemo index da bi sad radili sa novim datasetom predikciju za SVM i RF\n",
        "final_ds = final_ds.dropna()\n",
        "final_ds = final_ds.reset_index(drop=True)\n",
        "final_ds.info()"
      ],
      "execution_count": 0,
      "outputs": [
        {
          "output_type": "stream",
          "text": [
            "<class 'pandas.core.frame.DataFrame'>\n",
            "RangeIndex: 29340 entries, 0 to 29339\n",
            "Data columns (total 6 columns):\n",
            "url              29340 non-null object\n",
            "label            29340 non-null int64\n",
            "deep url         29340 non-null object\n",
            "len deep url     29340 non-null int64\n",
            "label_proba_0    29340 non-null float64\n",
            "label_proba_1    29340 non-null float64\n",
            "dtypes: float64(2), int64(2), object(2)\n",
            "memory usage: 1.3+ MB\n"
          ],
          "name": "stdout"
        }
      ]
    },
    {
      "cell_type": "code",
      "metadata": {
        "id": "19-O-vqcFxGs",
        "colab_type": "code",
        "colab": {}
      },
      "source": [
        "#dodajemo kolone za duzinu domain-a i suffix\n",
        "\n",
        "def get_len_of_domain_url(url):\n",
        "  ext = tldextract.extract(url)\n",
        "  return len(ext.domain)\n",
        "    \n",
        "def get_suffix_url(url):\n",
        "  ext = tldextract.extract(url)\n",
        "  return str(ext.suffix)\n",
        "\n",
        "final_ds['len of domain'] = final_ds['url'].apply(lambda x : get_len_of_domain_url(x))\n",
        "final_ds['suffix'] = final_ds['url'].apply(lambda x : get_suffix_url(x))"
      ],
      "execution_count": 0,
      "outputs": []
    },
    {
      "cell_type": "code",
      "metadata": {
        "id": "4D4bxXloH1l4",
        "colab_type": "code",
        "colab": {}
      },
      "source": [
        "#suffix kolona (top level domain-tld u radu) ima previse razlicitih vrednosti i radi se cutoff za frekvenciju < 50  \n",
        "minFreq = 50 \n",
        "suffix_values = final_ds['suffix'].value_counts() # Specific column \n",
        "to_remove = suffix_values[suffix_values <= minFreq].index\n",
        "final_ds['suffix'].replace(to_remove, np.nan, inplace=True)"
      ],
      "execution_count": 0,
      "outputs": []
    },
    {
      "cell_type": "code",
      "metadata": {
        "id": "JKQUO0q5Ir-i",
        "colab_type": "code",
        "outputId": "96901d9e-59e0-48a6-e83b-5e9dc1bd680b",
        "colab": {
          "base_uri": "https://localhost:8080/",
          "height": 935
        }
      },
      "source": [
        "#sada imamo nedostajuce vrednosti(nan) u koloni suffix, pa izbacujemo takve redove i resetujemo index\n",
        "final_ds = final_ds.dropna()\n",
        "final_ds = final_ds.reset_index(drop=True)\n",
        "final_ds['suffix'].value_counts()"
      ],
      "execution_count": 0,
      "outputs": [
        {
          "output_type": "execute_result",
          "data": {
            "text/plain": [
              "com       12046\n",
              "co.uk      3353\n",
              "net        2218\n",
              "info       1364\n",
              "de          827\n",
              "ac.uk       825\n",
              "org         679\n",
              "com.br      616\n",
              "ru          541\n",
              "pl          461\n",
              "nl          426\n",
              "vn          413\n",
              "it          355\n",
              "cc          304\n",
              "jp          238\n",
              "ro          229\n",
              "com.au      215\n",
              "net.ua      160\n",
              "com.vn      156\n",
              "org.uk      152\n",
              "gr          145\n",
              "co.id       142\n",
              "fr          139\n",
              "eu          132\n",
              "cn          129\n",
              "in          120\n",
              "ua          118\n",
              "to          113\n",
              "gov.uk      110\n",
              "ir          108\n",
              "es           98\n",
              "asia         96\n",
              "ch           90\n",
              "tv           88\n",
              "com.my       86\n",
              "net.vn       86\n",
              "cz           84\n",
              "at           79\n",
              "hu           78\n",
              "dk           74\n",
              "cl           73\n",
              "com.ua       70\n",
              "gov.br       69\n",
              "co.za        67\n",
              "             63\n",
              "com.ar       60\n",
              "be           56\n",
              "com.cn       53\n",
              "sk           51\n",
              "Name: suffix, dtype: int64"
            ]
          },
          "metadata": {
            "tags": []
          },
          "execution_count": 156
        }
      ]
    },
    {
      "cell_type": "code",
      "metadata": {
        "id": "jpVbxK7pTTse",
        "colab_type": "code",
        "outputId": "028d596e-2037-460d-a9a7-312361aa8539",
        "colab": {
          "base_uri": "https://localhost:8080/",
          "height": 585
        }
      },
      "source": [
        "fig = plt.figure(figsize=(15,8))\n",
        "fig.add_subplot(1,2,1)  \n",
        "plt.title('Top level domain za dobre url-ove')\n",
        "sns.countplot(y = final_ds[final_ds['label']==0]['suffix'], order = final_ds[final_ds['label']==0]['suffix'].value_counts().index)\n",
        "fig.add_subplot(1,2,2) \n",
        "plt.title('Top level domain za stetne url-ove')\n",
        "sns.countplot(y = final_ds[final_ds['label']==1]['suffix'],order = final_ds[final_ds['label']==1]['suffix'].value_counts().index) \n",
        "plt.tight_layout()\n",
        "plt.show()"
      ],
      "execution_count": 0,
      "outputs": [
        {
          "output_type": "display_data",
          "data": {
            "image/png": "[encoded data removed]",
            "text/plain": [
              "<Figure size 1080x576 with 2 Axes>"
            ]
          },
          "metadata": {
            "tags": []
          }
        }
      ]
    },
    {
      "cell_type": "code",
      "metadata": {
        "id": "PhO7Nu7xajip",
        "colab_type": "code",
        "outputId": "b5975895-3c7d-4908-a2c1-ee92bd3264c2",
        "colab": {
          "base_uri": "https://localhost:8080/",
          "height": 369
        }
      },
      "source": [
        "fig = plt.figure(figsize=(15,5))\n",
        "fig.add_subplot(1,2,1)  \n",
        "plt.title('Raspodela duzine deep url-a kod dobrih url-ova')\n",
        "plt.hist(final_ds[final_ds['label']==0]['len deep url'], log = True, color = 'steelblue', bins=100)\n",
        "plt.ylabel(\"frequency (log)\")\n",
        "plt.xlabel(\"len deep url\")\n",
        "fig.add_subplot(1,2,2) \n",
        "plt.title('Raspodela duzine deep url-a kod stetnih url-ova')\n",
        "plt.hist(final_ds[final_ds['label']==1]['len deep url'], log = True, color = 'steelblue', bins=100)\n",
        "plt.ylabel(\"frequency (log)\")\n",
        "plt.xlabel(\"len deep url\")\n",
        "plt.tight_layout()\n",
        "plt.show()"
      ],
      "execution_count": 0,
      "outputs": [
        {
          "output_type": "display_data",
          "data": {
            "image/png": "[encoded data removed]",
            "text/plain": [
              "<Figure size 1080x360 with 2 Axes>"
            ]
          },
          "metadata": {
            "tags": []
          }
        }
      ]
    },
    {
      "cell_type": "code",
      "metadata": {
        "id": "tpFHxh58SNiI",
        "colab_type": "code",
        "outputId": "688a0d6a-fa24-4a6f-fe03-6c8f785d8f9e",
        "colab": {
          "base_uri": "https://localhost:8080/",
          "height": 261
        }
      },
      "source": [
        "#izbacujemo nepotrebne kolone (url, deep url) i enkodiramo kategoricku promenljivu suffix, kao u radu\n",
        "final_ds = final_ds.drop(['url', 'deep url'], axis = 1)\n",
        "final_ds = pd.get_dummies(final_ds, prefix = ['suffix'], columns = ['suffix'])\n",
        "final_ds.head()"
      ],
      "execution_count": 0,
      "outputs": [
        {
          "output_type": "execute_result",
          "data": {
            "text/html": [
              "<div>\n",
              "<style scoped>\n",
              "    .dataframe tbody tr th:only-of-type {\n",
              "        vertical-align: middle;\n",
              "    }\n",
              "\n",
              "    .dataframe tbody tr th {\n",
              "        vertical-align: top;\n",
              "    }\n",
              "\n",
              "    .dataframe thead th {\n",
              "        text-align: right;\n",
              "    }\n",
              "</style>\n",
              "<table border=\"1\" class=\"dataframe\">\n",
              "  <thead>\n",
              "    <tr style=\"text-align: right;\">\n",
              "      <th></th>\n",
              "      <th>label</th>\n",
              "      <th>len deep url</th>\n",
              "      <th>label_proba_0</th>\n",
              "      <th>label_proba_1</th>\n",
              "      <th>len of domain</th>\n",
              "      <th>suffix_</th>\n",
              "      <th>suffix_ac.uk</th>\n",
              "      <th>suffix_asia</th>\n",
              "      <th>suffix_at</th>\n",
              "      <th>suffix_be</th>\n",
              "      <th>suffix_cc</th>\n",
              "      <th>suffix_ch</th>\n",
              "      <th>suffix_cl</th>\n",
              "      <th>suffix_cn</th>\n",
              "      <th>suffix_co.id</th>\n",
              "      <th>suffix_co.uk</th>\n",
              "      <th>suffix_co.za</th>\n",
              "      <th>suffix_com</th>\n",
              "      <th>suffix_com.ar</th>\n",
              "      <th>suffix_com.au</th>\n",
              "      <th>suffix_com.br</th>\n",
              "      <th>suffix_com.cn</th>\n",
              "      <th>suffix_com.my</th>\n",
              "      <th>suffix_com.ua</th>\n",
              "      <th>suffix_com.vn</th>\n",
              "      <th>suffix_cz</th>\n",
              "      <th>suffix_de</th>\n",
              "      <th>suffix_dk</th>\n",
              "      <th>suffix_es</th>\n",
              "      <th>suffix_eu</th>\n",
              "      <th>suffix_fr</th>\n",
              "      <th>suffix_gov.br</th>\n",
              "      <th>suffix_gov.uk</th>\n",
              "      <th>suffix_gr</th>\n",
              "      <th>suffix_hu</th>\n",
              "      <th>suffix_in</th>\n",
              "      <th>suffix_info</th>\n",
              "      <th>suffix_ir</th>\n",
              "      <th>suffix_it</th>\n",
              "      <th>suffix_jp</th>\n",
              "      <th>suffix_net</th>\n",
              "      <th>suffix_net.ua</th>\n",
              "      <th>suffix_net.vn</th>\n",
              "      <th>suffix_nl</th>\n",
              "      <th>suffix_org</th>\n",
              "      <th>suffix_org.uk</th>\n",
              "      <th>suffix_pl</th>\n",
              "      <th>suffix_ro</th>\n",
              "      <th>suffix_ru</th>\n",
              "      <th>suffix_sk</th>\n",
              "      <th>suffix_to</th>\n",
              "      <th>suffix_tv</th>\n",
              "      <th>suffix_ua</th>\n",
              "      <th>suffix_vn</th>\n",
              "    </tr>\n",
              "  </thead>\n",
              "  <tbody>\n",
              "    <tr>\n",
              "      <th>0</th>\n",
              "      <td>0</td>\n",
              "      <td>85</td>\n",
              "      <td>9.999850e-01</td>\n",
              "      <td>0.000015</td>\n",
              "      <td>6</td>\n",
              "      <td>0</td>\n",
              "      <td>0</td>\n",
              "      <td>0</td>\n",
              "      <td>0</td>\n",
              "      <td>0</td>\n",
              "      <td>0</td>\n",
              "      <td>0</td>\n",
              "      <td>0</td>\n",
              "      <td>0</td>\n",
              "      <td>0</td>\n",
              "      <td>0</td>\n",
              "      <td>0</td>\n",
              "      <td>0</td>\n",
              "      <td>0</td>\n",
              "      <td>0</td>\n",
              "      <td>0</td>\n",
              "      <td>0</td>\n",
              "      <td>0</td>\n",
              "      <td>0</td>\n",
              "      <td>0</td>\n",
              "      <td>0</td>\n",
              "      <td>0</td>\n",
              "      <td>0</td>\n",
              "      <td>0</td>\n",
              "      <td>0</td>\n",
              "      <td>0</td>\n",
              "      <td>0</td>\n",
              "      <td>0</td>\n",
              "      <td>0</td>\n",
              "      <td>0</td>\n",
              "      <td>0</td>\n",
              "      <td>0</td>\n",
              "      <td>0</td>\n",
              "      <td>0</td>\n",
              "      <td>0</td>\n",
              "      <td>0</td>\n",
              "      <td>1</td>\n",
              "      <td>0</td>\n",
              "      <td>0</td>\n",
              "      <td>0</td>\n",
              "      <td>0</td>\n",
              "      <td>0</td>\n",
              "      <td>0</td>\n",
              "      <td>0</td>\n",
              "      <td>0</td>\n",
              "      <td>0</td>\n",
              "      <td>0</td>\n",
              "      <td>0</td>\n",
              "      <td>0</td>\n",
              "    </tr>\n",
              "    <tr>\n",
              "      <th>1</th>\n",
              "      <td>1</td>\n",
              "      <td>83</td>\n",
              "      <td>3.979083e-01</td>\n",
              "      <td>0.602092</td>\n",
              "      <td>4</td>\n",
              "      <td>0</td>\n",
              "      <td>0</td>\n",
              "      <td>0</td>\n",
              "      <td>0</td>\n",
              "      <td>0</td>\n",
              "      <td>0</td>\n",
              "      <td>0</td>\n",
              "      <td>0</td>\n",
              "      <td>0</td>\n",
              "      <td>0</td>\n",
              "      <td>0</td>\n",
              "      <td>0</td>\n",
              "      <td>0</td>\n",
              "      <td>0</td>\n",
              "      <td>0</td>\n",
              "      <td>0</td>\n",
              "      <td>0</td>\n",
              "      <td>0</td>\n",
              "      <td>0</td>\n",
              "      <td>0</td>\n",
              "      <td>0</td>\n",
              "      <td>0</td>\n",
              "      <td>0</td>\n",
              "      <td>0</td>\n",
              "      <td>0</td>\n",
              "      <td>0</td>\n",
              "      <td>0</td>\n",
              "      <td>0</td>\n",
              "      <td>0</td>\n",
              "      <td>0</td>\n",
              "      <td>0</td>\n",
              "      <td>1</td>\n",
              "      <td>0</td>\n",
              "      <td>0</td>\n",
              "      <td>0</td>\n",
              "      <td>0</td>\n",
              "      <td>0</td>\n",
              "      <td>0</td>\n",
              "      <td>0</td>\n",
              "      <td>0</td>\n",
              "      <td>0</td>\n",
              "      <td>0</td>\n",
              "      <td>0</td>\n",
              "      <td>0</td>\n",
              "      <td>0</td>\n",
              "      <td>0</td>\n",
              "      <td>0</td>\n",
              "      <td>0</td>\n",
              "      <td>0</td>\n",
              "    </tr>\n",
              "    <tr>\n",
              "      <th>2</th>\n",
              "      <td>1</td>\n",
              "      <td>72</td>\n",
              "      <td>1.053125e-11</td>\n",
              "      <td>1.000000</td>\n",
              "      <td>6</td>\n",
              "      <td>0</td>\n",
              "      <td>0</td>\n",
              "      <td>0</td>\n",
              "      <td>0</td>\n",
              "      <td>0</td>\n",
              "      <td>0</td>\n",
              "      <td>0</td>\n",
              "      <td>0</td>\n",
              "      <td>0</td>\n",
              "      <td>0</td>\n",
              "      <td>0</td>\n",
              "      <td>0</td>\n",
              "      <td>1</td>\n",
              "      <td>0</td>\n",
              "      <td>0</td>\n",
              "      <td>0</td>\n",
              "      <td>0</td>\n",
              "      <td>0</td>\n",
              "      <td>0</td>\n",
              "      <td>0</td>\n",
              "      <td>0</td>\n",
              "      <td>0</td>\n",
              "      <td>0</td>\n",
              "      <td>0</td>\n",
              "      <td>0</td>\n",
              "      <td>0</td>\n",
              "      <td>0</td>\n",
              "      <td>0</td>\n",
              "      <td>0</td>\n",
              "      <td>0</td>\n",
              "      <td>0</td>\n",
              "      <td>0</td>\n",
              "      <td>0</td>\n",
              "      <td>0</td>\n",
              "      <td>0</td>\n",
              "      <td>0</td>\n",
              "      <td>0</td>\n",
              "      <td>0</td>\n",
              "      <td>0</td>\n",
              "      <td>0</td>\n",
              "      <td>0</td>\n",
              "      <td>0</td>\n",
              "      <td>0</td>\n",
              "      <td>0</td>\n",
              "      <td>0</td>\n",
              "      <td>0</td>\n",
              "      <td>0</td>\n",
              "      <td>0</td>\n",
              "      <td>0</td>\n",
              "    </tr>\n",
              "    <tr>\n",
              "      <th>3</th>\n",
              "      <td>1</td>\n",
              "      <td>83</td>\n",
              "      <td>3.979083e-01</td>\n",
              "      <td>0.602092</td>\n",
              "      <td>4</td>\n",
              "      <td>0</td>\n",
              "      <td>0</td>\n",
              "      <td>0</td>\n",
              "      <td>0</td>\n",
              "      <td>0</td>\n",
              "      <td>0</td>\n",
              "      <td>0</td>\n",
              "      <td>0</td>\n",
              "      <td>0</td>\n",
              "      <td>0</td>\n",
              "      <td>0</td>\n",
              "      <td>0</td>\n",
              "      <td>0</td>\n",
              "      <td>0</td>\n",
              "      <td>0</td>\n",
              "      <td>0</td>\n",
              "      <td>0</td>\n",
              "      <td>0</td>\n",
              "      <td>0</td>\n",
              "      <td>0</td>\n",
              "      <td>0</td>\n",
              "      <td>0</td>\n",
              "      <td>0</td>\n",
              "      <td>0</td>\n",
              "      <td>0</td>\n",
              "      <td>0</td>\n",
              "      <td>0</td>\n",
              "      <td>0</td>\n",
              "      <td>0</td>\n",
              "      <td>0</td>\n",
              "      <td>0</td>\n",
              "      <td>1</td>\n",
              "      <td>0</td>\n",
              "      <td>0</td>\n",
              "      <td>0</td>\n",
              "      <td>0</td>\n",
              "      <td>0</td>\n",
              "      <td>0</td>\n",
              "      <td>0</td>\n",
              "      <td>0</td>\n",
              "      <td>0</td>\n",
              "      <td>0</td>\n",
              "      <td>0</td>\n",
              "      <td>0</td>\n",
              "      <td>0</td>\n",
              "      <td>0</td>\n",
              "      <td>0</td>\n",
              "      <td>0</td>\n",
              "      <td>0</td>\n",
              "    </tr>\n",
              "    <tr>\n",
              "      <th>4</th>\n",
              "      <td>1</td>\n",
              "      <td>48</td>\n",
              "      <td>5.679100e-02</td>\n",
              "      <td>0.943209</td>\n",
              "      <td>12</td>\n",
              "      <td>0</td>\n",
              "      <td>0</td>\n",
              "      <td>0</td>\n",
              "      <td>0</td>\n",
              "      <td>0</td>\n",
              "      <td>0</td>\n",
              "      <td>0</td>\n",
              "      <td>0</td>\n",
              "      <td>0</td>\n",
              "      <td>0</td>\n",
              "      <td>0</td>\n",
              "      <td>0</td>\n",
              "      <td>1</td>\n",
              "      <td>0</td>\n",
              "      <td>0</td>\n",
              "      <td>0</td>\n",
              "      <td>0</td>\n",
              "      <td>0</td>\n",
              "      <td>0</td>\n",
              "      <td>0</td>\n",
              "      <td>0</td>\n",
              "      <td>0</td>\n",
              "      <td>0</td>\n",
              "      <td>0</td>\n",
              "      <td>0</td>\n",
              "      <td>0</td>\n",
              "      <td>0</td>\n",
              "      <td>0</td>\n",
              "      <td>0</td>\n",
              "      <td>0</td>\n",
              "      <td>0</td>\n",
              "      <td>0</td>\n",
              "      <td>0</td>\n",
              "      <td>0</td>\n",
              "      <td>0</td>\n",
              "      <td>0</td>\n",
              "      <td>0</td>\n",
              "      <td>0</td>\n",
              "      <td>0</td>\n",
              "      <td>0</td>\n",
              "      <td>0</td>\n",
              "      <td>0</td>\n",
              "      <td>0</td>\n",
              "      <td>0</td>\n",
              "      <td>0</td>\n",
              "      <td>0</td>\n",
              "      <td>0</td>\n",
              "      <td>0</td>\n",
              "      <td>0</td>\n",
              "    </tr>\n",
              "  </tbody>\n",
              "</table>\n",
              "</div>"
            ],
            "text/plain": [
              "   label  len deep url  label_proba_0  ...  suffix_tv  suffix_ua  suffix_vn\n",
              "0      0            85   9.999850e-01  ...          0          0          0\n",
              "1      1            83   3.979083e-01  ...          0          0          0\n",
              "2      1            72   1.053125e-11  ...          0          0          0\n",
              "3      1            83   3.979083e-01  ...          0          0          0\n",
              "4      1            48   5.679100e-02  ...          0          0          0\n",
              "\n",
              "[5 rows x 54 columns]"
            ]
          },
          "metadata": {
            "tags": []
          },
          "execution_count": 159
        }
      ]
    },
    {
      "cell_type": "code",
      "metadata": {
        "id": "IBh4YRh6SuYE",
        "colab_type": "code",
        "outputId": "f25e2342-32b5-4967-edc7-e18d2b455f9c",
        "colab": {
          "base_uri": "https://localhost:8080/",
          "height": 1000
        }
      },
      "source": [
        "#prebacujemo kolone u numericke\n",
        "final_ds['len of domain'] = pd.to_numeric(final_ds['len of domain'])\n",
        "final_ds['len deep url'] = pd.to_numeric(final_ds['len deep url'])\n",
        "final_ds.info()"
      ],
      "execution_count": 0,
      "outputs": [
        {
          "output_type": "stream",
          "text": [
            "<class 'pandas.core.frame.DataFrame'>\n",
            "RangeIndex: 28255 entries, 0 to 28254\n",
            "Data columns (total 54 columns):\n",
            "label            28255 non-null int64\n",
            "len deep url     28255 non-null int64\n",
            "label_proba_0    28255 non-null float64\n",
            "label_proba_1    28255 non-null float64\n",
            "len of domain    28255 non-null int64\n",
            "suffix_          28255 non-null uint8\n",
            "suffix_ac.uk     28255 non-null uint8\n",
            "suffix_asia      28255 non-null uint8\n",
            "suffix_at        28255 non-null uint8\n",
            "suffix_be        28255 non-null uint8\n",
            "suffix_cc        28255 non-null uint8\n",
            "suffix_ch        28255 non-null uint8\n",
            "suffix_cl        28255 non-null uint8\n",
            "suffix_cn        28255 non-null uint8\n",
            "suffix_co.id     28255 non-null uint8\n",
            "suffix_co.uk     28255 non-null uint8\n",
            "suffix_co.za     28255 non-null uint8\n",
            "suffix_com       28255 non-null uint8\n",
            "suffix_com.ar    28255 non-null uint8\n",
            "suffix_com.au    28255 non-null uint8\n",
            "suffix_com.br    28255 non-null uint8\n",
            "suffix_com.cn    28255 non-null uint8\n",
            "suffix_com.my    28255 non-null uint8\n",
            "suffix_com.ua    28255 non-null uint8\n",
            "suffix_com.vn    28255 non-null uint8\n",
            "suffix_cz        28255 non-null uint8\n",
            "suffix_de        28255 non-null uint8\n",
            "suffix_dk        28255 non-null uint8\n",
            "suffix_es        28255 non-null uint8\n",
            "suffix_eu        28255 non-null uint8\n",
            "suffix_fr        28255 non-null uint8\n",
            "suffix_gov.br    28255 non-null uint8\n",
            "suffix_gov.uk    28255 non-null uint8\n",
            "suffix_gr        28255 non-null uint8\n",
            "suffix_hu        28255 non-null uint8\n",
            "suffix_in        28255 non-null uint8\n",
            "suffix_info      28255 non-null uint8\n",
            "suffix_ir        28255 non-null uint8\n",
            "suffix_it        28255 non-null uint8\n",
            "suffix_jp        28255 non-null uint8\n",
            "suffix_net       28255 non-null uint8\n",
            "suffix_net.ua    28255 non-null uint8\n",
            "suffix_net.vn    28255 non-null uint8\n",
            "suffix_nl        28255 non-null uint8\n",
            "suffix_org       28255 non-null uint8\n",
            "suffix_org.uk    28255 non-null uint8\n",
            "suffix_pl        28255 non-null uint8\n",
            "suffix_ro        28255 non-null uint8\n",
            "suffix_ru        28255 non-null uint8\n",
            "suffix_sk        28255 non-null uint8\n",
            "suffix_to        28255 non-null uint8\n",
            "suffix_tv        28255 non-null uint8\n",
            "suffix_ua        28255 non-null uint8\n",
            "suffix_vn        28255 non-null uint8\n",
            "dtypes: float64(2), int64(3), uint8(49)\n",
            "memory usage: 2.4 MB\n"
          ],
          "name": "stdout"
        }
      ]
    },
    {
      "cell_type": "code",
      "metadata": {
        "id": "PxHpSzSfX_2E",
        "colab_type": "code",
        "colab": {}
      },
      "source": [
        "#uzimamo X i y za RandomForest\n",
        "X_rf = final_ds.drop(['label'],axis=1) \n",
        "y_rf = final_ds['label']\n",
        "\n",
        "#train test split\n",
        "X_train_rf, X_test_rf, y_train_rf, y_test_rf = train_test_split(X_rf, y_rf, test_size=0.1, random_state=42)"
      ],
      "execution_count": 0,
      "outputs": []
    },
    {
      "cell_type": "code",
      "metadata": {
        "id": "sr7CoiTjb3yM",
        "colab_type": "code",
        "outputId": "65ab38d4-3ab6-4ba6-c1d5-a356ffceb410",
        "colab": {
          "base_uri": "https://localhost:8080/",
          "height": 256
        }
      },
      "source": [
        "from sklearn.preprocessing import StandardScaler \n",
        "scaler = StandardScaler()\n",
        "scaler.fit(X_train_rf)\n",
        "scaler.transform(X_train_rf)\n",
        "scaler.transform(X_test_rf)"
      ],
      "execution_count": 0,
      "outputs": [
        {
          "output_type": "execute_result",
          "data": {
            "text/plain": [
              "array([[-0.77507905, -0.86096366,  0.86096366, ..., -0.05511112,\n",
              "        -0.06408287, -0.12234243],\n",
              "       [-0.34106105, -0.94005643,  0.94005643, ..., -0.05511112,\n",
              "        -0.06408287, -0.12234243],\n",
              "       [-0.20064346, -0.94672924,  0.94672924, ..., -0.05511112,\n",
              "        -0.06408287, -0.12234243],\n",
              "       ...,\n",
              "       [-0.29000011, -0.94677968,  0.94677968, ..., -0.05511112,\n",
              "        -0.06408287, -0.12234243],\n",
              "       [-0.08575634, -0.08727436,  0.08727436, ..., -0.05511112,\n",
              "        -0.06408287, -0.12234243],\n",
              "       [ 0.04189602, -0.94677968,  0.94677968, ..., -0.05511112,\n",
              "        -0.06408287, -0.12234243]])"
            ]
          },
          "metadata": {
            "tags": []
          },
          "execution_count": 162
        }
      ]
    },
    {
      "cell_type": "code",
      "metadata": {
        "id": "mhIJaj_sY4cn",
        "colab_type": "code",
        "outputId": "ec101850-f518-4e3d-876f-a711f8fd638a",
        "colab": {
          "base_uri": "https://localhost:8080/",
          "height": 146
        }
      },
      "source": [
        "# koristimo gini loss kao u radu\n",
        "rf = RandomForestClassifier(n_estimators=100, n_jobs=-1, max_depth=30, criterion = 'gini')\n",
        "rf.fit(X_train_rf, y_train_rf)"
      ],
      "execution_count": 0,
      "outputs": [
        {
          "output_type": "execute_result",
          "data": {
            "text/plain": [
              "RandomForestClassifier(bootstrap=True, class_weight=None, criterion='gini',\n",
              "                       max_depth=30, max_features='auto', max_leaf_nodes=None,\n",
              "                       min_impurity_decrease=0.0, min_impurity_split=None,\n",
              "                       min_samples_leaf=1, min_samples_split=2,\n",
              "                       min_weight_fraction_leaf=0.0, n_estimators=100,\n",
              "                       n_jobs=-1, oob_score=False, random_state=None, verbose=0,\n",
              "                       warm_start=False)"
            ]
          },
          "metadata": {
            "tags": []
          },
          "execution_count": 196
        }
      ]
    },
    {
      "cell_type": "code",
      "metadata": {
        "id": "vJE0sJ_qKptT",
        "colab_type": "code",
        "outputId": "66f7e64d-a15d-432a-de82-a44b5b79f10e",
        "colab": {
          "base_uri": "https://localhost:8080/",
          "height": 348
        }
      },
      "source": [
        "y_train_rf_pred = rf.predict(X_train_rf)\n",
        "y_test_rf_pred = rf.predict(X_test_rf)\n",
        "print('Train report: {}'.format(metrics.classification_report(y_train_rf, y_train_rf_pred)))\n",
        "print('Test report: {}'.format(metrics.classification_report(y_test_rf, y_test_rf_pred)))"
      ],
      "execution_count": 0,
      "outputs": [
        {
          "output_type": "stream",
          "text": [
            "Train report:               precision    recall  f1-score   support\n",
            "\n",
            "           0       1.00      1.00      1.00     10329\n",
            "           1       1.00      1.00      1.00     15100\n",
            "\n",
            "    accuracy                           1.00     25429\n",
            "   macro avg       1.00      1.00      1.00     25429\n",
            "weighted avg       1.00      1.00      1.00     25429\n",
            "\n",
            "Test report:               precision    recall  f1-score   support\n",
            "\n",
            "           0       0.99      0.99      0.99      1167\n",
            "           1       0.99      1.00      0.99      1659\n",
            "\n",
            "    accuracy                           0.99      2826\n",
            "   macro avg       0.99      0.99      0.99      2826\n",
            "weighted avg       0.99      0.99      0.99      2826\n",
            "\n"
          ],
          "name": "stdout"
        }
      ]
    },
    {
      "cell_type": "code",
      "metadata": {
        "id": "HZl-mUTH1qW4",
        "colab_type": "code",
        "outputId": "0727c3d2-6fe8-4afb-efc1-7514f4f1375d",
        "colab": {
          "base_uri": "https://localhost:8080/",
          "height": 35
        }
      },
      "source": [
        "metrics.accuracy_score(y_train_rf, y_train_rf_pred)"
      ],
      "execution_count": 0,
      "outputs": [
        {
          "output_type": "execute_result",
          "data": {
            "text/plain": [
              "0.9997640489205238"
            ]
          },
          "metadata": {
            "tags": []
          },
          "execution_count": 198
        }
      ]
    },
    {
      "cell_type": "code",
      "metadata": {
        "id": "WJp9UJ222Nze",
        "colab_type": "code",
        "outputId": "648d4743-fc05-45c7-b7cb-e45b6281d778",
        "colab": {
          "base_uri": "https://localhost:8080/",
          "height": 35
        }
      },
      "source": [
        "metrics.accuracy_score(y_test_rf, y_test_rf_pred)"
      ],
      "execution_count": 0,
      "outputs": [
        {
          "output_type": "execute_result",
          "data": {
            "text/plain": [
              "0.9939844302901628"
            ]
          },
          "metadata": {
            "tags": []
          },
          "execution_count": 199
        }
      ]
    },
    {
      "cell_type": "code",
      "metadata": {
        "id": "PBTQWorQbE7r",
        "colab_type": "code",
        "outputId": "d9d6ba3e-c603-4985-dc1d-462c986053be",
        "colab": {
          "base_uri": "https://localhost:8080/",
          "height": 54
        }
      },
      "source": [
        "confusion_matrix(y_test_rf,y_test_rf_pred)"
      ],
      "execution_count": 0,
      "outputs": [
        {
          "output_type": "execute_result",
          "data": {
            "text/plain": [
              "array([[1158,    9],\n",
              "       [   8, 1651]])"
            ]
          },
          "metadata": {
            "tags": []
          },
          "execution_count": 200
        }
      ]
    },
    {
      "cell_type": "code",
      "metadata": {
        "id": "8s7iAWIOJ-Wl",
        "colab_type": "code",
        "outputId": "2591a3ef-50cc-4438-dec6-4839e2b587b8",
        "colab": {
          "base_uri": "https://localhost:8080/",
          "height": 990
        }
      },
      "source": [
        "#najbitniji atributi opadajuce\n",
        "feature_importances = zip(list(X_rf), rf.feature_importances_)\n",
        "feature_importances_sort = sorted(feature_importances, key=lambda x: x[1], reverse=True)\n",
        "\n",
        "for feature in feature_importances_sort:\n",
        "    print(feature)"
      ],
      "execution_count": 0,
      "outputs": [
        {
          "output_type": "stream",
          "text": [
            "('label_proba_0', 0.38953075611074833)\n",
            "('label_proba_1', 0.36317124256680366)\n",
            "('len deep url', 0.1430165997662464)\n",
            "('len of domain', 0.028577471506548772)\n",
            "('suffix_co.uk', 0.01660172810113354)\n",
            "('suffix_com', 0.01127119359500166)\n",
            "('suffix_net', 0.008852850461017723)\n",
            "('suffix_info', 0.0063988953539053876)\n",
            "('suffix_jp', 0.004695989915861744)\n",
            "('suffix_ac.uk', 0.0043644434645387295)\n",
            "('suffix_tv', 0.003547071679517135)\n",
            "('suffix_vn', 0.002864186886727428)\n",
            "('suffix_ua', 0.0022725096902112994)\n",
            "('suffix_cc', 0.002082102407519127)\n",
            "('suffix_com.au', 0.0015557665784455875)\n",
            "('suffix_net.ua', 0.0014635887191972942)\n",
            "('suffix_ir', 0.0013445240442570947)\n",
            "('suffix_de', 0.0012041404563777134)\n",
            "('suffix_nl', 0.0009600469548205634)\n",
            "('suffix_ru', 0.0008359195952550315)\n",
            "('suffix_org.uk', 0.0006297741559574009)\n",
            "('suffix_co.id', 0.0005779217901262951)\n",
            "('suffix_it', 0.000552519942508037)\n",
            "('suffix_org', 0.0005139808631341671)\n",
            "('suffix_to', 0.0005085669639956685)\n",
            "('suffix_com.br', 0.0004628774278056288)\n",
            "('suffix_fr', 0.000307833619371818)\n",
            "('suffix_gov.br', 0.00029810868276563277)\n",
            "('suffix_pl', 0.00019047843768387672)\n",
            "('suffix_', 0.00016122125342929396)\n",
            "('suffix_gr', 0.00013717226412934228)\n",
            "('suffix_in', 0.0001366924790110496)\n",
            "('suffix_cz', 0.00011239989153695597)\n",
            "('suffix_ro', 0.00011153543159811793)\n",
            "('suffix_com.ua', 0.00010763275297985199)\n",
            "('suffix_net.vn', 9.782840169475375e-05)\n",
            "('suffix_es', 7.633109169053532e-05)\n",
            "('suffix_eu', 4.894114208822494e-05)\n",
            "('suffix_dk', 4.860217880878534e-05)\n",
            "('suffix_asia', 4.4011444270842346e-05)\n",
            "('suffix_hu', 4.3776777904564246e-05)\n",
            "('suffix_com.my', 3.734504703742306e-05)\n",
            "('suffix_ch', 3.621719279108872e-05)\n",
            "('suffix_gov.uk', 3.3669439723978637e-05)\n",
            "('suffix_cn', 2.6165863081478696e-05)\n",
            "('suffix_cl', 2.453225096712734e-05)\n",
            "('suffix_at', 1.6673795227437067e-05)\n",
            "('suffix_co.za', 1.2587282864328807e-05)\n",
            "('suffix_com.vn', 1.238938986354915e-05)\n",
            "('suffix_sk', 9.646466564268896e-06)\n",
            "('suffix_com.ar', 9.192989260968508e-06)\n",
            "('suffix_com.cn', 1.7418966569748751e-06)\n",
            "('suffix_be', 6.035393360742962e-07)\n"
          ],
          "name": "stdout"
        }
      ]
    },
    {
      "cell_type": "code",
      "metadata": {
        "id": "J-3KqTsNm7jU",
        "colab_type": "code",
        "outputId": "c0f290b6-74ef-4d0a-c006-2d8bb882ee99",
        "colab": {
          "base_uri": "https://localhost:8080/",
          "height": 269
        }
      },
      "source": [
        "fpr, tpr, thresholds = roc_curve(y_test_rf,y_test_rf_pred)\n",
        "plt.plot([0, 1], [0, 1], linestyle='--')\n",
        "plt.plot(fpr, tpr, marker='.')\n",
        "plt.show()"
      ],
      "execution_count": 0,
      "outputs": [
        {
          "output_type": "display_data",
          "data": {
            "image/png": "[encoded data removed]",
            "text/plain": [
              "<Figure size 432x288 with 1 Axes>"
            ]
          },
          "metadata": {
            "tags": []
          }
        }
      ]
    },
    {
      "cell_type": "code",
      "metadata": {
        "id": "iNcalS68XgqX",
        "colab_type": "code",
        "colab": {}
      },
      "source": [
        "#ne moramo opet raditi train test split ali da bi znali da sad radimo sa svm\n",
        "X_train_svm = X_train_rf\n",
        "y_train_svm = y_train_rf\n",
        "X_test_svm = X_test_rf\n",
        "y_test_svm = y_test_rf"
      ],
      "execution_count": 0,
      "outputs": []
    },
    {
      "cell_type": "code",
      "metadata": {
        "id": "o3EWgw7lb7Cl",
        "colab_type": "code",
        "outputId": "a43ee4fb-9e8e-4a28-b2b6-d3817ba3a59a",
        "colab": {
          "base_uri": "https://localhost:8080/",
          "height": 129
        }
      },
      "source": [
        "#linear SVM\n",
        "linear_svm = svm.LinearSVC(loss='hinge', C=1.0)\n",
        "linear_svm.fit(X_train_svm, y_train_svm)"
      ],
      "execution_count": 0,
      "outputs": [
        {
          "output_type": "stream",
          "text": [
            "/usr/local/lib/python3.6/dist-packages/sklearn/svm/base.py:929: ConvergenceWarning: Liblinear failed to converge, increase the number of iterations.\n",
            "  \"the number of iterations.\", ConvergenceWarning)\n"
          ],
          "name": "stderr"
        },
        {
          "output_type": "execute_result",
          "data": {
            "text/plain": [
              "LinearSVC(C=1.0, class_weight=None, dual=True, fit_intercept=True,\n",
              "          intercept_scaling=1, loss='hinge', max_iter=1000, multi_class='ovr',\n",
              "          penalty='l2', random_state=None, tol=0.0001, verbose=0)"
            ]
          },
          "metadata": {
            "tags": []
          },
          "execution_count": 171
        }
      ]
    },
    {
      "cell_type": "code",
      "metadata": {
        "id": "LzXqxSlvL30j",
        "colab_type": "code",
        "outputId": "1cf40f1a-3bc0-4521-968c-1d754a821bf4",
        "colab": {
          "base_uri": "https://localhost:8080/",
          "height": 348
        }
      },
      "source": [
        "y_train_svm_pred = linear_svm.predict(X_train_svm)\n",
        "y_test_svm_pred = linear_svm.predict(X_test_svm)\n",
        "print('Train report: {}'.format(metrics.classification_report(y_train_svm, y_train_svm_pred)))\n",
        "print('Test report: {}'.format(metrics.classification_report(y_test_svm, y_test_svm_pred)))"
      ],
      "execution_count": 0,
      "outputs": [
        {
          "output_type": "stream",
          "text": [
            "Train report:               precision    recall  f1-score   support\n",
            "\n",
            "           0       0.92      0.98      0.95     10329\n",
            "           1       0.99      0.94      0.96     15100\n",
            "\n",
            "    accuracy                           0.96     25429\n",
            "   macro avg       0.95      0.96      0.96     25429\n",
            "weighted avg       0.96      0.96      0.96     25429\n",
            "\n",
            "Test report:               precision    recall  f1-score   support\n",
            "\n",
            "           0       0.93      0.99      0.96      1167\n",
            "           1       0.99      0.95      0.97      1659\n",
            "\n",
            "    accuracy                           0.96      2826\n",
            "   macro avg       0.96      0.97      0.96      2826\n",
            "weighted avg       0.97      0.96      0.96      2826\n",
            "\n"
          ],
          "name": "stdout"
        }
      ]
    },
    {
      "cell_type": "code",
      "metadata": {
        "id": "xnKTNtme5EJg",
        "colab_type": "code",
        "outputId": "c1aba3f6-9b8b-441b-fbe5-12100d8f0e9a",
        "colab": {
          "base_uri": "https://localhost:8080/",
          "height": 35
        }
      },
      "source": [
        "metrics.accuracy_score(y_train_svm, y_train_svm_pred)"
      ],
      "execution_count": 0,
      "outputs": [
        {
          "output_type": "execute_result",
          "data": {
            "text/plain": [
              "0.958708561091667"
            ]
          },
          "metadata": {
            "tags": []
          },
          "execution_count": 173
        }
      ]
    },
    {
      "cell_type": "code",
      "metadata": {
        "id": "xNeKY73O5IQf",
        "colab_type": "code",
        "outputId": "725e0127-1c8a-42aa-d7c4-db988ccd820b",
        "colab": {
          "base_uri": "https://localhost:8080/",
          "height": 35
        }
      },
      "source": [
        "metrics.accuracy_score(y_test_svm, y_test_svm_pred)"
      ],
      "execution_count": 0,
      "outputs": [
        {
          "output_type": "execute_result",
          "data": {
            "text/plain": [
              "0.9639065817409767"
            ]
          },
          "metadata": {
            "tags": []
          },
          "execution_count": 174
        }
      ]
    },
    {
      "cell_type": "code",
      "metadata": {
        "id": "KJbBRRpHcvK3",
        "colab_type": "code",
        "outputId": "65033f25-2bf6-481c-d464-0ab9c82f4b99",
        "colab": {
          "base_uri": "https://localhost:8080/",
          "height": 54
        }
      },
      "source": [
        "confusion_matrix(y_test_svm,y_test_svm_pred)"
      ],
      "execution_count": 0,
      "outputs": [
        {
          "output_type": "execute_result",
          "data": {
            "text/plain": [
              "array([[1150,   17],\n",
              "       [  85, 1574]])"
            ]
          },
          "metadata": {
            "tags": []
          },
          "execution_count": 175
        }
      ]
    },
    {
      "cell_type": "code",
      "metadata": {
        "id": "_E8UBQ1afSUc",
        "colab_type": "code",
        "outputId": "33808d36-2389-447a-a48f-8f2fc5c3a761",
        "colab": {
          "base_uri": "https://localhost:8080/",
          "height": 90
        }
      },
      "source": [
        "#SVM sa rbf kernelom\n",
        "rbf_svm = svm.SVC(kernel='rbf', gamma=0.1, C=1)\n",
        "rbf_svm.fit(X_train_svm, y_train_svm)"
      ],
      "execution_count": 0,
      "outputs": [
        {
          "output_type": "execute_result",
          "data": {
            "text/plain": [
              "SVC(C=1, cache_size=200, class_weight=None, coef0=0.0,\n",
              "    decision_function_shape='ovr', degree=3, gamma=0.1, kernel='rbf',\n",
              "    max_iter=-1, probability=False, random_state=None, shrinking=True,\n",
              "    tol=0.001, verbose=False)"
            ]
          },
          "metadata": {
            "tags": []
          },
          "execution_count": 176
        }
      ]
    },
    {
      "cell_type": "code",
      "metadata": {
        "id": "Y4kpbt5EMg0O",
        "colab_type": "code",
        "outputId": "485eec95-b785-4238-fde0-e6f0037f2ac0",
        "colab": {
          "base_uri": "https://localhost:8080/",
          "height": 348
        }
      },
      "source": [
        "y_train_rbf_pred = rbf_svm.predict(X_train_svm)\n",
        "y_test_rbf_pred = rbf_svm.predict(X_test_svm)\n",
        "print('Train report: {}'.format(metrics.classification_report(y_train_svm, y_train_rbf_pred)))\n",
        "print('Test report: {}'.format(metrics.classification_report(y_test_svm, y_test_rbf_pred)))"
      ],
      "execution_count": 0,
      "outputs": [
        {
          "output_type": "stream",
          "text": [
            "Train report:               precision    recall  f1-score   support\n",
            "\n",
            "           0       0.99      0.98      0.99     10329\n",
            "           1       0.99      0.99      0.99     15100\n",
            "\n",
            "    accuracy                           0.99     25429\n",
            "   macro avg       0.99      0.99      0.99     25429\n",
            "weighted avg       0.99      0.99      0.99     25429\n",
            "\n",
            "Test report:               precision    recall  f1-score   support\n",
            "\n",
            "           0       0.99      0.98      0.98      1167\n",
            "           1       0.98      0.99      0.99      1659\n",
            "\n",
            "    accuracy                           0.98      2826\n",
            "   macro avg       0.98      0.98      0.98      2826\n",
            "weighted avg       0.98      0.98      0.98      2826\n",
            "\n"
          ],
          "name": "stdout"
        }
      ]
    },
    {
      "cell_type": "code",
      "metadata": {
        "id": "ue_aufDz8FxM",
        "colab_type": "code",
        "outputId": "23f303b3-6a69-4f36-e4b8-dee7c6f77bd2",
        "colab": {
          "base_uri": "https://localhost:8080/",
          "height": 35
        }
      },
      "source": [
        "metrics.accuracy_score(y_train_svm, y_train_rbf_pred)"
      ],
      "execution_count": 0,
      "outputs": [
        {
          "output_type": "execute_result",
          "data": {
            "text/plain": [
              "0.9885563726454049"
            ]
          },
          "metadata": {
            "tags": []
          },
          "execution_count": 178
        }
      ]
    },
    {
      "cell_type": "code",
      "metadata": {
        "id": "aiYUGQwz8A7k",
        "colab_type": "code",
        "outputId": "12e51a99-eae8-42af-bb95-2746f826d20e",
        "colab": {
          "base_uri": "https://localhost:8080/",
          "height": 35
        }
      },
      "source": [
        "metrics.accuracy_score(y_test_svm, y_test_rbf_pred)"
      ],
      "execution_count": 0,
      "outputs": [
        {
          "output_type": "execute_result",
          "data": {
            "text/plain": [
              "0.9844302901627743"
            ]
          },
          "metadata": {
            "tags": []
          },
          "execution_count": 179
        }
      ]
    },
    {
      "cell_type": "code",
      "metadata": {
        "id": "iQ6OLt4fc3Du",
        "colab_type": "code",
        "outputId": "b2b0e6a1-3154-416e-f572-96cbd36a9242",
        "colab": {
          "base_uri": "https://localhost:8080/",
          "height": 54
        }
      },
      "source": [
        "confusion_matrix(y_test_svm,y_test_rbf_pred)"
      ],
      "execution_count": 0,
      "outputs": [
        {
          "output_type": "execute_result",
          "data": {
            "text/plain": [
              "array([[1139,   28],\n",
              "       [  16, 1643]])"
            ]
          },
          "metadata": {
            "tags": []
          },
          "execution_count": 180
        }
      ]
    },
    {
      "cell_type": "code",
      "metadata": {
        "id": "PnVsIZ3gnIq4",
        "colab_type": "code",
        "outputId": "d2461b24-2dfb-482e-a0ef-6322585d7ceb",
        "colab": {
          "base_uri": "https://localhost:8080/",
          "height": 269
        }
      },
      "source": [
        "fpr, tpr, thresholds = roc_curve(y_test_svm,y_test_rbf_pred)\n",
        "plt.plot([0, 1], [0, 1], linestyle='--')\n",
        "plt.plot(fpr, tpr, marker='.')\n",
        "plt.show()"
      ],
      "execution_count": 0,
      "outputs": [
        {
          "output_type": "display_data",
          "data": {
            "image/png": "[encoded data removed]",
            "text/plain": [
              "<Figure size 432x288 with 1 Axes>"
            ]
          },
          "metadata": {
            "tags": []
          }
        }
      ]
    },
    {
      "cell_type": "code",
      "metadata": {
        "id": "CIuylOpQfTlr",
        "colab_type": "code",
        "colab": {}
      },
      "source": [
        "#prikazane su samo SVM i RF sa parametrima koji daju najvecu tacnost, isprobane su razlicite vrednosti i razliciti dobijeni rezultati su korisceni u prezentaciji"
      ],
      "execution_count": 0,
      "outputs": []
    },
    {
      "cell_type": "code",
      "metadata": {
        "id": "A5wYFDMaNqWj",
        "colab_type": "code",
        "colab": {}
      },
      "source": [
        "#rezultati koje dobijamo kada drop-ujemo kolone predikcija iz multinomijalnog naivnog bajesa, prikazane tacnosti za test skup radi poredjenja"
      ],
      "execution_count": 0,
      "outputs": []
    },
    {
      "cell_type": "code",
      "metadata": {
        "id": "ZNNSIEGFWoPl",
        "colab_type": "code",
        "outputId": "6eca86fe-369e-4f9f-a86e-41b3012f7c90",
        "colab": {
          "base_uri": "https://localhost:8080/",
          "height": 261
        }
      },
      "source": [
        "final_ds.head()"
      ],
      "execution_count": 0,
      "outputs": [
        {
          "output_type": "execute_result",
          "data": {
            "text/html": [
              "<div>\n",
              "<style scoped>\n",
              "    .dataframe tbody tr th:only-of-type {\n",
              "        vertical-align: middle;\n",
              "    }\n",
              "\n",
              "    .dataframe tbody tr th {\n",
              "        vertical-align: top;\n",
              "    }\n",
              "\n",
              "    .dataframe thead th {\n",
              "        text-align: right;\n",
              "    }\n",
              "</style>\n",
              "<table border=\"1\" class=\"dataframe\">\n",
              "  <thead>\n",
              "    <tr style=\"text-align: right;\">\n",
              "      <th></th>\n",
              "      <th>label</th>\n",
              "      <th>len deep url</th>\n",
              "      <th>label_proba_0</th>\n",
              "      <th>label_proba_1</th>\n",
              "      <th>len of domain</th>\n",
              "      <th>suffix_</th>\n",
              "      <th>suffix_ac.uk</th>\n",
              "      <th>suffix_asia</th>\n",
              "      <th>suffix_at</th>\n",
              "      <th>suffix_be</th>\n",
              "      <th>suffix_cc</th>\n",
              "      <th>suffix_ch</th>\n",
              "      <th>suffix_cl</th>\n",
              "      <th>suffix_cn</th>\n",
              "      <th>suffix_co.id</th>\n",
              "      <th>suffix_co.uk</th>\n",
              "      <th>suffix_co.za</th>\n",
              "      <th>suffix_com</th>\n",
              "      <th>suffix_com.ar</th>\n",
              "      <th>suffix_com.au</th>\n",
              "      <th>suffix_com.br</th>\n",
              "      <th>suffix_com.cn</th>\n",
              "      <th>suffix_com.my</th>\n",
              "      <th>suffix_com.ua</th>\n",
              "      <th>suffix_com.vn</th>\n",
              "      <th>suffix_cz</th>\n",
              "      <th>suffix_de</th>\n",
              "      <th>suffix_dk</th>\n",
              "      <th>suffix_es</th>\n",
              "      <th>suffix_eu</th>\n",
              "      <th>suffix_fr</th>\n",
              "      <th>suffix_gov.br</th>\n",
              "      <th>suffix_gov.uk</th>\n",
              "      <th>suffix_gr</th>\n",
              "      <th>suffix_hu</th>\n",
              "      <th>suffix_in</th>\n",
              "      <th>suffix_info</th>\n",
              "      <th>suffix_ir</th>\n",
              "      <th>suffix_it</th>\n",
              "      <th>suffix_jp</th>\n",
              "      <th>suffix_net</th>\n",
              "      <th>suffix_net.ua</th>\n",
              "      <th>suffix_net.vn</th>\n",
              "      <th>suffix_nl</th>\n",
              "      <th>suffix_org</th>\n",
              "      <th>suffix_org.uk</th>\n",
              "      <th>suffix_pl</th>\n",
              "      <th>suffix_ro</th>\n",
              "      <th>suffix_ru</th>\n",
              "      <th>suffix_sk</th>\n",
              "      <th>suffix_to</th>\n",
              "      <th>suffix_tv</th>\n",
              "      <th>suffix_ua</th>\n",
              "      <th>suffix_vn</th>\n",
              "    </tr>\n",
              "  </thead>\n",
              "  <tbody>\n",
              "    <tr>\n",
              "      <th>0</th>\n",
              "      <td>0</td>\n",
              "      <td>85</td>\n",
              "      <td>9.999850e-01</td>\n",
              "      <td>0.000015</td>\n",
              "      <td>6</td>\n",
              "      <td>0</td>\n",
              "      <td>0</td>\n",
              "      <td>0</td>\n",
              "      <td>0</td>\n",
              "      <td>0</td>\n",
              "      <td>0</td>\n",
              "      <td>0</td>\n",
              "      <td>0</td>\n",
              "      <td>0</td>\n",
              "      <td>0</td>\n",
              "      <td>0</td>\n",
              "      <td>0</td>\n",
              "      <td>0</td>\n",
              "      <td>0</td>\n",
              "      <td>0</td>\n",
              "      <td>0</td>\n",
              "      <td>0</td>\n",
              "      <td>0</td>\n",
              "      <td>0</td>\n",
              "      <td>0</td>\n",
              "      <td>0</td>\n",
              "      <td>0</td>\n",
              "      <td>0</td>\n",
              "      <td>0</td>\n",
              "      <td>0</td>\n",
              "      <td>0</td>\n",
              "      <td>0</td>\n",
              "      <td>0</td>\n",
              "      <td>0</td>\n",
              "      <td>0</td>\n",
              "      <td>0</td>\n",
              "      <td>0</td>\n",
              "      <td>0</td>\n",
              "      <td>0</td>\n",
              "      <td>0</td>\n",
              "      <td>0</td>\n",
              "      <td>1</td>\n",
              "      <td>0</td>\n",
              "      <td>0</td>\n",
              "      <td>0</td>\n",
              "      <td>0</td>\n",
              "      <td>0</td>\n",
              "      <td>0</td>\n",
              "      <td>0</td>\n",
              "      <td>0</td>\n",
              "      <td>0</td>\n",
              "      <td>0</td>\n",
              "      <td>0</td>\n",
              "      <td>0</td>\n",
              "    </tr>\n",
              "    <tr>\n",
              "      <th>1</th>\n",
              "      <td>1</td>\n",
              "      <td>83</td>\n",
              "      <td>3.979083e-01</td>\n",
              "      <td>0.602092</td>\n",
              "      <td>4</td>\n",
              "      <td>0</td>\n",
              "      <td>0</td>\n",
              "      <td>0</td>\n",
              "      <td>0</td>\n",
              "      <td>0</td>\n",
              "      <td>0</td>\n",
              "      <td>0</td>\n",
              "      <td>0</td>\n",
              "      <td>0</td>\n",
              "      <td>0</td>\n",
              "      <td>0</td>\n",
              "      <td>0</td>\n",
              "      <td>0</td>\n",
              "      <td>0</td>\n",
              "      <td>0</td>\n",
              "      <td>0</td>\n",
              "      <td>0</td>\n",
              "      <td>0</td>\n",
              "      <td>0</td>\n",
              "      <td>0</td>\n",
              "      <td>0</td>\n",
              "      <td>0</td>\n",
              "      <td>0</td>\n",
              "      <td>0</td>\n",
              "      <td>0</td>\n",
              "      <td>0</td>\n",
              "      <td>0</td>\n",
              "      <td>0</td>\n",
              "      <td>0</td>\n",
              "      <td>0</td>\n",
              "      <td>0</td>\n",
              "      <td>1</td>\n",
              "      <td>0</td>\n",
              "      <td>0</td>\n",
              "      <td>0</td>\n",
              "      <td>0</td>\n",
              "      <td>0</td>\n",
              "      <td>0</td>\n",
              "      <td>0</td>\n",
              "      <td>0</td>\n",
              "      <td>0</td>\n",
              "      <td>0</td>\n",
              "      <td>0</td>\n",
              "      <td>0</td>\n",
              "      <td>0</td>\n",
              "      <td>0</td>\n",
              "      <td>0</td>\n",
              "      <td>0</td>\n",
              "      <td>0</td>\n",
              "    </tr>\n",
              "    <tr>\n",
              "      <th>2</th>\n",
              "      <td>1</td>\n",
              "      <td>72</td>\n",
              "      <td>1.053125e-11</td>\n",
              "      <td>1.000000</td>\n",
              "      <td>6</td>\n",
              "      <td>0</td>\n",
              "      <td>0</td>\n",
              "      <td>0</td>\n",
              "      <td>0</td>\n",
              "      <td>0</td>\n",
              "      <td>0</td>\n",
              "      <td>0</td>\n",
              "      <td>0</td>\n",
              "      <td>0</td>\n",
              "      <td>0</td>\n",
              "      <td>0</td>\n",
              "      <td>0</td>\n",
              "      <td>1</td>\n",
              "      <td>0</td>\n",
              "      <td>0</td>\n",
              "      <td>0</td>\n",
              "      <td>0</td>\n",
              "      <td>0</td>\n",
              "      <td>0</td>\n",
              "      <td>0</td>\n",
              "      <td>0</td>\n",
              "      <td>0</td>\n",
              "      <td>0</td>\n",
              "      <td>0</td>\n",
              "      <td>0</td>\n",
              "      <td>0</td>\n",
              "      <td>0</td>\n",
              "      <td>0</td>\n",
              "      <td>0</td>\n",
              "      <td>0</td>\n",
              "      <td>0</td>\n",
              "      <td>0</td>\n",
              "      <td>0</td>\n",
              "      <td>0</td>\n",
              "      <td>0</td>\n",
              "      <td>0</td>\n",
              "      <td>0</td>\n",
              "      <td>0</td>\n",
              "      <td>0</td>\n",
              "      <td>0</td>\n",
              "      <td>0</td>\n",
              "      <td>0</td>\n",
              "      <td>0</td>\n",
              "      <td>0</td>\n",
              "      <td>0</td>\n",
              "      <td>0</td>\n",
              "      <td>0</td>\n",
              "      <td>0</td>\n",
              "      <td>0</td>\n",
              "    </tr>\n",
              "    <tr>\n",
              "      <th>3</th>\n",
              "      <td>1</td>\n",
              "      <td>83</td>\n",
              "      <td>3.979083e-01</td>\n",
              "      <td>0.602092</td>\n",
              "      <td>4</td>\n",
              "      <td>0</td>\n",
              "      <td>0</td>\n",
              "      <td>0</td>\n",
              "      <td>0</td>\n",
              "      <td>0</td>\n",
              "      <td>0</td>\n",
              "      <td>0</td>\n",
              "      <td>0</td>\n",
              "      <td>0</td>\n",
              "      <td>0</td>\n",
              "      <td>0</td>\n",
              "      <td>0</td>\n",
              "      <td>0</td>\n",
              "      <td>0</td>\n",
              "      <td>0</td>\n",
              "      <td>0</td>\n",
              "      <td>0</td>\n",
              "      <td>0</td>\n",
              "      <td>0</td>\n",
              "      <td>0</td>\n",
              "      <td>0</td>\n",
              "      <td>0</td>\n",
              "      <td>0</td>\n",
              "      <td>0</td>\n",
              "      <td>0</td>\n",
              "      <td>0</td>\n",
              "      <td>0</td>\n",
              "      <td>0</td>\n",
              "      <td>0</td>\n",
              "      <td>0</td>\n",
              "      <td>0</td>\n",
              "      <td>1</td>\n",
              "      <td>0</td>\n",
              "      <td>0</td>\n",
              "      <td>0</td>\n",
              "      <td>0</td>\n",
              "      <td>0</td>\n",
              "      <td>0</td>\n",
              "      <td>0</td>\n",
              "      <td>0</td>\n",
              "      <td>0</td>\n",
              "      <td>0</td>\n",
              "      <td>0</td>\n",
              "      <td>0</td>\n",
              "      <td>0</td>\n",
              "      <td>0</td>\n",
              "      <td>0</td>\n",
              "      <td>0</td>\n",
              "      <td>0</td>\n",
              "    </tr>\n",
              "    <tr>\n",
              "      <th>4</th>\n",
              "      <td>1</td>\n",
              "      <td>48</td>\n",
              "      <td>5.679100e-02</td>\n",
              "      <td>0.943209</td>\n",
              "      <td>12</td>\n",
              "      <td>0</td>\n",
              "      <td>0</td>\n",
              "      <td>0</td>\n",
              "      <td>0</td>\n",
              "      <td>0</td>\n",
              "      <td>0</td>\n",
              "      <td>0</td>\n",
              "      <td>0</td>\n",
              "      <td>0</td>\n",
              "      <td>0</td>\n",
              "      <td>0</td>\n",
              "      <td>0</td>\n",
              "      <td>1</td>\n",
              "      <td>0</td>\n",
              "      <td>0</td>\n",
              "      <td>0</td>\n",
              "      <td>0</td>\n",
              "      <td>0</td>\n",
              "      <td>0</td>\n",
              "      <td>0</td>\n",
              "      <td>0</td>\n",
              "      <td>0</td>\n",
              "      <td>0</td>\n",
              "      <td>0</td>\n",
              "      <td>0</td>\n",
              "      <td>0</td>\n",
              "      <td>0</td>\n",
              "      <td>0</td>\n",
              "      <td>0</td>\n",
              "      <td>0</td>\n",
              "      <td>0</td>\n",
              "      <td>0</td>\n",
              "      <td>0</td>\n",
              "      <td>0</td>\n",
              "      <td>0</td>\n",
              "      <td>0</td>\n",
              "      <td>0</td>\n",
              "      <td>0</td>\n",
              "      <td>0</td>\n",
              "      <td>0</td>\n",
              "      <td>0</td>\n",
              "      <td>0</td>\n",
              "      <td>0</td>\n",
              "      <td>0</td>\n",
              "      <td>0</td>\n",
              "      <td>0</td>\n",
              "      <td>0</td>\n",
              "      <td>0</td>\n",
              "      <td>0</td>\n",
              "    </tr>\n",
              "  </tbody>\n",
              "</table>\n",
              "</div>"
            ],
            "text/plain": [
              "   label  len deep url  label_proba_0  ...  suffix_tv  suffix_ua  suffix_vn\n",
              "0      0            85   9.999850e-01  ...          0          0          0\n",
              "1      1            83   3.979083e-01  ...          0          0          0\n",
              "2      1            72   1.053125e-11  ...          0          0          0\n",
              "3      1            83   3.979083e-01  ...          0          0          0\n",
              "4      1            48   5.679100e-02  ...          0          0          0\n",
              "\n",
              "[5 rows x 54 columns]"
            ]
          },
          "metadata": {
            "tags": []
          },
          "execution_count": 184
        }
      ]
    },
    {
      "cell_type": "code",
      "metadata": {
        "id": "-dKzWoaFOHw0",
        "colab_type": "code",
        "colab": {}
      },
      "source": [
        "#uzimamo X i y za trening i test i vrsimo podelu\n",
        "X_no_nb = final_ds.drop(['label','label_proba_0','label_proba_1'],axis=1) \n",
        "y_no_nb = final_ds['label']\n",
        "\n",
        "#train test split\n",
        "X_train_n, X_test_n, y_train_n, y_test_n = train_test_split(X_no_nb, y_no_nb, test_size=0.1, random_state=42)"
      ],
      "execution_count": 0,
      "outputs": []
    },
    {
      "cell_type": "code",
      "metadata": {
        "id": "2dGR2IHpOL6H",
        "colab_type": "code",
        "outputId": "6ebea76a-8d5e-4fe0-cdbe-b9376f492fa7",
        "colab": {
          "base_uri": "https://localhost:8080/",
          "height": 256
        }
      },
      "source": [
        "from sklearn.preprocessing import StandardScaler \n",
        "scaler = StandardScaler()\n",
        "scaler.fit(X_train_n)\n",
        "scaler.transform(X_train_n)\n",
        "scaler.transform(X_test_n)"
      ],
      "execution_count": 0,
      "outputs": [
        {
          "output_type": "execute_result",
          "data": {
            "text/plain": [
              "array([[-0.77507905,  0.00678713, -0.04739801, ..., -0.05511112,\n",
              "        -0.06408287, -0.12234243],\n",
              "       [-0.34106105,  1.33781556, -0.04739801, ..., -0.05511112,\n",
              "        -0.06408287, -0.12234243],\n",
              "       [-0.20064346,  0.22862521, -0.04739801, ..., -0.05511112,\n",
              "        -0.06408287, -0.12234243],\n",
              "       ...,\n",
              "       [-0.29000011, -0.43688901, -0.04739801, ..., -0.05511112,\n",
              "        -0.06408287, -0.12234243],\n",
              "       [-0.08575634, -1.10240323, -0.04739801, ..., -0.05511112,\n",
              "        -0.06408287, -0.12234243],\n",
              "       [ 0.04189602, -0.21505094, -0.04739801, ..., -0.05511112,\n",
              "        -0.06408287, -0.12234243]])"
            ]
          },
          "metadata": {
            "tags": []
          },
          "execution_count": 186
        }
      ]
    },
    {
      "cell_type": "code",
      "metadata": {
        "id": "ajKV26kyPRXS",
        "colab_type": "code",
        "outputId": "688b7c60-563b-408f-bb58-e49c844ad949",
        "colab": {
          "base_uri": "https://localhost:8080/",
          "height": 146
        }
      },
      "source": [
        "#random forest\n",
        "rf_n = RandomForestClassifier(n_estimators=100, n_jobs=-1, max_depth=30, criterion = 'gini')\n",
        "rf_n.fit(X_train_n, y_train_n)"
      ],
      "execution_count": 0,
      "outputs": [
        {
          "output_type": "execute_result",
          "data": {
            "text/plain": [
              "RandomForestClassifier(bootstrap=True, class_weight=None, criterion='gini',\n",
              "                       max_depth=30, max_features='auto', max_leaf_nodes=None,\n",
              "                       min_impurity_decrease=0.0, min_impurity_split=None,\n",
              "                       min_samples_leaf=1, min_samples_split=2,\n",
              "                       min_weight_fraction_leaf=0.0, n_estimators=100,\n",
              "                       n_jobs=-1, oob_score=False, random_state=None, verbose=0,\n",
              "                       warm_start=False)"
            ]
          },
          "metadata": {
            "tags": []
          },
          "execution_count": 187
        }
      ]
    },
    {
      "cell_type": "code",
      "metadata": {
        "id": "ZX5e5bccDpBm",
        "colab_type": "code",
        "outputId": "c250428c-18e4-418a-ffe6-ea528d438ffe",
        "colab": {
          "base_uri": "https://localhost:8080/",
          "height": 35
        }
      },
      "source": [
        "metrics.accuracy_score(y_train_n, rf_n.predict(X_train_n))"
      ],
      "execution_count": 0,
      "outputs": [
        {
          "output_type": "execute_result",
          "data": {
            "text/plain": [
              "0.9517873294270321"
            ]
          },
          "metadata": {
            "tags": []
          },
          "execution_count": 188
        }
      ]
    },
    {
      "cell_type": "code",
      "metadata": {
        "id": "2qg1DVtSDdOf",
        "colab_type": "code",
        "outputId": "a8f18fdd-9303-4e96-c502-459539efeeb3",
        "colab": {
          "base_uri": "https://localhost:8080/",
          "height": 35
        }
      },
      "source": [
        "metrics.accuracy_score(y_test_n, rf_n.predict(X_test_n))"
      ],
      "execution_count": 0,
      "outputs": [
        {
          "output_type": "execute_result",
          "data": {
            "text/plain": [
              "0.9440905874026894"
            ]
          },
          "metadata": {
            "tags": []
          },
          "execution_count": 189
        }
      ]
    },
    {
      "cell_type": "code",
      "metadata": {
        "id": "wOjrCsa8Q9fp",
        "colab_type": "code",
        "outputId": "e8d3d152-79ac-4bc9-badf-8cf56339cd04",
        "colab": {
          "base_uri": "https://localhost:8080/",
          "height": 129
        }
      },
      "source": [
        "#linear SVM\n",
        "linear_svm_n = svm.LinearSVC(loss='hinge', C=1.0)\n",
        "linear_svm_n.fit(X_train_n, y_train_n)"
      ],
      "execution_count": 0,
      "outputs": [
        {
          "output_type": "stream",
          "text": [
            "/usr/local/lib/python3.6/dist-packages/sklearn/svm/base.py:929: ConvergenceWarning: Liblinear failed to converge, increase the number of iterations.\n",
            "  \"the number of iterations.\", ConvergenceWarning)\n"
          ],
          "name": "stderr"
        },
        {
          "output_type": "execute_result",
          "data": {
            "text/plain": [
              "LinearSVC(C=1.0, class_weight=None, dual=True, fit_intercept=True,\n",
              "          intercept_scaling=1, loss='hinge', max_iter=1000, multi_class='ovr',\n",
              "          penalty='l2', random_state=None, tol=0.0001, verbose=0)"
            ]
          },
          "metadata": {
            "tags": []
          },
          "execution_count": 190
        }
      ]
    },
    {
      "cell_type": "code",
      "metadata": {
        "id": "BVUiLy6gD3ZZ",
        "colab_type": "code",
        "outputId": "19d9c906-a8a0-4141-b70a-aaf54708087c",
        "colab": {
          "base_uri": "https://localhost:8080/",
          "height": 35
        }
      },
      "source": [
        "metrics.accuracy_score(y_train_n, linear_svm_n.predict(X_train_n))"
      ],
      "execution_count": 0,
      "outputs": [
        {
          "output_type": "execute_result",
          "data": {
            "text/plain": [
              "0.7970820716504778"
            ]
          },
          "metadata": {
            "tags": []
          },
          "execution_count": 191
        }
      ]
    },
    {
      "cell_type": "code",
      "metadata": {
        "id": "0C4_LAeDD-39",
        "colab_type": "code",
        "outputId": "0cb50fac-c794-4027-a14a-e70f9982e5f1",
        "colab": {
          "base_uri": "https://localhost:8080/",
          "height": 35
        }
      },
      "source": [
        "metrics.accuracy_score(y_test_n, linear_svm_n.predict(X_test_n))"
      ],
      "execution_count": 0,
      "outputs": [
        {
          "output_type": "execute_result",
          "data": {
            "text/plain": [
              "0.7997169143665959"
            ]
          },
          "metadata": {
            "tags": []
          },
          "execution_count": 192
        }
      ]
    },
    {
      "cell_type": "code",
      "metadata": {
        "id": "pHyAZWHIRbuo",
        "colab_type": "code",
        "outputId": "66738d60-d443-44a9-afe9-91e6c873d48d",
        "colab": {
          "base_uri": "https://localhost:8080/",
          "height": 90
        }
      },
      "source": [
        "#SVM sa rbf kernelom\n",
        "rbf_svm_n = svm.SVC(kernel='rbf', gamma=0.01, C=1)\n",
        "rbf_svm_n.fit(X_train_n, y_train_n)"
      ],
      "execution_count": 0,
      "outputs": [
        {
          "output_type": "execute_result",
          "data": {
            "text/plain": [
              "SVC(C=1, cache_size=200, class_weight=None, coef0=0.0,\n",
              "    decision_function_shape='ovr', degree=3, gamma=0.01, kernel='rbf',\n",
              "    max_iter=-1, probability=False, random_state=None, shrinking=True,\n",
              "    tol=0.001, verbose=False)"
            ]
          },
          "metadata": {
            "tags": []
          },
          "execution_count": 193
        }
      ]
    },
    {
      "cell_type": "code",
      "metadata": {
        "id": "kTcFo7cNEVW9",
        "colab_type": "code",
        "outputId": "3df5a314-1b60-4797-9d06-b4ef62d69e92",
        "colab": {
          "base_uri": "https://localhost:8080/",
          "height": 35
        }
      },
      "source": [
        "metrics.accuracy_score(y_train_n, rbf_svm_n.predict(X_train_n))"
      ],
      "execution_count": 0,
      "outputs": [
        {
          "output_type": "execute_result",
          "data": {
            "text/plain": [
              "0.8830862401195485"
            ]
          },
          "metadata": {
            "tags": []
          },
          "execution_count": 194
        }
      ]
    },
    {
      "cell_type": "code",
      "metadata": {
        "id": "5qNNVMDqEZ_m",
        "colab_type": "code",
        "outputId": "67c9d111-5077-41fd-fce6-ec3c9bb54ea3",
        "colab": {
          "base_uri": "https://localhost:8080/",
          "height": 35
        }
      },
      "source": [
        "metrics.accuracy_score(y_test_n, rbf_svm_n.predict(X_test_n))"
      ],
      "execution_count": 0,
      "outputs": [
        {
          "output_type": "execute_result",
          "data": {
            "text/plain": [
              "0.883934890304317"
            ]
          },
          "metadata": {
            "tags": []
          },
          "execution_count": 195
        }
      ]
    }
  ]
}