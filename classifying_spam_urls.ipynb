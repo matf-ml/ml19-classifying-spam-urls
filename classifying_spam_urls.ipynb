{
  "nbformat": 4,
  "nbformat_minor": 0,
  "metadata": {
    "colab": {
      "name": "classifying_spam_urls.ipynb",
      "provenance": [],
      "collapsed_sections": []
    },
    "kernelspec": {
      "name": "python3",
      "display_name": "Python 3"
    }
  },
  "cells": [
    {
      "cell_type": "code",
      "metadata": {
        "id": "yyBRX8DTRDx7",
        "colab_type": "code",
        "colab": {}
      },
      "source": [
        "import numpy as np\n",
        "import pandas as pd\n",
        "from matplotlib import pyplot as plt\n",
        "from sklearn import linear_model\n",
        "from sklearn import model_selection\n",
        "from sklearn import metrics\n",
        "from sklearn import svm\n",
        "from urllib.parse import urlparse\n",
        "from sklearn.model_selection import train_test_split, GridSearchCV\n",
        "from sklearn.ensemble import RandomForestClassifier\n",
        "from sklearn.model_selection import cross_val_predict, cross_val_score\n",
        "from sklearn.metrics import confusion_matrix, classification_report, accuracy_score, roc_curve\n",
        "from sklearn.preprocessing import StandardScaler\n",
        "import seaborn as sns\n",
        "from google.colab import files"
      ],
      "execution_count": 0,
      "outputs": []
    },
    {
      "cell_type": "code",
      "metadata": {
        "id": "djQmqNFjSt6-",
        "colab_type": "code",
        "colab": {
          "base_uri": "https://localhost:8080/",
          "height": 202
        },
        "outputId": "4e32e2a9-12ea-4188-d21d-6bee2d81be5a"
      },
      "source": [
        "#!pip install tldextract\n",
        "import tldextract"
      ],
      "execution_count": 2,
      "outputs": [
        {
          "output_type": "stream",
          "text": [
            "Requirement already satisfied: tldextract in /usr/local/lib/python3.6/dist-packages (2.2.1)\n",
            "Requirement already satisfied: setuptools in /usr/local/lib/python3.6/dist-packages (from tldextract) (41.2.0)\n",
            "Requirement already satisfied: requests-file>=1.4 in /usr/local/lib/python3.6/dist-packages (from tldextract) (1.4.3)\n",
            "Requirement already satisfied: requests>=2.1.0 in /usr/local/lib/python3.6/dist-packages (from tldextract) (2.21.0)\n",
            "Requirement already satisfied: idna in /usr/local/lib/python3.6/dist-packages (from tldextract) (2.8)\n",
            "Requirement already satisfied: six in /usr/local/lib/python3.6/dist-packages (from requests-file>=1.4->tldextract) (1.12.0)\n",
            "Requirement already satisfied: certifi>=2017.4.17 in /usr/local/lib/python3.6/dist-packages (from requests>=2.1.0->tldextract) (2019.6.16)\n",
            "Requirement already satisfied: chardet<3.1.0,>=3.0.2 in /usr/local/lib/python3.6/dist-packages (from requests>=2.1.0->tldextract) (3.0.4)\n",
            "Requirement already satisfied: urllib3<1.25,>=1.21.1 in /usr/local/lib/python3.6/dist-packages (from requests>=2.1.0->tldextract) (1.24.3)\n"
          ],
          "name": "stdout"
        }
      ]
    },
    {
      "cell_type": "code",
      "metadata": {
        "id": "j0stBOXs0MnX",
        "colab_type": "code",
        "outputId": "ef27aa11-c84b-470c-fd8d-b1c353db2af6",
        "colab": {
          "base_uri": "https://localhost:8080/",
          "height": 127
        }
      },
      "source": [
        "#dataset sa benignim url-ovima\n",
        "ds_benign= pd.read_csv('https://raw.githubusercontent.com/matf-ml/ml19-classifying-spam-urls/master/Benign_list_big_final.csv', header = None)\n",
        "ds_benign.info()"
      ],
      "execution_count": 3,
      "outputs": [
        {
          "output_type": "stream",
          "text": [
            "<class 'pandas.core.frame.DataFrame'>\n",
            "RangeIndex: 35378 entries, 0 to 35377\n",
            "Data columns (total 1 columns):\n",
            "0    35378 non-null object\n",
            "dtypes: object(1)\n",
            "memory usage: 276.5+ KB\n"
          ],
          "name": "stdout"
        }
      ]
    },
    {
      "cell_type": "code",
      "metadata": {
        "id": "5-CMTkZi6Zk9",
        "colab_type": "code",
        "outputId": "853f00ec-142c-40e6-c660-bb13e5d59874",
        "colab": {
          "base_uri": "https://localhost:8080/",
          "height": 206
        }
      },
      "source": [
        "ds_benign.columns = ['url']\n",
        "ds_benign['label'] = 0\n",
        "ds_benign.head()"
      ],
      "execution_count": 4,
      "outputs": [
        {
          "output_type": "execute_result",
          "data": {
            "text/html": [
              "<div>\n",
              "<style scoped>\n",
              "    .dataframe tbody tr th:only-of-type {\n",
              "        vertical-align: middle;\n",
              "    }\n",
              "\n",
              "    .dataframe tbody tr th {\n",
              "        vertical-align: top;\n",
              "    }\n",
              "\n",
              "    .dataframe thead th {\n",
              "        text-align: right;\n",
              "    }\n",
              "</style>\n",
              "<table border=\"1\" class=\"dataframe\">\n",
              "  <thead>\n",
              "    <tr style=\"text-align: right;\">\n",
              "      <th></th>\n",
              "      <th>url</th>\n",
              "      <th>label</th>\n",
              "    </tr>\n",
              "  </thead>\n",
              "  <tbody>\n",
              "    <tr>\n",
              "      <th>0</th>\n",
              "      <td>http://1337x.to/torrent/1048648/American-Snipe...</td>\n",
              "      <td>0</td>\n",
              "    </tr>\n",
              "    <tr>\n",
              "      <th>1</th>\n",
              "      <td>http://1337x.to/torrent/1110018/Blackhat-2015-...</td>\n",
              "      <td>0</td>\n",
              "    </tr>\n",
              "    <tr>\n",
              "      <th>2</th>\n",
              "      <td>http://1337x.to/torrent/1122940/Blackhat-2015-...</td>\n",
              "      <td>0</td>\n",
              "    </tr>\n",
              "    <tr>\n",
              "      <th>3</th>\n",
              "      <td>http://1337x.to/torrent/1124395/Fast-and-Furio...</td>\n",
              "      <td>0</td>\n",
              "    </tr>\n",
              "    <tr>\n",
              "      <th>4</th>\n",
              "      <td>http://1337x.to/torrent/1145504/Avengers-Age-o...</td>\n",
              "      <td>0</td>\n",
              "    </tr>\n",
              "  </tbody>\n",
              "</table>\n",
              "</div>"
            ],
            "text/plain": [
              "                                                 url  label\n",
              "0  http://1337x.to/torrent/1048648/American-Snipe...      0\n",
              "1  http://1337x.to/torrent/1110018/Blackhat-2015-...      0\n",
              "2  http://1337x.to/torrent/1122940/Blackhat-2015-...      0\n",
              "3  http://1337x.to/torrent/1124395/Fast-and-Furio...      0\n",
              "4  http://1337x.to/torrent/1145504/Avengers-Age-o...      0"
            ]
          },
          "metadata": {
            "tags": []
          },
          "execution_count": 4
        }
      ]
    },
    {
      "cell_type": "code",
      "metadata": {
        "id": "sBmv4eYQ9JmY",
        "colab_type": "code",
        "outputId": "a3872052-c029-463a-9720-e43d087e8ffc",
        "colab": {
          "base_uri": "https://localhost:8080/",
          "height": 127
        }
      },
      "source": [
        "#dataset sa spam url-ovima\n",
        "ds_spam = pd.read_csv('https://raw.githubusercontent.com/matf-ml/ml19-classifying-spam-urls/master/spam_dataset.csv', header = None)\n",
        "ds_spam.info()"
      ],
      "execution_count": 5,
      "outputs": [
        {
          "output_type": "stream",
          "text": [
            "<class 'pandas.core.frame.DataFrame'>\n",
            "RangeIndex: 12000 entries, 0 to 11999\n",
            "Data columns (total 1 columns):\n",
            "0    12000 non-null object\n",
            "dtypes: object(1)\n",
            "memory usage: 93.8+ KB\n"
          ],
          "name": "stdout"
        }
      ]
    },
    {
      "cell_type": "code",
      "metadata": {
        "id": "9Yo2cswe9g-1",
        "colab_type": "code",
        "outputId": "970acb10-d68e-497b-ac3c-a9dae239b788",
        "colab": {
          "base_uri": "https://localhost:8080/",
          "height": 206
        }
      },
      "source": [
        "ds_spam.columns = ['url']\n",
        "ds_spam['label'] = 1\n",
        "ds_spam.head()"
      ],
      "execution_count": 6,
      "outputs": [
        {
          "output_type": "execute_result",
          "data": {
            "text/html": [
              "<div>\n",
              "<style scoped>\n",
              "    .dataframe tbody tr th:only-of-type {\n",
              "        vertical-align: middle;\n",
              "    }\n",
              "\n",
              "    .dataframe tbody tr th {\n",
              "        vertical-align: top;\n",
              "    }\n",
              "\n",
              "    .dataframe thead th {\n",
              "        text-align: right;\n",
              "    }\n",
              "</style>\n",
              "<table border=\"1\" class=\"dataframe\">\n",
              "  <thead>\n",
              "    <tr style=\"text-align: right;\">\n",
              "      <th></th>\n",
              "      <th>url</th>\n",
              "      <th>label</th>\n",
              "    </tr>\n",
              "  </thead>\n",
              "  <tbody>\n",
              "    <tr>\n",
              "      <th>0</th>\n",
              "      <td>http://astore.amazon.co.uk/allezvinsfrenchr/de...</td>\n",
              "      <td>1</td>\n",
              "    </tr>\n",
              "    <tr>\n",
              "      <th>1</th>\n",
              "      <td>http://archive.salisburyjournal.co.uk/2007/3/6...</td>\n",
              "      <td>1</td>\n",
              "    </tr>\n",
              "    <tr>\n",
              "      <th>2</th>\n",
              "      <td>http://appbasic.jettons.co.uk/links/index.html</td>\n",
              "      <td>1</td>\n",
              "    </tr>\n",
              "    <tr>\n",
              "      <th>3</th>\n",
              "      <td>http://archive.yorkpress.co.uk/2003/11/6/25684...</td>\n",
              "      <td>1</td>\n",
              "    </tr>\n",
              "    <tr>\n",
              "      <th>4</th>\n",
              "      <td>http://acard4u.co.uk/product_reviews.php?cPath...</td>\n",
              "      <td>1</td>\n",
              "    </tr>\n",
              "  </tbody>\n",
              "</table>\n",
              "</div>"
            ],
            "text/plain": [
              "                                                 url  label\n",
              "0  http://astore.amazon.co.uk/allezvinsfrenchr/de...      1\n",
              "1  http://archive.salisburyjournal.co.uk/2007/3/6...      1\n",
              "2     http://appbasic.jettons.co.uk/links/index.html      1\n",
              "3  http://archive.yorkpress.co.uk/2003/11/6/25684...      1\n",
              "4  http://acard4u.co.uk/product_reviews.php?cPath...      1"
            ]
          },
          "metadata": {
            "tags": []
          },
          "execution_count": 6
        }
      ]
    },
    {
      "cell_type": "code",
      "metadata": {
        "id": "a-b7xkWYVmc4",
        "colab_type": "code",
        "outputId": "54bc226c-e285-466f-9a9c-5136fa5ce4a9",
        "colab": {
          "base_uri": "https://localhost:8080/",
          "height": 127
        }
      },
      "source": [
        "#dataset sa malware url-ovima\n",
        "ds_malware = pd.read_csv('https://raw.githubusercontent.com/matf-ml/ml19-classifying-spam-urls/master/Malware_dataset.csv', header = None)\n",
        "ds_malware.info()"
      ],
      "execution_count": 7,
      "outputs": [
        {
          "output_type": "stream",
          "text": [
            "<class 'pandas.core.frame.DataFrame'>\n",
            "RangeIndex: 11566 entries, 0 to 11565\n",
            "Data columns (total 1 columns):\n",
            "0    11566 non-null object\n",
            "dtypes: object(1)\n",
            "memory usage: 90.4+ KB\n"
          ],
          "name": "stdout"
        }
      ]
    },
    {
      "cell_type": "code",
      "metadata": {
        "id": "fCAVsXKPdNOa",
        "colab_type": "code",
        "outputId": "49d0c86c-232a-4518-e6cb-5d6c7d302fc9",
        "colab": {
          "base_uri": "https://localhost:8080/",
          "height": 206
        }
      },
      "source": [
        "ds_malware.columns = ['url']\n",
        "ds_malware['label'] = 1\n",
        "ds_malware.head()"
      ],
      "execution_count": 8,
      "outputs": [
        {
          "output_type": "execute_result",
          "data": {
            "text/html": [
              "<div>\n",
              "<style scoped>\n",
              "    .dataframe tbody tr th:only-of-type {\n",
              "        vertical-align: middle;\n",
              "    }\n",
              "\n",
              "    .dataframe tbody tr th {\n",
              "        vertical-align: top;\n",
              "    }\n",
              "\n",
              "    .dataframe thead th {\n",
              "        text-align: right;\n",
              "    }\n",
              "</style>\n",
              "<table border=\"1\" class=\"dataframe\">\n",
              "  <thead>\n",
              "    <tr style=\"text-align: right;\">\n",
              "      <th></th>\n",
              "      <th>url</th>\n",
              "      <th>label</th>\n",
              "    </tr>\n",
              "  </thead>\n",
              "  <tbody>\n",
              "    <tr>\n",
              "      <th>0</th>\n",
              "      <td>http://gzzax.livechatvalue.com/chat/chatClient...</td>\n",
              "      <td>1</td>\n",
              "    </tr>\n",
              "    <tr>\n",
              "      <th>1</th>\n",
              "      <td>http://gzzax.livechatvalue.com/chat/chatClient...</td>\n",
              "      <td>1</td>\n",
              "    </tr>\n",
              "    <tr>\n",
              "      <th>2</th>\n",
              "      <td>http://gzzax.livechatvalue.com/chat/chatClient...</td>\n",
              "      <td>1</td>\n",
              "    </tr>\n",
              "    <tr>\n",
              "      <th>3</th>\n",
              "      <td>http://gzzax.livechatvalue.com/chat/chatClient...</td>\n",
              "      <td>1</td>\n",
              "    </tr>\n",
              "    <tr>\n",
              "      <th>4</th>\n",
              "      <td>http://mtsx.com.cn/UploadFiles/2011-08/admin/%...</td>\n",
              "      <td>1</td>\n",
              "    </tr>\n",
              "  </tbody>\n",
              "</table>\n",
              "</div>"
            ],
            "text/plain": [
              "                                                 url  label\n",
              "0  http://gzzax.livechatvalue.com/chat/chatClient...      1\n",
              "1  http://gzzax.livechatvalue.com/chat/chatClient...      1\n",
              "2  http://gzzax.livechatvalue.com/chat/chatClient...      1\n",
              "3  http://gzzax.livechatvalue.com/chat/chatClient...      1\n",
              "4  http://mtsx.com.cn/UploadFiles/2011-08/admin/%...      1"
            ]
          },
          "metadata": {
            "tags": []
          },
          "execution_count": 8
        }
      ]
    },
    {
      "cell_type": "code",
      "metadata": {
        "id": "pk8HrBMXeNPg",
        "colab_type": "code",
        "outputId": "8a072f82-1be7-4698-b6a7-4e63791db789",
        "colab": {
          "base_uri": "https://localhost:8080/",
          "height": 127
        }
      },
      "source": [
        "#dataset sa phishing url-ovima\n",
        "ds_phishing = pd.read_csv('https://raw.githubusercontent.com/matf-ml/ml19-classifying-spam-urls/master/phishing_dataset.csv', header = None)\n",
        "ds_phishing.info()"
      ],
      "execution_count": 9,
      "outputs": [
        {
          "output_type": "stream",
          "text": [
            "<class 'pandas.core.frame.DataFrame'>\n",
            "RangeIndex: 9965 entries, 0 to 9964\n",
            "Data columns (total 1 columns):\n",
            "0    9965 non-null object\n",
            "dtypes: object(1)\n",
            "memory usage: 77.9+ KB\n"
          ],
          "name": "stdout"
        }
      ]
    },
    {
      "cell_type": "code",
      "metadata": {
        "id": "iwMwMgwWex4K",
        "colab_type": "code",
        "outputId": "426d1067-9bfa-4de6-9c7f-8382ab5c5b6d",
        "colab": {
          "base_uri": "https://localhost:8080/",
          "height": 206
        }
      },
      "source": [
        "ds_phishing.columns = ['url']\n",
        "ds_phishing['label'] = 1\n",
        "ds_phishing.head()"
      ],
      "execution_count": 10,
      "outputs": [
        {
          "output_type": "execute_result",
          "data": {
            "text/html": [
              "<div>\n",
              "<style scoped>\n",
              "    .dataframe tbody tr th:only-of-type {\n",
              "        vertical-align: middle;\n",
              "    }\n",
              "\n",
              "    .dataframe tbody tr th {\n",
              "        vertical-align: top;\n",
              "    }\n",
              "\n",
              "    .dataframe thead th {\n",
              "        text-align: right;\n",
              "    }\n",
              "</style>\n",
              "<table border=\"1\" class=\"dataframe\">\n",
              "  <thead>\n",
              "    <tr style=\"text-align: right;\">\n",
              "      <th></th>\n",
              "      <th>url</th>\n",
              "      <th>label</th>\n",
              "    </tr>\n",
              "  </thead>\n",
              "  <tbody>\n",
              "    <tr>\n",
              "      <th>0</th>\n",
              "      <td>http://v2.email-marketing.adminsimple.com/trac...</td>\n",
              "      <td>1</td>\n",
              "    </tr>\n",
              "    <tr>\n",
              "      <th>1</th>\n",
              "      <td>http://bid.openx.net/json?amp;amp;amp;amp;cid;...</td>\n",
              "      <td>1</td>\n",
              "    </tr>\n",
              "    <tr>\n",
              "      <th>2</th>\n",
              "      <td>http://webmail2.centurytel.net/hwebmail/servic...</td>\n",
              "      <td>1</td>\n",
              "    </tr>\n",
              "    <tr>\n",
              "      <th>3</th>\n",
              "      <td>http://www.google.com.ng/imgres?imgurl=http://...</td>\n",
              "      <td>1</td>\n",
              "    </tr>\n",
              "    <tr>\n",
              "      <th>4</th>\n",
              "      <td>http://webmail2.centurytel.net/hwebmail/servic...</td>\n",
              "      <td>1</td>\n",
              "    </tr>\n",
              "  </tbody>\n",
              "</table>\n",
              "</div>"
            ],
            "text/plain": [
              "                                                 url  label\n",
              "0  http://v2.email-marketing.adminsimple.com/trac...      1\n",
              "1  http://bid.openx.net/json?amp;amp;amp;amp;cid;...      1\n",
              "2  http://webmail2.centurytel.net/hwebmail/servic...      1\n",
              "3  http://www.google.com.ng/imgres?imgurl=http://...      1\n",
              "4  http://webmail2.centurytel.net/hwebmail/servic...      1"
            ]
          },
          "metadata": {
            "tags": []
          },
          "execution_count": 10
        }
      ]
    },
    {
      "cell_type": "code",
      "metadata": {
        "id": "uqfIGKy8_utz",
        "colab_type": "code",
        "outputId": "a8a4a863-5e76-4295-bfc6-e65be2731a3b",
        "colab": {
          "base_uri": "https://localhost:8080/",
          "height": 127
        }
      },
      "source": [
        "#dataset sa defacement url-ovima\n",
        "ds_defacement = pd.read_csv('https://raw.githubusercontent.com/matf-ml/ml19-classifying-spam-urls/master/DefacementSitesURLFiltered.csv', header = None)\n",
        "ds_defacement.info()"
      ],
      "execution_count": 11,
      "outputs": [
        {
          "output_type": "stream",
          "text": [
            "<class 'pandas.core.frame.DataFrame'>\n",
            "RangeIndex: 96457 entries, 0 to 96456\n",
            "Data columns (total 1 columns):\n",
            "0    96457 non-null object\n",
            "dtypes: object(1)\n",
            "memory usage: 753.6+ KB\n"
          ],
          "name": "stdout"
        }
      ]
    },
    {
      "cell_type": "code",
      "metadata": {
        "id": "fNOL2W0GAK3d",
        "colab_type": "code",
        "outputId": "4a5315d3-8cc9-436b-9070-fdd671cd085d",
        "colab": {
          "base_uri": "https://localhost:8080/",
          "height": 206
        }
      },
      "source": [
        "ds_defacement.columns = ['url']\n",
        "ds_defacement['label'] = 1\n",
        "#shuffle dataseta da bi dobili raznovrsnije podatke, jer cemo posle uzeti samo 10k od oko 90k redova iz njega\n",
        "ds_defacement = ds_defacement.sample(frac=1).reset_index(drop=True)\n",
        "ds_defacement.head()"
      ],
      "execution_count": 12,
      "outputs": [
        {
          "output_type": "execute_result",
          "data": {
            "text/html": [
              "<div>\n",
              "<style scoped>\n",
              "    .dataframe tbody tr th:only-of-type {\n",
              "        vertical-align: middle;\n",
              "    }\n",
              "\n",
              "    .dataframe tbody tr th {\n",
              "        vertical-align: top;\n",
              "    }\n",
              "\n",
              "    .dataframe thead th {\n",
              "        text-align: right;\n",
              "    }\n",
              "</style>\n",
              "<table border=\"1\" class=\"dataframe\">\n",
              "  <thead>\n",
              "    <tr style=\"text-align: right;\">\n",
              "      <th></th>\n",
              "      <th>url</th>\n",
              "      <th>label</th>\n",
              "    </tr>\n",
              "  </thead>\n",
              "  <tbody>\n",
              "    <tr>\n",
              "      <th>0</th>\n",
              "      <td>http://www.textilexpres.com/TE/index.php?optio...</td>\n",
              "      <td>1</td>\n",
              "    </tr>\n",
              "    <tr>\n",
              "      <th>1</th>\n",
              "      <td>http://sparcochile.com/index.php?option=com_vi...</td>\n",
              "      <td>1</td>\n",
              "    </tr>\n",
              "    <tr>\n",
              "      <th>2</th>\n",
              "      <td>http://www.einsteininrastatt.de/index.php/spei...</td>\n",
              "      <td>1</td>\n",
              "    </tr>\n",
              "    <tr>\n",
              "      <th>3</th>\n",
              "      <td>http://www.webopro.com/index.php/sits.1</td>\n",
              "      <td>1</td>\n",
              "    </tr>\n",
              "    <tr>\n",
              "      <th>4</th>\n",
              "      <td>http://www.lebenslauf-fischerbach.de/index.php...</td>\n",
              "      <td>1</td>\n",
              "    </tr>\n",
              "  </tbody>\n",
              "</table>\n",
              "</div>"
            ],
            "text/plain": [
              "                                                 url  label\n",
              "0  http://www.textilexpres.com/TE/index.php?optio...      1\n",
              "1  http://sparcochile.com/index.php?option=com_vi...      1\n",
              "2  http://www.einsteininrastatt.de/index.php/spei...      1\n",
              "3            http://www.webopro.com/index.php/sits.1      1\n",
              "4  http://www.lebenslauf-fischerbach.de/index.php...      1"
            ]
          },
          "metadata": {
            "tags": []
          },
          "execution_count": 12
        }
      ]
    },
    {
      "cell_type": "code",
      "metadata": {
        "id": "gAcbzaBdBVTC",
        "colab_type": "code",
        "outputId": "8b79c18e-b891-480d-b0f0-5b6722cde368",
        "colab": {
          "base_uri": "https://localhost:8080/",
          "height": 146
        }
      },
      "source": [
        "ds_comb = ds_benign.append(ds_spam)\n",
        "ds_comb = ds_comb.append(ds_malware)\n",
        "ds_comb = ds_comb.append(ds_phishing)\n",
        "#uzimamo 20k redova iz defacement dataset-a jer je preveliki, a hocemo da sacuvamo odnos losih i dobrih url-ova priblizno 60-40\n",
        "ds_defacement = ds_defacement[:20000]\n",
        "ds_comb = ds_comb.append(ds_defacement)\n",
        "ds_comb.info()"
      ],
      "execution_count": 13,
      "outputs": [
        {
          "output_type": "stream",
          "text": [
            "<class 'pandas.core.frame.DataFrame'>\n",
            "Int64Index: 88909 entries, 0 to 19999\n",
            "Data columns (total 2 columns):\n",
            "url      88909 non-null object\n",
            "label    88909 non-null int64\n",
            "dtypes: int64(1), object(1)\n",
            "memory usage: 2.0+ MB\n"
          ],
          "name": "stdout"
        }
      ]
    },
    {
      "cell_type": "code",
      "metadata": {
        "id": "KxUG3HLrObqv",
        "colab_type": "code",
        "outputId": "70381c36-7adb-4e99-e3fd-71a8c163ee77",
        "colab": {
          "base_uri": "https://localhost:8080/",
          "height": 72
        }
      },
      "source": [
        "ds_comb['label'].value_counts()"
      ],
      "execution_count": 14,
      "outputs": [
        {
          "output_type": "execute_result",
          "data": {
            "text/plain": [
              "1    53531\n",
              "0    35378\n",
              "Name: label, dtype: int64"
            ]
          },
          "metadata": {
            "tags": []
          },
          "execution_count": 14
        }
      ]
    },
    {
      "cell_type": "code",
      "metadata": {
        "id": "MxwJH2acCq7y",
        "colab_type": "code",
        "outputId": "d2d173ef-eef5-4db1-b447-69f98f5c78d2",
        "colab": {
          "base_uri": "https://localhost:8080/",
          "height": 206
        }
      },
      "source": [
        "#shuffle dataseta da bi videli raznovrsnije podatke\n",
        "ds_comb = ds_comb.sample(frac=1).reset_index(drop=True)\n",
        "ds_comb.head()"
      ],
      "execution_count": 15,
      "outputs": [
        {
          "output_type": "execute_result",
          "data": {
            "text/html": [
              "<div>\n",
              "<style scoped>\n",
              "    .dataframe tbody tr th:only-of-type {\n",
              "        vertical-align: middle;\n",
              "    }\n",
              "\n",
              "    .dataframe tbody tr th {\n",
              "        vertical-align: top;\n",
              "    }\n",
              "\n",
              "    .dataframe thead th {\n",
              "        text-align: right;\n",
              "    }\n",
              "</style>\n",
              "<table border=\"1\" class=\"dataframe\">\n",
              "  <thead>\n",
              "    <tr style=\"text-align: right;\">\n",
              "      <th></th>\n",
              "      <th>url</th>\n",
              "      <th>label</th>\n",
              "    </tr>\n",
              "  </thead>\n",
              "  <tbody>\n",
              "    <tr>\n",
              "      <th>0</th>\n",
              "      <td>http://www.emyvalecottage.com/index.php?view=a...</td>\n",
              "      <td>1</td>\n",
              "    </tr>\n",
              "    <tr>\n",
              "      <th>1</th>\n",
              "      <td>http://sprint.com/business/solutions/sprint_en...</td>\n",
              "      <td>0</td>\n",
              "    </tr>\n",
              "    <tr>\n",
              "      <th>2</th>\n",
              "      <td>http://momoshop.com.tw/category/LgrpCategory.j...</td>\n",
              "      <td>0</td>\n",
              "    </tr>\n",
              "    <tr>\n",
              "      <th>3</th>\n",
              "      <td>http://spplodz.nazwa.pl/archiwum/2008_01a.php</td>\n",
              "      <td>1</td>\n",
              "    </tr>\n",
              "    <tr>\n",
              "      <th>4</th>\n",
              "      <td>http://9779.info/%E4%BC%9A%E5%8A%A8%E7%9A%84%E...</td>\n",
              "      <td>1</td>\n",
              "    </tr>\n",
              "  </tbody>\n",
              "</table>\n",
              "</div>"
            ],
            "text/plain": [
              "                                                 url  label\n",
              "0  http://www.emyvalecottage.com/index.php?view=a...      1\n",
              "1  http://sprint.com/business/solutions/sprint_en...      0\n",
              "2  http://momoshop.com.tw/category/LgrpCategory.j...      0\n",
              "3      http://spplodz.nazwa.pl/archiwum/2008_01a.php      1\n",
              "4  http://9779.info/%E4%BC%9A%E5%8A%A8%E7%9A%84%E...      1"
            ]
          },
          "metadata": {
            "tags": []
          },
          "execution_count": 15
        }
      ]
    },
    {
      "cell_type": "code",
      "metadata": {
        "id": "rHC4BWeABhcf",
        "colab_type": "code",
        "outputId": "ea4f8289-415a-4382-e013-9c662334daf2",
        "colab": {
          "base_uri": "https://localhost:8080/",
          "height": 206
        }
      },
      "source": [
        "#fja za dobijanje deep url-a iz url-a jer samo deep url koristimo za MultinomialNB\n",
        "def get_deep_url_from_url(url):\n",
        "  path = urlparse(url)\n",
        "  if path.query:\n",
        "    return str(path.path) + str('?') + str(path.query)\n",
        "  else:\n",
        "    return str(path.path)\n",
        "\n",
        "ds_comb['deep url'] = ds_comb['url'].apply(lambda x : get_deep_url_from_url(x))\n",
        "ds_comb['len deep url'] = ds_comb['deep url'].apply(lambda x : len(x))\n",
        "ds_comb.head()"
      ],
      "execution_count": 16,
      "outputs": [
        {
          "output_type": "execute_result",
          "data": {
            "text/html": [
              "<div>\n",
              "<style scoped>\n",
              "    .dataframe tbody tr th:only-of-type {\n",
              "        vertical-align: middle;\n",
              "    }\n",
              "\n",
              "    .dataframe tbody tr th {\n",
              "        vertical-align: top;\n",
              "    }\n",
              "\n",
              "    .dataframe thead th {\n",
              "        text-align: right;\n",
              "    }\n",
              "</style>\n",
              "<table border=\"1\" class=\"dataframe\">\n",
              "  <thead>\n",
              "    <tr style=\"text-align: right;\">\n",
              "      <th></th>\n",
              "      <th>url</th>\n",
              "      <th>label</th>\n",
              "      <th>deep url</th>\n",
              "      <th>len deep url</th>\n",
              "    </tr>\n",
              "  </thead>\n",
              "  <tbody>\n",
              "    <tr>\n",
              "      <th>0</th>\n",
              "      <td>http://www.emyvalecottage.com/index.php?view=a...</td>\n",
              "      <td>1</td>\n",
              "      <td>/index.php?view=article&amp;catid=1:latest-news&amp;id...</td>\n",
              "      <td>154</td>\n",
              "    </tr>\n",
              "    <tr>\n",
              "      <th>1</th>\n",
              "      <td>http://sprint.com/business/solutions/sprint_en...</td>\n",
              "      <td>0</td>\n",
              "      <td>/business/solutions/sprint_enablers/index.html...</td>\n",
              "      <td>71</td>\n",
              "    </tr>\n",
              "    <tr>\n",
              "      <th>2</th>\n",
              "      <td>http://momoshop.com.tw/category/LgrpCategory.j...</td>\n",
              "      <td>0</td>\n",
              "      <td>/category/LgrpCategory.jsp?l_code=2110500000&amp;A...</td>\n",
              "      <td>101</td>\n",
              "    </tr>\n",
              "    <tr>\n",
              "      <th>3</th>\n",
              "      <td>http://spplodz.nazwa.pl/archiwum/2008_01a.php</td>\n",
              "      <td>1</td>\n",
              "      <td>/archiwum/2008_01a.php</td>\n",
              "      <td>22</td>\n",
              "    </tr>\n",
              "    <tr>\n",
              "      <th>4</th>\n",
              "      <td>http://9779.info/%E4%BC%9A%E5%8A%A8%E7%9A%84%E...</td>\n",
              "      <td>1</td>\n",
              "      <td>/%E4%BC%9A%E5%8A%A8%E7%9A%84%E6%B0%B4%E6%9E%9C...</td>\n",
              "      <td>74</td>\n",
              "    </tr>\n",
              "  </tbody>\n",
              "</table>\n",
              "</div>"
            ],
            "text/plain": [
              "                                                 url  ...  len deep url\n",
              "0  http://www.emyvalecottage.com/index.php?view=a...  ...           154\n",
              "1  http://sprint.com/business/solutions/sprint_en...  ...            71\n",
              "2  http://momoshop.com.tw/category/LgrpCategory.j...  ...           101\n",
              "3      http://spplodz.nazwa.pl/archiwum/2008_01a.php  ...            22\n",
              "4  http://9779.info/%E4%BC%9A%E5%8A%A8%E7%9A%84%E...  ...            74\n",
              "\n",
              "[5 rows x 4 columns]"
            ]
          },
          "metadata": {
            "tags": []
          },
          "execution_count": 16
        }
      ]
    },
    {
      "cell_type": "code",
      "metadata": {
        "id": "jKCqiCMsy1Ku",
        "colab_type": "code",
        "colab": {}
      },
      "source": [
        "#radimo split deep url-a na reci da bi koristili to kao feature za MultinomialNB\n",
        "import re\n",
        "def split_deep_url(url):\n",
        "    word_list = re.compile(r'[\\:/?=\\-&$~<>;%_\\.\\+\\\\]+',re.UNICODE).split(url)\n",
        "    #cuvaju se samo reci duze od 2 karaktera u deep url\n",
        "    word_list1 = [elem for elem in word_list if len(elem) > 2] \n",
        "    words_string = ' '.join(word_list1)\n",
        "    return str(words_string)"
      ],
      "execution_count": 0,
      "outputs": []
    },
    {
      "cell_type": "code",
      "metadata": {
        "id": "9SVbAHSnEJmH",
        "colab_type": "code",
        "outputId": "2bc14041-0805-44cf-acae-9ec3df4993d5",
        "colab": {
          "base_uri": "https://localhost:8080/",
          "height": 206
        }
      },
      "source": [
        "ds_comb['deep url'] = ds_comb['deep url'].apply(lambda x : split_deep_url(x))\n",
        "ds_comb.head()"
      ],
      "execution_count": 18,
      "outputs": [
        {
          "output_type": "execute_result",
          "data": {
            "text/html": [
              "<div>\n",
              "<style scoped>\n",
              "    .dataframe tbody tr th:only-of-type {\n",
              "        vertical-align: middle;\n",
              "    }\n",
              "\n",
              "    .dataframe tbody tr th {\n",
              "        vertical-align: top;\n",
              "    }\n",
              "\n",
              "    .dataframe thead th {\n",
              "        text-align: right;\n",
              "    }\n",
              "</style>\n",
              "<table border=\"1\" class=\"dataframe\">\n",
              "  <thead>\n",
              "    <tr style=\"text-align: right;\">\n",
              "      <th></th>\n",
              "      <th>url</th>\n",
              "      <th>label</th>\n",
              "      <th>deep url</th>\n",
              "      <th>len deep url</th>\n",
              "    </tr>\n",
              "  </thead>\n",
              "  <tbody>\n",
              "    <tr>\n",
              "      <th>0</th>\n",
              "      <td>http://www.emyvalecottage.com/index.php?view=a...</td>\n",
              "      <td>1</td>\n",
              "      <td>index php view article catid latest news brief...</td>\n",
              "      <td>154</td>\n",
              "    </tr>\n",
              "    <tr>\n",
              "      <th>1</th>\n",
              "      <td>http://sprint.com/business/solutions/sprint_en...</td>\n",
              "      <td>0</td>\n",
              "      <td>business solutions sprint enablers index html ...</td>\n",
              "      <td>71</td>\n",
              "    </tr>\n",
              "    <tr>\n",
              "      <th>2</th>\n",
              "      <td>http://momoshop.com.tw/category/LgrpCategory.j...</td>\n",
              "      <td>0</td>\n",
              "      <td>category LgrpCategory jsp code 2110500000 Area...</td>\n",
              "      <td>101</td>\n",
              "    </tr>\n",
              "    <tr>\n",
              "      <th>3</th>\n",
              "      <td>http://spplodz.nazwa.pl/archiwum/2008_01a.php</td>\n",
              "      <td>1</td>\n",
              "      <td>archiwum 2008 01a php</td>\n",
              "      <td>22</td>\n",
              "    </tr>\n",
              "    <tr>\n",
              "      <th>4</th>\n",
              "      <td>http://9779.info/%E4%BC%9A%E5%8A%A8%E7%9A%84%E...</td>\n",
              "      <td>1</td>\n",
              "      <td></td>\n",
              "      <td>74</td>\n",
              "    </tr>\n",
              "  </tbody>\n",
              "</table>\n",
              "</div>"
            ],
            "text/plain": [
              "                                                 url  ...  len deep url\n",
              "0  http://www.emyvalecottage.com/index.php?view=a...  ...           154\n",
              "1  http://sprint.com/business/solutions/sprint_en...  ...            71\n",
              "2  http://momoshop.com.tw/category/LgrpCategory.j...  ...           101\n",
              "3      http://spplodz.nazwa.pl/archiwum/2008_01a.php  ...            22\n",
              "4  http://9779.info/%E4%BC%9A%E5%8A%A8%E7%9A%84%E...  ...            74\n",
              "\n",
              "[5 rows x 4 columns]"
            ]
          },
          "metadata": {
            "tags": []
          },
          "execution_count": 18
        }
      ]
    },
    {
      "cell_type": "code",
      "metadata": {
        "id": "KjK_FuWNEobg",
        "colab_type": "code",
        "colab": {}
      },
      "source": [
        "#primenjujemo CountVectorizer da bismo imali ulaz za MultinomialDB\n",
        "x = ds_comb['deep url']\n",
        "y = ds_comb['label']"
      ],
      "execution_count": 0,
      "outputs": []
    },
    {
      "cell_type": "code",
      "metadata": {
        "id": "NlpQpVx_Ynb-",
        "colab_type": "code",
        "outputId": "6ba0041c-8aa4-4b8e-84ee-f670c4ee4fd0",
        "colab": {
          "base_uri": "https://localhost:8080/",
          "height": 90
        }
      },
      "source": [
        "x_train, x_test, y_train, y_test = model_selection.train_test_split(x, y, test_size=0.33, random_state=7, stratify=y)\n",
        "print(x_train.shape)\n",
        "print(x_test.shape)\n",
        "print(y_train.shape)\n",
        "print(y_test.shape)"
      ],
      "execution_count": 20,
      "outputs": [
        {
          "output_type": "stream",
          "text": [
            "(59569,)\n",
            "(29340,)\n",
            "(59569,)\n",
            "(29340,)\n"
          ],
          "name": "stdout"
        }
      ]
    },
    {
      "cell_type": "code",
      "metadata": {
        "id": "fr9u1Io2si10",
        "colab_type": "code",
        "outputId": "b7dd6a18-87ba-417e-97cf-77bb655d3c8d",
        "colab": {
          "base_uri": "https://localhost:8080/",
          "height": 1000
        }
      },
      "source": [
        "from sklearn import feature_extraction\n",
        "vectorized = feature_extraction.text.CountVectorizer()\n",
        "x_train_t = vectorized.fit_transform(x_train)\n",
        "vectorized.vocabulary_"
      ],
      "execution_count": 21,
      "outputs": [
        {
          "output_type": "execute_result",
          "data": {
            "text/plain": [
              "{'app': 24518,\n",
              " 'member': 47931,\n",
              " 'sportoption': 61106,\n",
              " 'php': 53438,\n",
              " 'uid': 64803,\n",
              " 'guest': 40244,\n",
              " 'langx': 45601,\n",
              " 'login': 46503,\n",
              " 'html': 41528,\n",
              " 'url': 65231,\n",
              " '2f25901805': 11133,\n",
              " '2fstock': 11988,\n",
              " 'photo': 53405,\n",
              " 'breakfast': 28552,\n",
              " 'with': 67500,\n",
              " 'coffee': 31166,\n",
              " 'orange': 51821,\n",
              " 'juice': 44028,\n",
              " 'watch': 66943,\n",
              " 'men': 47957,\n",
              " 'days': 33047,\n",
              " 'future': 38740,\n",
              " 'past': 52804,\n",
              " 'online': 51651,\n",
              " 'free': 38458,\n",
              " 'putlocker': 55541,\n",
              " '852683': 20343,\n",
              " 'cars': 29764,\n",
              " 'bmw': 28045,\n",
              " '1er': 6576,\n",
              " 'all': 23838,\n",
              " 'search': 58882,\n",
              " '5bstate': 18443,\n",
              " '5bperiod': 18427,\n",
              " '5bcustom': 18380,\n",
              " '5bsection': 18442,\n",
              " '5bmark': 18414,\n",
              " '5b0': 18339,\n",
              " 'folder': 38106,\n",
              " '4277': 15459,\n",
              " '4317': 15512,\n",
              " 'bbs': 26670,\n",
              " 'data': 32969,\n",
              " 'ebay': 35381,\n",
              " 'comm': 31348,\n",
              " 'sq1': 61184,\n",
              " 'index': 42525,\n",
              " '7854195': 19758,\n",
              " 'pack': 52397,\n",
              " '8oz': 20976,\n",
              " 'raw': 56152,\n",
              " 'revolution': 57194,\n",
              " 'organic': 51865,\n",
              " 'live': 46347,\n",
              " 'food': 38155,\n",
              " 'bars': 26466,\n",
              " 'various': 65702,\n",
              " 'flavors': 37947,\n",
              " 'and': 24181,\n",
              " 'shipping': 59598,\n",
              " 'src': 61212,\n",
              " 'pdw': 52969,\n",
              " 'pfqb7vsky13cnxh29731': 53322,\n",
              " 'znjhbnountlayxjjb3iuzgu': 68621,\n",
              " 'xdesdr': 67851,\n",
              " 'bmlhzg9ucy5uzxqmessage': 28040,\n",
              " 'golf': 39716,\n",
              " 'gps': 39893,\n",
              " 'navigation': 49665,\n",
              " 'ranking': 56061,\n",
              " '6195': 18710,\n",
              " 'pricedown': 54773,\n",
              " 'div': 34252,\n",
              " 'gpt': 39894,\n",
              " 'header': 40758,\n",
              " 'text': 63264,\n",
              " 'galleries': 38866,\n",
              " 'kevsphotography1': 44535,\n",
              " 'cda0tjjb7neml3bvg57btbuqij3vtgwtdfqvv4xqp5fd3ig': 29997,\n",
              " 'tag': 62616,\n",
              " 'wet': 67256,\n",
              " 'ong': 51642,\n",
              " 'modi': 48669,\n",
              " 'tham': 63305,\n",
              " 'trung': 64372,\n",
              " 'quoc': 55794,\n",
              " 'tranh': 64090,\n",
              " 'chap': 30334,\n",
              " 'bien': 27625,\n",
              " 'gioi': 39470,\n",
              " 'len': 45916,\n",
              " 'ban': 26307,\n",
              " 'nghi': 50033,\n",
              " 'table': 62584,\n",
              " 'torrent': 63896,\n",
              " 'util': 65339,\n",
              " '15244': 4625,\n",
              " 'page': 52431,\n",
              " 'story': 61621,\n",
              " '032259': 1003,\n",
              " 'intel': 42921,\n",
              " 'accused': 22582,\n",
              " 'being': 27038,\n",
              " 'open': 51704,\n",
              " 'source': 60806,\n",
              " 'fraud': 38432,\n",
              " 'musik': 49238,\n",
              " 'demi': 33420,\n",
              " 'lovato': 46659,\n",
              " 'hat': 40665,\n",
              " 'let': 45977,\n",
              " 'cuc': 32454,\n",
              " 'hay': 40701,\n",
              " 'trong': 64329,\n",
              " 'buoi': 28930,\n",
              " 'tong': 63804,\n",
              " 'duyet': 35076,\n",
              " '20150508095344183': 7399,\n",
              " 'chn': 30604,\n",
              " 'home': 41277,\n",
              " 'status': 61425,\n",
              " 'http': 41540,\n",
              " '2fero': 11583,\n",
              " 'video': 66096,\n",
              " 'net': 49852,\n",
              " '2ft': 12000,\n",
              " '2fysrrfhvwtjgbo0z7': 12145,\n",
              " 'ac2': 22463,\n",
              " '23ero': 9256,\n",
              " '23douga': 9254,\n",
              " '23agesage': 9251,\n",
              " 'tibialottery': 63543,\n",
              " 'option': 51800,\n",
              " 'com': 31288,\n",
              " 'virtuemart': 66284,\n",
              " 'shop': 59646,\n",
              " 'browse': 28724,\n",
              " 'category': 29877,\n",
              " 'itemid': 43383,\n",
              " 'tpl': 63994,\n",
              " 'montecarlo': 48817,\n",
              " 'ver1': 65871,\n",
              " 'css': 32422,\n",
              " 'ver16': 65875,\n",
              " 'blog': 27966,\n",
              " 'content': 31787,\n",
              " 'scap': 58592,\n",
              " '0f3b500cdb2f850d4d281318c0d500d1': 1489,\n",
              " '2003': 6721,\n",
              " '254874': 9828,\n",
              " 'women': 67577,\n",
              " 'view': 66141,\n",
              " '2015': 7236,\n",
              " 'news': 49939,\n",
              " 'constantine': 31717,\n",
              " 'arrow': 24816,\n",
              " 'season': 58909,\n",
              " 'crossover': 32353,\n",
              " 'possibility': 54305,\n",
              " '1201492462': 3447,\n",
              " 'superhero': 62073,\n",
              " 'comic': 31337,\n",
              " 'marketing': 47416,\n",
              " 'local': 46441,\n",
              " 'businesses': 28990,\n",
              " 'get': 39322,\n",
              " 'creative': 32237,\n",
              " 'pay': 52890,\n",
              " 'play': 53776,\n",
              " '220042': 8480,\n",
              " 'cocoperez': 31125,\n",
              " '2014': 7053,\n",
              " 'hunter': 41638,\n",
              " 'hayes': 40707,\n",
              " 'exclusive': 36728,\n",
              " 'shoot': 59639,\n",
              " 'angelo': 24246,\n",
              " 'kritikos': 45227,\n",
              " 'polaroids': 54036,\n",
              " 'ictguides': 41835,\n",
              " 'tools': 63818,\n",
              " 'tool': 63816,\n",
              " 'jsp': 43975,\n",
              " 'toolid': 63817,\n",
              " 'imp2': 42350,\n",
              " '2001': 6697,\n",
              " '293574': 10721,\n",
              " '56om': 17874,\n",
              " 'inappropriate': 42441,\n",
              " 'relations': 56722,\n",
              " 'older': 51541,\n",
              " 'sister': 60041,\n",
              " 'tsubasa': 64426,\n",
              " 'amami': 24002,\n",
              " '2007': 6786,\n",
              " '309294': 12804,\n",
              " '2fcategory': 11513,\n",
              " '2f1': 11095,\n",
              " 'admin': 22813,\n",
              " 'updating': 65152,\n",
              " 'cgi': 30245,\n",
              " 'update': 65136,\n",
              " '2920dea4212b7953cce13fc7e2b13c89': 10664,\n",
              " 'manufacture': 47308,\n",
              " '2011': 6869,\n",
              " 'googles': 39785,\n",
              " 'pac': 52392,\n",
              " 'maps': 47335,\n",
              " 'gets': 39341,\n",
              " 'april': 24600,\n",
              " 'fools': 38161,\n",
              " 'ball': 26278,\n",
              " 'rolling': 57554,\n",
              " 'early': 35330,\n",
              " 'turns': 64544,\n",
              " 'google': 39765,\n",
              " 'into': 43023,\n",
              " 'man': 47223,\n",
              " 'game': 38892,\n",
              " '217755': 8382,\n",
              " '8491530496': 20297,\n",
              " 'textbook': 63267,\n",
              " 'fail': 37126,\n",
              " 'image': 42255,\n",
              " 'that': 63321,\n",
              " 'doesnt': 34439,\n",
              " 'seem': 59013,\n",
              " 'right': 57314,\n",
              " 'ref': 56546,\n",
              " 'rightarrow': 57315,\n",
              " 'siteid': 60052,\n",
              " '12237': 3560,\n",
              " 'phocagallery': 53391,\n",
              " 'detail': 33673,\n",
              " 'catid': 29892,\n",
              " 'diverse': 34261,\n",
              " 'bilder': 27667,\n",
              " 'bei': 27032,\n",
              " 'wirtshaus': 67482,\n",
              " 'usw': 65327,\n",
              " 'einfuegen': 35704,\n",
              " '50erbier1011087': 16697,\n",
              " 'tmpl': 63709,\n",
              " 'component': 31470,\n",
              " 'buttons': 29019,\n",
              " 'info': 42629,\n",
              " '7003': 19284,\n",
              " '899635': 20809,\n",
              " 'cba': 29934,\n",
              " 'outdoor': 52142,\n",
              " 'cooler': 31894,\n",
              " 'box': 28388,\n",
              " '6572': 18918,\n",
              " 'press': 54692,\n",
              " 'release': 56732,\n",
              " 'sntv': 60492,\n",
              " 'partners': 52748,\n",
              " '6medias': 19266,\n",
              " 'target': 62782,\n",
              " 'the': 63329,\n",
              " 'french': 38497,\n",
              " 'digital': 33967,\n",
              " 'market': 47414,\n",
              " 'signup': 59880,\n",
              " 'mode': 48642,\n",
              " 'socialmode': 60544,\n",
              " 'route': 57707,\n",
              " 'getpocket': 39335,\n",
              " 'pocket': 53901,\n",
              " 'topics': 63844,\n",
              " 'parenting': 52654,\n",
              " 'improving': 42421,\n",
              " 'your': 68196,\n",
              " 'referral': 56563,\n",
              " 'traffic': 64047,\n",
              " 'through': 63498,\n",
              " 'social': 60539,\n",
              " 'sharing': 59496,\n",
              " 'forums': 38287,\n",
              " 'localhistory': 46446,\n",
              " 'start': 61375,\n",
              " 'noframes': 50316,\n",
              " 'read': 56245,\n",
              " '26896': 10135,\n",
              " 'viewform': 66155,\n",
              " 'formkey': 38248,\n",
              " 'cjlwrdftwerkzeixuzvjsmnsn0exu1e6ma': 30846,\n",
              " 'questions': 55757,\n",
              " '30226141': 12343,\n",
              " 'display': 34197,\n",
              " 'child': 30543,\n",
              " 'nodes': 50313,\n",
              " 'selected': 59081,\n",
              " 'node': 50306,\n",
              " 'treeview': 64204,\n",
              " 'textbox': 63269,\n",
              " 'battle': 26548,\n",
              " 'bxvkhzzus': 29063,\n",
              " 'csp': 32416,\n",
              " 'smp': 60409,\n",
              " 'aol': 24457,\n",
              " 'itementry3': 43381,\n",
              " 'e119': 35189,\n",
              " 'cat': 29850,\n",
              " 'kitchenware': 44766,\n",
              " 'subcats2': 61849,\n",
              " 'bedroom': 26974,\n",
              " 'cspchd': 32417,\n",
              " '00000001000131uqc1p7003754707076': 185,\n",
              " '2ftable': 12002,\n",
              " '2fresponsabilidade': 11921,\n",
              " 'civel': 30837,\n",
              " '2000': 6680,\n",
              " '316830': 13086,\n",
              " 'tinh': 63631,\n",
              " 'gia': 39393,\n",
              " 'giua': 39507,\n",
              " 'gai': 38828,\n",
              " 'can': 29552,\n",
              " 'tho': 63443,\n",
              " 'dai': 32826,\n",
              " 'loan': 46430,\n",
              " 'ket': 44526,\n",
              " 'thuc': 63510,\n",
              " 'day': 33036,\n",
              " 'kich': 44618,\n",
              " '118185': 3250,\n",
              " 'article': 24841,\n",
              " 'kryon': 45264,\n",
              " '012009': 799,\n",
              " 'barbara': 26419,\n",
              " 'bessen': 27252,\n",
              " 'includes': 42475,\n",
              " '2016doc': 7495,\n",
              " 'entertainment': 36148,\n",
              " 'avengers': 25394,\n",
              " 'age': 23055,\n",
              " 'ultron': 64880,\n",
              " 'tops': 63860,\n",
              " 'million': 48307,\n",
              " 'hot': 41418,\n",
              " 'pursuit': 55521,\n",
              " 'flounders': 38019,\n",
              " 'electronice': 35796,\n",
              " 'electrocasnice': 35790,\n",
              " 'alte': 23955,\n",
              " 'aparate': 24477,\n",
              " 'spring': 61151,\n",
              " 'thumb': 63514,\n",
              " 'jpg': 43950,\n",
              " 'ztc5niw2mdasmtawldqsmywxlc0xldes': 68668,\n",
              " '6ebc6208e20d6b024a85ee3905e83c11bf6709db587a64f450b986c4a2d7a72df42555b69ed333ed44964cd4d521c5c403586a997cb3d69fd22f4c2f6211a402': 19242,\n",
              " 'product': 54991,\n",
              " 'reviews': 57183,\n",
              " 'write': 67713,\n",
              " 'cpath': 32144,\n",
              " 'products': 55004,\n",
              " '890': 20650,\n",
              " 'list': 46291,\n",
              " 'notizie': 50454,\n",
              " 'generali': 39168,\n",
              " 'accordo': 22553,\n",
              " 'tra': 64004,\n",
              " 'intesa': 43009,\n",
              " 'sanpaolo': 58421,\n",
              " 'confartigianato': 31581,\n",
              " 'cna': 31069,\n",
              " 'casartigiani': 29803,\n",
              " 'per': 53093,\n",
              " 'sostegno': 60769,\n",
              " 'sviluppo': 62226,\n",
              " 'delle': 33391,\n",
              " 'imprese': 42399,\n",
              " 'artigiane': 24853,\n",
              " 'geordie': 39239,\n",
              " 'shore': 59665,\n",
              " 'tvshow': 64592,\n",
              " 'episode': 36226,\n",
              " 'jquery': 43954,\n",
              " 'custom': 32546,\n",
              " 'min': 48327,\n",
              " 'ver15': 65874,\n",
              " 'item': 43372,\n",
              " 'rocketeer': 57482,\n",
              " 'viral': 66264,\n",
              " 'media': 47810,\n",
              " 'quizzes': 55792,\n",
              " 'polls': 54079,\n",
              " '11372205': 2627,\n",
              " 'how': 41464,\n",
              " 'breasts': 28560,\n",
              " 'are': 24702,\n",
              " 'made': 46984,\n",
              " 'why': 67327,\n",
              " 'they': 63398,\n",
              " '1687753475': 5149,\n",
              " 'creativity': 32243,\n",
              " 'courses': 32104,\n",
              " 'ideation': 42048,\n",
              " 'para': 52609,\n",
              " 'governo': 39869,\n",
              " 'estadual': 36470,\n",
              " 'solucoes': 60651,\n",
              " 'correios': 31991,\n",
              " 'entrega': 36163,\n",
              " 'direta': 34078,\n",
              " 'deveops': 33746,\n",
              " 'ubuntu': 64720,\n",
              " '86server': 20469,\n",
              " 'details': 33677,\n",
              " '169': 5157,\n",
              " 'flypage': 38063,\n",
              " '421': 15392,\n",
              " 'magazine': 47019,\n",
              " 'sport': 61096,\n",
              " 'fussball': 38730,\n",
              " 'champions': 30295,\n",
              " 'league': 45787,\n",
              " 'bayern': 26578,\n",
              " 'muenchen': 49091,\n",
              " 'barcelona': 26429,\n",
              " '30633572': 12654,\n",
              " 'zarja': 68402,\n",
              " 'feminine': 37492,\n",
              " 'personal': 53213,\n",
              " 'wordpress': 67619,\n",
              " 'theme': 63358,\n",
              " 'full': 38654,\n",
              " 'screen': 58802,\n",
              " 'preview': 54746,\n",
              " '10259094': 1794,\n",
              " '57361j1x3': 17923,\n",
              " 'atp': 25136,\n",
              " 'shirt': 59606,\n",
              " 'utm': 65355,\n",
              " 'campaign': 29521,\n",
              " 'medium': 47847,\n",
              " 'oembed': 51364,\n",
              " '5950226': 18240,\n",
              " 'dont': 34587,\n",
              " 'despair': 33635,\n",
              " 'nhl': 50087,\n",
              " 'fans': 37205,\n",
              " 'you': 68183,\n",
              " 'imitation': 42328,\n",
              " 'pro': 54918,\n",
              " 'hockey': 41214,\n",
              " 'espn': 36440,\n",
              " 'heres': 40929,\n",
              " 'scr': 58790,\n",
              " 'clk': 30988,\n",
              " 'aspx': 24973,\n",
              " 'o03ct0jdn4jdq4pnol6pfr3qqh7sbcjgb8zhb8zhttttb8jhhl6rhzsrb8jhzzm9okkthlyc6d6tilyc6l6umzcsqrkpod6qxv6tbcjhm5csqvmpoloc4jmpijsrllycs0noohdrb9nialoc4bzdv03esazcb8zdm5csxrm9pgkpat7rg97cftcq1blg6lid6paisgapklyc4lncahcjazsc6ttofrahnx6qdrah2pqqwp3e7fkptkjmph5p5fnhjtkg1vsdnc6iexrqfxllahslrhjcptshomcs1hnh5dndvp3ru1jsmlcmtm4jofnqfbqljnkdrxcpg9mscvqpabzcmtzgq9kgxd7ig5qj11psa9nmzbrdsxdu3rmqqdkq69tkf5bhchpsuvqhqb3qnx5rddtqpvm9ogqrhxdmb83hl1bmibjdklyc4drdnpj9rokilrmusqkcngapptjhajqooxdhnd6rb83hjf7e1j6lqz4u1lycnkycscnpx9toeb4pbc3hbx7sl97tbkzho4pdngzdns3eo03dbkzhn4pdu83escjcukpctkid6bzdpopdn8jdcc6qozmfnoysbpmpzoiqm56pz4jdvuicqazbncpck8pcroosbdtszqssgh6tx5dtln6spwmrbrcprh3sy9muuporyfmpzc5if15k9vqhcycofhmfoo2se9noz4mow8npzxmootmoynmpw8moqhnpobmpp1002': 50864,\n",
              " 'sobi2': 60515,\n",
              " 'letter': 45990,\n",
              " 'rogelse': 57517,\n",
              " 'thread': 63474,\n",
              " 'sale': 58292,\n",
              " 'best': 27257,\n",
              " 'spinner': 61034,\n",
              " 'lifetime': 46145,\n",
              " 'discount': 34125,\n",
              " 'plus': 53866,\n",
              " 'thousands': 63469,\n",
              " 'dollars': 34488,\n",
              " 'worth': 67665,\n",
              " 'bonuses': 28238,\n",
              " 'action': 22660,\n",
              " 'newpost': 49936,\n",
              " 'articles': 24844,\n",
              " '114442': 2747,\n",
              " 'there': 63380,\n",
              " 'good': 39745,\n",
              " 'for': 38175,\n",
              " 'couples': 32092,\n",
              " 'who': 67314,\n",
              " 'smoke': 60391,\n",
              " 'weed': 67129,\n",
              " 'together': 63752,\n",
              " 'listing': 46312,\n",
              " '8845': 20598,\n",
              " 'order': 51837,\n",
              " 'string': 61722,\n",
              " '7bstring': 19848,\n",
              " 'bmatch': 28033,\n",
              " 'seng': 59154,\n",
              " 'isqm': 43255,\n",
              " '0402': 1057,\n",
              " 'vestigingen': 66019,\n",
              " 'despite': 33641,\n",
              " 'superior': 62078,\n",
              " 'performance': 53151,\n",
              " 'brands': 28502,\n",
              " 'still': 61542,\n",
              " 'struggle': 61756,\n",
              " '211372': 8267,\n",
              " '111696': 2390,\n",
              " 'morning': 48876,\n",
              " 'jacket': 43474,\n",
              " 'new': 49910,\n",
              " 'single': 59998,\n",
              " 'one': 51626,\n",
              " 'last': 45655,\n",
              " 'great': 39998,\n",
              " 'rock': 57475,\n",
              " 'bands': 26335,\n",
              " 'werben': 67221,\n",
              " 'sie': 59829,\n",
              " 'artikel': 24855,\n",
              " 'katalog': 44359,\n",
              " 'plugins': 53855,\n",
              " 'akismet': 23650,\n",
              " 'zerop': 68516,\n",
              " '2010': 6844,\n",
              " 'izdan': 43437,\n",
              " '2318222': 8973,\n",
              " 'robots': 57467,\n",
              " 'provide': 55279,\n",
              " 'glimpse': 39580,\n",
              " 'inside': 42802,\n",
              " 'fukushima': 38652,\n",
              " 'reactors': 56244,\n",
              " 'continuous': 31811,\n",
              " 'txt': 64645,\n",
              " '3522612321s649ze54trd3198a3w1tg6z3u1468732164': 13877,\n",
              " '880934167298134519': 20557,\n",
              " 'account': 22555,\n",
              " 'dps': 34723,\n",
              " 'htm': 41526,\n",
              " 'download': 34697,\n",
              " '4190636': 15263,\n",
              " 'graphicriver': 39974,\n",
              " 'real': 56268,\n",
              " 'fire': 37821,\n",
              " 'creator': 32245,\n",
              " '11417890': 2693,\n",
              " 'microsoft': 48202,\n",
              " 'salesforce': 58294,\n",
              " 'tie': 63565,\n",
              " 'might': 48238,\n",
              " 'about': 22407,\n",
              " 'growing': 40132,\n",
              " 'purse': 55518,\n",
              " 'cmo': 31059,\n",
              " 'showphotos': 59723,\n",
              " 'asp': 24961,\n",
              " 'type': 64660,\n",
              " 'name': 49483,\n",
              " 'finda': 37778,\n",
              " 'showphotos2': 59724,\n",
              " 'classified': 30896,\n",
              " 'default': 33280,\n",
              " '191': 6258,\n",
              " '2282704': 8771,\n",
              " 'susanne': 62171,\n",
              " 'atanus': 25071,\n",
              " 'god': 39662,\n",
              " 'punishing': 55485,\n",
              " 'autism': 25311,\n",
              " 'tornados': 63885,\n",
              " 'test': 63225,\n",
              " '7321': 19512,\n",
              " '900970': 21065,\n",
              " 'different': 33953,\n",
              " 'solutions': 60654,\n",
              " 'inspire': 42826,\n",
              " 'world': 67650,\n",
              " 'humanity': 41603,\n",
              " 'faith': 37142,\n",
              " 'restored': 57064,\n",
              " '124827': 3629,\n",
              " 'quotes': 55804,\n",
              " 'hero': 40942,\n",
              " 'interval': 42999,\n",
              " 'author': 25303,\n",
              " 'sortby': 60753,\n",
              " 'date': 32981,\n",
              " '217009': 8357,\n",
              " 'manufacturers': 47310,\n",
              " '20crafthouse': 7752,\n",
              " '20press': 8011,\n",
              " '508': 16669,\n",
              " '847383': 20268,\n",
              " 'laptop': 45625,\n",
              " 'shuts': 59779,\n",
              " 'down': 34691,\n",
              " 'because': 26946,\n",
              " 'heat': 40801,\n",
              " 'though': 63463,\n",
              " 'fan': 37194,\n",
              " 'b0c': 25810,\n",
              " 'not': 50427,\n",
              " 'linux': 46259,\n",
              " 'apartbylowrys': 24481,\n",
              " 'price': 54771,\n",
              " 'proper': 55177,\n",
              " 'ssy': 61262,\n",
              " 'ssm': 61256,\n",
              " 'ssd': 61245,\n",
              " 'sey': 59396,\n",
              " 'sem': 59113,\n",
              " 'sed': 58993,\n",
              " 'dstk': 34932,\n",
              " '440': 15638,\n",
              " 'discussions': 34144,\n",
              " '620713633843267544': 18730,\n",
              " '22http': 8852,\n",
              " 'steamcommunity': 61450,\n",
              " 'wishlist': 67490,\n",
              " 'o03ct0jdn4jcv0pnol6pfr3qqh7sbcjgb8zhb8zhttttb8jhibcpbd7tvnmpb8jhrdn9oo4tj1tsb5cszxm9ok4qqrm9pkksbc3hqw7db8zgz5csb8zgalmoilcscc6qozmfnoysbpmpzoiqm56pz4jdvuicqazbncpck8pcroosbdtsz0jpn87cspscrospixsqobmsvhmpitdqtporyfmpzmkqclssqb7rbzlljporyb6pz0z9mxcsxr3duh38z5cswgmpxnmpo1002': 50824,\n",
              " 'five': 37883,\n",
              " 'star': 61359,\n",
              " '2f34608633': 11148,\n",
              " 'illustration': 42245,\n",
              " 'vector': 65774,\n",
              " 'abstract': 22447,\n",
              " 'road': 57432,\n",
              " 'infographics': 42639,\n",
              " 'willkommen': 67409,\n",
              " 'herzlich': 40966,\n",
              " 'der': 33532,\n",
              " 'aktivregion': 23685,\n",
              " 'ostseekueste': 52011,\n",
              " 'print': 54835,\n",
              " 'simple': 59941,\n",
              " 'tips': 63650,\n",
              " 'designing': 33611,\n",
              " 'copy': 31932,\n",
              " 'web': 67020,\n",
              " 'gtm': 40206,\n",
              " 'module': 48688,\n",
              " 'system': 62382,\n",
              " 'method': 48107,\n",
              " 'madvertis': 47001,\n",
              " 'other': 52030,\n",
              " 'memberexclusiveii': 47933,\n",
              " 'exclusiveno': 36730,\n",
              " 'contatti': 31783,\n",
              " 'identify': 42059,\n",
              " 'customer': 32547,\n",
              " 'bgflcuxha6lxlmvvvzxtkg9anaym19kri5fjepkx0bi9ga0sbbckgnyxk7co5cfzk4gtjej6zrwyecrv4wma7ocvwzrmwkbfjslf': 27550,\n",
              " 'methods': 48110,\n",
              " 'methodid': 48109,\n",
              " '122': 3547,\n",
              " 'post': 54309,\n",
              " 'related': 56719,\n",
              " '5544d20a4a0c4bf6779ba3c3': 17549,\n",
              " 'skip': 60153,\n",
              " 'limit': 46192,\n",
              " 'back': 26143,\n",
              " '2f49899715': 11236,\n",
              " 'london': 46573,\n",
              " 'august': 25246,\n",
              " 'ead': 35321,\n",
              " 'operation': 51736,\n",
              " 'rsid': 57767,\n",
              " '17093': 5383,\n",
              " 'firstrec': 37846,\n",
              " '1001': 1620,\n",
              " 'numreq': 50601,\n",
              " 'highlight': 41028,\n",
              " '13585803': 4036,\n",
              " 'homme': 41309,\n",
              " 'atlantide': 25112,\n",
              " 'avec': 25388,\n",
              " 'alexis': 23776,\n",
              " 'krieg': 45208,\n",
              " 'tristan': 64299,\n",
              " 'shu': 59765,\n",
              " 'from': 38552,\n",
              " 'set': 59329,\n",
              " '316271': 13069,\n",
              " '55520c474a0c4b2053d5da57': 17644,\n",
              " '126': 3669,\n",
              " 'berndhanesch': 27213,\n",
              " 'a530hwuksxmrqlixjkebjxehrjedk5w0h9vev4xqp5fd3ig': 22142,\n",
              " 'sweet': 62280,\n",
              " 'dmb': 34327,\n",
              " 'banners': 26394,\n",
              " 'click': 30948,\n",
              " 'mobile': 48606,\n",
              " 'tablet': 62587,\n",
              " 'htc': 41522,\n",
              " 'titan': 63662,\n",
              " 'images': 42269,\n",
              " '2fholghtbus': 11660,\n",
              " '2fd3': 11539,\n",
              " '2fen': 11577,\n",
              " '2findex': 11690,\n",
              " 'amp': 24107,\n",
              " 'o03ct0jdn4pdokpnol6pfr3qqh7sbcjgb8zhb8zhttttb8jhhl6rhzsrb8jhzzm9okkthlyc6d6tilyc6l6umzcsqrkpod6qxv6tbcjhm5csqvmpoloc4jmpijsrllycs0noohdrb9nialoc4bzdv03esazcb8zdm5csxrm9pgkpatnclpkcotdq1ll9ogqkqlpollid6rcuohmoehjunjkkqdajok7pqkktmvqor4lohltsog3lukid6lalid6jjxkpbkzhqwkeuxtjfllgpb4ch9btgd5ij5ksmpjo7ltqedkonispwl4mrt6rzd5ugvcgpwkiqlid6lqrx9j9rokep93ccpns7hdkalid6b7q4xkhnrkifp4uujkgdvmh6rkksflu7lzsv1tdxdjpk9do8hdhh9rjplid6pjqb83hwpmu7hzjatjinski7lkdohkihbjleddte57rflyc45drbzcheb7entli75ptpzmma57s6zaor8kdjxpcbh4rmsmuscjpb9cgltnhg9zig5jpnkid6lid69zrmem9ogkiq1tcb83htetpqmstibaudtllh5mmhbjh3bliqbbudl5r4xcjofaipqkj6x6uvlyc4rm9roai9pkjjxnrvknt2hlsq97sfv6cbkzhtc6kokmrmksgblkre9kmjhdumwmopxsssl6p5damdhspzlyc4llegdths4qh915cqxam2l4kffclp4zccxpsl5ccqkycnkycscnpx9toeb4pbc3hbx7sl97tbkzho4pdngzdns3etcj9rokcns3eogzdoc3dq8jcbkzhsczdsapcrszccc6qozmfnoysbpmpzoiqm56pz4jdvuicqazbncpck8pcroosbdtszcttobscarsst13crxnrrtcupgmsq4ndrooryfmpzc5if15k9vqhcycofhmfpo2se9nozumqhl68xbcswccsldtswgdsxbcrb9701': 50977,\n",
              " '7260': 19434,\n",
              " '898629': 20766,\n",
              " 'lgrpcategory': 46040,\n",
              " 'code': 31134,\n",
              " '1702200000': 5249,\n",
              " 'cid': 30732,\n",
              " 'subcateg': 61847,\n",
              " 'oid': 51472,\n",
              " 'mdiv': 47761,\n",
              " '1000000000': 1577,\n",
              " '110': 2241,\n",
              " 'ctype': 32441,\n",
              " 'contact': 31754,\n",
              " 'pytin': 55593,\n",
              " 'ystroit': 68233,\n",
              " 'priem': 54785,\n",
              " 'kremle': 45199,\n",
              " 'chest': 30490,\n",
              " 'velikogo': 65822,\n",
              " 'kniazia': 44874,\n",
              " 'vladimira': 66362,\n",
              " 'g15': 38771,\n",
              " 'm06': 46904,\n",
              " 'rbehwlksatciaaaaaaexovmdgeeaagwvwhtepeaare5034': 56199,\n",
              " 'cdsb': 30042,\n",
              " 'board': 28071,\n",
              " 'notice': 50445,\n",
              " 'auth': 25294,\n",
              " 'keyword': 44547,\n",
              " 'recom': 56404,\n",
              " '4189641': 15098,\n",
              " 'mysistershotfriend': 49336,\n",
              " 'courtney': 32111,\n",
              " 'james': 43539,\n",
              " '5bjun': 18411,\n",
              " '2c2007': 11002,\n",
              " '2805': 10370,\n",
              " 'scopi': 58764,\n",
              " 'layout': 45747,\n",
              " 'archive': 24687,\n",
              " '6566': 18914,\n",
              " '2fb1ug5mb59r4nzlpf': 11389,\n",
              " '8aav': 20861,\n",
              " 'videos': 66114,\n",
              " '226552': 8723,\n",
              " 'awesome': 25469,\n",
              " 'softcore': 60581,\n",
              " 'bondage': 28210,\n",
              " 'games': 38897,\n",
              " 'asian': 24927,\n",
              " 'babe': 26117,\n",
              " 'breakdown': 28550,\n",
              " 'impressive': 42408,\n",
              " 'fresh': 38507,\n",
              " 'sound': 60792,\n",
              " 'bar': 26412,\n",
              " 'loudspeaker': 46646,\n",
              " 'showphoto': 59722,\n",
              " 'photoid': 53426,\n",
              " 'lang': 45590,\n",
              " '207': 7618,\n",
              " 'jforms': 43738,\n",
              " 'form': 38217,\n",
              " 'enlaces': 36099,\n",
              " 'strategiespiele': 61679,\n",
              " 'sparta': 60898,\n",
              " 'war': 66897,\n",
              " 'empires': 35951,\n",
              " 'mission': 48470,\n",
              " 'gewitzter': 39359,\n",
              " 'archon': 24694,\n",
              " 'preise': 54600,\n",
              " '4f940e56ecb77dd1ebf6803debb46603f7f777d1': 16505,\n",
              " 'title': 63669,\n",
              " 'kickass': 44620,\n",
              " 'to': 63721,\n",
              " 'thrones': 63495,\n",
              " 's05e02': 58044,\n",
              " 'hdtv': 40749,\n",
              " '1080p': 2099,\n",
              " 'subs': 61879,\n",
              " 'sam': 58322,\n",
              " 'tbs': 62879,\n",
              " 'morfeoshow': 48871,\n",
              " 'task': 62811,\n",
              " 'gallery': 38867,\n",
              " 'fontstyle': 38151,\n",
              " 'themes': 63366,\n",
              " 'sign': 59855,\n",
              " 'simplo': 59962,\n",
              " 'prettyphoto': 54734,\n",
              " '217745': 8381,\n",
              " 'thereef': 63381,\n",
              " 'style': 61815,\n",
              " '47d7e168ad01f2fcce2b130ac3de5ef65914b004': 16104,\n",
              " 'vivid': 66345,\n",
              " 'owari': 52238,\n",
              " 'seraph': 59226,\n",
              " '468ea0a1': 15971,\n",
              " 'mkv': 48558,\n",
              " 'cau': 29904,\n",
              " 'vong': 66502,\n",
              " 'luc': 46729,\n",
              " 'sac': 58196,\n",
              " 'chia': 30512,\n",
              " 'tam': 62699,\n",
              " 'ngay': 50024,\n",
              " 'con': 31523,\n",
              " 'trai': 64057,\n",
              " 'toi': 63756,\n",
              " 'nguc': 50058,\n",
              " 'cua': 32444,\n",
              " '178224': 5550,\n",
              " 'operationen': 51738,\n",
              " 'leistungsspektrum': 45899,\n",
              " 'apple': 24545,\n",
              " 'c59b37b3c80fbe8bba08a3793b596299': 29221,\n",
              " '231': 8914,\n",
              " '142831': 4338,\n",
              " 'sefservicemap': 59019,\n",
              " 'nine': 50212,\n",
              " 'stats': 61421,\n",
              " 'need': 49756,\n",
              " 'know': 44886,\n",
              " 'before': 27003,\n",
              " 'watching': 66949,\n",
              " 'rangers': 56054,\n",
              " 'share': 59481,\n",
              " 'email': 35888,\n",
              " 'europe': 36589,\n",
              " 'policemen': 54046,\n",
              " 'killed': 44663,\n",
              " 'gunfight': 40297,\n",
              " 'near': 49725,\n",
              " 'kosovo': 45114,\n",
              " 'border': 28299,\n",
              " 'macedonia': 46936,\n",
              " '352585': 13880,\n",
              " 'humor': 41619,\n",
              " '1894': 6204,\n",
              " 'joomgallery': 43890,\n",
              " 'func': 38669,\n",
              " 'diy': 34286,\n",
              " 'stylesheets': 61822,\n",
              " '296266': 10792,\n",
              " '783ba24d60cdc6ba97f8f458b801284027a7a14e': 19752,\n",
              " 'walking': 66842,\n",
              " 'dead': 33135,\n",
              " 's04e09': 58034,\n",
              " 'x264': 67807,\n",
              " '2hd': 12172,\n",
              " 'ettv': 36564,\n",
              " 'modules': 48691,\n",
              " 'mod': 48634,\n",
              " 'show': 59688,\n",
              " 'gk4': 39528,\n",
              " 'styles': 61820,\n",
              " 'supersized': 62087,\n",
              " '18141': 5713,\n",
              " 'pressoffice': 54708,\n",
              " 'displaycorner': 34198,\n",
              " 'freemarket': 38475,\n",
              " 'itemarealist': 43378,\n",
              " 'area1': 24704,\n",
              " 'area2': 24705,\n",
              " 'englishmovies': 36083,\n",
              " '226040': 8701,\n",
              " 'dvdrip': 35093,\n",
              " 'machina': 46945,\n",
              " 'tyanna': 64650,\n",
              " 'jones': 43881,\n",
              " 'jackson': 43479,\n",
              " 'family': 37189,\n",
              " 'american': 24066,\n",
              " 'idol': 42080,\n",
              " 'finale': 37744,\n",
              " 'medley': 47853,\n",
              " 'mailto': 47092,\n",
              " 'link': 46233,\n",
              " 'ahr0cdovl3d3dy5zywx1zhllc3rldgljys5jbc9nl2luzgv4lnbocd9vchrpb249y29tx2nvbnrlbnqmdmlldz1hcnrpy2xljmlkptywonrlbwetc2fsdwqmsxrlbwlkptc0': 23514,\n",
              " '115044': 2801,\n",
              " 'this': 63433,\n",
              " 'former': 38243,\n",
              " 'ferguson': 37513,\n",
              " 'official': 51405,\n",
              " 'compared': 31420,\n",
              " 'racist': 55911,\n",
              " 'controversy': 31844,\n",
              " 'raped': 56072,\n",
              " '393713': 14247,\n",
              " 'windows': 67433,\n",
              " 'entryuefi': 36178,\n",
              " 'deleted': 33367,\n",
              " 'after': 23027,\n",
              " 'installing': 42857,\n",
              " 'legacy': 45857,\n",
              " 'jms': 43794,\n",
              " 'mlb': 48563,\n",
              " 'lgz': 46042,\n",
              " 'film': 37706,\n",
              " 'san': 58371,\n",
              " 'andreas': 24201,\n",
              " 'nepal': 49820,\n",
              " 'earthquake': 35338,\n",
              " '1201484016': 3429,\n",
              " 'replytocom': 56906,\n",
              " '1257942': 3662,\n",
              " 'tin': 63627,\n",
              " 'tuc': 64461,\n",
              " 'thoi': 63447,\n",
              " 'nguoi': 50061,\n",
              " 'phat': 53350,\n",
              " 'hien': 41015,\n",
              " 'hang': 40540,\n",
              " 'son': 60681,\n",
              " 'doong': 34602,\n",
              " 'duoc': 35027,\n",
              " 'tang': 62730,\n",
              " 'huan': 41553,\n",
              " 'chuong': 30703,\n",
              " 'lao': 45613,\n",
              " 'dong': 34570,\n",
              " '3210319': 13233,\n",
              " 'antonjulianov777': 24422,\n",
              " '9420nortoefpl1sfor91jqwhy1cmdqe5bfbtv4xqp5fd3ig': 21396,\n",
              " 'clip': 30982,\n",
              " 'business': 28987,\n",
              " 'universalnyje': 65039,\n",
              " 'reshenija': 56989,\n",
              " 'kliring': 44837,\n",
              " 'privat24': 54881,\n",
              " 'compounded': 31480,\n",
              " 'pvc': 55561,\n",
              " '295796': 10770,\n",
              " '92a0c27a19c14a460c35bbe3397198afd8c07b05': 21314,\n",
              " 'binding': 27712,\n",
              " 'isaac': 43197,\n",
              " 'rebirth': 56318,\n",
              " 'eng': 36059,\n",
              " '2f68935043': 11295,\n",
              " 'cups': 32508,\n",
              " 'croissants': 32332,\n",
              " 'unser': 65088,\n",
              " 'bier': 27629,\n",
              " '554300bc4a0c4bfd6af36269': 17536,\n",
              " 'oferta': 51379,\n",
              " 'chereau': 30472,\n",
              " 'winda': 67426,\n",
              " '2001tarcze': 6710,\n",
              " 'gruba': 40141,\n",
              " 'sciana': 58741,\n",
              " 'szt': 62410,\n",
              " 'cena': 30117,\n",
              " 'negocjacji': 49774,\n",
              " 'id2bf2oh': 41857,\n",
              " '4fb1d4cf8b85a99070abde50d1087a5f1757c1b1': 16510,\n",
              " 'gotham': 39849,\n",
              " 's01e04': 57968,\n",
              " 'lol': 46561,\n",
              " 'loue': 46647,\n",
              " 'appartement': 24525,\n",
              " 'belgique': 27071,\n",
              " 'specialevents': 60933,\n",
              " 'calendar': 29420,\n",
              " '2013': 6945,\n",
              " '54f3327a4a0c4b110bcdf8e4': 17405,\n",
              " 'wiki': 67385,\n",
              " 'starts': 61388,\n",
              " 'blocking': 27951,\n",
              " 'extensions': 36865,\n",
              " 'chrome': 30662,\n",
              " 'store': 61606,\n",
              " 'users': 65294,\n",
              " 'disables': 34091,\n",
              " 'installed': 42854,\n",
              " 'ones': 51639,\n",
              " 'feed': 37446,\n",
              " 'params': 52631,\n",
              " 'richmedia': 57275,\n",
              " 'yes': 68106,\n",
              " 'location': 46459,\n",
              " 'middle': 48210,\n",
              " 'spacedesc': 60860,\n",
              " 'site': 60045,\n",
              " 'society': 60552,\n",
              " 'navsection': 49671,\n",
              " '2792': 10321,\n",
              " 'section': 58956,\n",
              " '105907': 1951,\n",
              " 'country': 32083,\n",
              " 'ita': 43346,\n",
              " 'rand': 56036,\n",
              " '0043123': 593,\n",
              " 'collegebasketballnation': 31243,\n",
              " '107228': 2037,\n",
              " 'looking': 46596,\n",
              " 'ahead': 23135,\n",
              " 'michigan': 48188,\n",
              " 'state': 61400,\n",
              " 'spartans': 60903,\n",
              " 'antras': 24425,\n",
              " 'las': 45645,\n",
              " 'gardenias': 38949,\n",
              " 'sony': 60713,\n",
              " 'ericsson': 36293,\n",
              " 'xperia': 67915,\n",
              " 'neo': 49815,\n",
              " 'radio': 55931,\n",
              " 'cbc': 29945,\n",
              " ...}"
            ]
          },
          "metadata": {
            "tags": []
          },
          "execution_count": 21
        }
      ]
    },
    {
      "cell_type": "code",
      "metadata": {
        "id": "LeplIgDPvyrx",
        "colab_type": "code",
        "outputId": "3cad98df-e514-46e5-ee45-8badf0216767",
        "colab": {
          "base_uri": "https://localhost:8080/",
          "height": 35
        }
      },
      "source": [
        "from sklearn.naive_bayes import MultinomialNB\n",
        "nb = MultinomialNB()\n",
        "nb.fit(x_train_t, y_train)"
      ],
      "execution_count": 22,
      "outputs": [
        {
          "output_type": "execute_result",
          "data": {
            "text/plain": [
              "MultinomialNB(alpha=1.0, class_prior=None, fit_prior=True)"
            ]
          },
          "metadata": {
            "tags": []
          },
          "execution_count": 22
        }
      ]
    },
    {
      "cell_type": "code",
      "metadata": {
        "id": "N1Ri0W7cwLEG",
        "colab_type": "code",
        "outputId": "cb98ebed-d688-4121-f914-be6afdbcba0e",
        "colab": {
          "base_uri": "https://localhost:8080/",
          "height": 54
        }
      },
      "source": [
        "x_test_t = vectorized.transform(x_test)\n",
        "x_test_t"
      ],
      "execution_count": 23,
      "outputs": [
        {
          "output_type": "execute_result",
          "data": {
            "text/plain": [
              "<29340x68775 sparse matrix of type '<class 'numpy.int64'>'\n",
              "\twith 203750 stored elements in Compressed Sparse Row format>"
            ]
          },
          "metadata": {
            "tags": []
          },
          "execution_count": 23
        }
      ]
    },
    {
      "cell_type": "code",
      "metadata": {
        "id": "NWkp3gAqwrOu",
        "colab_type": "code",
        "colab": {}
      },
      "source": [
        "y_pred = nb.predict(x_test_t)"
      ],
      "execution_count": 0,
      "outputs": []
    },
    {
      "cell_type": "code",
      "metadata": {
        "id": "PvcM88wiwwRy",
        "colab_type": "code",
        "outputId": "a218089c-08be-4b30-c517-fdccb44d36c9",
        "colab": {
          "base_uri": "https://localhost:8080/",
          "height": 35
        }
      },
      "source": [
        "metrics.accuracy_score(y_test, y_pred)"
      ],
      "execution_count": 25,
      "outputs": [
        {
          "output_type": "execute_result",
          "data": {
            "text/plain": [
              "0.9583162917518746"
            ]
          },
          "metadata": {
            "tags": []
          },
          "execution_count": 25
        }
      ]
    },
    {
      "cell_type": "code",
      "metadata": {
        "id": "PsQ0VigBxq_w",
        "colab_type": "code",
        "outputId": "a11279cc-e837-4e43-cade-cf8c4ffce334",
        "colab": {
          "base_uri": "https://localhost:8080/",
          "height": 54
        }
      },
      "source": [
        "metrics.confusion_matrix(y_test, y_pred)"
      ],
      "execution_count": 26,
      "outputs": [
        {
          "output_type": "execute_result",
          "data": {
            "text/plain": [
              "array([[11054,   621],\n",
              "       [  602, 17063]])"
            ]
          },
          "metadata": {
            "tags": []
          },
          "execution_count": 26
        }
      ]
    },
    {
      "cell_type": "code",
      "metadata": {
        "id": "X5rISo0l9OhA",
        "colab_type": "code",
        "outputId": "8a47e737-e305-416f-f938-1ddb0fdc1303",
        "colab": {
          "base_uri": "https://localhost:8080/",
          "height": 146
        }
      },
      "source": [
        "#dobijamo predvidjene verovatnoce za pripadnost klasi 0 i 1, respektivno\n",
        "#klasa 0 znaci label = 0 \n",
        "y_pred_proba = nb.predict_proba(x_test_t)\n",
        "y_pred_proba"
      ],
      "execution_count": 27,
      "outputs": [
        {
          "output_type": "execute_result",
          "data": {
            "text/plain": [
              "array([[2.02116380e-03, 9.97978836e-01],\n",
              "       [9.99999992e-01, 7.69499027e-09],\n",
              "       [3.97908308e-01, 6.02091692e-01],\n",
              "       ...,\n",
              "       [9.99999996e-01, 4.26006960e-09],\n",
              "       [5.65899971e-04, 9.99434100e-01],\n",
              "       [2.22312617e-18, 1.00000000e+00]])"
            ]
          },
          "metadata": {
            "tags": []
          },
          "execution_count": 27
        }
      ]
    },
    {
      "cell_type": "code",
      "metadata": {
        "id": "aC036C-wDKMW",
        "colab_type": "code",
        "colab": {}
      },
      "source": [
        "y_pred_proba_0 = y_pred_proba[:, 0]\n",
        "y_pred_proba_1 = y_pred_proba[:, 1]"
      ],
      "execution_count": 0,
      "outputs": []
    },
    {
      "cell_type": "code",
      "metadata": {
        "id": "crhQyDxXL45G",
        "colab_type": "code",
        "outputId": "d9056d1d-9bc3-4dfe-ba7f-303034154c65",
        "colab": {
          "base_uri": "https://localhost:8080/",
          "height": 206
        }
      },
      "source": [
        "#pravimo dataframe od x_test jer hocemo dobijene verovatnoce da koristimo kao feature za SVM i RF\n",
        "df_test = x_test.to_frame()\n",
        "df_test.head()"
      ],
      "execution_count": 29,
      "outputs": [
        {
          "output_type": "execute_result",
          "data": {
            "text/html": [
              "<div>\n",
              "<style scoped>\n",
              "    .dataframe tbody tr th:only-of-type {\n",
              "        vertical-align: middle;\n",
              "    }\n",
              "\n",
              "    .dataframe tbody tr th {\n",
              "        vertical-align: top;\n",
              "    }\n",
              "\n",
              "    .dataframe thead th {\n",
              "        text-align: right;\n",
              "    }\n",
              "</style>\n",
              "<table border=\"1\" class=\"dataframe\">\n",
              "  <thead>\n",
              "    <tr style=\"text-align: right;\">\n",
              "      <th></th>\n",
              "      <th>deep url</th>\n",
              "    </tr>\n",
              "  </thead>\n",
              "  <tbody>\n",
              "    <tr>\n",
              "      <th>41557</th>\n",
              "      <td>veranstaltungen details aweg4mi treffen regens...</td>\n",
              "    </tr>\n",
              "    <tr>\n",
              "      <th>26651</th>\n",
              "      <td>cdsb board php board love view category auth p...</td>\n",
              "    </tr>\n",
              "    <tr>\n",
              "      <th>67958</th>\n",
              "      <td></td>\n",
              "    </tr>\n",
              "    <tr>\n",
              "      <th>12582</th>\n",
              "      <td>index php option com weblinks view category an...</td>\n",
              "    </tr>\n",
              "    <tr>\n",
              "      <th>67901</th>\n",
              "      <td>264781 the latest attack americas car culture ...</td>\n",
              "    </tr>\n",
              "  </tbody>\n",
              "</table>\n",
              "</div>"
            ],
            "text/plain": [
              "                                                deep url\n",
              "41557  veranstaltungen details aweg4mi treffen regens...\n",
              "26651  cdsb board php board love view category auth p...\n",
              "67958                                                   \n",
              "12582  index php option com weblinks view category an...\n",
              "67901  264781 the latest attack americas car culture ..."
            ]
          },
          "metadata": {
            "tags": []
          },
          "execution_count": 29
        }
      ]
    },
    {
      "cell_type": "code",
      "metadata": {
        "id": "WoLI9s4VNnU4",
        "colab_type": "code",
        "outputId": "890838d2-3420-46ca-c4eb-2f9c52f1523f",
        "colab": {
          "base_uri": "https://localhost:8080/",
          "height": 206
        }
      },
      "source": [
        "df_test['label_proba_0'] = y_pred_proba_0\n",
        "df_test['label_proba_1'] = y_pred_proba_1\n",
        "df_test.head()"
      ],
      "execution_count": 30,
      "outputs": [
        {
          "output_type": "execute_result",
          "data": {
            "text/html": [
              "<div>\n",
              "<style scoped>\n",
              "    .dataframe tbody tr th:only-of-type {\n",
              "        vertical-align: middle;\n",
              "    }\n",
              "\n",
              "    .dataframe tbody tr th {\n",
              "        vertical-align: top;\n",
              "    }\n",
              "\n",
              "    .dataframe thead th {\n",
              "        text-align: right;\n",
              "    }\n",
              "</style>\n",
              "<table border=\"1\" class=\"dataframe\">\n",
              "  <thead>\n",
              "    <tr style=\"text-align: right;\">\n",
              "      <th></th>\n",
              "      <th>deep url</th>\n",
              "      <th>label_proba_0</th>\n",
              "      <th>label_proba_1</th>\n",
              "    </tr>\n",
              "  </thead>\n",
              "  <tbody>\n",
              "    <tr>\n",
              "      <th>41557</th>\n",
              "      <td>veranstaltungen details aweg4mi treffen regens...</td>\n",
              "      <td>2.021164e-03</td>\n",
              "      <td>9.979788e-01</td>\n",
              "    </tr>\n",
              "    <tr>\n",
              "      <th>26651</th>\n",
              "      <td>cdsb board php board love view category auth p...</td>\n",
              "      <td>1.000000e+00</td>\n",
              "      <td>7.694990e-09</td>\n",
              "    </tr>\n",
              "    <tr>\n",
              "      <th>67958</th>\n",
              "      <td></td>\n",
              "      <td>3.979083e-01</td>\n",
              "      <td>6.020917e-01</td>\n",
              "    </tr>\n",
              "    <tr>\n",
              "      <th>12582</th>\n",
              "      <td>index php option com weblinks view category an...</td>\n",
              "      <td>1.261291e-14</td>\n",
              "      <td>1.000000e+00</td>\n",
              "    </tr>\n",
              "    <tr>\n",
              "      <th>67901</th>\n",
              "      <td>264781 the latest attack americas car culture ...</td>\n",
              "      <td>9.999996e-01</td>\n",
              "      <td>4.057966e-07</td>\n",
              "    </tr>\n",
              "  </tbody>\n",
              "</table>\n",
              "</div>"
            ],
            "text/plain": [
              "                                                deep url  ...  label_proba_1\n",
              "41557  veranstaltungen details aweg4mi treffen regens...  ...   9.979788e-01\n",
              "26651  cdsb board php board love view category auth p...  ...   7.694990e-09\n",
              "67958                                                     ...   6.020917e-01\n",
              "12582  index php option com weblinks view category an...  ...   1.000000e+00\n",
              "67901  264781 the latest attack americas car culture ...  ...   4.057966e-07\n",
              "\n",
              "[5 rows x 3 columns]"
            ]
          },
          "metadata": {
            "tags": []
          },
          "execution_count": 30
        }
      ]
    },
    {
      "cell_type": "code",
      "metadata": {
        "id": "zGsyuKAtRd5w",
        "colab_type": "code",
        "outputId": "cd5201ed-60c0-482a-acbc-29f9452cad4f",
        "colab": {
          "base_uri": "https://localhost:8080/",
          "height": 206
        }
      },
      "source": [
        "#radicemo join sa originalnim datasetom pa nam ne treba deep url kolona\n",
        "df_test = df_test.drop('deep url', axis = 1)\n",
        "df_test.head()"
      ],
      "execution_count": 31,
      "outputs": [
        {
          "output_type": "execute_result",
          "data": {
            "text/html": [
              "<div>\n",
              "<style scoped>\n",
              "    .dataframe tbody tr th:only-of-type {\n",
              "        vertical-align: middle;\n",
              "    }\n",
              "\n",
              "    .dataframe tbody tr th {\n",
              "        vertical-align: top;\n",
              "    }\n",
              "\n",
              "    .dataframe thead th {\n",
              "        text-align: right;\n",
              "    }\n",
              "</style>\n",
              "<table border=\"1\" class=\"dataframe\">\n",
              "  <thead>\n",
              "    <tr style=\"text-align: right;\">\n",
              "      <th></th>\n",
              "      <th>label_proba_0</th>\n",
              "      <th>label_proba_1</th>\n",
              "    </tr>\n",
              "  </thead>\n",
              "  <tbody>\n",
              "    <tr>\n",
              "      <th>41557</th>\n",
              "      <td>2.021164e-03</td>\n",
              "      <td>9.979788e-01</td>\n",
              "    </tr>\n",
              "    <tr>\n",
              "      <th>26651</th>\n",
              "      <td>1.000000e+00</td>\n",
              "      <td>7.694990e-09</td>\n",
              "    </tr>\n",
              "    <tr>\n",
              "      <th>67958</th>\n",
              "      <td>3.979083e-01</td>\n",
              "      <td>6.020917e-01</td>\n",
              "    </tr>\n",
              "    <tr>\n",
              "      <th>12582</th>\n",
              "      <td>1.261291e-14</td>\n",
              "      <td>1.000000e+00</td>\n",
              "    </tr>\n",
              "    <tr>\n",
              "      <th>67901</th>\n",
              "      <td>9.999996e-01</td>\n",
              "      <td>4.057966e-07</td>\n",
              "    </tr>\n",
              "  </tbody>\n",
              "</table>\n",
              "</div>"
            ],
            "text/plain": [
              "       label_proba_0  label_proba_1\n",
              "41557   2.021164e-03   9.979788e-01\n",
              "26651   1.000000e+00   7.694990e-09\n",
              "67958   3.979083e-01   6.020917e-01\n",
              "12582   1.261291e-14   1.000000e+00\n",
              "67901   9.999996e-01   4.057966e-07"
            ]
          },
          "metadata": {
            "tags": []
          },
          "execution_count": 31
        }
      ]
    },
    {
      "cell_type": "code",
      "metadata": {
        "id": "gH3UxVnwRKYp",
        "colab_type": "code",
        "outputId": "baeea89e-6b05-491b-b561-0d4de3d0c7d7",
        "colab": {
          "base_uri": "https://localhost:8080/",
          "height": 276
        }
      },
      "source": [
        "#join sa originalnim datasetom - radi join po indeksu, a dodeljuje nan vrednosti u redovima koji nisu u x_test\n",
        "final_ds = ds_comb.join(df_test)\n",
        "final_ds.head()"
      ],
      "execution_count": 32,
      "outputs": [
        {
          "output_type": "execute_result",
          "data": {
            "text/html": [
              "<div>\n",
              "<style scoped>\n",
              "    .dataframe tbody tr th:only-of-type {\n",
              "        vertical-align: middle;\n",
              "    }\n",
              "\n",
              "    .dataframe tbody tr th {\n",
              "        vertical-align: top;\n",
              "    }\n",
              "\n",
              "    .dataframe thead th {\n",
              "        text-align: right;\n",
              "    }\n",
              "</style>\n",
              "<table border=\"1\" class=\"dataframe\">\n",
              "  <thead>\n",
              "    <tr style=\"text-align: right;\">\n",
              "      <th></th>\n",
              "      <th>url</th>\n",
              "      <th>label</th>\n",
              "      <th>deep url</th>\n",
              "      <th>len deep url</th>\n",
              "      <th>label_proba_0</th>\n",
              "      <th>label_proba_1</th>\n",
              "    </tr>\n",
              "  </thead>\n",
              "  <tbody>\n",
              "    <tr>\n",
              "      <th>0</th>\n",
              "      <td>http://www.emyvalecottage.com/index.php?view=a...</td>\n",
              "      <td>1</td>\n",
              "      <td>index php view article catid latest news brief...</td>\n",
              "      <td>154</td>\n",
              "      <td>9.566127e-27</td>\n",
              "      <td>1.000000</td>\n",
              "    </tr>\n",
              "    <tr>\n",
              "      <th>1</th>\n",
              "      <td>http://sprint.com/business/solutions/sprint_en...</td>\n",
              "      <td>0</td>\n",
              "      <td>business solutions sprint enablers index html ...</td>\n",
              "      <td>71</td>\n",
              "      <td>9.616888e-01</td>\n",
              "      <td>0.038311</td>\n",
              "    </tr>\n",
              "    <tr>\n",
              "      <th>2</th>\n",
              "      <td>http://momoshop.com.tw/category/LgrpCategory.j...</td>\n",
              "      <td>0</td>\n",
              "      <td>category LgrpCategory jsp code 2110500000 Area...</td>\n",
              "      <td>101</td>\n",
              "      <td>NaN</td>\n",
              "      <td>NaN</td>\n",
              "    </tr>\n",
              "    <tr>\n",
              "      <th>3</th>\n",
              "      <td>http://spplodz.nazwa.pl/archiwum/2008_01a.php</td>\n",
              "      <td>1</td>\n",
              "      <td>archiwum 2008 01a php</td>\n",
              "      <td>22</td>\n",
              "      <td>NaN</td>\n",
              "      <td>NaN</td>\n",
              "    </tr>\n",
              "    <tr>\n",
              "      <th>4</th>\n",
              "      <td>http://9779.info/%E4%BC%9A%E5%8A%A8%E7%9A%84%E...</td>\n",
              "      <td>1</td>\n",
              "      <td></td>\n",
              "      <td>74</td>\n",
              "      <td>NaN</td>\n",
              "      <td>NaN</td>\n",
              "    </tr>\n",
              "  </tbody>\n",
              "</table>\n",
              "</div>"
            ],
            "text/plain": [
              "                                                 url  ...  label_proba_1\n",
              "0  http://www.emyvalecottage.com/index.php?view=a...  ...       1.000000\n",
              "1  http://sprint.com/business/solutions/sprint_en...  ...       0.038311\n",
              "2  http://momoshop.com.tw/category/LgrpCategory.j...  ...            NaN\n",
              "3      http://spplodz.nazwa.pl/archiwum/2008_01a.php  ...            NaN\n",
              "4  http://9779.info/%E4%BC%9A%E5%8A%A8%E7%9A%84%E...  ...            NaN\n",
              "\n",
              "[5 rows x 6 columns]"
            ]
          },
          "metadata": {
            "tags": []
          },
          "execution_count": 32
        }
      ]
    },
    {
      "cell_type": "code",
      "metadata": {
        "id": "JN3XuHP_SHQ8",
        "colab_type": "code",
        "outputId": "c54740e3-deee-4055-bad9-bbbbe8a09b8c",
        "colab": {
          "base_uri": "https://localhost:8080/",
          "height": 219
        }
      },
      "source": [
        "#izbacujemo redove sa nan vrednostima i resetujemo index da bi sad radili sa novim datasetom predikciju za SVM i RF\n",
        "final_ds = final_ds.dropna()\n",
        "final_ds = final_ds.reset_index(drop=True)\n",
        "final_ds.info()"
      ],
      "execution_count": 33,
      "outputs": [
        {
          "output_type": "stream",
          "text": [
            "<class 'pandas.core.frame.DataFrame'>\n",
            "RangeIndex: 29340 entries, 0 to 29339\n",
            "Data columns (total 6 columns):\n",
            "url              29340 non-null object\n",
            "label            29340 non-null int64\n",
            "deep url         29340 non-null object\n",
            "len deep url     29340 non-null int64\n",
            "label_proba_0    29340 non-null float64\n",
            "label_proba_1    29340 non-null float64\n",
            "dtypes: float64(2), int64(2), object(2)\n",
            "memory usage: 1.3+ MB\n"
          ],
          "name": "stdout"
        }
      ]
    },
    {
      "cell_type": "code",
      "metadata": {
        "id": "19-O-vqcFxGs",
        "colab_type": "code",
        "colab": {}
      },
      "source": [
        "#dodajemo kolone za duzinu domain-a i suffix\n",
        "\n",
        "def get_len_of_domain_url(url):\n",
        "  ext = tldextract.extract(url)\n",
        "  return len(ext.domain)\n",
        "    \n",
        "def get_suffix_url(url):\n",
        "  ext = tldextract.extract(url)\n",
        "  return str(ext.suffix)\n",
        "\n",
        "final_ds['len of domain'] = final_ds['url'].apply(lambda x : get_len_of_domain_url(x))\n",
        "final_ds['suffix'] = final_ds['url'].apply(lambda x : get_suffix_url(x))"
      ],
      "execution_count": 0,
      "outputs": []
    },
    {
      "cell_type": "code",
      "metadata": {
        "id": "4D4bxXloH1l4",
        "colab_type": "code",
        "colab": {}
      },
      "source": [
        "#suffix kolona (top level domain-tld u radu) ima previse razlicitih vrednosti i radi se cutoff za frekvenciju < 50  \n",
        "minFreq = 50 \n",
        "suffix_values = final_ds['suffix'].value_counts() # Specific column \n",
        "to_remove = suffix_values[suffix_values <= minFreq].index\n",
        "final_ds['suffix'].replace(to_remove, np.nan, inplace=True)"
      ],
      "execution_count": 0,
      "outputs": []
    },
    {
      "cell_type": "code",
      "metadata": {
        "id": "JKQUO0q5Ir-i",
        "colab_type": "code",
        "outputId": "e5704190-6c5f-4701-95ec-5575ebe99e46",
        "colab": {
          "base_uri": "https://localhost:8080/",
          "height": 954
        }
      },
      "source": [
        "#sada imamo nedostajuce vrednosti(nan) u koloni suffix, pa izbacujemo takve redove i resetujemo index\n",
        "final_ds = final_ds.dropna()\n",
        "final_ds = final_ds.reset_index(drop=True)\n",
        "final_ds['suffix'].value_counts()"
      ],
      "execution_count": 36,
      "outputs": [
        {
          "output_type": "execute_result",
          "data": {
            "text/plain": [
              "com       12051\n",
              "co.uk      3383\n",
              "net        2194\n",
              "info       1371\n",
              "de          858\n",
              "ac.uk       779\n",
              "org         678\n",
              "com.br      583\n",
              "ru          580\n",
              "pl          445\n",
              "nl          444\n",
              "vn          420\n",
              "it          382\n",
              "cc          259\n",
              "jp          250\n",
              "ro          225\n",
              "com.au      214\n",
              "net.ua      175\n",
              "com.vn      158\n",
              "fr          154\n",
              "org.uk      150\n",
              "gr          138\n",
              "in          126\n",
              "ua          125\n",
              "eu          123\n",
              "co.id       117\n",
              "cn          117\n",
              "gov.uk      116\n",
              "to          115\n",
              "ir          112\n",
              "asia        103\n",
              "es           96\n",
              "net.vn       86\n",
              "cz           84\n",
              "com.ua       83\n",
              "hu           82\n",
              "tv           79\n",
              "at           79\n",
              "com.my       78\n",
              "ch           72\n",
              "com.cn       72\n",
              "             71\n",
              "cl           69\n",
              "dk           65\n",
              "com.ar       64\n",
              "gov.br       64\n",
              "co.za        61\n",
              "com.tw       59\n",
              "se           59\n",
              "be           56\n",
              "Name: suffix, dtype: int64"
            ]
          },
          "metadata": {
            "tags": []
          },
          "execution_count": 36
        }
      ]
    },
    {
      "cell_type": "code",
      "metadata": {
        "id": "jpVbxK7pTTse",
        "colab_type": "code",
        "outputId": "9cdf29ac-9e04-4c3c-db95-831182e4cb80",
        "colab": {
          "base_uri": "https://localhost:8080/",
          "height": 585
        }
      },
      "source": [
        "fig = plt.figure(figsize=(15,8))\n",
        "fig.add_subplot(1,2,1)  \n",
        "plt.title('Top level domain za dobre url-ove')\n",
        "sns.countplot(y = final_ds[final_ds['label']==0]['suffix'], order = final_ds[final_ds['label']==0]['suffix'].value_counts().index)\n",
        "fig.add_subplot(1,2,2) \n",
        "plt.title('Top level domain za stetne url-ove')\n",
        "sns.countplot(y = final_ds[final_ds['label']==1]['suffix'],order = final_ds[final_ds['label']==1]['suffix'].value_counts().index) \n",
        "plt.tight_layout()\n",
        "plt.show()"
      ],
      "execution_count": 37,
      "outputs": [
        {
          "output_type": "display_data",
          "data": {
            "image/png": "[encoded data removed]",
            "text/plain": [
              "<Figure size 1080x576 with 2 Axes>"
            ]
          },
          "metadata": {
            "tags": []
          }
        }
      ]
    },
    {
      "cell_type": "code",
      "metadata": {
        "id": "PhO7Nu7xajip",
        "colab_type": "code",
        "outputId": "079b742f-dc01-463f-8a18-76df62309da6",
        "colab": {
          "base_uri": "https://localhost:8080/",
          "height": 369
        }
      },
      "source": [
        "fig = plt.figure(figsize=(15,5))\n",
        "fig.add_subplot(1,2,1)  \n",
        "plt.title('Raspodela duzine deep url-a kod dobrih url-ova')\n",
        "plt.hist(final_ds[final_ds['label']==0]['len deep url'], log = True, color = 'steelblue', bins=100)\n",
        "plt.ylabel(\"frequency (log)\")\n",
        "plt.xlabel(\"len deep url\")\n",
        "fig.add_subplot(1,2,2) \n",
        "plt.title('Raspodela duzine deep url-a kod stetnih url-ova')\n",
        "plt.hist(final_ds[final_ds['label']==1]['len deep url'], log = True, color = 'steelblue', bins=100)\n",
        "plt.ylabel(\"frequency (log)\")\n",
        "plt.xlabel(\"len deep url\")\n",
        "plt.tight_layout()\n",
        "plt.show()"
      ],
      "execution_count": 38,
      "outputs": [
        {
          "output_type": "display_data",
          "data": {
            "image/png": "[encoded data removed]",
            "text/plain": [
              "<Figure size 1080x360 with 2 Axes>"
            ]
          },
          "metadata": {
            "tags": []
          }
        }
      ]
    },
    {
      "cell_type": "code",
      "metadata": {
        "id": "tpFHxh58SNiI",
        "colab_type": "code",
        "outputId": "a6cf632d-a1a7-48ee-9ef2-8c474e41a2b1",
        "colab": {
          "base_uri": "https://localhost:8080/",
          "height": 261
        }
      },
      "source": [
        "#izbacujemo nepotrebne kolone (url, deep url) i enkodiramo kategoricku promenljivu suffix, kao u radu\n",
        "final_ds = final_ds.drop(['url', 'deep url'], axis = 1)\n",
        "final_ds = pd.get_dummies(final_ds, prefix = ['suffix'], columns = ['suffix'])\n",
        "final_ds.head()"
      ],
      "execution_count": 39,
      "outputs": [
        {
          "output_type": "execute_result",
          "data": {
            "text/html": [
              "<div>\n",
              "<style scoped>\n",
              "    .dataframe tbody tr th:only-of-type {\n",
              "        vertical-align: middle;\n",
              "    }\n",
              "\n",
              "    .dataframe tbody tr th {\n",
              "        vertical-align: top;\n",
              "    }\n",
              "\n",
              "    .dataframe thead th {\n",
              "        text-align: right;\n",
              "    }\n",
              "</style>\n",
              "<table border=\"1\" class=\"dataframe\">\n",
              "  <thead>\n",
              "    <tr style=\"text-align: right;\">\n",
              "      <th></th>\n",
              "      <th>label</th>\n",
              "      <th>len deep url</th>\n",
              "      <th>label_proba_0</th>\n",
              "      <th>label_proba_1</th>\n",
              "      <th>len of domain</th>\n",
              "      <th>suffix_</th>\n",
              "      <th>suffix_ac.uk</th>\n",
              "      <th>suffix_asia</th>\n",
              "      <th>suffix_at</th>\n",
              "      <th>suffix_be</th>\n",
              "      <th>suffix_cc</th>\n",
              "      <th>suffix_ch</th>\n",
              "      <th>suffix_cl</th>\n",
              "      <th>suffix_cn</th>\n",
              "      <th>suffix_co.id</th>\n",
              "      <th>suffix_co.uk</th>\n",
              "      <th>suffix_co.za</th>\n",
              "      <th>suffix_com</th>\n",
              "      <th>suffix_com.ar</th>\n",
              "      <th>suffix_com.au</th>\n",
              "      <th>suffix_com.br</th>\n",
              "      <th>suffix_com.cn</th>\n",
              "      <th>suffix_com.my</th>\n",
              "      <th>suffix_com.tw</th>\n",
              "      <th>suffix_com.ua</th>\n",
              "      <th>suffix_com.vn</th>\n",
              "      <th>suffix_cz</th>\n",
              "      <th>suffix_de</th>\n",
              "      <th>suffix_dk</th>\n",
              "      <th>suffix_es</th>\n",
              "      <th>suffix_eu</th>\n",
              "      <th>suffix_fr</th>\n",
              "      <th>suffix_gov.br</th>\n",
              "      <th>suffix_gov.uk</th>\n",
              "      <th>suffix_gr</th>\n",
              "      <th>suffix_hu</th>\n",
              "      <th>suffix_in</th>\n",
              "      <th>suffix_info</th>\n",
              "      <th>suffix_ir</th>\n",
              "      <th>suffix_it</th>\n",
              "      <th>suffix_jp</th>\n",
              "      <th>suffix_net</th>\n",
              "      <th>suffix_net.ua</th>\n",
              "      <th>suffix_net.vn</th>\n",
              "      <th>suffix_nl</th>\n",
              "      <th>suffix_org</th>\n",
              "      <th>suffix_org.uk</th>\n",
              "      <th>suffix_pl</th>\n",
              "      <th>suffix_ro</th>\n",
              "      <th>suffix_ru</th>\n",
              "      <th>suffix_se</th>\n",
              "      <th>suffix_to</th>\n",
              "      <th>suffix_tv</th>\n",
              "      <th>suffix_ua</th>\n",
              "      <th>suffix_vn</th>\n",
              "    </tr>\n",
              "  </thead>\n",
              "  <tbody>\n",
              "    <tr>\n",
              "      <th>0</th>\n",
              "      <td>1</td>\n",
              "      <td>154</td>\n",
              "      <td>9.566127e-27</td>\n",
              "      <td>1.000000</td>\n",
              "      <td>14</td>\n",
              "      <td>0</td>\n",
              "      <td>0</td>\n",
              "      <td>0</td>\n",
              "      <td>0</td>\n",
              "      <td>0</td>\n",
              "      <td>0</td>\n",
              "      <td>0</td>\n",
              "      <td>0</td>\n",
              "      <td>0</td>\n",
              "      <td>0</td>\n",
              "      <td>0</td>\n",
              "      <td>0</td>\n",
              "      <td>1</td>\n",
              "      <td>0</td>\n",
              "      <td>0</td>\n",
              "      <td>0</td>\n",
              "      <td>0</td>\n",
              "      <td>0</td>\n",
              "      <td>0</td>\n",
              "      <td>0</td>\n",
              "      <td>0</td>\n",
              "      <td>0</td>\n",
              "      <td>0</td>\n",
              "      <td>0</td>\n",
              "      <td>0</td>\n",
              "      <td>0</td>\n",
              "      <td>0</td>\n",
              "      <td>0</td>\n",
              "      <td>0</td>\n",
              "      <td>0</td>\n",
              "      <td>0</td>\n",
              "      <td>0</td>\n",
              "      <td>0</td>\n",
              "      <td>0</td>\n",
              "      <td>0</td>\n",
              "      <td>0</td>\n",
              "      <td>0</td>\n",
              "      <td>0</td>\n",
              "      <td>0</td>\n",
              "      <td>0</td>\n",
              "      <td>0</td>\n",
              "      <td>0</td>\n",
              "      <td>0</td>\n",
              "      <td>0</td>\n",
              "      <td>0</td>\n",
              "      <td>0</td>\n",
              "      <td>0</td>\n",
              "      <td>0</td>\n",
              "      <td>0</td>\n",
              "      <td>0</td>\n",
              "    </tr>\n",
              "    <tr>\n",
              "      <th>1</th>\n",
              "      <td>0</td>\n",
              "      <td>71</td>\n",
              "      <td>9.616888e-01</td>\n",
              "      <td>0.038311</td>\n",
              "      <td>6</td>\n",
              "      <td>0</td>\n",
              "      <td>0</td>\n",
              "      <td>0</td>\n",
              "      <td>0</td>\n",
              "      <td>0</td>\n",
              "      <td>0</td>\n",
              "      <td>0</td>\n",
              "      <td>0</td>\n",
              "      <td>0</td>\n",
              "      <td>0</td>\n",
              "      <td>0</td>\n",
              "      <td>0</td>\n",
              "      <td>1</td>\n",
              "      <td>0</td>\n",
              "      <td>0</td>\n",
              "      <td>0</td>\n",
              "      <td>0</td>\n",
              "      <td>0</td>\n",
              "      <td>0</td>\n",
              "      <td>0</td>\n",
              "      <td>0</td>\n",
              "      <td>0</td>\n",
              "      <td>0</td>\n",
              "      <td>0</td>\n",
              "      <td>0</td>\n",
              "      <td>0</td>\n",
              "      <td>0</td>\n",
              "      <td>0</td>\n",
              "      <td>0</td>\n",
              "      <td>0</td>\n",
              "      <td>0</td>\n",
              "      <td>0</td>\n",
              "      <td>0</td>\n",
              "      <td>0</td>\n",
              "      <td>0</td>\n",
              "      <td>0</td>\n",
              "      <td>0</td>\n",
              "      <td>0</td>\n",
              "      <td>0</td>\n",
              "      <td>0</td>\n",
              "      <td>0</td>\n",
              "      <td>0</td>\n",
              "      <td>0</td>\n",
              "      <td>0</td>\n",
              "      <td>0</td>\n",
              "      <td>0</td>\n",
              "      <td>0</td>\n",
              "      <td>0</td>\n",
              "      <td>0</td>\n",
              "      <td>0</td>\n",
              "    </tr>\n",
              "    <tr>\n",
              "      <th>2</th>\n",
              "      <td>1</td>\n",
              "      <td>51</td>\n",
              "      <td>1.065991e-09</td>\n",
              "      <td>1.000000</td>\n",
              "      <td>6</td>\n",
              "      <td>0</td>\n",
              "      <td>0</td>\n",
              "      <td>0</td>\n",
              "      <td>0</td>\n",
              "      <td>0</td>\n",
              "      <td>0</td>\n",
              "      <td>0</td>\n",
              "      <td>0</td>\n",
              "      <td>0</td>\n",
              "      <td>0</td>\n",
              "      <td>0</td>\n",
              "      <td>0</td>\n",
              "      <td>1</td>\n",
              "      <td>0</td>\n",
              "      <td>0</td>\n",
              "      <td>0</td>\n",
              "      <td>0</td>\n",
              "      <td>0</td>\n",
              "      <td>0</td>\n",
              "      <td>0</td>\n",
              "      <td>0</td>\n",
              "      <td>0</td>\n",
              "      <td>0</td>\n",
              "      <td>0</td>\n",
              "      <td>0</td>\n",
              "      <td>0</td>\n",
              "      <td>0</td>\n",
              "      <td>0</td>\n",
              "      <td>0</td>\n",
              "      <td>0</td>\n",
              "      <td>0</td>\n",
              "      <td>0</td>\n",
              "      <td>0</td>\n",
              "      <td>0</td>\n",
              "      <td>0</td>\n",
              "      <td>0</td>\n",
              "      <td>0</td>\n",
              "      <td>0</td>\n",
              "      <td>0</td>\n",
              "      <td>0</td>\n",
              "      <td>0</td>\n",
              "      <td>0</td>\n",
              "      <td>0</td>\n",
              "      <td>0</td>\n",
              "      <td>0</td>\n",
              "      <td>0</td>\n",
              "      <td>0</td>\n",
              "      <td>0</td>\n",
              "      <td>0</td>\n",
              "      <td>0</td>\n",
              "    </tr>\n",
              "    <tr>\n",
              "      <th>3</th>\n",
              "      <td>0</td>\n",
              "      <td>74</td>\n",
              "      <td>9.998239e-01</td>\n",
              "      <td>0.000176</td>\n",
              "      <td>2</td>\n",
              "      <td>0</td>\n",
              "      <td>0</td>\n",
              "      <td>0</td>\n",
              "      <td>0</td>\n",
              "      <td>0</td>\n",
              "      <td>0</td>\n",
              "      <td>0</td>\n",
              "      <td>0</td>\n",
              "      <td>0</td>\n",
              "      <td>0</td>\n",
              "      <td>0</td>\n",
              "      <td>0</td>\n",
              "      <td>0</td>\n",
              "      <td>0</td>\n",
              "      <td>0</td>\n",
              "      <td>0</td>\n",
              "      <td>0</td>\n",
              "      <td>0</td>\n",
              "      <td>0</td>\n",
              "      <td>0</td>\n",
              "      <td>0</td>\n",
              "      <td>0</td>\n",
              "      <td>0</td>\n",
              "      <td>0</td>\n",
              "      <td>0</td>\n",
              "      <td>0</td>\n",
              "      <td>0</td>\n",
              "      <td>0</td>\n",
              "      <td>0</td>\n",
              "      <td>0</td>\n",
              "      <td>0</td>\n",
              "      <td>0</td>\n",
              "      <td>0</td>\n",
              "      <td>0</td>\n",
              "      <td>0</td>\n",
              "      <td>0</td>\n",
              "      <td>0</td>\n",
              "      <td>0</td>\n",
              "      <td>0</td>\n",
              "      <td>0</td>\n",
              "      <td>1</td>\n",
              "      <td>0</td>\n",
              "      <td>0</td>\n",
              "      <td>0</td>\n",
              "      <td>0</td>\n",
              "      <td>0</td>\n",
              "      <td>0</td>\n",
              "      <td>0</td>\n",
              "      <td>0</td>\n",
              "      <td>0</td>\n",
              "    </tr>\n",
              "    <tr>\n",
              "      <th>4</th>\n",
              "      <td>0</td>\n",
              "      <td>77</td>\n",
              "      <td>9.999947e-01</td>\n",
              "      <td>0.000005</td>\n",
              "      <td>2</td>\n",
              "      <td>0</td>\n",
              "      <td>0</td>\n",
              "      <td>0</td>\n",
              "      <td>0</td>\n",
              "      <td>0</td>\n",
              "      <td>0</td>\n",
              "      <td>0</td>\n",
              "      <td>0</td>\n",
              "      <td>0</td>\n",
              "      <td>0</td>\n",
              "      <td>0</td>\n",
              "      <td>0</td>\n",
              "      <td>0</td>\n",
              "      <td>0</td>\n",
              "      <td>0</td>\n",
              "      <td>0</td>\n",
              "      <td>0</td>\n",
              "      <td>0</td>\n",
              "      <td>0</td>\n",
              "      <td>0</td>\n",
              "      <td>0</td>\n",
              "      <td>0</td>\n",
              "      <td>0</td>\n",
              "      <td>0</td>\n",
              "      <td>0</td>\n",
              "      <td>0</td>\n",
              "      <td>0</td>\n",
              "      <td>0</td>\n",
              "      <td>0</td>\n",
              "      <td>0</td>\n",
              "      <td>0</td>\n",
              "      <td>0</td>\n",
              "      <td>0</td>\n",
              "      <td>0</td>\n",
              "      <td>0</td>\n",
              "      <td>0</td>\n",
              "      <td>0</td>\n",
              "      <td>0</td>\n",
              "      <td>0</td>\n",
              "      <td>0</td>\n",
              "      <td>1</td>\n",
              "      <td>0</td>\n",
              "      <td>0</td>\n",
              "      <td>0</td>\n",
              "      <td>0</td>\n",
              "      <td>0</td>\n",
              "      <td>0</td>\n",
              "      <td>0</td>\n",
              "      <td>0</td>\n",
              "      <td>0</td>\n",
              "    </tr>\n",
              "  </tbody>\n",
              "</table>\n",
              "</div>"
            ],
            "text/plain": [
              "   label  len deep url  label_proba_0  ...  suffix_tv  suffix_ua  suffix_vn\n",
              "0      1           154   9.566127e-27  ...          0          0          0\n",
              "1      0            71   9.616888e-01  ...          0          0          0\n",
              "2      1            51   1.065991e-09  ...          0          0          0\n",
              "3      0            74   9.998239e-01  ...          0          0          0\n",
              "4      0            77   9.999947e-01  ...          0          0          0\n",
              "\n",
              "[5 rows x 55 columns]"
            ]
          },
          "metadata": {
            "tags": []
          },
          "execution_count": 39
        }
      ]
    },
    {
      "cell_type": "code",
      "metadata": {
        "id": "IBh4YRh6SuYE",
        "colab_type": "code",
        "outputId": "ff174c56-2b6f-4bc2-d2cf-b267637cf597",
        "colab": {
          "base_uri": "https://localhost:8080/",
          "height": 1000
        }
      },
      "source": [
        "#prebacujemo kolone u numericke\n",
        "final_ds['len of domain'] = pd.to_numeric(final_ds['len of domain'])\n",
        "final_ds['len deep url'] = pd.to_numeric(final_ds['len deep url'])\n",
        "final_ds.info()"
      ],
      "execution_count": 40,
      "outputs": [
        {
          "output_type": "stream",
          "text": [
            "<class 'pandas.core.frame.DataFrame'>\n",
            "RangeIndex: 28324 entries, 0 to 28323\n",
            "Data columns (total 55 columns):\n",
            "label            28324 non-null int64\n",
            "len deep url     28324 non-null int64\n",
            "label_proba_0    28324 non-null float64\n",
            "label_proba_1    28324 non-null float64\n",
            "len of domain    28324 non-null int64\n",
            "suffix_          28324 non-null uint8\n",
            "suffix_ac.uk     28324 non-null uint8\n",
            "suffix_asia      28324 non-null uint8\n",
            "suffix_at        28324 non-null uint8\n",
            "suffix_be        28324 non-null uint8\n",
            "suffix_cc        28324 non-null uint8\n",
            "suffix_ch        28324 non-null uint8\n",
            "suffix_cl        28324 non-null uint8\n",
            "suffix_cn        28324 non-null uint8\n",
            "suffix_co.id     28324 non-null uint8\n",
            "suffix_co.uk     28324 non-null uint8\n",
            "suffix_co.za     28324 non-null uint8\n",
            "suffix_com       28324 non-null uint8\n",
            "suffix_com.ar    28324 non-null uint8\n",
            "suffix_com.au    28324 non-null uint8\n",
            "suffix_com.br    28324 non-null uint8\n",
            "suffix_com.cn    28324 non-null uint8\n",
            "suffix_com.my    28324 non-null uint8\n",
            "suffix_com.tw    28324 non-null uint8\n",
            "suffix_com.ua    28324 non-null uint8\n",
            "suffix_com.vn    28324 non-null uint8\n",
            "suffix_cz        28324 non-null uint8\n",
            "suffix_de        28324 non-null uint8\n",
            "suffix_dk        28324 non-null uint8\n",
            "suffix_es        28324 non-null uint8\n",
            "suffix_eu        28324 non-null uint8\n",
            "suffix_fr        28324 non-null uint8\n",
            "suffix_gov.br    28324 non-null uint8\n",
            "suffix_gov.uk    28324 non-null uint8\n",
            "suffix_gr        28324 non-null uint8\n",
            "suffix_hu        28324 non-null uint8\n",
            "suffix_in        28324 non-null uint8\n",
            "suffix_info      28324 non-null uint8\n",
            "suffix_ir        28324 non-null uint8\n",
            "suffix_it        28324 non-null uint8\n",
            "suffix_jp        28324 non-null uint8\n",
            "suffix_net       28324 non-null uint8\n",
            "suffix_net.ua    28324 non-null uint8\n",
            "suffix_net.vn    28324 non-null uint8\n",
            "suffix_nl        28324 non-null uint8\n",
            "suffix_org       28324 non-null uint8\n",
            "suffix_org.uk    28324 non-null uint8\n",
            "suffix_pl        28324 non-null uint8\n",
            "suffix_ro        28324 non-null uint8\n",
            "suffix_ru        28324 non-null uint8\n",
            "suffix_se        28324 non-null uint8\n",
            "suffix_to        28324 non-null uint8\n",
            "suffix_tv        28324 non-null uint8\n",
            "suffix_ua        28324 non-null uint8\n",
            "suffix_vn        28324 non-null uint8\n",
            "dtypes: float64(2), int64(3), uint8(50)\n",
            "memory usage: 2.4 MB\n"
          ],
          "name": "stdout"
        }
      ]
    },
    {
      "cell_type": "code",
      "metadata": {
        "id": "cFbiy8YlcDC4",
        "colab_type": "code",
        "colab": {}
      },
      "source": [
        "X_final = final_ds.drop(['label'],axis=1)\n",
        "y_final = final_ds['label']\n",
        "\n",
        "X_train_valid, X_test, y_train_valid, y_test = train_test_split(X_final, y_final, test_size=0.1, random_state=42, stratify = y_final)\n",
        "X_train, X_valid, y_train, y_valid = train_test_split(X_train_valid, y_train_valid, test_size=0.20, random_state=42, stratify = y_train_valid)"
      ],
      "execution_count": 0,
      "outputs": []
    },
    {
      "cell_type": "code",
      "metadata": {
        "id": "WaqoTI2p1MKO",
        "colab_type": "code",
        "colab": {}
      },
      "source": [
        "ss1 = StandardScaler()\n",
        "X_train = ss1.fit_transform(X_train)\n",
        "X_valid = ss1.transform(X_valid)"
      ],
      "execution_count": 0,
      "outputs": []
    },
    {
      "cell_type": "code",
      "metadata": {
        "id": "bNA3ImepfCR3",
        "colab_type": "code",
        "colab": {}
      },
      "source": [
        "ss2 = StandardScaler()\n",
        "X_train_valid = ss2.fit_transform(X_train_valid)\n",
        "X_test = ss2.transform(X_test)"
      ],
      "execution_count": 0,
      "outputs": []
    },
    {
      "cell_type": "code",
      "metadata": {
        "id": "7-OQREJw0_EU",
        "colab_type": "code",
        "colab": {}
      },
      "source": [
        "def get_params_rf(X_train, y_train, X_valid, y_valid):\n",
        "  n_estim = [100, 200]\n",
        "  max_depths = [10, 20, 30]\n",
        "  criterions = ['gini', 'entropy']\n",
        "  best_score = 0 \n",
        "  best_params = {'n_estimators': 0, 'max_depth': 0, 'criterion': 'gini'}\n",
        "\n",
        "  for n in n_estim: \n",
        "      for max_d in max_depths:\n",
        "        for crit in criterions:\n",
        "          rf = RandomForestClassifier(n_estimators = n, max_depth = max_d, criterion = crit)\n",
        "          rf.fit(X_train, y_train)\n",
        "          y_pred = rf.predict(X_valid)\n",
        "          score = metrics.accuracy_score(y_valid, y_pred)\n",
        "          if score>best_score: \n",
        "            best_score = score\n",
        "            best_params['n_estimators'] = n\n",
        "            best_params['max_depth'] = max_d\n",
        "            best_params['criterion'] = crit\n",
        "  return best_params"
      ],
      "execution_count": 0,
      "outputs": []
    },
    {
      "cell_type": "code",
      "metadata": {
        "id": "p0XGJOXr4VcC",
        "colab_type": "code",
        "colab": {
          "base_uri": "https://localhost:8080/",
          "height": 182
        },
        "outputId": "2f347cbb-339f-4028-9658-18de7fb69dd9"
      },
      "source": [
        "best_params = get_params_rf(X_train, y_train, X_valid, y_valid)\n",
        "print('Best parameters:\\n', best_params)\n",
        "rf = RandomForestClassifier(n_estimators=best_params['n_estimators'], max_depth=best_params['max_depth'], criterion=best_params['criterion'])\n",
        "rf.fit(X_train_valid, y_train_valid)"
      ],
      "execution_count": 45,
      "outputs": [
        {
          "output_type": "stream",
          "text": [
            "Best parameters:\n",
            " {'n_estimators': 100, 'max_depth': 30, 'criterion': 'entropy'}\n"
          ],
          "name": "stdout"
        },
        {
          "output_type": "execute_result",
          "data": {
            "text/plain": [
              "RandomForestClassifier(bootstrap=True, class_weight=None, criterion='entropy',\n",
              "                       max_depth=30, max_features='auto', max_leaf_nodes=None,\n",
              "                       min_impurity_decrease=0.0, min_impurity_split=None,\n",
              "                       min_samples_leaf=1, min_samples_split=2,\n",
              "                       min_weight_fraction_leaf=0.0, n_estimators=100,\n",
              "                       n_jobs=None, oob_score=False, random_state=None,\n",
              "                       verbose=0, warm_start=False)"
            ]
          },
          "metadata": {
            "tags": []
          },
          "execution_count": 45
        }
      ]
    },
    {
      "cell_type": "code",
      "metadata": {
        "id": "vJE0sJ_qKptT",
        "colab_type": "code",
        "outputId": "94ecdf2c-a702-429c-9add-8b90a736fc54",
        "colab": {
          "base_uri": "https://localhost:8080/",
          "height": 348
        }
      },
      "source": [
        "y_train_valid_pred = rf.predict(X_train_valid)\n",
        "y_test_pred = rf.predict(X_test)\n",
        "print('Train report: {}'.format(metrics.classification_report(y_train_valid, y_train_valid_pred)))\n",
        "print('Test report: {}'.format(metrics.classification_report(y_test, y_test_pred)))"
      ],
      "execution_count": 46,
      "outputs": [
        {
          "output_type": "stream",
          "text": [
            "Train report:               precision    recall  f1-score   support\n",
            "\n",
            "           0       1.00      1.00      1.00     10391\n",
            "           1       1.00      1.00      1.00     15100\n",
            "\n",
            "    accuracy                           1.00     25491\n",
            "   macro avg       1.00      1.00      1.00     25491\n",
            "weighted avg       1.00      1.00      1.00     25491\n",
            "\n",
            "Test report:               precision    recall  f1-score   support\n",
            "\n",
            "           0       1.00      1.00      1.00      1155\n",
            "           1       1.00      1.00      1.00      1678\n",
            "\n",
            "    accuracy                           1.00      2833\n",
            "   macro avg       1.00      1.00      1.00      2833\n",
            "weighted avg       1.00      1.00      1.00      2833\n",
            "\n"
          ],
          "name": "stdout"
        }
      ]
    },
    {
      "cell_type": "code",
      "metadata": {
        "id": "HZl-mUTH1qW4",
        "colab_type": "code",
        "outputId": "388d4b72-df84-4cbe-de24-34984d52a3fc",
        "colab": {
          "base_uri": "https://localhost:8080/",
          "height": 35
        }
      },
      "source": [
        "metrics.accuracy_score(y_train_valid, y_train_valid_pred)"
      ],
      "execution_count": 47,
      "outputs": [
        {
          "output_type": "execute_result",
          "data": {
            "text/plain": [
              "0.9998038523400415"
            ]
          },
          "metadata": {
            "tags": []
          },
          "execution_count": 47
        }
      ]
    },
    {
      "cell_type": "code",
      "metadata": {
        "id": "WJp9UJ222Nze",
        "colab_type": "code",
        "outputId": "8aec7661-1685-43bf-b012-3b612c9800d8",
        "colab": {
          "base_uri": "https://localhost:8080/",
          "height": 35
        }
      },
      "source": [
        "metrics.accuracy_score(y_test, y_test_pred)"
      ],
      "execution_count": 48,
      "outputs": [
        {
          "output_type": "execute_result",
          "data": {
            "text/plain": [
              "0.9964701729615248"
            ]
          },
          "metadata": {
            "tags": []
          },
          "execution_count": 48
        }
      ]
    },
    {
      "cell_type": "code",
      "metadata": {
        "id": "PBTQWorQbE7r",
        "colab_type": "code",
        "outputId": "0a3ec934-f987-4e25-d6ca-95b5e29d775b",
        "colab": {
          "base_uri": "https://localhost:8080/",
          "height": 54
        }
      },
      "source": [
        "confusion_matrix(y_test, y_test_pred)"
      ],
      "execution_count": 49,
      "outputs": [
        {
          "output_type": "execute_result",
          "data": {
            "text/plain": [
              "array([[1150,    5],\n",
              "       [   5, 1673]])"
            ]
          },
          "metadata": {
            "tags": []
          },
          "execution_count": 49
        }
      ]
    },
    {
      "cell_type": "code",
      "metadata": {
        "id": "8s7iAWIOJ-Wl",
        "colab_type": "code",
        "outputId": "3cd7f264-3ecf-49c3-a2b5-fb4ba89b532e",
        "colab": {
          "base_uri": "https://localhost:8080/",
          "height": 1000
        }
      },
      "source": [
        "#najbitniji atributi opadajuce\n",
        "feature_importances = zip(list(X_final), rf.feature_importances_)\n",
        "feature_importances_sort = sorted(feature_importances, key=lambda x: x[1], reverse=True)\n",
        "\n",
        "for feature in feature_importances_sort:\n",
        "    print(feature)"
      ],
      "execution_count": 50,
      "outputs": [
        {
          "output_type": "stream",
          "text": [
            "('label_proba_0', 0.3959656325658461)\n",
            "('label_proba_1', 0.3180566673238264)\n",
            "('len deep url', 0.1545151927846421)\n",
            "('len of domain', 0.04187757863682769)\n",
            "('suffix_co.uk', 0.020920325547988134)\n",
            "('suffix_info', 0.014345905898567693)\n",
            "('suffix_net', 0.011910793503445217)\n",
            "('suffix_com', 0.00975507852350531)\n",
            "('suffix_jp', 0.005573005379279026)\n",
            "('suffix_ac.uk', 0.0032600062363507894)\n",
            "('suffix_vn', 0.0024696284643911074)\n",
            "('suffix_ua', 0.0024588930978309983)\n",
            "('suffix_tv', 0.002095523031569457)\n",
            "('suffix_nl', 0.0019272636915564124)\n",
            "('suffix_com.au', 0.0017297794301980726)\n",
            "('suffix_ir', 0.001393644416311972)\n",
            "('suffix_de', 0.0011763556427205855)\n",
            "('suffix_net.ua', 0.00114852300831234)\n",
            "('suffix_ru', 0.001105808821269572)\n",
            "('suffix_cc', 0.0010646647594568074)\n",
            "('suffix_org.uk', 0.0008904053276358304)\n",
            "('suffix_org', 0.0007722886136155336)\n",
            "('suffix_it', 0.0006895380157043956)\n",
            "('suffix_pl', 0.0006277399107247996)\n",
            "('suffix_to', 0.0004637490849655049)\n",
            "('suffix_fr', 0.0003353526208925393)\n",
            "('suffix_gr', 0.0003128149181283515)\n",
            "('suffix_com.br', 0.00030276525662911876)\n",
            "('suffix_com.vn', 0.00029800706591006217)\n",
            "('suffix_com.tw', 0.00024534787454036643)\n",
            "('suffix_cz', 0.0002432801286886102)\n",
            "('suffix_in', 0.00023240199962036858)\n",
            "('suffix_es', 0.0001908491644953543)\n",
            "('suffix_co.id', 0.00017402578812427416)\n",
            "('suffix_', 0.00015509379026732163)\n",
            "('suffix_gov.uk', 0.00014541800885125563)\n",
            "('suffix_hu', 0.00013744864367340353)\n",
            "('suffix_com.ua', 0.00013682152092399033)\n",
            "('suffix_com.cn', 0.00012806289422977199)\n",
            "('suffix_ro', 0.00011680133242179587)\n",
            "('suffix_asia', 0.00010275241751431234)\n",
            "('suffix_dk', 0.00010022067528067057)\n",
            "('suffix_gov.br', 6.175690929935414e-05)\n",
            "('suffix_cn', 6.10360752774787e-05)\n",
            "('suffix_com.my', 5.187500770100078e-05)\n",
            "('suffix_se', 4.907512954827387e-05)\n",
            "('suffix_cl', 4.75587997203428e-05)\n",
            "('suffix_net.vn', 4.4299177383247024e-05)\n",
            "('suffix_eu', 4.010832302137812e-05)\n",
            "('suffix_com.ar', 3.8587336316747646e-05)\n",
            "('suffix_co.za', 2.4813215310608482e-05)\n",
            "('suffix_at', 1.61317018850793e-05)\n",
            "('suffix_be', 1.0316103291424829e-05)\n",
            "('suffix_ch', 2.9864045115149324e-06)\n"
          ],
          "name": "stdout"
        }
      ]
    },
    {
      "cell_type": "code",
      "metadata": {
        "id": "J-3KqTsNm7jU",
        "colab_type": "code",
        "outputId": "0767ed2a-8cc0-4854-e34b-2c8f89c99d7b",
        "colab": {
          "base_uri": "https://localhost:8080/",
          "height": 269
        }
      },
      "source": [
        "fpr, tpr, thresholds = roc_curve(y_test,y_test_pred)\n",
        "plt.plot([0, 1], [0, 1], linestyle='--')\n",
        "plt.plot(fpr, tpr, marker='.')\n",
        "plt.show()"
      ],
      "execution_count": 51,
      "outputs": [
        {
          "output_type": "display_data",
          "data": {
            "image/png": "[encoded data removed]",
            "text/plain": [
              "<Figure size 432x288 with 1 Axes>"
            ]
          },
          "metadata": {
            "tags": []
          }
        }
      ]
    },
    {
      "cell_type": "code",
      "metadata": {
        "id": "o3EWgw7lb7Cl",
        "colab_type": "code",
        "colab": {}
      },
      "source": [
        "#linear SVM\n",
        "def get_params_lsvm(X_train, y_train, X_valid, y_valid):\n",
        "  Cs = [10**i for i in range(-3, 3)]\n",
        "  max_iters = [1000, 2000]\n",
        "  losses = ['hinge', 'squared_hinge']\n",
        "  best_score = 0 \n",
        "  best_params = {'C':0, 'max_iter': [1000], 'loss' : ['hinge']}\n",
        "\n",
        "  for C in Cs: \n",
        "    for max_iter in max_iters:\n",
        "      for loss in losses:\n",
        "        lsvm = svm.LinearSVC(C = C, max_iter = max_iter, loss = loss)\n",
        "        lsvm.fit(X_train, y_train)\n",
        "        y_pred = lsvm.predict(X_valid)\n",
        "        score = metrics.accuracy_score(y_valid, y_pred)\n",
        "        if score>best_score: \n",
        "            best_score = score\n",
        "            best_params['C'] = C\n",
        "            best_params['max_iter'] = max_iter\n",
        "            best_params['loss'] = loss\n",
        "  return best_params"
      ],
      "execution_count": 0,
      "outputs": []
    },
    {
      "cell_type": "code",
      "metadata": {
        "id": "bH3PewQDuM7I",
        "colab_type": "code",
        "colab": {
          "base_uri": "https://localhost:8080/",
          "height": 717
        },
        "outputId": "5b0f7b35-e8fc-44e5-8481-f1898b03c95f"
      },
      "source": [
        "best_params = get_params_lsvm(X_train, y_train, X_valid, y_valid)\n",
        "print('Best parameters:\\n', best_params)\n",
        "lsvm = svm.LinearSVC(C = best_params['C'], max_iter = best_params['max_iter'], loss = best_params['loss'])\n",
        "lsvm.fit(X_train_valid, y_train_valid)"
      ],
      "execution_count": 53,
      "outputs": [
        {
          "output_type": "stream",
          "text": [
            "/usr/local/lib/python3.6/dist-packages/sklearn/svm/base.py:929: ConvergenceWarning: Liblinear failed to converge, increase the number of iterations.\n",
            "  \"the number of iterations.\", ConvergenceWarning)\n",
            "/usr/local/lib/python3.6/dist-packages/sklearn/svm/base.py:929: ConvergenceWarning: Liblinear failed to converge, increase the number of iterations.\n",
            "  \"the number of iterations.\", ConvergenceWarning)\n",
            "/usr/local/lib/python3.6/dist-packages/sklearn/svm/base.py:929: ConvergenceWarning: Liblinear failed to converge, increase the number of iterations.\n",
            "  \"the number of iterations.\", ConvergenceWarning)\n",
            "/usr/local/lib/python3.6/dist-packages/sklearn/svm/base.py:929: ConvergenceWarning: Liblinear failed to converge, increase the number of iterations.\n",
            "  \"the number of iterations.\", ConvergenceWarning)\n",
            "/usr/local/lib/python3.6/dist-packages/sklearn/svm/base.py:929: ConvergenceWarning: Liblinear failed to converge, increase the number of iterations.\n",
            "  \"the number of iterations.\", ConvergenceWarning)\n",
            "/usr/local/lib/python3.6/dist-packages/sklearn/svm/base.py:929: ConvergenceWarning: Liblinear failed to converge, increase the number of iterations.\n",
            "  \"the number of iterations.\", ConvergenceWarning)\n",
            "/usr/local/lib/python3.6/dist-packages/sklearn/svm/base.py:929: ConvergenceWarning: Liblinear failed to converge, increase the number of iterations.\n",
            "  \"the number of iterations.\", ConvergenceWarning)\n",
            "/usr/local/lib/python3.6/dist-packages/sklearn/svm/base.py:929: ConvergenceWarning: Liblinear failed to converge, increase the number of iterations.\n",
            "  \"the number of iterations.\", ConvergenceWarning)\n",
            "/usr/local/lib/python3.6/dist-packages/sklearn/svm/base.py:929: ConvergenceWarning: Liblinear failed to converge, increase the number of iterations.\n",
            "  \"the number of iterations.\", ConvergenceWarning)\n",
            "/usr/local/lib/python3.6/dist-packages/sklearn/svm/base.py:929: ConvergenceWarning: Liblinear failed to converge, increase the number of iterations.\n",
            "  \"the number of iterations.\", ConvergenceWarning)\n",
            "/usr/local/lib/python3.6/dist-packages/sklearn/svm/base.py:929: ConvergenceWarning: Liblinear failed to converge, increase the number of iterations.\n",
            "  \"the number of iterations.\", ConvergenceWarning)\n",
            "/usr/local/lib/python3.6/dist-packages/sklearn/svm/base.py:929: ConvergenceWarning: Liblinear failed to converge, increase the number of iterations.\n",
            "  \"the number of iterations.\", ConvergenceWarning)\n",
            "/usr/local/lib/python3.6/dist-packages/sklearn/svm/base.py:929: ConvergenceWarning: Liblinear failed to converge, increase the number of iterations.\n",
            "  \"the number of iterations.\", ConvergenceWarning)\n",
            "/usr/local/lib/python3.6/dist-packages/sklearn/svm/base.py:929: ConvergenceWarning: Liblinear failed to converge, increase the number of iterations.\n",
            "  \"the number of iterations.\", ConvergenceWarning)\n",
            "/usr/local/lib/python3.6/dist-packages/sklearn/svm/base.py:929: ConvergenceWarning: Liblinear failed to converge, increase the number of iterations.\n",
            "  \"the number of iterations.\", ConvergenceWarning)\n"
          ],
          "name": "stderr"
        },
        {
          "output_type": "stream",
          "text": [
            "Best parameters:\n",
            " {'C': 0.1, 'max_iter': 1000, 'loss': 'hinge'}\n"
          ],
          "name": "stdout"
        },
        {
          "output_type": "stream",
          "text": [
            "/usr/local/lib/python3.6/dist-packages/sklearn/svm/base.py:929: ConvergenceWarning: Liblinear failed to converge, increase the number of iterations.\n",
            "  \"the number of iterations.\", ConvergenceWarning)\n"
          ],
          "name": "stderr"
        },
        {
          "output_type": "execute_result",
          "data": {
            "text/plain": [
              "LinearSVC(C=0.1, class_weight=None, dual=True, fit_intercept=True,\n",
              "          intercept_scaling=1, loss='hinge', max_iter=1000, multi_class='ovr',\n",
              "          penalty='l2', random_state=None, tol=0.0001, verbose=0)"
            ]
          },
          "metadata": {
            "tags": []
          },
          "execution_count": 53
        }
      ]
    },
    {
      "cell_type": "code",
      "metadata": {
        "id": "LzXqxSlvL30j",
        "colab_type": "code",
        "outputId": "fe9ea169-9ca9-47ec-8367-2eb6b250d53b",
        "colab": {
          "base_uri": "https://localhost:8080/",
          "height": 348
        }
      },
      "source": [
        "y_train_valid_pred = lsvm.predict(X_train_valid)\n",
        "y_test_pred = lsvm.predict(X_test)\n",
        "print('Train report: {}'.format(metrics.classification_report(y_train_valid, y_train_valid_pred)))\n",
        "print('Test report: {}'.format(metrics.classification_report(y_test, y_test_pred)))"
      ],
      "execution_count": 54,
      "outputs": [
        {
          "output_type": "stream",
          "text": [
            "Train report:               precision    recall  f1-score   support\n",
            "\n",
            "           0       0.97      0.97      0.97     10391\n",
            "           1       0.98      0.98      0.98     15100\n",
            "\n",
            "    accuracy                           0.98     25491\n",
            "   macro avg       0.98      0.98      0.98     25491\n",
            "weighted avg       0.98      0.98      0.98     25491\n",
            "\n",
            "Test report:               precision    recall  f1-score   support\n",
            "\n",
            "           0       0.97      0.97      0.97      1155\n",
            "           1       0.98      0.98      0.98      1678\n",
            "\n",
            "    accuracy                           0.98      2833\n",
            "   macro avg       0.98      0.98      0.98      2833\n",
            "weighted avg       0.98      0.98      0.98      2833\n",
            "\n"
          ],
          "name": "stdout"
        }
      ]
    },
    {
      "cell_type": "code",
      "metadata": {
        "id": "xnKTNtme5EJg",
        "colab_type": "code",
        "outputId": "054d781b-5d3a-4eb9-ff9d-70ec4557c43b",
        "colab": {
          "base_uri": "https://localhost:8080/",
          "height": 35
        }
      },
      "source": [
        "metrics.accuracy_score(y_train_valid, y_train_valid_pred)"
      ],
      "execution_count": 55,
      "outputs": [
        {
          "output_type": "execute_result",
          "data": {
            "text/plain": [
              "0.9779922325526657"
            ]
          },
          "metadata": {
            "tags": []
          },
          "execution_count": 55
        }
      ]
    },
    {
      "cell_type": "code",
      "metadata": {
        "id": "xNeKY73O5IQf",
        "colab_type": "code",
        "outputId": "4548652e-9087-4e7a-cae3-ec24302d0a7b",
        "colab": {
          "base_uri": "https://localhost:8080/",
          "height": 35
        }
      },
      "source": [
        "metrics.accuracy_score(y_test, y_test_pred)"
      ],
      "execution_count": 56,
      "outputs": [
        {
          "output_type": "execute_result",
          "data": {
            "text/plain": [
              "0.9791740204729968"
            ]
          },
          "metadata": {
            "tags": []
          },
          "execution_count": 56
        }
      ]
    },
    {
      "cell_type": "code",
      "metadata": {
        "id": "KJbBRRpHcvK3",
        "colab_type": "code",
        "outputId": "f8a7a553-3b8c-43aa-8535-cfeff1655556",
        "colab": {
          "base_uri": "https://localhost:8080/",
          "height": 54
        }
      },
      "source": [
        "confusion_matrix(y_test, y_test_pred)"
      ],
      "execution_count": 57,
      "outputs": [
        {
          "output_type": "execute_result",
          "data": {
            "text/plain": [
              "array([[1126,   29],\n",
              "       [  30, 1648]])"
            ]
          },
          "metadata": {
            "tags": []
          },
          "execution_count": 57
        }
      ]
    },
    {
      "cell_type": "code",
      "metadata": {
        "id": "_E8UBQ1afSUc",
        "colab_type": "code",
        "colab": {}
      },
      "source": [
        "#SVM sa rbf kernelom\n",
        "#rbf je default kernel u svc\n",
        "\n",
        "def get_params_rbf(X_train, y_train, X_valid, y_valid):\n",
        "  Cs = [10**i for i in range(-3, 3)]\n",
        "  gammas = np.array([10**i for i in range(-3, 3)])\n",
        "  best_score = 0 \n",
        "  best_params = {'C':0, 'gamma' : 0}\n",
        "\n",
        "  for C in Cs: \n",
        "    for gamma in gammas:\n",
        "        rbf = svm.SVC(C = C, gamma = gamma)\n",
        "        rbf.fit(X_train, y_train)\n",
        "        y_pred = rbf.predict(X_valid)\n",
        "        score = metrics.accuracy_score(y_valid, y_pred)\n",
        "        if score>best_score: \n",
        "            best_score = score\n",
        "            best_params['C'] = C\n",
        "            best_params['gamma'] = gamma\n",
        "\n",
        "  return best_params"
      ],
      "execution_count": 0,
      "outputs": []
    },
    {
      "cell_type": "code",
      "metadata": {
        "id": "QGXET1WiuyF_",
        "colab_type": "code",
        "colab": {
          "base_uri": "https://localhost:8080/",
          "height": 127
        },
        "outputId": "d0ea2de5-6836-4c50-e3a6-87f8550c1a75"
      },
      "source": [
        "best_params = get_params_rbf(X_train, y_train, X_valid, y_valid)\n",
        "print('Best parameters:\\n', best_params)\n",
        "rbf = svm.SVC(C = best_params['C'], gamma = best_params['gamma'])\n",
        "rbf.fit(X_train_valid, y_train_valid)"
      ],
      "execution_count": 62,
      "outputs": [
        {
          "output_type": "stream",
          "text": [
            "Best parameters:\n",
            " {'C': 100, 'gamma': 1.0}\n"
          ],
          "name": "stdout"
        },
        {
          "output_type": "execute_result",
          "data": {
            "text/plain": [
              "SVC(C=100, cache_size=200, class_weight=None, coef0=0.0,\n",
              "    decision_function_shape='ovr', degree=3, gamma=1.0, kernel='rbf',\n",
              "    max_iter=-1, probability=False, random_state=None, shrinking=True,\n",
              "    tol=0.001, verbose=False)"
            ]
          },
          "metadata": {
            "tags": []
          },
          "execution_count": 62
        }
      ]
    },
    {
      "cell_type": "code",
      "metadata": {
        "id": "Y4kpbt5EMg0O",
        "colab_type": "code",
        "outputId": "43e0e42a-3a73-437d-9de2-415666e85532",
        "colab": {
          "base_uri": "https://localhost:8080/",
          "height": 348
        }
      },
      "source": [
        "y_train_valid_pred = rbf.predict(X_train_valid)\n",
        "y_test_pred = rbf.predict(X_test)\n",
        "print('Train report: {}'.format(metrics.classification_report(y_train_valid, y_train_valid_pred)))\n",
        "print('Test report: {}'.format(metrics.classification_report(y_test, y_test_pred)))"
      ],
      "execution_count": 63,
      "outputs": [
        {
          "output_type": "stream",
          "text": [
            "Train report:               precision    recall  f1-score   support\n",
            "\n",
            "           0       0.99      0.99      0.99     10391\n",
            "           1       0.99      1.00      1.00     15100\n",
            "\n",
            "    accuracy                           0.99     25491\n",
            "   macro avg       0.99      0.99      0.99     25491\n",
            "weighted avg       0.99      0.99      0.99     25491\n",
            "\n",
            "Test report:               precision    recall  f1-score   support\n",
            "\n",
            "           0       1.00      0.99      0.99      1155\n",
            "           1       0.99      1.00      1.00      1678\n",
            "\n",
            "    accuracy                           0.99      2833\n",
            "   macro avg       0.99      0.99      0.99      2833\n",
            "weighted avg       0.99      0.99      0.99      2833\n",
            "\n"
          ],
          "name": "stdout"
        }
      ]
    },
    {
      "cell_type": "code",
      "metadata": {
        "id": "ue_aufDz8FxM",
        "colab_type": "code",
        "outputId": "f00d35cb-4911-4367-97fd-83112f148a53",
        "colab": {
          "base_uri": "https://localhost:8080/",
          "height": 35
        }
      },
      "source": [
        "metrics.accuracy_score(y_train_valid, y_train_valid_pred)"
      ],
      "execution_count": 64,
      "outputs": [
        {
          "output_type": "execute_result",
          "data": {
            "text/plain": [
              "0.9941547997332392"
            ]
          },
          "metadata": {
            "tags": []
          },
          "execution_count": 64
        }
      ]
    },
    {
      "cell_type": "code",
      "metadata": {
        "id": "aiYUGQwz8A7k",
        "colab_type": "code",
        "outputId": "33db10de-bf75-4cb7-b2f1-0da63c7053a1",
        "colab": {
          "base_uri": "https://localhost:8080/",
          "height": 35
        }
      },
      "source": [
        "metrics.accuracy_score(y_test, y_test_pred)"
      ],
      "execution_count": 65,
      "outputs": [
        {
          "output_type": "execute_result",
          "data": {
            "text/plain": [
              "0.9943522767384398"
            ]
          },
          "metadata": {
            "tags": []
          },
          "execution_count": 65
        }
      ]
    },
    {
      "cell_type": "code",
      "metadata": {
        "id": "iQ6OLt4fc3Du",
        "colab_type": "code",
        "outputId": "70a0a741-e37a-4239-bd99-f6835cb10b60",
        "colab": {
          "base_uri": "https://localhost:8080/",
          "height": 54
        }
      },
      "source": [
        "confusion_matrix(y_test, y_test_pred)"
      ],
      "execution_count": 66,
      "outputs": [
        {
          "output_type": "execute_result",
          "data": {
            "text/plain": [
              "array([[1144,   11],\n",
              "       [   5, 1673]])"
            ]
          },
          "metadata": {
            "tags": []
          },
          "execution_count": 66
        }
      ]
    },
    {
      "cell_type": "code",
      "metadata": {
        "id": "PnVsIZ3gnIq4",
        "colab_type": "code",
        "outputId": "ec054b5c-f310-4e18-e86c-36d57c99da5b",
        "colab": {
          "base_uri": "https://localhost:8080/",
          "height": 269
        }
      },
      "source": [
        "fpr, tpr, thresholds = roc_curve(y_test, y_test_pred)\n",
        "plt.plot([0, 1], [0, 1], linestyle='--')\n",
        "plt.plot(fpr, tpr, marker='.')\n",
        "plt.show()"
      ],
      "execution_count": 67,
      "outputs": [
        {
          "output_type": "display_data",
          "data": {
            "image/png": "[encoded data removed]",
            "text/plain": [
              "<Figure size 432x288 with 1 Axes>"
            ]
          },
          "metadata": {
            "tags": []
          }
        }
      ]
    },
    {
      "cell_type": "code",
      "metadata": {
        "id": "A5wYFDMaNqWj",
        "colab_type": "code",
        "colab": {}
      },
      "source": [
        "#rezultati koje dobijamo kada drop-ujemo kolone predikcija iz multinomijalnog naivnog bajesa, prikazane tacnosti za test skup radi poredjenja"
      ],
      "execution_count": 0,
      "outputs": []
    },
    {
      "cell_type": "code",
      "metadata": {
        "id": "ZNNSIEGFWoPl",
        "colab_type": "code",
        "outputId": "ea68ed1d-ac41-4e40-d662-3c85b2e27a03",
        "colab": {
          "base_uri": "https://localhost:8080/",
          "height": 261
        }
      },
      "source": [
        "final_ds.head()"
      ],
      "execution_count": 68,
      "outputs": [
        {
          "output_type": "execute_result",
          "data": {
            "text/html": [
              "<div>\n",
              "<style scoped>\n",
              "    .dataframe tbody tr th:only-of-type {\n",
              "        vertical-align: middle;\n",
              "    }\n",
              "\n",
              "    .dataframe tbody tr th {\n",
              "        vertical-align: top;\n",
              "    }\n",
              "\n",
              "    .dataframe thead th {\n",
              "        text-align: right;\n",
              "    }\n",
              "</style>\n",
              "<table border=\"1\" class=\"dataframe\">\n",
              "  <thead>\n",
              "    <tr style=\"text-align: right;\">\n",
              "      <th></th>\n",
              "      <th>label</th>\n",
              "      <th>len deep url</th>\n",
              "      <th>label_proba_0</th>\n",
              "      <th>label_proba_1</th>\n",
              "      <th>len of domain</th>\n",
              "      <th>suffix_</th>\n",
              "      <th>suffix_ac.uk</th>\n",
              "      <th>suffix_asia</th>\n",
              "      <th>suffix_at</th>\n",
              "      <th>suffix_be</th>\n",
              "      <th>suffix_cc</th>\n",
              "      <th>suffix_ch</th>\n",
              "      <th>suffix_cl</th>\n",
              "      <th>suffix_cn</th>\n",
              "      <th>suffix_co.id</th>\n",
              "      <th>suffix_co.uk</th>\n",
              "      <th>suffix_co.za</th>\n",
              "      <th>suffix_com</th>\n",
              "      <th>suffix_com.ar</th>\n",
              "      <th>suffix_com.au</th>\n",
              "      <th>suffix_com.br</th>\n",
              "      <th>suffix_com.cn</th>\n",
              "      <th>suffix_com.my</th>\n",
              "      <th>suffix_com.tw</th>\n",
              "      <th>suffix_com.ua</th>\n",
              "      <th>suffix_com.vn</th>\n",
              "      <th>suffix_cz</th>\n",
              "      <th>suffix_de</th>\n",
              "      <th>suffix_dk</th>\n",
              "      <th>suffix_es</th>\n",
              "      <th>suffix_eu</th>\n",
              "      <th>suffix_fr</th>\n",
              "      <th>suffix_gov.br</th>\n",
              "      <th>suffix_gov.uk</th>\n",
              "      <th>suffix_gr</th>\n",
              "      <th>suffix_hu</th>\n",
              "      <th>suffix_in</th>\n",
              "      <th>suffix_info</th>\n",
              "      <th>suffix_ir</th>\n",
              "      <th>suffix_it</th>\n",
              "      <th>suffix_jp</th>\n",
              "      <th>suffix_net</th>\n",
              "      <th>suffix_net.ua</th>\n",
              "      <th>suffix_net.vn</th>\n",
              "      <th>suffix_nl</th>\n",
              "      <th>suffix_org</th>\n",
              "      <th>suffix_org.uk</th>\n",
              "      <th>suffix_pl</th>\n",
              "      <th>suffix_ro</th>\n",
              "      <th>suffix_ru</th>\n",
              "      <th>suffix_se</th>\n",
              "      <th>suffix_to</th>\n",
              "      <th>suffix_tv</th>\n",
              "      <th>suffix_ua</th>\n",
              "      <th>suffix_vn</th>\n",
              "    </tr>\n",
              "  </thead>\n",
              "  <tbody>\n",
              "    <tr>\n",
              "      <th>0</th>\n",
              "      <td>1</td>\n",
              "      <td>154</td>\n",
              "      <td>9.566127e-27</td>\n",
              "      <td>1.000000</td>\n",
              "      <td>14</td>\n",
              "      <td>0</td>\n",
              "      <td>0</td>\n",
              "      <td>0</td>\n",
              "      <td>0</td>\n",
              "      <td>0</td>\n",
              "      <td>0</td>\n",
              "      <td>0</td>\n",
              "      <td>0</td>\n",
              "      <td>0</td>\n",
              "      <td>0</td>\n",
              "      <td>0</td>\n",
              "      <td>0</td>\n",
              "      <td>1</td>\n",
              "      <td>0</td>\n",
              "      <td>0</td>\n",
              "      <td>0</td>\n",
              "      <td>0</td>\n",
              "      <td>0</td>\n",
              "      <td>0</td>\n",
              "      <td>0</td>\n",
              "      <td>0</td>\n",
              "      <td>0</td>\n",
              "      <td>0</td>\n",
              "      <td>0</td>\n",
              "      <td>0</td>\n",
              "      <td>0</td>\n",
              "      <td>0</td>\n",
              "      <td>0</td>\n",
              "      <td>0</td>\n",
              "      <td>0</td>\n",
              "      <td>0</td>\n",
              "      <td>0</td>\n",
              "      <td>0</td>\n",
              "      <td>0</td>\n",
              "      <td>0</td>\n",
              "      <td>0</td>\n",
              "      <td>0</td>\n",
              "      <td>0</td>\n",
              "      <td>0</td>\n",
              "      <td>0</td>\n",
              "      <td>0</td>\n",
              "      <td>0</td>\n",
              "      <td>0</td>\n",
              "      <td>0</td>\n",
              "      <td>0</td>\n",
              "      <td>0</td>\n",
              "      <td>0</td>\n",
              "      <td>0</td>\n",
              "      <td>0</td>\n",
              "      <td>0</td>\n",
              "    </tr>\n",
              "    <tr>\n",
              "      <th>1</th>\n",
              "      <td>0</td>\n",
              "      <td>71</td>\n",
              "      <td>9.616888e-01</td>\n",
              "      <td>0.038311</td>\n",
              "      <td>6</td>\n",
              "      <td>0</td>\n",
              "      <td>0</td>\n",
              "      <td>0</td>\n",
              "      <td>0</td>\n",
              "      <td>0</td>\n",
              "      <td>0</td>\n",
              "      <td>0</td>\n",
              "      <td>0</td>\n",
              "      <td>0</td>\n",
              "      <td>0</td>\n",
              "      <td>0</td>\n",
              "      <td>0</td>\n",
              "      <td>1</td>\n",
              "      <td>0</td>\n",
              "      <td>0</td>\n",
              "      <td>0</td>\n",
              "      <td>0</td>\n",
              "      <td>0</td>\n",
              "      <td>0</td>\n",
              "      <td>0</td>\n",
              "      <td>0</td>\n",
              "      <td>0</td>\n",
              "      <td>0</td>\n",
              "      <td>0</td>\n",
              "      <td>0</td>\n",
              "      <td>0</td>\n",
              "      <td>0</td>\n",
              "      <td>0</td>\n",
              "      <td>0</td>\n",
              "      <td>0</td>\n",
              "      <td>0</td>\n",
              "      <td>0</td>\n",
              "      <td>0</td>\n",
              "      <td>0</td>\n",
              "      <td>0</td>\n",
              "      <td>0</td>\n",
              "      <td>0</td>\n",
              "      <td>0</td>\n",
              "      <td>0</td>\n",
              "      <td>0</td>\n",
              "      <td>0</td>\n",
              "      <td>0</td>\n",
              "      <td>0</td>\n",
              "      <td>0</td>\n",
              "      <td>0</td>\n",
              "      <td>0</td>\n",
              "      <td>0</td>\n",
              "      <td>0</td>\n",
              "      <td>0</td>\n",
              "      <td>0</td>\n",
              "    </tr>\n",
              "    <tr>\n",
              "      <th>2</th>\n",
              "      <td>1</td>\n",
              "      <td>51</td>\n",
              "      <td>1.065991e-09</td>\n",
              "      <td>1.000000</td>\n",
              "      <td>6</td>\n",
              "      <td>0</td>\n",
              "      <td>0</td>\n",
              "      <td>0</td>\n",
              "      <td>0</td>\n",
              "      <td>0</td>\n",
              "      <td>0</td>\n",
              "      <td>0</td>\n",
              "      <td>0</td>\n",
              "      <td>0</td>\n",
              "      <td>0</td>\n",
              "      <td>0</td>\n",
              "      <td>0</td>\n",
              "      <td>1</td>\n",
              "      <td>0</td>\n",
              "      <td>0</td>\n",
              "      <td>0</td>\n",
              "      <td>0</td>\n",
              "      <td>0</td>\n",
              "      <td>0</td>\n",
              "      <td>0</td>\n",
              "      <td>0</td>\n",
              "      <td>0</td>\n",
              "      <td>0</td>\n",
              "      <td>0</td>\n",
              "      <td>0</td>\n",
              "      <td>0</td>\n",
              "      <td>0</td>\n",
              "      <td>0</td>\n",
              "      <td>0</td>\n",
              "      <td>0</td>\n",
              "      <td>0</td>\n",
              "      <td>0</td>\n",
              "      <td>0</td>\n",
              "      <td>0</td>\n",
              "      <td>0</td>\n",
              "      <td>0</td>\n",
              "      <td>0</td>\n",
              "      <td>0</td>\n",
              "      <td>0</td>\n",
              "      <td>0</td>\n",
              "      <td>0</td>\n",
              "      <td>0</td>\n",
              "      <td>0</td>\n",
              "      <td>0</td>\n",
              "      <td>0</td>\n",
              "      <td>0</td>\n",
              "      <td>0</td>\n",
              "      <td>0</td>\n",
              "      <td>0</td>\n",
              "      <td>0</td>\n",
              "    </tr>\n",
              "    <tr>\n",
              "      <th>3</th>\n",
              "      <td>0</td>\n",
              "      <td>74</td>\n",
              "      <td>9.998239e-01</td>\n",
              "      <td>0.000176</td>\n",
              "      <td>2</td>\n",
              "      <td>0</td>\n",
              "      <td>0</td>\n",
              "      <td>0</td>\n",
              "      <td>0</td>\n",
              "      <td>0</td>\n",
              "      <td>0</td>\n",
              "      <td>0</td>\n",
              "      <td>0</td>\n",
              "      <td>0</td>\n",
              "      <td>0</td>\n",
              "      <td>0</td>\n",
              "      <td>0</td>\n",
              "      <td>0</td>\n",
              "      <td>0</td>\n",
              "      <td>0</td>\n",
              "      <td>0</td>\n",
              "      <td>0</td>\n",
              "      <td>0</td>\n",
              "      <td>0</td>\n",
              "      <td>0</td>\n",
              "      <td>0</td>\n",
              "      <td>0</td>\n",
              "      <td>0</td>\n",
              "      <td>0</td>\n",
              "      <td>0</td>\n",
              "      <td>0</td>\n",
              "      <td>0</td>\n",
              "      <td>0</td>\n",
              "      <td>0</td>\n",
              "      <td>0</td>\n",
              "      <td>0</td>\n",
              "      <td>0</td>\n",
              "      <td>0</td>\n",
              "      <td>0</td>\n",
              "      <td>0</td>\n",
              "      <td>0</td>\n",
              "      <td>0</td>\n",
              "      <td>0</td>\n",
              "      <td>0</td>\n",
              "      <td>0</td>\n",
              "      <td>1</td>\n",
              "      <td>0</td>\n",
              "      <td>0</td>\n",
              "      <td>0</td>\n",
              "      <td>0</td>\n",
              "      <td>0</td>\n",
              "      <td>0</td>\n",
              "      <td>0</td>\n",
              "      <td>0</td>\n",
              "      <td>0</td>\n",
              "    </tr>\n",
              "    <tr>\n",
              "      <th>4</th>\n",
              "      <td>0</td>\n",
              "      <td>77</td>\n",
              "      <td>9.999947e-01</td>\n",
              "      <td>0.000005</td>\n",
              "      <td>2</td>\n",
              "      <td>0</td>\n",
              "      <td>0</td>\n",
              "      <td>0</td>\n",
              "      <td>0</td>\n",
              "      <td>0</td>\n",
              "      <td>0</td>\n",
              "      <td>0</td>\n",
              "      <td>0</td>\n",
              "      <td>0</td>\n",
              "      <td>0</td>\n",
              "      <td>0</td>\n",
              "      <td>0</td>\n",
              "      <td>0</td>\n",
              "      <td>0</td>\n",
              "      <td>0</td>\n",
              "      <td>0</td>\n",
              "      <td>0</td>\n",
              "      <td>0</td>\n",
              "      <td>0</td>\n",
              "      <td>0</td>\n",
              "      <td>0</td>\n",
              "      <td>0</td>\n",
              "      <td>0</td>\n",
              "      <td>0</td>\n",
              "      <td>0</td>\n",
              "      <td>0</td>\n",
              "      <td>0</td>\n",
              "      <td>0</td>\n",
              "      <td>0</td>\n",
              "      <td>0</td>\n",
              "      <td>0</td>\n",
              "      <td>0</td>\n",
              "      <td>0</td>\n",
              "      <td>0</td>\n",
              "      <td>0</td>\n",
              "      <td>0</td>\n",
              "      <td>0</td>\n",
              "      <td>0</td>\n",
              "      <td>0</td>\n",
              "      <td>0</td>\n",
              "      <td>1</td>\n",
              "      <td>0</td>\n",
              "      <td>0</td>\n",
              "      <td>0</td>\n",
              "      <td>0</td>\n",
              "      <td>0</td>\n",
              "      <td>0</td>\n",
              "      <td>0</td>\n",
              "      <td>0</td>\n",
              "      <td>0</td>\n",
              "    </tr>\n",
              "  </tbody>\n",
              "</table>\n",
              "</div>"
            ],
            "text/plain": [
              "   label  len deep url  label_proba_0  ...  suffix_tv  suffix_ua  suffix_vn\n",
              "0      1           154   9.566127e-27  ...          0          0          0\n",
              "1      0            71   9.616888e-01  ...          0          0          0\n",
              "2      1            51   1.065991e-09  ...          0          0          0\n",
              "3      0            74   9.998239e-01  ...          0          0          0\n",
              "4      0            77   9.999947e-01  ...          0          0          0\n",
              "\n",
              "[5 rows x 55 columns]"
            ]
          },
          "metadata": {
            "tags": []
          },
          "execution_count": 68
        }
      ]
    },
    {
      "cell_type": "code",
      "metadata": {
        "id": "-dKzWoaFOHw0",
        "colab_type": "code",
        "colab": {}
      },
      "source": [
        "#uzimamo X i y za trening i test i vrsimo podelu\n",
        "X_no_nb = final_ds.drop(['label','label_proba_0','label_proba_1'],axis=1) \n",
        "y_no_nb = final_ds['label']\n",
        "\n",
        "#train test split\n",
        "X_train_valid, X_test, y_train_valid, y_test = train_test_split(X_no_nb, y_no_nb, test_size=0.1, random_state=42, stratify = y_no_nb)\n",
        "X_train, X_valid, y_train, y_valid = train_test_split(X_train_valid, y_train_valid, test_size=0.20, random_state=42, stratify = y_train_valid)"
      ],
      "execution_count": 0,
      "outputs": []
    },
    {
      "cell_type": "code",
      "metadata": {
        "id": "OjpTaL-Y-7Mc",
        "colab_type": "code",
        "colab": {}
      },
      "source": [
        "ss1 = StandardScaler()\n",
        "X_train = ss1.fit_transform(X_train)\n",
        "X_valid = ss1.transform(X_valid)"
      ],
      "execution_count": 0,
      "outputs": []
    },
    {
      "cell_type": "code",
      "metadata": {
        "id": "2dGR2IHpOL6H",
        "colab_type": "code",
        "colab": {}
      },
      "source": [
        "ss2 = StandardScaler()\n",
        "X_train_valid = ss2.fit_transform(X_train_valid)\n",
        "X_test = ss2.transform(X_test)"
      ],
      "execution_count": 0,
      "outputs": []
    },
    {
      "cell_type": "code",
      "metadata": {
        "id": "hotbMpiPCpoj",
        "colab_type": "code",
        "colab": {}
      },
      "source": [
        "#random forest"
      ],
      "execution_count": 0,
      "outputs": []
    },
    {
      "cell_type": "code",
      "metadata": {
        "id": "E-F-MOKm_rqA",
        "colab_type": "code",
        "colab": {
          "base_uri": "https://localhost:8080/",
          "height": 182
        },
        "outputId": "e8b5385f-2b7b-4982-d740-b71b938d9134"
      },
      "source": [
        "best_params = get_params_rf(X_train, y_train, X_valid, y_valid)\n",
        "print('Best parameters:\\n', best_params)\n",
        "rf = RandomForestClassifier(n_estimators=best_params['n_estimators'], max_depth=best_params['max_depth'], criterion=best_params['criterion'])\n",
        "rf.fit(X_train_valid, y_train_valid)"
      ],
      "execution_count": 72,
      "outputs": [
        {
          "output_type": "stream",
          "text": [
            "Best parameters:\n",
            " {'n_estimators': 100, 'max_depth': 30, 'criterion': 'gini'}\n"
          ],
          "name": "stdout"
        },
        {
          "output_type": "execute_result",
          "data": {
            "text/plain": [
              "RandomForestClassifier(bootstrap=True, class_weight=None, criterion='gini',\n",
              "                       max_depth=30, max_features='auto', max_leaf_nodes=None,\n",
              "                       min_impurity_decrease=0.0, min_impurity_split=None,\n",
              "                       min_samples_leaf=1, min_samples_split=2,\n",
              "                       min_weight_fraction_leaf=0.0, n_estimators=100,\n",
              "                       n_jobs=None, oob_score=False, random_state=None,\n",
              "                       verbose=0, warm_start=False)"
            ]
          },
          "metadata": {
            "tags": []
          },
          "execution_count": 72
        }
      ]
    },
    {
      "cell_type": "code",
      "metadata": {
        "id": "ZX5e5bccDpBm",
        "colab_type": "code",
        "outputId": "a4f25ca8-c8cb-4517-edf0-0c93b5c986b5",
        "colab": {
          "base_uri": "https://localhost:8080/",
          "height": 35
        }
      },
      "source": [
        "metrics.accuracy_score(y_train_valid, rf.predict(X_train_valid))"
      ],
      "execution_count": 73,
      "outputs": [
        {
          "output_type": "execute_result",
          "data": {
            "text/plain": [
              "0.9568475148091483"
            ]
          },
          "metadata": {
            "tags": []
          },
          "execution_count": 73
        }
      ]
    },
    {
      "cell_type": "code",
      "metadata": {
        "id": "2qg1DVtSDdOf",
        "colab_type": "code",
        "outputId": "56e95d16-d0d3-4d30-877b-131de6f96465",
        "colab": {
          "base_uri": "https://localhost:8080/",
          "height": 35
        }
      },
      "source": [
        "metrics.accuracy_score(y_test, rf.predict(X_test))"
      ],
      "execution_count": 74,
      "outputs": [
        {
          "output_type": "execute_result",
          "data": {
            "text/plain": [
              "0.9322273208612778"
            ]
          },
          "metadata": {
            "tags": []
          },
          "execution_count": 74
        }
      ]
    },
    {
      "cell_type": "code",
      "metadata": {
        "id": "ZcDHFCh-Cwwn",
        "colab_type": "code",
        "colab": {}
      },
      "source": [
        "#linear svm"
      ],
      "execution_count": 0,
      "outputs": []
    },
    {
      "cell_type": "code",
      "metadata": {
        "id": "ZwJuwEvHAH6o",
        "colab_type": "code",
        "colab": {
          "base_uri": "https://localhost:8080/",
          "height": 680
        },
        "outputId": "2414a3fd-5f2d-4e25-b182-c8c79d998092"
      },
      "source": [
        "best_params = get_params_lsvm(X_train, y_train, X_valid, y_valid)\n",
        "print('Best parameters:\\n', best_params)\n",
        "lsvm = svm.LinearSVC(C = best_params['C'], max_iter = best_params['max_iter'], loss = best_params['loss'])\n",
        "lsvm.fit(X_train_valid, y_train_valid)"
      ],
      "execution_count": 75,
      "outputs": [
        {
          "output_type": "stream",
          "text": [
            "/usr/local/lib/python3.6/dist-packages/sklearn/svm/base.py:929: ConvergenceWarning: Liblinear failed to converge, increase the number of iterations.\n",
            "  \"the number of iterations.\", ConvergenceWarning)\n",
            "/usr/local/lib/python3.6/dist-packages/sklearn/svm/base.py:929: ConvergenceWarning: Liblinear failed to converge, increase the number of iterations.\n",
            "  \"the number of iterations.\", ConvergenceWarning)\n",
            "/usr/local/lib/python3.6/dist-packages/sklearn/svm/base.py:929: ConvergenceWarning: Liblinear failed to converge, increase the number of iterations.\n",
            "  \"the number of iterations.\", ConvergenceWarning)\n",
            "/usr/local/lib/python3.6/dist-packages/sklearn/svm/base.py:929: ConvergenceWarning: Liblinear failed to converge, increase the number of iterations.\n",
            "  \"the number of iterations.\", ConvergenceWarning)\n",
            "/usr/local/lib/python3.6/dist-packages/sklearn/svm/base.py:929: ConvergenceWarning: Liblinear failed to converge, increase the number of iterations.\n",
            "  \"the number of iterations.\", ConvergenceWarning)\n",
            "/usr/local/lib/python3.6/dist-packages/sklearn/svm/base.py:929: ConvergenceWarning: Liblinear failed to converge, increase the number of iterations.\n",
            "  \"the number of iterations.\", ConvergenceWarning)\n",
            "/usr/local/lib/python3.6/dist-packages/sklearn/svm/base.py:929: ConvergenceWarning: Liblinear failed to converge, increase the number of iterations.\n",
            "  \"the number of iterations.\", ConvergenceWarning)\n",
            "/usr/local/lib/python3.6/dist-packages/sklearn/svm/base.py:929: ConvergenceWarning: Liblinear failed to converge, increase the number of iterations.\n",
            "  \"the number of iterations.\", ConvergenceWarning)\n",
            "/usr/local/lib/python3.6/dist-packages/sklearn/svm/base.py:929: ConvergenceWarning: Liblinear failed to converge, increase the number of iterations.\n",
            "  \"the number of iterations.\", ConvergenceWarning)\n",
            "/usr/local/lib/python3.6/dist-packages/sklearn/svm/base.py:929: ConvergenceWarning: Liblinear failed to converge, increase the number of iterations.\n",
            "  \"the number of iterations.\", ConvergenceWarning)\n",
            "/usr/local/lib/python3.6/dist-packages/sklearn/svm/base.py:929: ConvergenceWarning: Liblinear failed to converge, increase the number of iterations.\n",
            "  \"the number of iterations.\", ConvergenceWarning)\n",
            "/usr/local/lib/python3.6/dist-packages/sklearn/svm/base.py:929: ConvergenceWarning: Liblinear failed to converge, increase the number of iterations.\n",
            "  \"the number of iterations.\", ConvergenceWarning)\n",
            "/usr/local/lib/python3.6/dist-packages/sklearn/svm/base.py:929: ConvergenceWarning: Liblinear failed to converge, increase the number of iterations.\n",
            "  \"the number of iterations.\", ConvergenceWarning)\n",
            "/usr/local/lib/python3.6/dist-packages/sklearn/svm/base.py:929: ConvergenceWarning: Liblinear failed to converge, increase the number of iterations.\n",
            "  \"the number of iterations.\", ConvergenceWarning)\n"
          ],
          "name": "stderr"
        },
        {
          "output_type": "stream",
          "text": [
            "Best parameters:\n",
            " {'C': 1, 'max_iter': 2000, 'loss': 'hinge'}\n"
          ],
          "name": "stdout"
        },
        {
          "output_type": "stream",
          "text": [
            "/usr/local/lib/python3.6/dist-packages/sklearn/svm/base.py:929: ConvergenceWarning: Liblinear failed to converge, increase the number of iterations.\n",
            "  \"the number of iterations.\", ConvergenceWarning)\n"
          ],
          "name": "stderr"
        },
        {
          "output_type": "execute_result",
          "data": {
            "text/plain": [
              "LinearSVC(C=1, class_weight=None, dual=True, fit_intercept=True,\n",
              "          intercept_scaling=1, loss='hinge', max_iter=2000, multi_class='ovr',\n",
              "          penalty='l2', random_state=None, tol=0.0001, verbose=0)"
            ]
          },
          "metadata": {
            "tags": []
          },
          "execution_count": 75
        }
      ]
    },
    {
      "cell_type": "code",
      "metadata": {
        "id": "BVUiLy6gD3ZZ",
        "colab_type": "code",
        "outputId": "9f2f5d6d-bf34-479b-80ea-9b1553dfd00a",
        "colab": {
          "base_uri": "https://localhost:8080/",
          "height": 35
        }
      },
      "source": [
        "metrics.accuracy_score(y_train_valid, lsvm.predict(X_train_valid))"
      ],
      "execution_count": 76,
      "outputs": [
        {
          "output_type": "execute_result",
          "data": {
            "text/plain": [
              "0.8255070417009925"
            ]
          },
          "metadata": {
            "tags": []
          },
          "execution_count": 76
        }
      ]
    },
    {
      "cell_type": "code",
      "metadata": {
        "id": "0C4_LAeDD-39",
        "colab_type": "code",
        "outputId": "b249e7a9-ad47-466f-ef44-2157c984a1ca",
        "colab": {
          "base_uri": "https://localhost:8080/",
          "height": 35
        }
      },
      "source": [
        "metrics.accuracy_score(y_test, lsvm.predict(X_test))"
      ],
      "execution_count": 77,
      "outputs": [
        {
          "output_type": "execute_result",
          "data": {
            "text/plain": [
              "0.8210377691493117"
            ]
          },
          "metadata": {
            "tags": []
          },
          "execution_count": 77
        }
      ]
    },
    {
      "cell_type": "code",
      "metadata": {
        "id": "pHyAZWHIRbuo",
        "colab_type": "code",
        "colab": {}
      },
      "source": [
        "#SVM sa rbf kernelom"
      ],
      "execution_count": 0,
      "outputs": []
    },
    {
      "cell_type": "code",
      "metadata": {
        "id": "4Ic2HU0lAW95",
        "colab_type": "code",
        "colab": {
          "base_uri": "https://localhost:8080/",
          "height": 127
        },
        "outputId": "f0d65329-6e0f-40fd-af67-a31b21707a1c"
      },
      "source": [
        "best_params = get_params_rbf(X_train, y_train, X_valid, y_valid)\n",
        "print('Best parameters:\\n', best_params)\n",
        "rbf = svm.SVC(C = best_params['C'], gamma = best_params['gamma'])\n",
        "rbf.fit(X_train_valid, y_train_valid)"
      ],
      "execution_count": 78,
      "outputs": [
        {
          "output_type": "stream",
          "text": [
            "Best parameters:\n",
            " {'C': 100, 'gamma': 10.0}\n"
          ],
          "name": "stdout"
        },
        {
          "output_type": "execute_result",
          "data": {
            "text/plain": [
              "SVC(C=100, cache_size=200, class_weight=None, coef0=0.0,\n",
              "    decision_function_shape='ovr', degree=3, gamma=10.0, kernel='rbf',\n",
              "    max_iter=-1, probability=False, random_state=None, shrinking=True,\n",
              "    tol=0.001, verbose=False)"
            ]
          },
          "metadata": {
            "tags": []
          },
          "execution_count": 78
        }
      ]
    },
    {
      "cell_type": "code",
      "metadata": {
        "id": "kTcFo7cNEVW9",
        "colab_type": "code",
        "outputId": "26e810ff-629d-4251-b26c-a6c4b25c6736",
        "colab": {
          "base_uri": "https://localhost:8080/",
          "height": 35
        }
      },
      "source": [
        "metrics.accuracy_score(y_train_valid, rbf.predict(X_train_valid))"
      ],
      "execution_count": 79,
      "outputs": [
        {
          "output_type": "execute_result",
          "data": {
            "text/plain": [
              "0.9462947707033855"
            ]
          },
          "metadata": {
            "tags": []
          },
          "execution_count": 79
        }
      ]
    },
    {
      "cell_type": "code",
      "metadata": {
        "id": "5qNNVMDqEZ_m",
        "colab_type": "code",
        "outputId": "3f1c0810-dbb9-4fbe-96a5-6f5c6ba1e6e9",
        "colab": {
          "base_uri": "https://localhost:8080/",
          "height": 35
        }
      },
      "source": [
        "metrics.accuracy_score(y_test, rbf.predict(X_test))"
      ],
      "execution_count": 80,
      "outputs": [
        {
          "output_type": "execute_result",
          "data": {
            "text/plain": [
              "0.9301094246381927"
            ]
          },
          "metadata": {
            "tags": []
          },
          "execution_count": 80
        }
      ]
    }
  ]
}